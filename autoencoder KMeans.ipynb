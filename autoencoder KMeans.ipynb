{
 "cells": [
  {
   "cell_type": "code",
   "execution_count": 1,
   "metadata": {},
   "outputs": [],
   "source": [
    "import numpy as np\n",
    "import torch\n",
    "from torch import utils\n",
    "import pandas as pd\n",
    "from torch.utils.data import DataLoader, Dataset, ConcatDataset\n",
    "from torch import nn\n",
    "from torch.nn import functional as F\n",
    "import pytorch_lightning as pl\n",
    "from matplotlib import pyplot as plt\n",
    "from scipy import signal as sig\n",
    "import os\n",
    "from pathlib import Path\n",
    "import re\n",
    "from torch.utils import data\n",
    "import pandas as pd\n",
    "import numpy as np\n",
    "from smooth import preproc\n",
    "from pathlib import Path\n",
    "from dataloader import LandmarkDataset, SequenceDataset\n",
    "from sklearn.cluster import KMeans\n",
    "from sklearn.metrics import normalized_mutual_info_score, confusion_matrix, accuracy_score\n",
    "\n",
    "pd.set_option('mode.chained_assignment', None)"
   ]
  },
  {
   "cell_type": "code",
   "execution_count": 3,
   "metadata": {},
   "outputs": [
    {
     "name": "stdout",
     "output_type": "stream",
     "text": [
      "Data  lost+found  Projects\r\n"
     ]
    }
   ],
   "source": [
    "!ls /home/orel/Storage"
   ]
  },
  {
   "cell_type": "code",
   "execution_count": 2,
   "metadata": {},
   "outputs": [],
   "source": [
    "data_root = Path(\"/home/orel/Storage/Data/K6/\")\n",
    "landmark_files = []\n",
    "for subdir in os.listdir(data_root):\n",
    "    for file in os.listdir(data_root/subdir/'Down'):\n",
    "        if re.match(r\"00\\d*DeepCut_resnet50_Down2May25shuffle1_1030000\\.h5\", file):\n",
    "            lfile = data_root/subdir/'Down'/file\n",
    "            landmark_files.append(lfile)"
   ]
  },
  {
   "cell_type": "code",
   "execution_count": 3,
   "metadata": {},
   "outputs": [],
   "source": [
    "from torch import distributions as D\n",
    "from torch.distributions import kl_divergence, Normal, Laplace, Categorical\n",
    "\n",
    "class LatentDistribution(nn.Module):\n",
    "    prior = Normal(0, 1)\n",
    "    def __init__(self, in_features, out_features, sigma=None, same_sigma=False):\n",
    "        super(LatentDistribution, self).__init__()\n",
    "        self.mu_fc = nn.Linear(in_features, out_features)\n",
    "        if sigma:\n",
    "            self.sigma = sigma\n",
    "        else:\n",
    "            if same_sigma:\n",
    "                self.logvar_fc = nn.Linear(in_features, 1)\n",
    "            else:\n",
    "                self.logvar_fc = nn.Linear(in_features, out_features) \n",
    "    \n",
    "    def forward(self, x):\n",
    "        mu = self.mu_fc(x)\n",
    "        if hasattr(self, 'sigma'):\n",
    "            sigma = self.sigma\n",
    "        else:\n",
    "            logvar = self.logvar_fc(x)\n",
    "            sigma = torch.exp(logvar / 2)\n",
    "        self.dist = Normal(mu, sigma)\n",
    "        return self.dist\n",
    "    \n",
    "    def sample(self, l=1):\n",
    "        return self.dist.rsample()\n",
    "\n",
    "    def kl_loss(self, prior=None):\n",
    "        if not prior:\n",
    "            prior = self.prior\n",
    "        return kl_divergence(self.dist, prior).sum(dim=-1)"
   ]
  },
  {
   "cell_type": "code",
   "execution_count": 31,
   "metadata": {},
   "outputs": [],
   "source": [
    "class VariationalAutoencoder(nn.Module):\n",
    "    prior = Normal(0, 1)\n",
    "    def __init__(self, n_neurons=[784, 512, 256, 10], batch_norm=True, k=10):\n",
    "        super(VariationalAutoencoder, self).__init__()\n",
    "        n_layers = len(n_neurons) - 1\n",
    "        layers = list()\n",
    "        for i in range(n_layers-1):\n",
    "            layers.append(nn.Linear(n_neurons[i], n_neurons[i+1]))\n",
    "            if batch_norm:\n",
    "                layers.append(nn.BatchNorm1d(n_neurons[i+1]))\n",
    "            layers.append(nn.ELU())\n",
    "        self.encoder = nn.Sequential(*layers)\n",
    "        self.latent_dist = LatentDistribution(n_neurons[-2], n_neurons[-1])\n",
    "\n",
    "        layers = list()\n",
    "        n_neurons = n_neurons[::-1]\n",
    "        for i in range(n_layers-1):\n",
    "            layers.append(nn.Linear(n_neurons[i], n_neurons[i+1]))\n",
    "            if batch_norm:\n",
    "                layers.append(nn.BatchNorm1d(n_neurons[i+1]))\n",
    "            layers.append(nn.ELU())\n",
    "        self.decoder = nn.Sequential(*layers)\n",
    "        self.sigma = nn.Parameter(torch.ones(1), requires_grad=True)\n",
    "        self.out_dist = LatentDistribution(n_neurons[-2], n_neurons[-1])\n",
    "\n",
    "#     def encode(self, x):\n",
    "#         x = self.encoder(x)\n",
    "#         return self.latent_dist(x).loc\n",
    "\n",
    "    def encode(self, data, batch_size=256):\n",
    "        dl = DataLoader(data, batch_size=batch_size, shuffle=False)\n",
    "        X = []\n",
    "        self.cuda()\n",
    "        with torch.no_grad():\n",
    "            for bx in dl:\n",
    "                x_encoded = self.latent_dist(self.encoder(bx.cuda())).loc\n",
    "                X.append(x_encoded.cpu().numpy())\n",
    "        X_encoded = np.concatenate(X)\n",
    "        return X_encoded\n",
    "    \n",
    "    # cluster the data using K Means on the encoded data. The data is in the form of SequenceDataset.\n",
    "    def cluster(self, data, batch_size=256, n_clusters=30):\n",
    "        X_encoded = self.encode(data, batch_size=batch_size)\n",
    "        kmeans = KMeans(n_clusters=n_clusters)\n",
    "        labels = kmeans.fit_predict(X_encoded)\n",
    "        return labels\n",
    "    \n",
    "    def forward(self, x):\n",
    "        x = self.encoder(x)\n",
    "        z_dist = self.latent_dist(x)\n",
    "        z = self.latent_dist.sample()\n",
    "        dist_out = self.out_dist(self.decoder(z))\n",
    "        return dist_out\n",
    "\n",
    "    def shared_step(self, batch):\n",
    "        bx = batch\n",
    "        dist_x = self.forward(bx)\n",
    "        rec_loss = - dist_x.log_prob(bx).sum(dim=-1)\n",
    "        kl_loss = self.latent_dist.kl_loss()\n",
    "        mse_loss = F.mse_loss(dist_x.loc, bx)\n",
    "        loss = rec_loss + kl_loss\n",
    "        return loss.mean(), rec_loss.mean(), kl_loss.mean(), mse_loss"
   ]
  },
  {
   "cell_type": "code",
   "execution_count": 33,
   "metadata": {},
   "outputs": [],
   "source": [
    "class PLAutoencoder(pl.LightningModule):\n",
    "    def __init__(self, n_neurons=[784, 512, 256, 10], lr=1e-3, batch_norm=True, seqlen=30, landmark_files=[]):\n",
    "        super(PLAutoencoder, self).__init__()\n",
    "        self.hparams = {'lr': lr}\n",
    "        self.seqlen = seqlen\n",
    "        self.landmark_files = landmark_files\n",
    "        self.model = VariationalAutoencoder(n_neurons, batch_norm=batch_norm)\n",
    "\n",
    "    def forward(self, x):\n",
    "        return self.model(x)\n",
    "\n",
    "    def prepare_data(self):\n",
    "        landmark_datasets = []\n",
    "        for file in self.landmark_files:\n",
    "            try:\n",
    "                ds = LandmarkDataset(file)\n",
    "                landmark_datasets.append(ds)\n",
    "            except OSError:\n",
    "                pass\n",
    "        coords = [sig.decimate(ds.coords, q=4, axis=0).astype(np.float32) for ds in landmark_datasets]\n",
    "        N, n_coords, _ = coords[0].shape\n",
    "        train_data = [crds[:int(0.8*crds.shape[0])].reshape(-1, n_coords*2) for crds in coords]\n",
    "        valid_data = [crds[int(0.8*crds.shape[0]):].reshape(-1, n_coords*2) for crds in coords]\n",
    "        train_dsets = [SequenceDataset(data, seqlen=self.seqlen, step=1, diff=False) for data in train_data]\n",
    "        valid_dsets = [SequenceDataset(data, seqlen=self.seqlen, step=10, diff=False) for data in valid_data]\n",
    "        self.train_ds = ConcatDataset(train_dsets)\n",
    "        self.valid_ds = ConcatDataset(valid_dsets)\n",
    "\n",
    "    def train_dataloader(self):\n",
    "        return DataLoader(self.train_ds, batch_size=256, shuffle=True, num_workers=4)\n",
    "\n",
    "    def val_dataloader(self):\n",
    "        # dataset = SequenceDataset(X_val, seqlen=30, step=5, diff=True)\n",
    "        return DataLoader(self.valid_ds, batch_size=256, shuffle=False, num_workers=4)\n",
    "\n",
    "    def configure_optimizers(self):\n",
    "        opt = torch.optim.Adam(self.parameters(), self.hparams['lr'])\n",
    "        sched = torch.optim.lr_scheduler.ReduceLROnPlateau(opt, factor=0.2 ,patience=20, verbose=True, min_lr=1e-6)\n",
    "        scheduler = {'scheduler': sched, 'interval': 'epoch', 'monitor': 'val_checkpoint_on', 'reduce_on_plateau': True}\n",
    "        return opt\n",
    "    \n",
    "    def training_step(self, batch, batch_idx):\n",
    "        loss, rec_loss, kl_loss, mse_loss = self.model.shared_step(batch)\n",
    "        result = pl.TrainResult(loss)\n",
    "        result.log('train_loss', loss, prog_bar=True)\n",
    "        result.log(\"train_rec_loss\", rec_loss, prog_bar=True)\n",
    "        result.log('train_kl_loss', kl_loss, prog_bar=True)\n",
    "        result.log('train_mse_loss' ,mse_loss, prog_bar=True)\n",
    "        return result\n",
    "\n",
    "    def validation_step(self, batch, batch_idx):\n",
    "        loss, rec_loss, kl_loss, mse_loss  = self.model.shared_step(batch)\n",
    "        result = pl.EvalResult(loss)\n",
    "        result.log('eval_loss', loss, prog_bar=True)\n",
    "        result.log(\"eval_rec_loss\", rec_loss, prog_bar=True)\n",
    "        result.log('eval_kl_loss', kl_loss, prog_bar=True)\n",
    "        result.log('eval_mse_loss' ,mse_loss, prog_bar=True)\n",
    "        return result"
   ]
  },
  {
   "cell_type": "code",
   "execution_count": null,
   "metadata": {},
   "outputs": [
    {
     "name": "stderr",
     "output_type": "stream",
     "text": [
      "GPU available: True, used: True\n",
      "TPU available: False, using: 0 TPU cores\n",
      "CUDA_VISIBLE_DEVICES: [0]\n",
      "/home/shuki/anaconda3/envs/torch/lib/python3.8/site-packages/pytorch_lightning/utilities/distributed.py:37: UserWarning: Could not log computational graph since the `model.example_input_array` attribute is not set or `input_array` was not given\n",
      "  warnings.warn(*args, **kwargs)\n",
      "\n",
      "  | Name  | Type                   | Params\n",
      "-------------------------------------------------\n",
      "0 | model | VariationalAutoencoder | 5 M   \n"
     ]
    },
    {
     "data": {
      "application/vnd.jupyter.widget-view+json": {
       "model_id": "775d95ea0ca54fbe831162d3a17d6526",
       "version_major": 2,
       "version_minor": 0
      },
      "text/plain": [
       "HBox(children=(FloatProgress(value=1.0, bar_style='info', description='Validation sanity check', layout=Layout…"
      ]
     },
     "metadata": {},
     "output_type": "display_data"
    },
    {
     "data": {
      "application/vnd.jupyter.widget-view+json": {
       "model_id": "84325deb57624c72820504fba5bdd463",
       "version_major": 2,
       "version_minor": 0
      },
      "text/plain": [
       "HBox(children=(FloatProgress(value=1.0, bar_style='info', description='Training', layout=Layout(flex='2'), max…"
      ]
     },
     "metadata": {},
     "output_type": "display_data"
    },
    {
     "data": {
      "application/vnd.jupyter.widget-view+json": {
       "model_id": "426608b8f8c94484ac2e25be829b8881",
       "version_major": 2,
       "version_minor": 0
      },
      "text/plain": [
       "HBox(children=(FloatProgress(value=1.0, bar_style='info', description='Validating', layout=Layout(flex='2'), m…"
      ]
     },
     "metadata": {},
     "output_type": "display_data"
    },
    {
     "name": "stderr",
     "output_type": "stream",
     "text": [
      "/home/shuki/anaconda3/envs/torch/lib/python3.8/site-packages/pytorch_lightning/utilities/distributed.py:37: RuntimeWarning: The metric you returned None must be a `torch.Tensor` instance, checkpoint not saved HINT: what is the value of loss in validation_epoch_end()?\n",
      "  warnings.warn(*args, **kwargs)\n",
      "/home/shuki/anaconda3/envs/torch/lib/python3.8/site-packages/pytorch_lightning/utilities/distributed.py:37: RuntimeWarning: Can save best model only with loss available, skipping.\n",
      "  warnings.warn(*args, **kwargs)\n"
     ]
    },
    {
     "data": {
      "application/vnd.jupyter.widget-view+json": {
       "model_id": "be59e14ad2fd4dc889ea8663bd72cb80",
       "version_major": 2,
       "version_minor": 0
      },
      "text/plain": [
       "HBox(children=(FloatProgress(value=1.0, bar_style='info', description='Validating', layout=Layout(flex='2'), m…"
      ]
     },
     "metadata": {},
     "output_type": "display_data"
    },
    {
     "data": {
      "application/vnd.jupyter.widget-view+json": {
       "model_id": "6eefbe180003491c8568cfdf6a94b21f",
       "version_major": 2,
       "version_minor": 0
      },
      "text/plain": [
       "HBox(children=(FloatProgress(value=1.0, bar_style='info', description='Validating', layout=Layout(flex='2'), m…"
      ]
     },
     "metadata": {},
     "output_type": "display_data"
    },
    {
     "data": {
      "application/vnd.jupyter.widget-view+json": {
       "model_id": "83b86c868edb4904bc0480c52bfa0a18",
       "version_major": 2,
       "version_minor": 0
      },
      "text/plain": [
       "HBox(children=(FloatProgress(value=1.0, bar_style='info', description='Validating', layout=Layout(flex='2'), m…"
      ]
     },
     "metadata": {},
     "output_type": "display_data"
    },
    {
     "data": {
      "application/vnd.jupyter.widget-view+json": {
       "model_id": "142d31ecf8b141418c859786ffe5b558",
       "version_major": 2,
       "version_minor": 0
      },
      "text/plain": [
       "HBox(children=(FloatProgress(value=1.0, bar_style='info', description='Validating', layout=Layout(flex='2'), m…"
      ]
     },
     "metadata": {},
     "output_type": "display_data"
    },
    {
     "data": {
      "application/vnd.jupyter.widget-view+json": {
       "model_id": "2631bd36c7b340af92bc4b6f1798d678",
       "version_major": 2,
       "version_minor": 0
      },
      "text/plain": [
       "HBox(children=(FloatProgress(value=1.0, bar_style='info', description='Validating', layout=Layout(flex='2'), m…"
      ]
     },
     "metadata": {},
     "output_type": "display_data"
    },
    {
     "data": {
      "application/vnd.jupyter.widget-view+json": {
       "model_id": "c4221b34f60c4f678bffa91a7c695112",
       "version_major": 2,
       "version_minor": 0
      },
      "text/plain": [
       "HBox(children=(FloatProgress(value=1.0, bar_style='info', description='Validating', layout=Layout(flex='2'), m…"
      ]
     },
     "metadata": {},
     "output_type": "display_data"
    },
    {
     "data": {
      "application/vnd.jupyter.widget-view+json": {
       "model_id": "cc4ceb3646a845ac9096ecb3719c70c0",
       "version_major": 2,
       "version_minor": 0
      },
      "text/plain": [
       "HBox(children=(FloatProgress(value=1.0, bar_style='info', description='Validating', layout=Layout(flex='2'), m…"
      ]
     },
     "metadata": {},
     "output_type": "display_data"
    },
    {
     "data": {
      "application/vnd.jupyter.widget-view+json": {
       "model_id": "aece4462b2b04f4ca366d3a68fd19394",
       "version_major": 2,
       "version_minor": 0
      },
      "text/plain": [
       "HBox(children=(FloatProgress(value=1.0, bar_style='info', description='Validating', layout=Layout(flex='2'), m…"
      ]
     },
     "metadata": {},
     "output_type": "display_data"
    },
    {
     "data": {
      "application/vnd.jupyter.widget-view+json": {
       "model_id": "744654714e514977b3bea1a08160e949",
       "version_major": 2,
       "version_minor": 0
      },
      "text/plain": [
       "HBox(children=(FloatProgress(value=1.0, bar_style='info', description='Validating', layout=Layout(flex='2'), m…"
      ]
     },
     "metadata": {},
     "output_type": "display_data"
    },
    {
     "data": {
      "application/vnd.jupyter.widget-view+json": {
       "model_id": "3013a8f966ff4904b2059f3970415a1b",
       "version_major": 2,
       "version_minor": 0
      },
      "text/plain": [
       "HBox(children=(FloatProgress(value=1.0, bar_style='info', description='Validating', layout=Layout(flex='2'), m…"
      ]
     },
     "metadata": {},
     "output_type": "display_data"
    },
    {
     "data": {
      "application/vnd.jupyter.widget-view+json": {
       "model_id": "05f66a17ef214e6b940981f582153002",
       "version_major": 2,
       "version_minor": 0
      },
      "text/plain": [
       "HBox(children=(FloatProgress(value=1.0, bar_style='info', description='Validating', layout=Layout(flex='2'), m…"
      ]
     },
     "metadata": {},
     "output_type": "display_data"
    },
    {
     "data": {
      "application/vnd.jupyter.widget-view+json": {
       "model_id": "505f42e9af9f4a0d96f75258ea1d7ce9",
       "version_major": 2,
       "version_minor": 0
      },
      "text/plain": [
       "HBox(children=(FloatProgress(value=1.0, bar_style='info', description='Validating', layout=Layout(flex='2'), m…"
      ]
     },
     "metadata": {},
     "output_type": "display_data"
    },
    {
     "data": {
      "application/vnd.jupyter.widget-view+json": {
       "model_id": "fdfdc3ed7c954423b9d714e7156ae872",
       "version_major": 2,
       "version_minor": 0
      },
      "text/plain": [
       "HBox(children=(FloatProgress(value=1.0, bar_style='info', description='Validating', layout=Layout(flex='2'), m…"
      ]
     },
     "metadata": {},
     "output_type": "display_data"
    }
   ],
   "source": [
    "seqlen = 30\n",
    "model = PLAutoencoder(n_neurons=[2*12*seqlen, 1024, 1024, 512, 32], lr=3e-4, seqlen=seqlen, landmark_files=landmark_files)\n",
    "trainer = pl.Trainer(gpus=1, progress_bar_refresh_rate=10, max_epochs=50, )\n",
    "trainer.fit(model)"
   ]
  },
  {
   "cell_type": "code",
   "execution_count": 10,
   "metadata": {
    "scrolled": false
   },
   "outputs": [
    {
     "name": "stderr",
     "output_type": "stream",
     "text": [
      "GPU available: True, used: True\n",
      "TPU available: False, using: 0 TPU cores\n",
      "CUDA_VISIBLE_DEVICES: [0]\n"
     ]
    },
    {
     "name": "stdout",
     "output_type": "stream",
     "text": [
      "Automatic pdb calling has been turned OFF\n"
     ]
    },
    {
     "name": "stderr",
     "output_type": "stream",
     "text": [
      "/home/shuki/anaconda3/envs/torch/lib/python3.8/site-packages/pytorch_lightning/utilities/distributed.py:37: UserWarning: Could not log computational graph since the `model.example_input_array` attribute is not set or `input_array` was not given\n",
      "  warnings.warn(*args, **kwargs)\n",
      "\n",
      "  | Name  | Type                   | Params\n",
      "-------------------------------------------------\n",
      "0 | model | VariationalAutoencoder | 4 M   \n"
     ]
    },
    {
     "data": {
      "application/vnd.jupyter.widget-view+json": {
       "model_id": "19264f50d5104ff38df944b5c6a8ed51",
       "version_major": 2,
       "version_minor": 0
      },
      "text/plain": [
       "HBox(children=(FloatProgress(value=1.0, bar_style='info', description='Validation sanity check', layout=Layout…"
      ]
     },
     "metadata": {},
     "output_type": "display_data"
    },
    {
     "data": {
      "application/vnd.jupyter.widget-view+json": {
       "model_id": "da76f99fac4345b8934c51fddb72ca0d",
       "version_major": 2,
       "version_minor": 0
      },
      "text/plain": [
       "HBox(children=(FloatProgress(value=1.0, bar_style='info', description='Training', layout=Layout(flex='2'), max…"
      ]
     },
     "metadata": {},
     "output_type": "display_data"
    },
    {
     "data": {
      "application/vnd.jupyter.widget-view+json": {
       "model_id": "fcf038700b824f2d9b3fe027dc84cf6f",
       "version_major": 2,
       "version_minor": 0
      },
      "text/plain": [
       "HBox(children=(FloatProgress(value=1.0, bar_style='info', description='Validating', layout=Layout(flex='2'), m…"
      ]
     },
     "metadata": {},
     "output_type": "display_data"
    },
    {
     "name": "stderr",
     "output_type": "stream",
     "text": [
      "/home/shuki/anaconda3/envs/torch/lib/python3.8/site-packages/pytorch_lightning/utilities/distributed.py:37: RuntimeWarning: The metric you returned None must be a `torch.Tensor` instance, checkpoint not saved HINT: what is the value of loss in validation_epoch_end()?\n",
      "  warnings.warn(*args, **kwargs)\n",
      "/home/shuki/anaconda3/envs/torch/lib/python3.8/site-packages/pytorch_lightning/utilities/distributed.py:37: RuntimeWarning: Can save best model only with loss available, skipping.\n",
      "  warnings.warn(*args, **kwargs)\n"
     ]
    },
    {
     "data": {
      "application/vnd.jupyter.widget-view+json": {
       "model_id": "3802352b6ac24231a4274a59e62c280e",
       "version_major": 2,
       "version_minor": 0
      },
      "text/plain": [
       "HBox(children=(FloatProgress(value=1.0, bar_style='info', description='Validating', layout=Layout(flex='2'), m…"
      ]
     },
     "metadata": {},
     "output_type": "display_data"
    },
    {
     "data": {
      "application/vnd.jupyter.widget-view+json": {
       "model_id": "c9e43fcf19944fab9bc739cfe192333d",
       "version_major": 2,
       "version_minor": 0
      },
      "text/plain": [
       "HBox(children=(FloatProgress(value=1.0, bar_style='info', description='Validating', layout=Layout(flex='2'), m…"
      ]
     },
     "metadata": {},
     "output_type": "display_data"
    },
    {
     "data": {
      "application/vnd.jupyter.widget-view+json": {
       "model_id": "aa588f11beb74e33bd3b0212573b52dc",
       "version_major": 2,
       "version_minor": 0
      },
      "text/plain": [
       "HBox(children=(FloatProgress(value=1.0, bar_style='info', description='Validating', layout=Layout(flex='2'), m…"
      ]
     },
     "metadata": {},
     "output_type": "display_data"
    },
    {
     "data": {
      "application/vnd.jupyter.widget-view+json": {
       "model_id": "f62b06ec587144038607753d84cb0b3a",
       "version_major": 2,
       "version_minor": 0
      },
      "text/plain": [
       "HBox(children=(FloatProgress(value=1.0, bar_style='info', description='Validating', layout=Layout(flex='2'), m…"
      ]
     },
     "metadata": {},
     "output_type": "display_data"
    },
    {
     "data": {
      "application/vnd.jupyter.widget-view+json": {
       "model_id": "df22b6b04f9740489b56fbc1d05d0f9c",
       "version_major": 2,
       "version_minor": 0
      },
      "text/plain": [
       "HBox(children=(FloatProgress(value=1.0, bar_style='info', description='Validating', layout=Layout(flex='2'), m…"
      ]
     },
     "metadata": {},
     "output_type": "display_data"
    },
    {
     "data": {
      "application/vnd.jupyter.widget-view+json": {
       "model_id": "015f8f96a5484cfcb28d7a4d910432e6",
       "version_major": 2,
       "version_minor": 0
      },
      "text/plain": [
       "HBox(children=(FloatProgress(value=1.0, bar_style='info', description='Validating', layout=Layout(flex='2'), m…"
      ]
     },
     "metadata": {},
     "output_type": "display_data"
    },
    {
     "data": {
      "application/vnd.jupyter.widget-view+json": {
       "model_id": "97d76b323b884c4faacd7a9eb0b71401",
       "version_major": 2,
       "version_minor": 0
      },
      "text/plain": [
       "HBox(children=(FloatProgress(value=1.0, bar_style='info', description='Validating', layout=Layout(flex='2'), m…"
      ]
     },
     "metadata": {},
     "output_type": "display_data"
    },
    {
     "data": {
      "application/vnd.jupyter.widget-view+json": {
       "model_id": "5ee3e53907324ef49d375903990b3f3d",
       "version_major": 2,
       "version_minor": 0
      },
      "text/plain": [
       "HBox(children=(FloatProgress(value=1.0, bar_style='info', description='Validating', layout=Layout(flex='2'), m…"
      ]
     },
     "metadata": {},
     "output_type": "display_data"
    },
    {
     "data": {
      "application/vnd.jupyter.widget-view+json": {
       "model_id": "776765fb42924323805eae4175e0c040",
       "version_major": 2,
       "version_minor": 0
      },
      "text/plain": [
       "HBox(children=(FloatProgress(value=1.0, bar_style='info', description='Validating', layout=Layout(flex='2'), m…"
      ]
     },
     "metadata": {},
     "output_type": "display_data"
    },
    {
     "data": {
      "application/vnd.jupyter.widget-view+json": {
       "model_id": "294b5d64c888472591d7ed5af88dbee5",
       "version_major": 2,
       "version_minor": 0
      },
      "text/plain": [
       "HBox(children=(FloatProgress(value=1.0, bar_style='info', description='Validating', layout=Layout(flex='2'), m…"
      ]
     },
     "metadata": {},
     "output_type": "display_data"
    },
    {
     "data": {
      "application/vnd.jupyter.widget-view+json": {
       "model_id": "d60030c79eea4c768af8f5fb5b2b427f",
       "version_major": 2,
       "version_minor": 0
      },
      "text/plain": [
       "HBox(children=(FloatProgress(value=1.0, bar_style='info', description='Validating', layout=Layout(flex='2'), m…"
      ]
     },
     "metadata": {},
     "output_type": "display_data"
    },
    {
     "data": {
      "application/vnd.jupyter.widget-view+json": {
       "model_id": "56712a32833e458789fef32dd9641f60",
       "version_major": 2,
       "version_minor": 0
      },
      "text/plain": [
       "HBox(children=(FloatProgress(value=1.0, bar_style='info', description='Validating', layout=Layout(flex='2'), m…"
      ]
     },
     "metadata": {},
     "output_type": "display_data"
    },
    {
     "data": {
      "application/vnd.jupyter.widget-view+json": {
       "model_id": "114605614b24492b87637df6f9285723",
       "version_major": 2,
       "version_minor": 0
      },
      "text/plain": [
       "HBox(children=(FloatProgress(value=1.0, bar_style='info', description='Validating', layout=Layout(flex='2'), m…"
      ]
     },
     "metadata": {},
     "output_type": "display_data"
    },
    {
     "data": {
      "application/vnd.jupyter.widget-view+json": {
       "model_id": "fcca94531b5344e39bb02d10cf1c334f",
       "version_major": 2,
       "version_minor": 0
      },
      "text/plain": [
       "HBox(children=(FloatProgress(value=1.0, bar_style='info', description='Validating', layout=Layout(flex='2'), m…"
      ]
     },
     "metadata": {},
     "output_type": "display_data"
    },
    {
     "data": {
      "application/vnd.jupyter.widget-view+json": {
       "model_id": "6f6bcfcf6d8c4b1bbaa328ee77831c66",
       "version_major": 2,
       "version_minor": 0
      },
      "text/plain": [
       "HBox(children=(FloatProgress(value=1.0, bar_style='info', description='Validating', layout=Layout(flex='2'), m…"
      ]
     },
     "metadata": {},
     "output_type": "display_data"
    },
    {
     "data": {
      "application/vnd.jupyter.widget-view+json": {
       "model_id": "2cecc2633797442290f6b104cd65a6a7",
       "version_major": 2,
       "version_minor": 0
      },
      "text/plain": [
       "HBox(children=(FloatProgress(value=1.0, bar_style='info', description='Validating', layout=Layout(flex='2'), m…"
      ]
     },
     "metadata": {},
     "output_type": "display_data"
    },
    {
     "data": {
      "application/vnd.jupyter.widget-view+json": {
       "model_id": "f4e3f3aefc254c1583899113aacfdd82",
       "version_major": 2,
       "version_minor": 0
      },
      "text/plain": [
       "HBox(children=(FloatProgress(value=1.0, bar_style='info', description='Validating', layout=Layout(flex='2'), m…"
      ]
     },
     "metadata": {},
     "output_type": "display_data"
    },
    {
     "data": {
      "application/vnd.jupyter.widget-view+json": {
       "model_id": "a9982b0334134adabf9c0d8a1d740ff4",
       "version_major": 2,
       "version_minor": 0
      },
      "text/plain": [
       "HBox(children=(FloatProgress(value=1.0, bar_style='info', description='Validating', layout=Layout(flex='2'), m…"
      ]
     },
     "metadata": {},
     "output_type": "display_data"
    },
    {
     "data": {
      "application/vnd.jupyter.widget-view+json": {
       "model_id": "3eb8c37aab784c2e9f239617070acc10",
       "version_major": 2,
       "version_minor": 0
      },
      "text/plain": [
       "HBox(children=(FloatProgress(value=1.0, bar_style='info', description='Validating', layout=Layout(flex='2'), m…"
      ]
     },
     "metadata": {},
     "output_type": "display_data"
    },
    {
     "data": {
      "application/vnd.jupyter.widget-view+json": {
       "model_id": "1c4533537c074697bd5a131df995e6f3",
       "version_major": 2,
       "version_minor": 0
      },
      "text/plain": [
       "HBox(children=(FloatProgress(value=1.0, bar_style='info', description='Validating', layout=Layout(flex='2'), m…"
      ]
     },
     "metadata": {},
     "output_type": "display_data"
    },
    {
     "data": {
      "application/vnd.jupyter.widget-view+json": {
       "model_id": "753fb97b68c44ece8872d1a381ecf158",
       "version_major": 2,
       "version_minor": 0
      },
      "text/plain": [
       "HBox(children=(FloatProgress(value=1.0, bar_style='info', description='Validating', layout=Layout(flex='2'), m…"
      ]
     },
     "metadata": {},
     "output_type": "display_data"
    },
    {
     "data": {
      "application/vnd.jupyter.widget-view+json": {
       "model_id": "2192938c77cf47b7b3f14f4071a0aed0",
       "version_major": 2,
       "version_minor": 0
      },
      "text/plain": [
       "HBox(children=(FloatProgress(value=1.0, bar_style='info', description='Validating', layout=Layout(flex='2'), m…"
      ]
     },
     "metadata": {},
     "output_type": "display_data"
    },
    {
     "data": {
      "application/vnd.jupyter.widget-view+json": {
       "model_id": "88052346e7f54243b09319cc415c0485",
       "version_major": 2,
       "version_minor": 0
      },
      "text/plain": [
       "HBox(children=(FloatProgress(value=1.0, bar_style='info', description='Validating', layout=Layout(flex='2'), m…"
      ]
     },
     "metadata": {},
     "output_type": "display_data"
    },
    {
     "data": {
      "application/vnd.jupyter.widget-view+json": {
       "model_id": "f7372a94011d47e9a96fe82ec9f1968c",
       "version_major": 2,
       "version_minor": 0
      },
      "text/plain": [
       "HBox(children=(FloatProgress(value=1.0, bar_style='info', description='Validating', layout=Layout(flex='2'), m…"
      ]
     },
     "metadata": {},
     "output_type": "display_data"
    },
    {
     "data": {
      "application/vnd.jupyter.widget-view+json": {
       "model_id": "d475e52700aa490888d2770f5c2859ae",
       "version_major": 2,
       "version_minor": 0
      },
      "text/plain": [
       "HBox(children=(FloatProgress(value=1.0, bar_style='info', description='Validating', layout=Layout(flex='2'), m…"
      ]
     },
     "metadata": {},
     "output_type": "display_data"
    },
    {
     "data": {
      "application/vnd.jupyter.widget-view+json": {
       "model_id": "3a570531d7b84220a8d9f6d5b04b020f",
       "version_major": 2,
       "version_minor": 0
      },
      "text/plain": [
       "HBox(children=(FloatProgress(value=1.0, bar_style='info', description='Validating', layout=Layout(flex='2'), m…"
      ]
     },
     "metadata": {},
     "output_type": "display_data"
    },
    {
     "data": {
      "application/vnd.jupyter.widget-view+json": {
       "model_id": "e0a3338b01164ff68fdc51338003474c",
       "version_major": 2,
       "version_minor": 0
      },
      "text/plain": [
       "HBox(children=(FloatProgress(value=1.0, bar_style='info', description='Validating', layout=Layout(flex='2'), m…"
      ]
     },
     "metadata": {},
     "output_type": "display_data"
    },
    {
     "data": {
      "application/vnd.jupyter.widget-view+json": {
       "model_id": "99a46f198f7e45069fa8bab788d44c80",
       "version_major": 2,
       "version_minor": 0
      },
      "text/plain": [
       "HBox(children=(FloatProgress(value=1.0, bar_style='info', description='Validating', layout=Layout(flex='2'), m…"
      ]
     },
     "metadata": {},
     "output_type": "display_data"
    },
    {
     "data": {
      "application/vnd.jupyter.widget-view+json": {
       "model_id": "034b50b124e44a38928b12e57aa62b7b",
       "version_major": 2,
       "version_minor": 0
      },
      "text/plain": [
       "HBox(children=(FloatProgress(value=1.0, bar_style='info', description='Validating', layout=Layout(flex='2'), m…"
      ]
     },
     "metadata": {},
     "output_type": "display_data"
    },
    {
     "data": {
      "application/vnd.jupyter.widget-view+json": {
       "model_id": "09e149d8f9df4a63af99f3d3676a12e4",
       "version_major": 2,
       "version_minor": 0
      },
      "text/plain": [
       "HBox(children=(FloatProgress(value=1.0, bar_style='info', description='Validating', layout=Layout(flex='2'), m…"
      ]
     },
     "metadata": {},
     "output_type": "display_data"
    },
    {
     "data": {
      "application/vnd.jupyter.widget-view+json": {
       "model_id": "5ff44afbba834f6fa42f45175c4bc60b",
       "version_major": 2,
       "version_minor": 0
      },
      "text/plain": [
       "HBox(children=(FloatProgress(value=1.0, bar_style='info', description='Validating', layout=Layout(flex='2'), m…"
      ]
     },
     "metadata": {},
     "output_type": "display_data"
    },
    {
     "data": {
      "application/vnd.jupyter.widget-view+json": {
       "model_id": "7d8a54d30fd247599f69ce02c3064f6c",
       "version_major": 2,
       "version_minor": 0
      },
      "text/plain": [
       "HBox(children=(FloatProgress(value=1.0, bar_style='info', description='Validating', layout=Layout(flex='2'), m…"
      ]
     },
     "metadata": {},
     "output_type": "display_data"
    },
    {
     "data": {
      "application/vnd.jupyter.widget-view+json": {
       "model_id": "47c75f12b00f49aba4db254dfa3502e4",
       "version_major": 2,
       "version_minor": 0
      },
      "text/plain": [
       "HBox(children=(FloatProgress(value=1.0, bar_style='info', description='Validating', layout=Layout(flex='2'), m…"
      ]
     },
     "metadata": {},
     "output_type": "display_data"
    },
    {
     "data": {
      "application/vnd.jupyter.widget-view+json": {
       "model_id": "74786546332d48cfbfa9b251c9fd5aff",
       "version_major": 2,
       "version_minor": 0
      },
      "text/plain": [
       "HBox(children=(FloatProgress(value=1.0, bar_style='info', description='Validating', layout=Layout(flex='2'), m…"
      ]
     },
     "metadata": {},
     "output_type": "display_data"
    },
    {
     "data": {
      "application/vnd.jupyter.widget-view+json": {
       "model_id": "af48bc0cbbe242ad8a561d97d23fb0c7",
       "version_major": 2,
       "version_minor": 0
      },
      "text/plain": [
       "HBox(children=(FloatProgress(value=1.0, bar_style='info', description='Validating', layout=Layout(flex='2'), m…"
      ]
     },
     "metadata": {},
     "output_type": "display_data"
    },
    {
     "data": {
      "application/vnd.jupyter.widget-view+json": {
       "model_id": "38a1ac008389404cbeb3e0bd6c08ec0f",
       "version_major": 2,
       "version_minor": 0
      },
      "text/plain": [
       "HBox(children=(FloatProgress(value=1.0, bar_style='info', description='Validating', layout=Layout(flex='2'), m…"
      ]
     },
     "metadata": {},
     "output_type": "display_data"
    },
    {
     "data": {
      "application/vnd.jupyter.widget-view+json": {
       "model_id": "38ed26dc9c3545829ad3e77c120055b2",
       "version_major": 2,
       "version_minor": 0
      },
      "text/plain": [
       "HBox(children=(FloatProgress(value=1.0, bar_style='info', description='Validating', layout=Layout(flex='2'), m…"
      ]
     },
     "metadata": {},
     "output_type": "display_data"
    },
    {
     "data": {
      "application/vnd.jupyter.widget-view+json": {
       "model_id": "a3ee98f924d245318534d0f61f3702b9",
       "version_major": 2,
       "version_minor": 0
      },
      "text/plain": [
       "HBox(children=(FloatProgress(value=1.0, bar_style='info', description='Validating', layout=Layout(flex='2'), m…"
      ]
     },
     "metadata": {},
     "output_type": "display_data"
    },
    {
     "data": {
      "application/vnd.jupyter.widget-view+json": {
       "model_id": "8e4128da2a54499087f702a9c175d5af",
       "version_major": 2,
       "version_minor": 0
      },
      "text/plain": [
       "HBox(children=(FloatProgress(value=1.0, bar_style='info', description='Validating', layout=Layout(flex='2'), m…"
      ]
     },
     "metadata": {},
     "output_type": "display_data"
    },
    {
     "data": {
      "application/vnd.jupyter.widget-view+json": {
       "model_id": "82447e8916514265a4324487e57e5051",
       "version_major": 2,
       "version_minor": 0
      },
      "text/plain": [
       "HBox(children=(FloatProgress(value=1.0, bar_style='info', description='Validating', layout=Layout(flex='2'), m…"
      ]
     },
     "metadata": {},
     "output_type": "display_data"
    },
    {
     "data": {
      "application/vnd.jupyter.widget-view+json": {
       "model_id": "c24ce34f0eed4609946265bbdf663de0",
       "version_major": 2,
       "version_minor": 0
      },
      "text/plain": [
       "HBox(children=(FloatProgress(value=1.0, bar_style='info', description='Validating', layout=Layout(flex='2'), m…"
      ]
     },
     "metadata": {},
     "output_type": "display_data"
    },
    {
     "data": {
      "application/vnd.jupyter.widget-view+json": {
       "model_id": "3669cade4e8646ccb85991075c3e922f",
       "version_major": 2,
       "version_minor": 0
      },
      "text/plain": [
       "HBox(children=(FloatProgress(value=1.0, bar_style='info', description='Validating', layout=Layout(flex='2'), m…"
      ]
     },
     "metadata": {},
     "output_type": "display_data"
    },
    {
     "data": {
      "application/vnd.jupyter.widget-view+json": {
       "model_id": "6fe1a5ba5f334d40a716775488f6ead5",
       "version_major": 2,
       "version_minor": 0
      },
      "text/plain": [
       "HBox(children=(FloatProgress(value=1.0, bar_style='info', description='Validating', layout=Layout(flex='2'), m…"
      ]
     },
     "metadata": {},
     "output_type": "display_data"
    },
    {
     "data": {
      "application/vnd.jupyter.widget-view+json": {
       "model_id": "ec3dcbbbdb5643b8a8c2744bab242c06",
       "version_major": 2,
       "version_minor": 0
      },
      "text/plain": [
       "HBox(children=(FloatProgress(value=1.0, bar_style='info', description='Validating', layout=Layout(flex='2'), m…"
      ]
     },
     "metadata": {},
     "output_type": "display_data"
    },
    {
     "data": {
      "application/vnd.jupyter.widget-view+json": {
       "model_id": "6a4a4f96bd4e4453b0a00dd5285665f8",
       "version_major": 2,
       "version_minor": 0
      },
      "text/plain": [
       "HBox(children=(FloatProgress(value=1.0, bar_style='info', description='Validating', layout=Layout(flex='2'), m…"
      ]
     },
     "metadata": {},
     "output_type": "display_data"
    },
    {
     "data": {
      "application/vnd.jupyter.widget-view+json": {
       "model_id": "68834235d0bd4569a99399de850b4c0e",
       "version_major": 2,
       "version_minor": 0
      },
      "text/plain": [
       "HBox(children=(FloatProgress(value=1.0, bar_style='info', description='Validating', layout=Layout(flex='2'), m…"
      ]
     },
     "metadata": {},
     "output_type": "display_data"
    },
    {
     "data": {
      "application/vnd.jupyter.widget-view+json": {
       "model_id": "833988631d134a6b9778462855c64020",
       "version_major": 2,
       "version_minor": 0
      },
      "text/plain": [
       "HBox(children=(FloatProgress(value=1.0, bar_style='info', description='Validating', layout=Layout(flex='2'), m…"
      ]
     },
     "metadata": {},
     "output_type": "display_data"
    },
    {
     "data": {
      "application/vnd.jupyter.widget-view+json": {
       "model_id": "d38542d2f9a848778de91138cc09c424",
       "version_major": 2,
       "version_minor": 0
      },
      "text/plain": [
       "HBox(children=(FloatProgress(value=1.0, bar_style='info', description='Validating', layout=Layout(flex='2'), m…"
      ]
     },
     "metadata": {},
     "output_type": "display_data"
    },
    {
     "data": {
      "application/vnd.jupyter.widget-view+json": {
       "model_id": "17a75af5bb8e4b569d80bbb4294e4b01",
       "version_major": 2,
       "version_minor": 0
      },
      "text/plain": [
       "HBox(children=(FloatProgress(value=1.0, bar_style='info', description='Validating', layout=Layout(flex='2'), m…"
      ]
     },
     "metadata": {},
     "output_type": "display_data"
    },
    {
     "name": "stderr",
     "output_type": "stream",
     "text": [
      "Saving latest checkpoint..\n"
     ]
    },
    {
     "name": "stdout",
     "output_type": "stream",
     "text": [
      "\n"
     ]
    },
    {
     "data": {
      "text/plain": [
       "1"
      ]
     },
     "execution_count": 10,
     "metadata": {},
     "output_type": "execute_result"
    }
   ],
   "source": [
    "# from simple_autoencoder import PLAutoencoder\n",
    "# import importlib\n",
    "# importlib.reload(simple_autoencoder)\n",
    "\n",
    "%pdb off\n",
    "seqlen = 30\n",
    "model = PLAutoencoder(n_neurons=[2*12*seqlen, 1024, 1024, 512, 32], lr=3e-4, seqlen=seqlen, landmark_files=landmark_files)\n",
    "trainer = pl.Trainer(gpus=1, progress_bar_refresh_rate=10, max_epochs=50, )\n",
    "trainer.fit(model)\n"
   ]
  },
  {
   "cell_type": "code",
   "execution_count": 28,
   "metadata": {},
   "outputs": [
    {
     "data": {
      "image/png": "[encoded data removed]",
      "text/plain": [
       "<Figure size 1296x1296 with 24 Axes>"
      ]
     },
     "metadata": {
      "needs_background": "light"
     },
     "output_type": "display_data"
    }
   ],
   "source": [
    "def compare_plot(x, y):\n",
    "    x = x.reshape(seqlen, 24)\n",
    "    y = y.reshape(seqlen, 24)\n",
    "    fig, axes = plt.subplots(ncols=4, nrows=6, figsize=(18, 18))\n",
    "    for i in range(6):\n",
    "        for j in range(4):\n",
    "            idx = 4*i + j\n",
    "            axes[i][j].plot(x[:,idx], label='orig')\n",
    "            axes[i][j].plot(y[:,idx], label='recon')\n",
    "            axes[i][j].set_title(f\"{idx}\")\n",
    "            axes[i][j].set_ylim(-3, 3)\n",
    "    plt.legend()\n",
    "compare_plot(bx[190].cpu().numpy(), out.loc[190].cpu().numpy())"
   ]
  },
  {
   "cell_type": "code",
   "execution_count": 17,
   "metadata": {},
   "outputs": [
    {
     "data": {
      "text/plain": [
       "<matplotlib.legend.Legend at 0x7f1a3609bfa0>"
      ]
     },
     "execution_count": 17,
     "metadata": {},
     "output_type": "execute_result"
    },
    {
     "data": {
      "image/png": "[encoded data removed]",
      "text/plain": [
       "<Figure size 432x288 with 1 Axes>"
      ]
     },
     "metadata": {
      "needs_background": "light"
     },
     "output_type": "display_data"
    }
   ],
   "source": [
    "dl = model.val_dataloader()\n",
    "bx = next(iter(dl))\n",
    "with torch.no_grad():\n",
    "    out = model(bx)\n",
    "plt.plot(bx[150].cpu().numpy().reshape(seqlen, 24)[:,7], label='orig')\n",
    "plt.plot(out.loc[150].cpu().numpy().reshape(seqlen, 24)[:,7], label='recon')\n",
    "plt.ylim((-3, 3))\n",
    "plt.legend()"
   ]
  },
  {
   "cell_type": "code",
   "execution_count": 95,
   "metadata": {},
   "outputs": [],
   "source": [
    "landmark_datasets = []\n",
    "for file in landmark_files:\n",
    "    try:\n",
    "        ds = LandmarkDataset(file)\n",
    "        landmark_datasets.append(ds)\n",
    "    except OSError:\n",
    "        pass\n",
    "coords = [sig.decimate(ds.coords, q=4, axis=0).astype(np.float32) for ds in landmark_datasets]"
   ]
  },
  {
   "cell_type": "code",
   "execution_count": 153,
   "metadata": {},
   "outputs": [],
   "source": [
    "N, n_coords, _ = coords[0].shape\n",
    "all_data = [crds.reshape(-1, n_coords*2) for crds in coords]\n",
    "data_lengths = [d.shape[0] - model.seqlen for d in all_data]\n",
    "video_change_idxs = np.cumsum(data_lengths)[:-1]\n",
    "all_data = [SequenceDataset(d, seqlen=model.seqlen, diff=False, step=1) for d in all_data]\n",
    "all_data = ConcatDataset(all_data)"
   ]
  },
  {
   "cell_type": "code",
   "execution_count": 154,
   "metadata": {},
   "outputs": [],
   "source": [
    "labels = model.model.cluster(all_data, batch_size=1024)\n",
    "\n",
    "'''\n",
    "split the sequence of labels and returns the sequence of segments of the form:\n",
    "      [(label0, segment_start0, segment_length0), ...]\n",
    "for example:\n",
    "44422222227777  ->  [(4, 0, 3), (2, 7), (7, 4)]\n",
    "'''\n",
    "def split_labels(labels):\n",
    "    split_at = np.where(np.diff(labels) != 0)[0] + 1\n",
    "    sequence = [[seg[0], split_at[i-1]*4 + model.seqlen*2, len(seg)*4] \\\n",
    "                for i, seg in enumerate(np.split(labels, indices_or_sections=split_at))]\n",
    "    sequence[0][1] = model.seqlen*2\n",
    "    return sequence\n",
    "\n",
    "labels_dict = dict(zip(landmark_files, \n",
    "                        np.split(labels, indices_or_sections=video_change_idxs)))\n",
    "\n",
    "\n",
    "segment_dict = dict(zip(landmark_files, \n",
    "                        map(split_labels, np.split(labels, indices_or_sections=video_change_idxs))))\n"
   ]
  },
  {
   "cell_type": "code",
   "execution_count": 156,
   "metadata": {},
   "outputs": [
    {
     "data": {
      "text/plain": [
       "[<matplotlib.lines.Line2D at 0x7feaea6932e0>]"
      ]
     },
     "execution_count": 156,
     "metadata": {},
     "output_type": "execute_result"
    },
    {
     "data": {
      "image/png": "[encoded data removed]",
      "text/plain": [
       "<Figure size 432x288 with 1 Axes>"
      ]
     },
     "metadata": {
      "needs_background": "light"
     },
     "output_type": "display_data"
    }
   ],
   "source": [
    "lbls = labels_dict[landmark_files[6]]\n",
    "plt.plot(lbls[:200])"
   ]
  },
  {
   "cell_type": "code",
   "execution_count": 114,
   "metadata": {},
   "outputs": [
    {
     "data": {
      "text/plain": [
       "[<matplotlib.lines.Line2D at 0x7feaf1263640>]"
      ]
     },
     "execution_count": 114,
     "metadata": {},
     "output_type": "execute_result"
    },
    {
     "data": {
      "image/png": "[encoded data removed]",
      "text/plain": [
       "<Figure size 432x288 with 1 Axes>"
      ]
     },
     "metadata": {
      "needs_background": "light"
     },
     "output_type": "display_data"
    }
   ],
   "source": [
    "lbls = labels_dict[landmark_files[6]]\n"
   ]
  },
  {
   "cell_type": "code",
   "execution_count": 144,
   "metadata": {},
   "outputs": [
    {
     "data": {
      "image/png": "[encoded data removed]",
      "text/plain": [
       "<Figure size 576x864 with 4 Axes>"
      ]
     },
     "metadata": {
      "needs_background": "light"
     },
     "output_type": "display_data"
    }
   ],
   "source": [
    "from collections import defaultdict\n",
    "segments = split_labels(labels)\n",
    "segment_lengths = defaultdict(list)\n",
    "for seg in segments:\n",
    "    if seg[2] < 200:\n",
    "        segment_lengths[seg[0]].append(seg[2]/(4*60))\n",
    "    \n",
    "fig, axes = plt.subplots(ncols=1, nrows=4, figsize=(8, 12), sharex=True)\n",
    "for i, cl in enumerate([3, 12, 13, 22]):\n",
    "    axes[i].hist(segment_lengths[cl], bins=20, density=True)\n",
    "    axes[i].set_xlim(0, 0.5)"
   ]
  },
  {
   "cell_type": "code",
   "execution_count": 129,
   "metadata": {},
   "outputs": [
    {
     "data": {
      "text/plain": [
       "'0011.mp4'"
      ]
     },
     "execution_count": 129,
     "metadata": {},
     "output_type": "execute_result"
    }
   ],
   "source": [
    "p = landmark_files[0]\n",
    "re.sub(r'DeepCut.*\\.h5', '.mp4', p.name)"
   ]
  },
  {
   "cell_type": "code",
   "execution_count": 159,
   "metadata": {},
   "outputs": [],
   "source": [
    "import cv2 as cv\n",
    "import importlib\n",
    "import random\n",
    "import clip_videos\n",
    "from collections import defaultdict\n",
    "importlib.reload(clip_videos)\n",
    "\n",
    "def save_clips(landmarks_file, cluster_segments, save_dir, min_seg_len=10):\n",
    "    if not os.path.exists(save_dir):\n",
    "        os.makedirs(save_dir, exist_ok=True)\n",
    "    video_file = re.sub(r'DeepCut.*\\.h5', '.MP4', landmarks_file.name)\n",
    "    video_file = landmarks_file.parent / video_file\n",
    "    assert os.path.exists(video_file)\n",
    "    cluster_frames = defaultdict(list)\n",
    "    for seg in cluster_segments:\n",
    "        if seg[2] >= min_seg_len:\n",
    "            cluster_frames[seg[0]].append((seg[1] + seg[2]//2, seg[2]//2))\n",
    "    cluster_frames = {k: v for k, v in cluster_frames.items() if len(v) >= 15}\n",
    "    cluster_samples = {c: random.choices(cl, k=15) for c, cl in cluster_frames.items()}\n",
    "    df = LandmarkDataset(landmarks_file).df\n",
    "    for cl_id,  cluster in cluster_samples.items():\n",
    "        mid_frames = [c[0] for c in cluster]\n",
    "        n_frames = [c[1] for c in cluster]\n",
    "        n_frames = int(min(60, np.mean(n_frames) + np.std(n_frames)))\n",
    "        clip_videos.save_collage_with_labels_short(str(video_file), df, mid_frames, n_frames_around=n_frames,\n",
    "                                             save_file=f'{save_dir}/cluster_{cl_id}.mp4')"
   ]
  },
  {
   "cell_type": "code",
   "execution_count": 160,
   "metadata": {},
   "outputs": [
    {
     "name": "stdout",
     "output_type": "stream",
     "text": [
      "[250090, 150264, 174264, 428042, 201668, 429634, 259370, 428716, 70, 429544, 259164, 155242, 10522, 6430, 36120]\n",
      "[231186, 353376, 213500, 428630, 155178, 200180, 174382, 36150, 214130, 202046, 353376, 427742, 36246, 36150, 37542]\n",
      "[6570, 231052, 201970, 170448, 170448, 110492, 6570, 201862, 201638, 273524, 357614, 174324, 14860, 14776, 205862]\n",
      "[1954, 275624, 428248, 170778, 12716, 232124, 213416, 283958, 225128, 273126, 269708, 10820, 159296, 272840, 892]\n",
      "[2346, 170130, 46872, 104018, 172006, 430402, 37130, 239812, 430402, 374208, 222848, 108682, 1100, 38674, 408902]\n",
      "[174004, 173738, 428466, 38972, 428466, 230698, 172156, 524, 173738, 2544, 429436, 249670, 14622, 427594, 158912]\n",
      "[351596, 109366, 309434, 351596, 354838, 35088, 10790, 6940, 167170, 270498, 150880, 260160, 100540, 147856, 314100]\n",
      "[255412, 14424, 206924, 205660, 248428, 206924, 233866, 206924, 356786, 66742, 150000, 150000, 46516, 233866, 248428]\n",
      "[144342, 3738, 4152, 444868, 20598, 241484, 67142, 221846, 107984, 115918, 107984, 4152, 164248, 194960, 32566]\n",
      "[220514, 451102, 77448, 113678, 98458, 58664, 114612, 148150, 142850, 447414, 114612, 447414, 154626, 116612, 154626]\n",
      "[112098, 109990, 7732, 9422, 4662, 278316, 211904, 71874, 272338, 449764, 449764, 4888, 272338, 109990, 4888]\n",
      "[79036, 72170, 450462, 86000, 119132, 56236, 70630, 118590, 68378, 278398, 118782, 75042, 220476, 50708, 269110]\n",
      "[291308, 294544, 275932, 111210, 295132, 144208, 267426, 316084, 219900, 144208, 11806, 158418, 103474, 216538, 262672]\n",
      "[57288, 56926, 164932, 61814, 50640, 269174, 164932, 69672, 220354, 50878, 50878, 50640, 69672, 98990, 118660]\n"
     ]
    }
   ],
   "source": [
    "lfile = landmark_files[0]\n",
    "save_clips(lfile, segment_dict[lfile], f'clusters/sept15/{lfile.name[:4]}')"
   ]
  },
  {
   "cell_type": "code",
   "execution_count": 161,
   "metadata": {},
   "outputs": [
    {
     "name": "stdout",
     "output_type": "stream",
     "text": [
      "[39174, 75374, 222202, 309008, 357004, 119696, 149620, 114742, 392328, 119822, 114742, 358466, 149722, 149404, 75374]\n",
      "[177284, 119736, 148910, 277752, 114914, 359042, 215828, 115366, 178392, 146762, 148910, 215626, 332168, 308828, 382366]\n",
      "[1330, 120004, 35136, 115436, 392070, 89300, 273030, 178426, 391942, 177316, 35246, 68122, 356826, 215744, 222268]\n",
      "[39250, 120084, 332538, 88500, 39250, 273482, 91298, 91142, 357316, 394770, 3856, 146958, 219646, 310974, 357316]\n",
      "[257952, 59128, 228438, 373422, 251442, 285554, 418208, 178020, 34272, 417380, 155892, 116054, 151146, 56442, 38534]\n",
      "[193974, 275092, 30266, 27836, 413672, 309412, 116112, 395308, 362882, 367736, 295212, 68760, 219832, 427416, 78494]\n",
      "[120444, 314106, 237192, 407558, 134728, 371758, 39320, 174966, 360562, 100574, 79280, 28420, 88668, 37290, 221582]\n",
      "[133802, 262338, 379994, 16162, 126814, 30004, 244358, 136464, 136464, 379994, 176456, 127034, 80116, 29682, 55908]\n",
      "[374852, 138770, 81862, 130960, 376348, 19906, 780, 245050, 133428, 141386, 246928, 141386, 244434, 374852, 24142]\n",
      "[145978, 27382, 391856, 74670, 176818, 149064, 309646, 149064, 218702, 149336, 86624, 88124, 119004, 67506, 176818]\n",
      "[388442, 40486, 43748, 271038, 71652, 305854, 331800, 331892, 57500, 79092, 271038, 307724, 372366, 266918, 125058]\n",
      "[57294, 56680, 77552, 318194, 258226, 247294, 217694, 57294, 58150, 58150, 193776, 77908, 318194, 277034, 76556]\n",
      "[148616, 148616, 9706, 270224, 88158, 26996, 9706, 270790, 7728, 27634, 270224, 277448, 310466, 6594, 67344]\n",
      "[5250, 5250, 7268, 7268, 18900, 130918, 18900, 130450, 18900, 138636, 130918, 18708, 131346, 5898, 130918]\n",
      "[62076, 138584, 79794, 378002, 379252, 100198, 17190, 378002, 117302, 131280, 16498, 117302, 246734, 131104, 245936]\n",
      "[196944, 6326, 287092, 114, 235786, 234510, 257706, 418452, 196944, 8094, 19918, 114, 24374, 20364, 225482]\n",
      "[6366, 8826, 400382, 396730, 27390, 12262, 398272, 4558, 2872, 8826, 1518, 265024, 270592, 8826, 270976]\n",
      "[286760, 257496, 403456, 291190, 270930, 272792, 19666, 264490, 267324, 400668, 270930, 60410, 60410, 10618, 47448]\n",
      "[238410, 57936, 25650, 38164, 409240, 265276, 315624, 318340, 60958, 412092, 82130, 228430, 328590, 25650, 412092]\n",
      "[433750, 296900, 411318, 424672, 426894, 395416, 433234, 404966, 426894, 407428, 413558, 430678, 316526, 406860, 231678]\n",
      "[422740, 285674, 422740, 422740, 117372, 419542, 415712, 417288, 317156, 433526, 117372, 116648, 109928, 285674, 255898]\n",
      "[303748, 401462, 246658, 200656, 246658, 202132, 31812, 273276, 11602, 109004, 272144, 313196, 17412, 321656, 201438]\n",
      "[153532, 173780, 202322, 9856, 171480, 670, 168874, 383496, 269016, 280048, 184678, 86794, 16704, 4626, 87080]\n",
      "[517800, 74932, 173718, 178950, 52984, 155116, 437444, 16962, 279798, 262484, 184844, 184844, 135936, 137888, 423686]\n",
      "[87048, 249286, 2416, 143822, 58504, 136496, 8048, 203238, 349108, 2624, 247410, 134390, 333514, 513662, 143706]\n",
      "[440408, 176006, 332370, 283184, 181204, 440302, 346306, 283304, 517896, 206426, 155330, 185136, 331278, 53242, 333048]\n",
      "[126940, 8646, 473118, 147226, 430734, 397618, 392482, 486660, 441640, 473118, 263786, 240394, 201260, 2144, 382642]\n",
      "[89806, 7588, 46694, 28440, 67730, 425326, 163576, 406966, 495378, 404702, 515004, 500852, 500852, 167312, 510018]\n",
      "[4480, 248274, 52754, 329750, 503472, 248274, 474820, 115792, 262314, 9748, 86996, 5974, 331920, 72992, 155410]\n",
      "[57166, 425148, 180986, 251896, 284516, 177202, 298490, 183946, 181350, 472166, 282414, 304378, 298490, 256834, 297308]\n",
      "[494476, 3308, 499064, 141334, 192994, 2928, 499064, 3308, 338626, 3308, 494476, 336978, 18404, 192762, 338626]\n",
      "[157302, 345810, 399796, 67868, 499820, 477106, 407070, 169362, 499820, 509808, 11998, 5702, 115306, 60216, 520806]\n",
      "[329418, 425310, 195080, 195080, 338696, 474410, 338696, 329418, 329418, 496962, 430646, 194850, 425310, 258898, 267464]\n",
      "[258988, 192440, 501702, 93532, 501702, 15562, 266552, 26096, 492340, 89984, 246878, 128888, 498726, 37270, 154998]\n",
      "[425106, 137424, 277958, 302402, 308570, 51534, 47536, 304042, 300266, 309398, 448622, 425106, 280622, 57860, 439114]\n",
      "[502038, 72722, 247060, 141628, 420122, 173486, 420122, 420122, 247060, 474576, 425440, 420122, 16038, 502038, 68612]\n",
      "[277636, 308990, 308990, 268534, 504006, 245128, 184140, 178426, 282062, 279674, 205378, 417630, 176292, 448524, 434470]\n",
      "[255788, 338338, 251468, 114552, 77370, 180726, 238514, 64654, 74908, 175946, 338640, 114258, 337012, 146, 221368]\n",
      "[147668, 223542, 53742, 87858, 309860, 502, 147668, 157750, 336948, 242232, 227864, 259462, 223356, 257616, 336850]\n",
      "[338508, 338408, 223580, 161060, 114334, 310614, 386030, 223580, 1608, 221240, 219254, 74978, 244034, 309896, 1080]\n",
      "[157664, 384858, 338290, 74744, 223886, 348, 235580, 384858, 87706, 54056, 155170, 322430, 77010, 259400, 251006]\n",
      "[386274, 221586, 221586, 385790, 326312, 250956, 309972, 255726, 221082, 239020, 182874, 243620, 182234, 238492, 78974]\n",
      "[389690, 245168, 42122, 232976, 228974, 220040, 137862, 382710, 239644, 162966, 245168, 44114, 17212, 42070, 66482]\n",
      "[336366, 141868, 269448, 113332, 318822, 5116, 54520, 88678, 223796, 384446, 4708, 156268, 382354, 260998, 2014]\n",
      "[4954, 273032, 76908, 384118, 80122, 235142, 52928, 110648, 75504, 150948, 235684, 272760, 113566, 273032, 110922]\n",
      "[29102, 145394, 142828, 42760, 62984, 305490, 257310, 109944, 54284, 33314, 172392, 178908, 255092, 149900, 113048]\n",
      "[227392, 385194, 227392, 385194, 111120, 235356, 59430, 111120, 235356, 319176, 74414, 336600, 158580, 235780, 80374]\n",
      "[214570, 174118, 273692, 181236, 214764, 175386, 307812, 162666, 163980, 214924, 169164, 162834, 329324, 309386, 179872]\n",
      "[181930, 179558, 275316, 182660, 163640, 64510, 177918, 181930, 299796, 166612, 67288, 273776, 309212, 214670, 216338]\n",
      "[167436, 301882, 63794, 175302, 63794, 282174, 63794, 64240, 298064, 274122, 276544, 174808, 64240, 276544, 174808]\n",
      "[222194, 333288, 239186, 233220, 217428, 215076, 314410, 233220, 242432, 302948, 385670, 303796, 66054, 234342, 162310]\n",
      "[90448, 299650, 630, 69882, 58592, 5398, 1600, 174008, 412, 202, 263164, 306690, 1428, 2744, 60670]\n",
      "[12288, 89312, 85234, 254514, 72054, 79912, 193494, 7610, 149764, 264880, 263306, 204202, 132076, 22296, 63704]\n",
      "[268926, 247356, 195440, 132264, 24008, 149018, 58866, 207618, 103200, 3668, 82946, 256674, 132526, 261704, 260584]\n",
      "[312158, 2504, 22794, 59172, 25728, 18728, 303566, 21026, 80998, 80998, 90276, 20676, 303430, 26518, 256992]\n",
      "[81032, 2870, 79486, 176676, 307522, 25540, 303466, 314112, 307604, 2870, 202628, 90304, 25756, 102956, 301118]\n",
      "[4012, 2728, 301778, 169074, 102988, 84690, 25788, 59652, 176708, 102988, 102988, 71376, 312480, 300894, 103640]\n",
      "[305774, 83050, 41934, 258702, 42154, 166338, 120624, 14844, 249120, 31026, 160956, 32730, 76234, 271500, 292184]\n",
      "[243548, 117076, 156898, 243884, 80064, 229168, 116596, 210726, 262008, 195892, 21818, 268266, 21444, 210508, 152492]\n",
      "[83988, 256862, 301682, 73458, 312010, 18228, 34880, 5284, 73762, 84420, 89990, 305020, 75672, 63082, 79356]\n",
      "[62848, 241032, 190130, 155762, 7244, 189068, 34238, 80256, 80494, 29254, 73278, 263806, 29254, 23800, 169988]\n",
      "[153396, 63020, 79168, 154616, 79168, 154616, 154616, 23828, 84282, 158022, 155790, 7380, 154616, 7380, 153396]\n",
      "[29592, 271170, 16070, 196250, 270010, 271740, 297356, 296580, 8052, 337608, 30388, 30388, 271740, 97708, 271740]\n",
      "[71128, 200506, 102702, 179542, 99910, 317892, 78846, 101802, 78846, 99530, 98810, 335616, 335616, 11884, 98232]\n",
      "[98758, 179852, 71074, 179558, 196388, 179558, 11712, 16114, 98758, 39942, 30134, 30134, 317216, 96878, 96878]\n",
      "[138744, 176538, 432928, 246976, 16106, 365120, 223138, 7898, 407600, 430212, 183314, 433026, 56254, 352398, 216372]\n",
      "[2568, 352512, 42042, 183024, 150702, 139040, 221358, 212138, 3914, 152978, 9826, 344540, 176000, 430140, 42144]\n",
      "[176596, 349252, 44862, 209510, 411350, 357430, 212168, 216550, 182952, 410934, 150610, 365210, 139204, 410934, 42076]\n",
      "[366746, 432902, 192588, 192588, 184166, 59776, 428272, 187682, 364350, 16528, 428272, 150990, 11524, 192588, 153190]\n",
      "[185862, 98792, 390266, 209926, 160372, 321184, 208354, 390266, 208850, 390182, 141374, 194388, 57722, 345748, 388484]\n",
      "[186474, 8272, 550, 8954, 432660, 432660, 235388, 432660, 432660, 9122, 186944, 10922, 185986, 57482, 186944]\n",
      "[316490, 10992, 429072, 187160, 153954, 429072, 190676, 236516, 329650, 317472, 9014, 187160, 324594, 323060, 236264]\n",
      "[173054, 38302, 208502, 162626, 284348, 390670, 384752, 390964, 205180, 173054, 90748, 174796, 6472, 158404, 58866]\n",
      "[162370, 39982, 223586, 14152, 360890, 322332, 132504, 57886, 47764, 55402, 319328, 282088, 220606, 218996, 287782]\n",
      "[14806, 3178, 298594, 361236, 292136, 161054, 27048, 257054, 382038, 233842, 413252, 259878, 312630, 364644, 1098]\n",
      "[5010, 44496, 344204, 222846, 1206, 16024, 216180, 211142, 211756, 1206, 41700, 16024, 362912, 246516, 303464]\n",
      "[40484, 149840, 360548, 44000, 344012, 363998, 417282, 358894, 149840, 363998, 62976, 11792, 236994, 181102, 26876]\n",
      "[329700, 331564, 328950, 245422, 155536, 245422, 323834, 328950, 333994, 238178, 236322, 236322, 326828, 329700, 238178]\n",
      "[152740, 422580, 14080, 13868, 15228, 14080, 426614, 427078, 343504, 426614, 418406, 156740, 13868, 422580, 420008]\n",
      "[280478, 2842, 2674, 92126, 459914, 9900, 2674, 288728, 288728, 2842, 447214, 82, 276374, 298388, 8986]\n",
      "[257386, 92488, 3392, 289068, 273858, 6430, 279516, 276066, 462888, 289176, 455598, 463368, 10548, 459810, 475072]\n",
      "[106470, 267122, 784, 293566, 279434, 293358, 475012, 9184, 281118, 455736, 100896, 297008, 455736, 552, 475106]\n",
      "[10422, 466752, 5722, 3342, 472300, 12970, 100714, 473538, 285454, 475136, 92446, 3342, 106590, 3234, 279594]\n",
      "[5526, 111088, 293276, 180994, 274830, 467152, 279874, 280980, 286274, 730, 398326, 6686, 273838, 293646, 285862]\n",
      "[479148, 108166, 111202, 464250, 184512, 183262, 408204, 466106, 408876, 111054, 14876, 265942, 93854, 200122, 413312]\n",
      "[110702, 20888, 281748, 245524, 407992, 452870, 14798, 407692, 394170, 5944, 17388, 209516, 198112, 88828, 453286]\n",
      "[5992, 285318, 105406, 203484, 405632, 396192, 53042, 292744, 452544, 287946, 12402, 111818, 465504, 53592, 287946]\n",
      "[22240, 59460, 256192, 57616, 284794, 405710, 54306, 50592, 23368, 396918, 82376, 454626, 31944, 271772, 57616]\n",
      "[250428, 479566, 478472, 101948, 392644, 347564, 274894, 456810, 462674, 100244, 494992, 116432, 20032, 57404, 177942]\n",
      "[448080, 291206, 298932, 462760, 479810, 448080, 252382, 275568, 57210, 466328, 274182, 461184, 13422, 448080, 478714]\n",
      "[92022, 180662, 180662, 92022, 447120, 472976, 266802, 446072, 491710, 180662, 455484, 290906, 296872, 491710, 466398]\n",
      "[264134, 136604, 286542, 303594, 343340, 114650, 472652, 459414, 179840, 418450, 113822, 264548, 412734, 317718, 326578]\n",
      "[53274, 11832, 53814, 105474, 288070, 292932, 36514, 27424, 292932, 27424, 54474, 12544, 256038, 6068, 22316]\n",
      "[20416, 300684, 479282, 91174, 291718, 323232, 250866, 450054, 303540, 296622, 191100, 177050, 453680, 91174, 314604]\n",
      "[121368, 490, 230256, 111258, 443956, 111358, 169226, 395124, 301516, 111258, 5064, 231200, 466074, 98066, 396516]\n",
      "[239134, 395300, 1248, 111288, 455214, 231380, 1248, 396758, 111288, 107504, 434, 466110, 1248, 455318, 111198]\n",
      "[301264, 2162, 395212, 107788, 107788, 3960, 97848, 150618, 455246, 150516, 121146, 121334, 237426, 228110, 455246]\n",
      "[111498, 239318, 121280, 108004, 437448, 150908, 230456, 440156, 396844, 301968, 237192, 228254, 108004, 233338, 107914]\n",
      "[374822, 3370, 113638, 302338, 419696, 304692, 303080, 334742, 238212, 393130, 241106, 100912, 456950, 107076, 435288]\n",
      "[429016, 120848, 309340, 5694, 225894, 11184, 106298, 416070, 320286, 231602, 243906, 475326, 302176, 1756, 483146]\n",
      "[475382, 474948, 120948, 483268, 357818, 334032, 168972, 110912, 478520, 462556, 462556, 11286, 478520, 478668, 436668]\n",
      "[238642, 107382, 5896, 122064, 5896, 5896, 465906, 122064, 107382, 238642, 320152, 6594, 231692, 231136, 97202]\n",
      "[453918, 320544, 120214, 439462, 341868, 393804, 109302, 420144, 329478, 229120, 152300, 157852, 464834, 157852, 338198]\n",
      "[342070, 9768, 484420, 325676, 446510, 336064, 234254, 323948, 336830, 2602, 9186, 9768, 348730, 452110, 342070]\n",
      "[480840, 9586, 371974, 302824, 3346, 476028, 368414, 303350, 369520, 9258, 316774, 434148, 10920, 316774, 435868]\n",
      "[349246, 104362, 237154, 421566, 336160, 136282, 421566, 323536, 421808, 9816, 149222, 8244, 484510, 141902, 101810]\n",
      "[321982, 150104, 103946, 128432, 149876, 149754, 143470, 103062, 10546, 101728, 421886, 150104, 148140, 125312, 324872]\n"
     ]
    },
    {
     "ename": "AssertionError",
     "evalue": "",
     "output_type": "error",
     "traceback": [
      "\u001b[0;31m---------------------------------------------------------------------------\u001b[0m",
      "\u001b[0;31mAssertionError\u001b[0m                            Traceback (most recent call last)",
      "\u001b[0;32m<ipython-input-161-6ff720de206a>\u001b[0m in \u001b[0;36m<module>\u001b[0;34m\u001b[0m\n\u001b[1;32m      2\u001b[0m     \u001b[0msave_dir\u001b[0m \u001b[0;34m=\u001b[0m \u001b[0;34mf'clusters/sept15/{lfile.name[:4]}'\u001b[0m\u001b[0;34m\u001b[0m\u001b[0;34m\u001b[0m\u001b[0m\n\u001b[1;32m      3\u001b[0m     \u001b[0;32mif\u001b[0m \u001b[0;32mnot\u001b[0m \u001b[0mos\u001b[0m\u001b[0;34m.\u001b[0m\u001b[0mpath\u001b[0m\u001b[0;34m.\u001b[0m\u001b[0mexists\u001b[0m\u001b[0;34m(\u001b[0m\u001b[0msave_dir\u001b[0m\u001b[0;34m)\u001b[0m\u001b[0;34m:\u001b[0m\u001b[0;34m\u001b[0m\u001b[0;34m\u001b[0m\u001b[0m\n\u001b[0;32m----> 4\u001b[0;31m         \u001b[0msave_clips\u001b[0m\u001b[0;34m(\u001b[0m\u001b[0mlfile\u001b[0m\u001b[0;34m,\u001b[0m \u001b[0msegments\u001b[0m\u001b[0;34m,\u001b[0m \u001b[0msave_dir\u001b[0m\u001b[0;34m)\u001b[0m\u001b[0;34m\u001b[0m\u001b[0;34m\u001b[0m\u001b[0m\n\u001b[0m",
      "\u001b[0;32m<ipython-input-159-fc2d897b8884>\u001b[0m in \u001b[0;36msave_clips\u001b[0;34m(landmarks_file, cluster_segments, save_dir, min_seg_len)\u001b[0m\n\u001b[1;32m     11\u001b[0m     \u001b[0mvideo_file\u001b[0m \u001b[0;34m=\u001b[0m \u001b[0mre\u001b[0m\u001b[0;34m.\u001b[0m\u001b[0msub\u001b[0m\u001b[0;34m(\u001b[0m\u001b[0;34mr'DeepCut.*\\.h5'\u001b[0m\u001b[0;34m,\u001b[0m \u001b[0;34m'.MP4'\u001b[0m\u001b[0;34m,\u001b[0m \u001b[0mlandmarks_file\u001b[0m\u001b[0;34m.\u001b[0m\u001b[0mname\u001b[0m\u001b[0;34m)\u001b[0m\u001b[0;34m\u001b[0m\u001b[0;34m\u001b[0m\u001b[0m\n\u001b[1;32m     12\u001b[0m     \u001b[0mvideo_file\u001b[0m \u001b[0;34m=\u001b[0m \u001b[0mlandmarks_file\u001b[0m\u001b[0;34m.\u001b[0m\u001b[0mparent\u001b[0m \u001b[0;34m/\u001b[0m \u001b[0mvideo_file\u001b[0m\u001b[0;34m\u001b[0m\u001b[0;34m\u001b[0m\u001b[0m\n\u001b[0;32m---> 13\u001b[0;31m     \u001b[0;32massert\u001b[0m \u001b[0mos\u001b[0m\u001b[0;34m.\u001b[0m\u001b[0mpath\u001b[0m\u001b[0;34m.\u001b[0m\u001b[0mexists\u001b[0m\u001b[0;34m(\u001b[0m\u001b[0mvideo_file\u001b[0m\u001b[0;34m)\u001b[0m\u001b[0;34m\u001b[0m\u001b[0;34m\u001b[0m\u001b[0m\n\u001b[0m\u001b[1;32m     14\u001b[0m     \u001b[0mcluster_frames\u001b[0m \u001b[0;34m=\u001b[0m \u001b[0mdefaultdict\u001b[0m\u001b[0;34m(\u001b[0m\u001b[0mlist\u001b[0m\u001b[0;34m)\u001b[0m\u001b[0;34m\u001b[0m\u001b[0;34m\u001b[0m\u001b[0m\n\u001b[1;32m     15\u001b[0m     \u001b[0;32mfor\u001b[0m \u001b[0mseg\u001b[0m \u001b[0;32min\u001b[0m \u001b[0mcluster_segments\u001b[0m\u001b[0;34m:\u001b[0m\u001b[0;34m\u001b[0m\u001b[0;34m\u001b[0m\u001b[0m\n",
      "\u001b[0;31mAssertionError\u001b[0m: "
     ]
    }
   ],
   "source": [
    "for lfile, segments in segment_dict.items():\n",
    "    save_dir = f'clusters/sept15/{lfile.name[:4]}'\n",
    "    if not os.path.exists(save_dir):\n",
    "        save_clips(lfile, segments, save_dir)"
   ]
  },
  {
   "cell_type": "code",
   "execution_count": null,
   "metadata": {},
   "outputs": [],
   "source": [
    "from collections import defaultdict\n",
    "import random\n",
    "split_at = np.where(np.diff(labels) != 0)[0] + 1\n",
    "sequence = [[s[0], split_at[i-1], len(s)] for i, s in enumerate(np.split(labels, indices_or_sections=split_at))]\n",
    "sequence[0][1] = 0\n",
    "seg_lengths = defaultdict(list)\n",
    "for seg in sequence:\n",
    "    seg_lengths[seg[0]].append(seg[2])\n",
    "\n",
    "sequence = [seq for seq in sequence if seq[2] > 5]\n",
    "\n",
    "cluster_frames = defaultdict(list)\n",
    "for seq in sequence:\n",
    "    cluster_frames[seq[0]].append((seq[1]*4 + seq[2]*2, seq[2]*2))\n",
    "\n",
    "cluster_frames = {c:cl for c, cl in cluster_frames.items() if len(cl)>25}\n",
    "# len(cluster_frames)\n",
    "cluster_samples = {c: random.choices(cl, k=15) for c, cl in cluster_frames.items()}"
   ]
  },
  {
   "cell_type": "code",
   "execution_count": null,
   "metadata": {},
   "outputs": [],
   "source": [
    "F.softplus(torch.Tensor(np.array([-3])), beta=2)"
   ]
  },
  {
   "cell_type": "code",
   "execution_count": null,
   "metadata": {},
   "outputs": [],
   "source": [
    "import cv2 as cv\n",
    "import importlib\n",
    "import clip_videos\n",
    "importlib.reload(clip_videos)\n",
    "\n",
    "video_file = data_root/'2020-03-23'/'Down'/'0008DeepCut_resnet50_Down2May25shuffle1_1030000_labeled.mp4'"
   ]
  },
  {
   "cell_type": "code",
   "execution_count": null,
   "metadata": {},
   "outputs": [],
   "source": [
    "for cl_id,  cluster in cluster_samples.items():\n",
    "    n_frames = [c[1] for c in cluster]\n",
    "    print(cl_id, np.mean(n_frames), np.std(n_frames))"
   ]
  },
  {
   "cell_type": "code",
   "execution_count": null,
   "metadata": {},
   "outputs": [],
   "source": [
    "df = LandmarkDataset(landmarks_file).df\n",
    "for cl_id,  cluster in cluster_samples.items():\n",
    "    mid_frames = [c[0] for c in cluster]\n",
    "    n_frames = [c[1] for c in cluster]\n",
    "    n_frames = int(min(60, np.mean(n_frames) + np.std(n_frames)))\n",
    "    print(mid_frames)\n",
    "    clip_videos.save_collage_with_labels_short(str(video_file), df, mid_frames, n_frames_around=n_frames,\n",
    "                                         save_file=f'clusters/example_1/cluster_{cl_id}.mp4')"
   ]
  },
  {
   "cell_type": "code",
   "execution_count": null,
   "metadata": {},
   "outputs": [],
   "source": [
    "writer.write(np.zeros())"
   ]
  },
  {
   "cell_type": "code",
   "execution_count": null,
   "metadata": {},
   "outputs": [],
   "source": [
    "!ls clusters/example_1"
   ]
  },
  {
   "cell_type": "code",
   "execution_count": null,
   "metadata": {},
   "outputs": [],
   "source": [
    "# sequence = [seq[0] for seq in sequence]\n",
    "from collections import defaultdict, Counter\n",
    "\n",
    "def count_ngrams(sequence, max_n=10):\n",
    "    N = len(sequence)\n",
    "    counter = defaultdict(int)\n",
    "    for k in range(1, max_n):\n",
    "        for i in range(N-k):\n",
    "            counter[tuple(sequence[i:i+k])] += 1\n",
    "    return counter\n",
    "\n",
    "def segment_sequence(sequence, max_n=5):\n",
    "    N = len(sequence)\n",
    "    sequence = tuple(sequence)\n",
    "    ngram_count = count_ngrams(sequence, max_n=max_n)\n",
    "    u_arr = np.zeros(N - 1)\n",
    "    for k in range(0, N - 1):\n",
    "        u_k = 0\n",
    "        for n in range(2, min(max_n, k, N-k)):\n",
    "            s_1, s_2 = ngram_count[sequence[k-n+1:k+1]], ngram_count[sequence[k+1:k+n+1]]\n",
    "            u_k += np.mean([1 if s_1 >= ngram_count[sequence[k-n+i+1:k+i+1]] else 0 for i in range(1, n)])\n",
    "            u_k += np.mean([1 if s_2 >= ngram_count[sequence[k-n+i+1:k+i+1]] else 0 for i in range(1, n)])\n",
    "        u_arr[k] = u_k / max_n / 2\n",
    "    \n",
    "    sequence = list(sequence)\n",
    "    segments = []\n",
    "    prev_idx = 0\n",
    "    for idx in range(1, N-1):\n",
    "        if u_arr[idx-1] < u_arr[idx] and u_arr[idx+1] < u_arr[idx]:\n",
    "            segments.append(sequence[prev_idx:idx+1])\n",
    "            prev_idx = idx+1\n",
    "\n",
    "    segments.append(sequence[prev_idx:])\n",
    "    return segments\n",
    "\n",
    "segments = segment_sequence(sequence, max_n=10)"
   ]
  },
  {
   "cell_type": "code",
   "execution_count": null,
   "metadata": {},
   "outputs": [],
   "source": [
    "Counter(map(tuple, segments)).most_common(30)"
   ]
  },
  {
   "cell_type": "code",
   "execution_count": null,
   "metadata": {},
   "outputs": [],
   "source": [
    "plt.figure(figsize=(20, 4))\n",
    "plt.plot(labels[:2000])"
   ]
  },
  {
   "cell_type": "code",
   "execution_count": null,
   "metadata": {},
   "outputs": [],
   "source": [
    "labels[:100]\n",
    "27, 8, 26, 4, 10, 27, 8, 26, 4, 10, 27, 8, 26"
   ]
  },
  {
   "cell_type": "code",
   "execution_count": null,
   "metadata": {},
   "outputs": [],
   "source": [
    "plt.figure(figsize=(20, 4))\n",
    "plt.plot(labels[3*10**4+1500:3*10**4+3000])"
   ]
  },
  {
   "cell_type": "code",
   "execution_count": null,
   "metadata": {},
   "outputs": [],
   "source": []
  },
  {
   "cell_type": "code",
   "execution_count": null,
   "metadata": {},
   "outputs": [],
   "source": [
    "plt.figure(figsize=(20, 4))\n",
    "plt.plot(labels[10**5+1500:10**5+3000])\n",
    "# plt.plot(labels[250:400])"
   ]
  },
  {
   "cell_type": "code",
   "execution_count": null,
   "metadata": {},
   "outputs": [],
   "source": [
    "re.search(r\"(a+b+c+)+\", \"daaabbbccabc\")"
   ]
  },
  {
   "cell_type": "code",
   "execution_count": null,
   "metadata": {},
   "outputs": [],
   "source": [
    "chars = [chr(i) for i in range(ord('A'), ord('Z'))] + [chr(i) for i in range(ord('a'), ord('z'))]\n",
    "labels_string = ''.join([chars[l] for l in labels])\n",
    "labels_string[280:400]"
   ]
  },
  {
   "cell_type": "code",
   "execution_count": null,
   "metadata": {},
   "outputs": [],
   "source": [
    "pat = re.compile(r\"(K+Q+M+d+b+)+\")\n",
    "spans = [match.span() for match in re.finditer(pat, labels_string)]\n",
    "span_lengths = [span[1] - span[0] for span in spans]\n",
    "spans[3] "
   ]
  },
  {
   "cell_type": "code",
   "execution_count": null,
   "metadata": {},
   "outputs": [],
   "source": [
    "pat = re.compile(r\"K+(?!Q*K+)\")\n",
    "fspans = [match.span() for match in re.finditer(pat, labels_string)]\n",
    "fspans = [(max(0, s[0]-30), s[1]+30) for s in fspans]\n",
    "fig, axes = plt.subplots(nrows=10, ncols=2, figsize=(18, 20))\n",
    "for i in range(10):    \n",
    "    for ipart, part in enumerate(landmarks_data.body_parts):\n",
    "        if part in ['forepawR', 'forePawL', 'hindpawR', 'hindpawL']:\n",
    "            axes[i][0].plot(coords[fspans[i][0]+15: fspans[i][1]+15,ipart,0], label=f\"{part}_x\")\n",
    "            axes[i][0].plot(coords[fspans[i][0]+15: fspans[i][1]+15,ipart,1], label=f\"{part}_y\")\n",
    "    axes[i][1].plot(labels[slice(*fspans[i])])\n",
    "    axes[i][0].legend(loc='right')"
   ]
  },
  {
   "cell_type": "code",
   "execution_count": null,
   "metadata": {},
   "outputs": [],
   "source": [
    "print(len(re.findall(r\"K+(?!K*Q+)\", labels_string)))\n",
    "print(len(re.findall(r\"K+Q+(?!Q*M+)\", labels_string)))\n",
    "print(len(re.findall(r\"K+Q+M+(?!M*d+)\", labels_string)))\n",
    "print(len(re.findall(r\"K+Q+M+d+(?!d*b+)\", labels_string)))\n"
   ]
  },
  {
   "cell_type": "code",
   "execution_count": null,
   "metadata": {},
   "outputs": [],
   "source": [
    "fig, axes = plt.subplots(nrows=50, ncols=2, figsize=(18, 200))\n",
    "for i in range(50):    \n",
    "    for ipart, part in enumerate(landmarks_data.body_parts):\n",
    "        if part in ['forepawR', 'forePawL', 'hindpawR', 'hindpawL']:\n",
    "            axes[i][0].plot(coords[spans[i][0]+15: spans[i][1]+15,ipart,0], label=f\"{part}_x\")\n",
    "            axes[i][0].plot(coords[spans[i][0]+15: spans[i][1]+15,ipart,1], label=f\"{part}_y\")\n",
    "    axes[i][1].plot(labels[slice(*spans[i])])\n",
    "    axes[i][0].legend(loc='right')"
   ]
  },
  {
   "cell_type": "code",
   "execution_count": null,
   "metadata": {},
   "outputs": [],
   "source": [
    "plt.figure(figsize=(20, 4))\n",
    "plt.plot(labels[:1000])"
   ]
  },
  {
   "cell_type": "code",
   "execution_count": null,
   "metadata": {},
   "outputs": [],
   "source": [
    "n_clusters = len(set(labels))\n",
    "transition_matrix = np.zeros((n_clusters, n_clusters))\n",
    "for i in range(len(labels) - 1):\n",
    "    transition_matrix[labels[i], labels[i+1]] += 1.\n",
    "\n",
    "np.fill_diagonal(transition_matrix, val=0)\n",
    "\n",
    "transition_matrix /= transition_matrix.sum(axis=0, keepdims=True)\n",
    "plt.imshow(transition_matrix)"
   ]
  },
  {
   "cell_type": "code",
   "execution_count": null,
   "metadata": {},
   "outputs": [],
   "source": [
    "def split(idx_arr):\n",
    "    to_split = np.where(np.abs(np.diff(idx_arr)) > 1)[0] + 1\n",
    "    return np.split(idx_arr, indices_or_sections=to_split)\n",
    "behaviors = [split(np.where(y_gold==lbl)[0]) for lbl in set(y_gold)]\n",
    "sections = [np.stack([np.mean(X_encoded[sec], axis=0) for sec in beh]) for beh in behaviors]\n",
    "sections[1].shape"
   ]
  }
 ],
 "metadata": {
  "kernelspec": {
   "display_name": "Python 3",
   "language": "python",
   "name": "python3"
  },
  "language_info": {
   "codemirror_mode": {
    "name": "ipython",
    "version": 3
   },
   "file_extension": ".py",
   "mimetype": "text/x-python",
   "name": "python",
   "nbconvert_exporter": "python",
   "pygments_lexer": "ipython3",
   "version": "3.8.5"
  }
 },
 "nbformat": 4,
 "nbformat_minor": 4
}
