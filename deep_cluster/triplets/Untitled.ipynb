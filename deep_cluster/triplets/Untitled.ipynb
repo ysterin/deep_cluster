{
 "cells": [
  {
   "cell_type": "code",
   "execution_count": null,
   "metadata": {},
   "outputs": [],
   "source": [
    "import os\n",
    "from pathlib import Path\n",
    "import pandas as pd\n",
    "import pickle\n",
    "import numpy as np\n",
    "\n",
    "# # df = pd.read_csv('data/selected_triplets.csv').dropna()\n",
    "# df = pd.read_csv('data/selected_triplets.csv').dropna()\n",
    "\n",
    "# os.listdir('../models/11_03')\n",
    "# X_encoded_dict = np.load('../models/11_03/x_encoded_dict.pkl', allow_pickle=True)\n",
    "# X_encoded_dict = {os.path.split(k)[-1][:4]: v for k, v in X_encoded_dict.items()}"
   ]
  },
  {
   "cell_type": "code",
   "execution_count": null,
   "metadata": {},
   "outputs": [],
   "source": [
    "from collections import Counter, defaultdict\n",
    "\n",
    "\n",
    "df_file = Path('data/selected_triplets.csv')\n",
    "fixed_df_file = Path('selected_triplets_fixed.csv')\n",
    "lengths = []\n",
    "lengths_dict = defaultdict(list)\n",
    "lines = []\n",
    "with open(df_file, 'r') as file:\n",
    "    for i, line in enumerate(file.readlines()):\n",
    "        if i == 0 or len(line.split(',')) == 9:\n",
    "            lines.append(line)\n",
    "        lengths.append(len(line.split(',')))\n",
    "        lengths_dict[len(line.split(','))].append((i, line))\n",
    "\n",
    "with open(fixed_df_file, 'w') as file:\n",
    "    file.writelines(lines)"
   ]
  },
  {
   "cell_type": "code",
   "execution_count": 29,
   "metadata": {},
   "outputs": [
    {
     "data": {
      "text/plain": [
       "0    3596\n",
       "1    1560\n",
       "2    1479\n",
       "Name: selected, dtype: int64"
      ]
     },
     "execution_count": 29,
     "metadata": {},
     "output_type": "execute_result"
    }
   ],
   "source": [
    "df = pd.read_csv(fixed_df_file)\n",
    "df['file_id'] = df.video_file.map(lambda p: int(os.path.split(p)[-1][:4]))\n",
    "df = df[df.file_id == 37]\n",
    "df.selected.value_counts()"
   ]
  },
  {
   "cell_type": "code",
   "execution_count": null,
   "metadata": {},
   "outputs": [],
   "source": [
    "df['file_id'] = df.video_file.map(lambda p: os.path.split(p)[-1][:4])\n",
    "verified_df = df[df.selected == df.selected_verification]"
   ]
  },
  {
   "cell_type": "code",
   "execution_count": null,
   "metadata": {},
   "outputs": [],
   "source": [
    "def get_segment_enc(encodings, seg_string):\n",
    "    start, end = seg_string[1:-1].split(',')\n",
    "    start, end = int(start), int(end)\n",
    "    \n",
    "    start_idx, end_idx = start // 4 , end // 4\n",
    "    assert end_idx > start_idx, print(start_idx, end_idx)\n",
    "    idx = (start_idx + end_idx) // 2\n",
    "    if idx >= len(encodings):\n",
    "        return None\n",
    "    return encodings[start_idx]\n",
    "    return encodings[start_idx:end_idx].mean(axis=0)"
   ]
  },
  {
   "cell_type": "code",
   "execution_count": null,
   "metadata": {},
   "outputs": [],
   "source": [
    "df.anchor.map(lambda o: get_segment_enc(X_encoded_dict['0015'], o))\n",
    "for sample in ['anchor', 'sample1', 'sample2']:\n",
    "    df[f'{sample}_enc'] = df[sample].map(lambda o: get_segment_enc(X_encoded_dict['0015'], o))\n",
    "    "
   ]
  },
  {
   "cell_type": "code",
   "execution_count": null,
   "metadata": {},
   "outputs": [],
   "source": [
    "df['d1'] = (df['anchor_enc'] - df['sample1_enc']).map(np.linalg.norm)\n",
    "df['d2'] = (df['anchor_enc'] - df['sample2_enc']).map(np.linalg.norm)\n",
    "df['d3'] = (df['sample1_enc'] - df['sample2_enc']).map(np.linalg.norm)\n",
    "df['pred_selected'] = (df['d1'] <= df['d2']).map(lambda b: '1' if b else '2')\n",
    "df['pred_selected1'] = (df['d1'] + 20 <= df['d2'])#.map(lambda b: '1' if b else '2')\n",
    "df['pred_selected2'] = (df['d2']  + 20<= df['d1'])#.map(lambda b: '1' if b else '2')\n",
    "df['pred_correct'] = (df.selected == df.pred_selected)\n",
    "df.describe()"
   ]
  },
  {
   "cell_type": "code",
   "execution_count": null,
   "metadata": {},
   "outputs": [],
   "source": [
    "df[df['selected'] != '0']['pred_correct'].mean()"
   ]
  },
  {
   "cell_type": "code",
   "execution_count": null,
   "metadata": {},
   "outputs": [],
   "source": [
    "verified_df = df[df.selected == df.selected_verification]\n",
    "verified_df[verified_df['selected'] != '0']['pred_correct'].mean()\n",
    "verified_df"
   ]
  },
  {
   "cell_type": "code",
   "execution_count": null,
   "metadata": {},
   "outputs": [],
   "source": [
    "df[df['selected'] != '0'][['selected', 'pred_selected']].iloc[:10]"
   ]
  },
  {
   "cell_type": "code",
   "execution_count": null,
   "metadata": {},
   "outputs": [],
   "source": [
    "df.iloc[2], X_encoded_dict.keys()"
   ]
  }
 ],
 "metadata": {
  "kernelspec": {
   "display_name": "Python 3",
   "language": "python",
   "name": "python3"
  },
  "language_info": {
   "codemirror_mode": {
    "name": "ipython",
    "version": 3
   },
   "file_extension": ".py",
   "mimetype": "text/x-python",
   "name": "python",
   "nbconvert_exporter": "python",
   "pygments_lexer": "ipython3",
   "version": "3.8.3"
  }
 },
 "nbformat": 4,
 "nbformat_minor": 4
}
