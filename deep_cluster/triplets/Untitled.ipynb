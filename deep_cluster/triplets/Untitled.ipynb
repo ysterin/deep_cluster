{
 "cells": [
  {
   "cell_type": "code",
   "execution_count": null,
   "metadata": {},
   "outputs": [],
   "source": [
    "import os\n",
    "from pathlib import Path\n",
    "import pandas as pd\n",
    "import pickle\n",
    "import numpy as np\n",
    "\n",
    "df = pd.read_csv('data/selected_triplets.csv').dropna()\n",
    "os.listdir('../models/11_03')\n",
    "X_encoded_dict = np.load('../models/11_03/x_encoded_dict.pkl', allow_pickle=True)\n",
    "X_encoded_dict = {os.path.split(k)[-1][:4]: v for k, v in X_encoded_dict.items()}"
   ]
  },
  {
   "cell_type": "code",
   "execution_count": null,
   "metadata": {},
   "outputs": [],
   "source": [
    "X_encoded_dict['0015'].shape"
   ]
  },
  {
   "cell_type": "code",
   "execution_count": null,
   "metadata": {},
   "outputs": [],
   "source": [
    "df['file_id'] = df.video_file.map(lambda p: os.path.split(p)[-1][:4])\n"
   ]
  },
  {
   "cell_type": "code",
   "execution_count": null,
   "metadata": {},
   "outputs": [],
   "source": [
    "def get_segment_enc(encodings, seg_string):\n",
    "    start, end = seg_string[1:-1].split(',')\n",
    "    start, end = int(start), int(end)\n",
    "    \n",
    "    start_idx, end_idx = start // 4 - 15, end // 4 - 15\n",
    "    assert end_idx > start_idx, print(start_idx, end_idx)\n",
    "    idx = (start_idx + end_idx) // 2\n",
    "    if idx >= len(encodings):\n",
    "        return None\n",
    "#     return encodings[idx]\n",
    "    return encodings[start_idx:end_idx].mean(axis=0)"
   ]
  },
  {
   "cell_type": "code",
   "execution_count": null,
   "metadata": {},
   "outputs": [],
   "source": [
    "df.anchor.map(lambda o: get_segment_enc(X_encoded_dict['0015'], o))\n",
    "for sample in ['anchor', 'sample1', 'sample2']:\n",
    "    df[f'{sample}_enc'] = df[sample].map(lambda o: get_segment_enc(X_encoded_dict['0015'], o))\n",
    "    "
   ]
  },
  {
   "cell_type": "code",
   "execution_count": null,
   "metadata": {},
   "outputs": [],
   "source": [
    "df['d1'] = (df['anchor_enc'] - df['sample1_enc']).map(np.linalg.norm)\n",
    "df['d2'] = (df['anchor_enc'] - df['sample2_enc']).map(np.linalg.norm)\n",
    "df['d3'] = (df['sample1_enc'] - df['sample2_enc']).map(np.linalg.norm)\n",
    "df['pred_selected'] = (df['d1'] < df['d2']).map(lambda b: '1' if b else '2')\n",
    "df['pred_correct'] = (df.selected == df.pred_selected)"
   ]
  },
  {
   "cell_type": "code",
   "execution_count": null,
   "metadata": {},
   "outputs": [],
   "source": [
    "df[df['selected'] != '0']['pred_correct'].mean()"
   ]
  },
  {
   "cell_type": "code",
   "execution_count": null,
   "metadata": {},
   "outputs": [],
   "source": [
    "df"
   ]
  },
  {
   "cell_type": "code",
   "execution_count": null,
   "metadata": {},
   "outputs": [],
   "source": [
    "df[df['selected'] != '0'][['selected', 'pred_selected']].iloc[:10]"
   ]
  },
  {
   "cell_type": "code",
   "execution_count": null,
   "metadata": {},
   "outputs": [],
   "source": [
    "df.iloc[2], X_encoded_dict.keys()"
   ]
  }
 ],
 "metadata": {
  "kernelspec": {
   "display_name": "Python 3",
   "language": "python",
   "name": "python3"
  },
  "language_info": {
   "codemirror_mode": {
    "name": "ipython",
    "version": 3
   },
   "file_extension": ".py",
   "mimetype": "text/x-python",
   "name": "python",
   "nbconvert_exporter": "python",
   "pygments_lexer": "ipython3",
   "version": "3.8.5"
  }
 },
 "nbformat": 4,
 "nbformat_minor": 4
}
