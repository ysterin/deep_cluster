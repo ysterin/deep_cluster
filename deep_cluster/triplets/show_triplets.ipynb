{
 "cells": [
  {
   "cell_type": "code",
   "execution_count": 1,
   "metadata": {},
   "outputs": [],
   "source": [
    "import numpy as np\n",
    "import cv2 as cv\n",
    "from PIL import Image\n",
    "from collections import defaultdict\n",
    "from pathlib import Path\n",
    "from contextlib import contextmanager\n",
    "from deep_cluster.dataloader import LandmarkDataset, SequenceDataset\n",
    "from matplotlib import pyplot as plt\n",
    "from matplotlib import cm\n",
    "import os\n",
    "from collections import Counter\n",
    "import torch\n",
    "from torch.utils.data import ConcatDataset\n",
    "import pickle\n",
    "import re\n",
    "data_root = Path(\"/home/orel/Storage/Data/K6/\")\n",
    "plt.rcParams['svg.fonttype'] = 'none'\n",
    "landmark_file = data_root/'2020-03-23'/'Down'/'0008DeepCut_resnet50_Down2May25shuffle1_1030000.h5'\n",
    "video_file = data_root/'2020-03-23'/'Down'/'0008.MP4'"
   ]
  },
  {
   "cell_type": "code",
   "execution_count": 3,
   "metadata": {},
   "outputs": [
    {
     "name": "stdout",
     "output_type": "stream",
     "text": [
      "2020-08-10\n",
      "2020-08-04\n",
      "2020-08-16\n",
      "2020-08-12\n",
      "2020-08-13\n",
      "2020-08-06\n",
      "2020-08-05\n"
     ]
    }
   ],
   "source": [
    "# root directory of data\n",
    "data_root = Path(\"/home/orel/Storage/Data/K7/\")\n",
    "landmark_files = []\n",
    "for subdir in os.listdir(data_root):\n",
    "    if not os.path.exists(data_root/subdir/'Down'):\n",
    "        continue\n",
    "    print(subdir)\n",
    "    for file in os.listdir(data_root/subdir/'Down'):\n",
    "        if re.match(r\"00\\d*DeepCut.*_1030000\\.h5\", file):\n",
    "            lfile = data_root/subdir/'Down'/file\n",
    "            landmark_files.append(lfile)"
   ]
  },
  {
   "cell_type": "code",
   "execution_count": 9,
   "outputs": [
    {
     "data": {
      "text/plain": "((0.12156862745098039, 0.4666666666666667, 0.7058823529411765),\n (0.6823529411764706, 0.7803921568627451, 0.9098039215686274),\n (1.0, 0.4980392156862745, 0.054901960784313725),\n (1.0, 0.7333333333333333, 0.47058823529411764),\n (0.17254901960784313, 0.6274509803921569, 0.17254901960784313),\n (0.596078431372549, 0.8745098039215686, 0.5411764705882353),\n (0.8392156862745098, 0.15294117647058825, 0.1568627450980392),\n (1.0, 0.596078431372549, 0.5882352941176471),\n (0.5803921568627451, 0.403921568627451, 0.7411764705882353),\n (0.7725490196078432, 0.6901960784313725, 0.8352941176470589),\n (0.5490196078431373, 0.33725490196078434, 0.29411764705882354),\n (0.7686274509803922, 0.611764705882353, 0.5803921568627451),\n (0.8901960784313725, 0.4666666666666667, 0.7607843137254902),\n (0.9686274509803922, 0.7137254901960784, 0.8235294117647058),\n (0.4980392156862745, 0.4980392156862745, 0.4980392156862745),\n (0.7803921568627451, 0.7803921568627451, 0.7803921568627451),\n (0.7372549019607844, 0.7411764705882353, 0.13333333333333333),\n (0.8588235294117647, 0.8588235294117647, 0.5529411764705883),\n (0.09019607843137255, 0.7450980392156863, 0.8117647058823529),\n (0.6196078431372549, 0.8549019607843137, 0.8980392156862745))"
     },
     "execution_count": 9,
     "metadata": {},
     "output_type": "execute_result"
    }
   ],
   "source": [
    "[cm.tab20(i) for i in range(20)]\n",
    "cm.tab20.colors"
   ],
   "metadata": {
    "collapsed": false,
    "pycharm": {
     "name": "#%%\n"
    }
   }
  },
  {
   "cell_type": "code",
   "execution_count": null,
   "outputs": [],
   "source": [
    "\n",
    "from time import time\n",
    "from contextlib import contextmanager\n",
    "\n",
    "@contextmanager\n",
    "def timethis(label):\n",
    "    t0 = time()\n",
    "    yield\n",
    "    elapsed = time() - t0\n",
    "    print(f\"{label} took {elapsed} seconds\")"
   ],
   "metadata": {
    "collapsed": false,
    "pycharm": {
     "name": "#%%\n"
    }
   }
  },
  {
   "cell_type": "code",
   "execution_count": 6,
   "metadata": {},
   "outputs": [],
   "source": [
    "from landmarks_video import Video, LandmarksVideo\n",
    "\n",
    "video = Video(video_file)\n",
    "vid = LandmarksVideo(landmark_file.parent)\n",
    "vid1 = LandmarksVideo(landmark_files[-1].parent)"
   ]
  },
  {
   "cell_type": "code",
   "execution_count": 26,
   "outputs": [
    {
     "data": {
      "text/plain": "16"
     },
     "execution_count": 26,
     "metadata": {},
     "output_type": "execute_result"
    }
   ],
   "source": [
    "vid.landmarks.body_parts, vid1.landmarks.body_parts\n",
    "\n",
    "body_parts = list(vid1.landmarks.body_parts)\n",
    "body_parts.index('tailbase')"
   ],
   "metadata": {
    "collapsed": false,
    "pycharm": {
     "name": "#%%\n"
    }
   }
  },
  {
   "cell_type": "code",
   "execution_count": null,
   "metadata": {},
   "outputs": [],
   "source": [
    "model_dir = Path('../models/11_03')\n",
    "\n",
    "with open(model_dir / 'labels_dict.pkl', 'rb') as file:\n",
    "    labels_dict = pickle.load(file)\n",
    "    \n",
    "with open(model_dir / 'data_dict.pkl', 'rb') as file:\n",
    "    data_dict = pickle.load(file)\n",
    "    \n",
    "with open(model_dir / 'segments_dict.pkl', 'rb') as file:\n",
    "    segments_dict = pickle.load(file)\n",
    "    \n",
    "with open(model_dir / 'x_encoded_dict.pkl', 'rb') as file:\n",
    "    X_encoded_dict = pickle.load(file)"
   ]
  },
  {
   "cell_type": "code",
   "execution_count": null,
   "metadata": {},
   "outputs": [],
   "source": [
    "vid = LandmarksVideo(landmark_file.parent)\n",
    "\n",
    "segments = segments_dict[landmark_file]\n",
    "labels = labels_dict[landmark_file]\n",
    "x_encoded = X_encoded_dict[landmark_file]\n",
    "labels = labels_dict[landmark_file]\n",
    "n_clusters = max(labels) + 1\n"
   ]
  },
  {
   "cell_type": "code",
   "execution_count": null,
   "metadata": {},
   "outputs": [],
   "source": [
    "from dataclasses import dataclass, field\n",
    "import typing\n",
    "from collections import namedtuple\n",
    "get_segment_mean = lambda seg: x_encoded[seg[1]//4: seg[1]//4  + seg[2]//4].mean(axis=1)\n",
    "\n",
    "@dataclass\n",
    "class Segment:\n",
    "    cluster_id : int\n",
    "    start_frame: int\n",
    "    n_frames: int\n",
    "    encoded_mean: typing.Any = field(init=False)\n",
    "    \n",
    "    def __post_init__(self):\n",
    "        self.encoded_mean = x_encoded[self.start_frame//4: self.start_frame//4  + self.n_frames//4].mean(axis=0)\n",
    "        \n",
    "segments = list(map(lambda seg: Segment(*seg), segments_dict[landmark_file]))     \n",
    "segments_by_cluster = {cluster:[seg for seg in segments if seg.cluster_id==cluster] for cluster in range(n_clusters)}\n",
    "segments_by_cluster = {k: v for k, v in segments_by_cluster.items() if len(v) > 5}\n",
    "print({k: len(segs) for k, segs in segments_by_cluster.items()})\n",
    "print({k: np.mean([seg.n_frames for seg in segs]) for k, segs in segments_by_cluster.items()})"
   ]
  },
  {
   "cell_type": "code",
   "execution_count": null,
   "metadata": {},
   "outputs": [],
   "source": [
    "segment_encs = np.stack([seg.encoded_mean for seg in segments])\n",
    "segment_cluster_ids = np.array([seg.cluster_id for seg in segments])\n",
    "dists = np.linalg.norm(segment_encs[...,np.newaxis] - segment_encs.T[np.newaxis], axis=1)\n",
    "nearest_segment_ids = np.argsort(dists, axis=1)\n",
    "plt.plot((segment_cluster_ids[nearest_segment_ids] == segment_cluster_ids[:,np.newaxis]).mean(axis=0))"
   ]
  },
  {
   "cell_type": "code",
   "execution_count": null,
   "metadata": {
    "jupyter": {
     "outputs_hidden": true
    }
   },
   "outputs": [],
   "source": [
    "def get_pos_neg(anchor_id, encoded=x_encoded, labels=labels, min_dist=9.0, max_dist=10.0):\n",
    "    anchor = encoded[anchor_id]\n",
    "    dists = np.linalg.norm(encoded - anchor, axis=1)\n",
    "    in_dist = np.where(np.logical_and(min_dist < dists, dists < max_dist))[0]\n",
    "    positives = in_dist[labels[in_dist] == labels[anchor_id]]\n",
    "    negatives = in_dist[labels[in_dist] != labels[anchor_id]]\n",
    "    pos_id = np.random.choice(positives)\n",
    "    neg_id = np.random.choice(negatives)\n",
    "    return pos_id, neg_id\n",
    "\n",
    "\n",
    "def sample_triplet(encoded=x_encoded, labels=labels):\n",
    "    anchor_id = np.random.choice(len(encoded))\n",
    "    anchor = encoded[anchor_id]\n",
    "    dists = np.linalg.norm(encoded - anchor, axis=-1)\n",
    "    nums, bins, *_ = plt.hist(dists, bins=100)\n",
    "    plt.close()\n",
    "    to_id = np.where(np.cumsum(nums) / sum(nums) > 0.9)[0][0]\n",
    "    bins = bins[:to_id]\n",
    "    bin_idxs = [np.where(np.logical_and(bins[:-1, np.newaxis] < dists[np.newaxis], dists[np.newaxis] < bins[1:, np.newaxis])[i])[0] for i in range(len(bins)-1)]\n",
    "    n_same_cluster_in_bin = np.array([(labels[bin_idxs[i]] == labels[anchor_id]).sum() for i in range(len(bins) - 1)])\n",
    "    n_other_clusters_in_bin = np.array([(labels[bin_idxs[i]] != labels[anchor_id]).sum() for i in range(len(bins) - 1)])\n",
    "    ratio = n_same_cluster_in_bin / (n_same_cluster_in_bin + n_other_clusters_in_bin + 1e-6)\n",
    "    try:\n",
    "        min_bin_idx = np.where(ratio > 0.5)[0][-1]\n",
    "    except IndexError:\n",
    "        min_bin_idx = 0\n",
    "    max_bin_idx = np.where(np.logical_and(ratio < 0.5, np.arange(len(bins) - 1) >= min_bin_idx))[0][0]\n",
    "    min_dist, max_dist = bins[min_bin_idx], bins[max_bin_idx+1]\n",
    "    assert min_dist <= max_dist, (min_dist, max_dist)\n",
    "    assert np.sum(nums[min_bin_idx: max_bin_idx+1]) > 0\n",
    "    print(ratio[min_bin_idx:max_bin_idx + 1].mean())\n",
    "    in_dist = np.where(np.logical_and(min_dist < dists, dists < max_dist))[0]\n",
    "    if len(in_dist) < 5:\n",
    "        raise Exception('not enough samples in distance range')\n",
    "    positives = in_dist[labels[in_dist] == labels[anchor_id]]\n",
    "    negatives = in_dist[labels[in_dist] != labels[anchor_id]]\n",
    "    pos_id = np.random.choice(positives)\n",
    "    neg_id = np.random.choice(negatives)\n",
    "    return anchor_id, pos_id, neg_id\n",
    "\n",
    "def triplets_gen(n_triplets=100, encoded=x_encoded, labels=labels):\n",
    "    i = 0\n",
    "    while True:\n",
    "        try:\n",
    "            yield sample_triplet(encoded, labels)\n",
    "        except Exception:\n",
    "            continue\n",
    "        i += 1\n",
    "        if i == n_triplets:\n",
    "            break\n",
    "\n",
    "            \n",
    "def triplets_segments_gen(n_triplets=100, segments=segments):\n",
    "    segment_encs = np.stack([seg.encoded_mean for seg in segments])\n",
    "    segment_cluster_ids = np.array([seg.cluster_id for seg in segments])\n",
    "    i = 0\n",
    "    while True:\n",
    "        try:\n",
    "            anchor_id, pos_id, neg_id = sample_triplet(encoded=segment_encs, labels=segment_cluster_ids)\n",
    "            anchor, pos, neg = segments[anchor_id], segments[pos_id], segments[neg_id]\n",
    "            if min([seg.n_frames for seg in [anchor, pos, neg]]) <= 20:\n",
    "                continue\n",
    "            if max([seg.n_frames for seg in [anchor, pos, neg]]) > 480:\n",
    "                continue\n",
    "            if max([seg.n_frames for seg in [anchor, pos, neg]]) / min([seg.n_frames for seg in [anchor, pos, neg]]) > 3:\n",
    "                continue\n",
    "            yield anchor, pos, neg\n",
    "        except Exception:\n",
    "            continue\n",
    "        i += 1\n",
    "        if i == n_triplets:\n",
    "            break\n",
    "\n",
    "%pdb on\n",
    "for tri in triplets_segments_gen(10, segments):\n",
    "    print(tri)"
   ]
  },
  {
   "cell_type": "code",
   "execution_count": null,
   "metadata": {},
   "outputs": [],
   "source": [
    "%matplotlib inline\n",
    "\n",
    "import numpy as np\n",
    "import matplotlib.pyplot as plt\n",
    "\n",
    "from matplotlib import animation, rc\n",
    "from IPython.display import HTML"
   ]
  },
  {
   "cell_type": "code",
   "execution_count": null,
   "metadata": {},
   "outputs": [],
   "source": [
    "import math\n",
    "def get_seg_clip(seg, n_frames, fps=120):\n",
    "    frames = vid[seg.start_frame: seg.start_frame + seg.n_frames: 240//fps]\n",
    "    frames = list(frames)\n",
    "    if n_frames < len(frames):\n",
    "        n_frames_to_discard = len(frames) - n_frames\n",
    "        n_frames_to_discard_beginning = math.floor(n_frames_to_discard / 2)\n",
    "        n_frames_to_discard_end = math.ceil(n_frames_to_discard / 2)\n",
    "        frames = frames[n_frames_to_discard_beginning: - n_frames_to_discard_end]\n",
    "    n_pad = n_frames - len(frames)\n",
    "    pad_beginning, pad_ending = math.floor(n_pad / 2), math.ceil(n_pad / 2)\n",
    "    frames = [frames[0]] * pad_beginning + frames + [frames[-1]] * pad_ending\n",
    "    return np.stack(frames)\n",
    "\n",
    "def animate_fn(clips, artists):\n",
    "    def animate(i):\n",
    "        for im, clip in zip(artists, clips):\n",
    "            im.set_data(clip[i])\n",
    "        return artists\n",
    "    return animate\n",
    "\n",
    "def show_clips(clips, interval=24):\n",
    "    fig, axes = plt.subplots(ncols=len(clips), figsize=(12, 6))\n",
    "    n_frames = min(len(clip) for clip in clips)\n",
    "    for i, ax in enumerate(axes):\n",
    "        ax.set_title(f\"clip {i}\")\n",
    "    artists = [ax.imshow(np.ones_like(clip[0])*255) for ax, clip in zip(axes, clips)]\n",
    "    init = lambda: artists\n",
    "\n",
    "    anim = animation.FuncAnimation(fig, animate_fn(clips, artists), init_func=init, interval=interval, frames=n_frames)\n",
    "    return anim\n",
    "\n"
   ]
  },
  {
   "cell_type": "code",
   "execution_count": null,
   "metadata": {},
   "outputs": [],
   "source": [
    "triplet = next(triplets_segments_gen(1, segments))"
   ]
  },
  {
   "cell_type": "code",
   "execution_count": null,
   "metadata": {},
   "outputs": [],
   "source": [
    "anim = show_clips([get_seg_clip(seg, n_frames=40) for seg in triplet], interval=48)\n",
    "HTML(anim.to_jshtml())"
   ]
  },
  {
   "cell_type": "code",
   "execution_count": null,
   "metadata": {},
   "outputs": [],
   "source": [
    "anchor_id, pos_id, neg_id = sample_triplets()\n",
    "print(anchor_id, pos_id, neg_id)\n",
    "\n",
    "print(labels[anchor_id], labels[pos_id], labels[neg_id])\n",
    "print(find_segment(anchor_id), find_segment(pos_id), find_segment(neg_id))\n",
    "(np.linalg.norm(X_encoded[anchor_id] - X_encoded[pos_id]),\n",
    "np.linalg.norm(X_encoded[anchor_id] - X_encoded[neg_id]),\n",
    "np.linalg.norm(X_encoded[neg_id] - X_encoded[pos_id]))"
   ]
  },
  {
   "cell_type": "code",
   "execution_count": null,
   "metadata": {},
   "outputs": [],
   "source": [
    "def find_segment(sample_id):\n",
    "    frame_id = (sample_id + 15) * 4\n",
    "    for i, seg in enumerate(segments):\n",
    "        if seg[1] > frame_id:\n",
    "            return segments[i-1]\n",
    "        \n",
    "find_segment(anchor_id), find_segment(pos_id), find_segment(neg_id)"
   ]
  },
  {
   "cell_type": "code",
   "execution_count": null,
   "metadata": {},
   "outputs": [],
   "source": [
    "# def animate_fn(frames, ax):\n",
    "#     def animate(i):\n",
    "#         return (ax.imshow(np.ones_like(frames[0])*255),)\n",
    "#     return animate\n",
    "\n",
    "# def show_clip(ax, frames):\n",
    "# #     im = ax.imshow(np.ones_like(frames[0])*255)\n",
    "#     init = lambda: (ax.imshow(np.ones_like(frames[0])*255),)\n",
    "\n",
    "#     anim = animation.FuncAnimation(fig, animate_fn(frames, ax), init_func=init, \n",
    "#                                    interval=20, frames=len(frames), blit=True)\n",
    "#     return anim\n",
    "    \n",
    "# fig, ax = plt.subplots()\n",
    "# anim = show_clip(ax, vid[1000:1200:8])\n",
    "\n",
    "# HTML(anim.to_jshtml())"
   ]
  },
  {
   "cell_type": "code",
   "execution_count": null,
   "metadata": {},
   "outputs": [],
   "source": [
    "def get_clip(idx, fps):\n",
    "    return vid[idx - 60: idx + 60: 240//fps]\n",
    "\n",
    "\n",
    "def animate_fn(clips, artists):\n",
    "    def animate(i):\n",
    "        for im, clip in zip(artists, clips):\n",
    "            im.set_data(clip[i])\n",
    "        return artists\n",
    "    return animate\n",
    "\n",
    "def show_clips(clips):\n",
    "    fig, axes = plt.subplots(ncols=len(clips), figsize=(12, 6))\n",
    "    n_frames = min(len(clip) for clip in clips)\n",
    "    for i, ax in enumerate(axes):\n",
    "        ax.set_title(f\"clip {i}\")\n",
    "    artists = [ax.imshow(np.ones_like(clip[0])*255) for ax, clip in zip(axes, clips)]\n",
    "    init = lambda: artists\n",
    "\n",
    "    anim = animation.FuncAnimation(fig, animate_fn(clips, artists), init_func=init, interval=20, frames=n_frames)\n",
    "    return anim"
   ]
  },
  {
   "cell_type": "code",
   "execution_count": null,
   "metadata": {},
   "outputs": [],
   "source": [
    "anchor_id, pos_id, neg_id = next(triplets_gen(1))\n",
    "print(anchor_id, pos_id, neg_id)\n",
    "\n",
    "print(labels[anchor_id], labels[pos_id], labels[neg_id])\n",
    "\n",
    "(np.linalg.norm(X_encoded[anchor_id] - X_encoded[pos_id]),\n",
    "np.linalg.norm(X_encoded[anchor_id] - X_encoded[neg_id]),\n",
    "np.linalg.norm(X_encoded[neg_id] - X_encoded[pos_id]))"
   ]
  },
  {
   "cell_type": "code",
   "execution_count": null,
   "metadata": {},
   "outputs": [],
   "source": [
    "def get_clip(idx, fps):\n",
    "    return vid[4*idx - 60: 4*idx + 60: 240//fps]\n",
    "\n",
    "def get_clip_segment(idx, fps, max_duration=1):\n",
    "    segment = find_segment(idx)\n",
    "    cluster_id, start, length = segment\n",
    "    mid = start + length // 2\n",
    "    n_frames = min(length, max_duration * 240)\n",
    "    return vid[mid - n_frames//2: mid + n_frames//2: 240//fps]\n",
    "    \n",
    "anim = show_clips([get_clip_segment(idx, 240) for idx in [anchor_id, pos_id, neg_id]], interval=1000*(1 / 240)*5)\n",
    "\n",
    "\n",
    "HTML(anim.to_jshtml())"
   ]
  },
  {
   "cell_type": "code",
   "execution_count": null,
   "metadata": {},
   "outputs": [],
   "source": [
    "get_clip(neg_id, 120).shape"
   ]
  },
  {
   "cell_type": "code",
   "execution_count": null,
   "metadata": {},
   "outputs": [],
   "source": [
    "anchor_id = 23420\n",
    "pos_id, neg_id = get_pos_neg(anchor_id)\n",
    "\n",
    "anim = show_clip([get_clip(idx, 120) for idx in [anchor_id, pos_id, neg_id]])\n",
    "\n",
    "HTML(anim.to_jshtml())"
   ]
  },
  {
   "cell_type": "code",
   "execution_count": null,
   "metadata": {},
   "outputs": [],
   "source": [
    "def get_clip(idx, fps):\n",
    "    return vid[idx - 60: idx + 60: 240//fps]\n",
    "\n",
    "anim = show_clips([get_clip(idx, 120) for idx in [anchor_id, pos_id, neg_id]])\n",
    "\n",
    "HTML(anim.to_jshtml())"
   ]
  },
  {
   "cell_type": "code",
   "execution_count": null,
   "metadata": {},
   "outputs": [],
   "source": [
    "def animate_fn(frames, im):\n",
    "    def animate(i):\n",
    "        im.set_data(frames[i])\n",
    "        return (im)\n",
    "    return animate\n",
    "\n",
    "def show_clip(frames):\n",
    "    fig, axes = plt.subplots(ncols=2)\n",
    "\n",
    "    im1 = axes[0].imshow(np.ones_like(frames[0])*255)\n",
    "    im2 = axes[1].imshow(np.ones_like(frames[0])*255)\n",
    "    init = lambda: (im1, im2)\n",
    "\n",
    "    anim = animation.FuncAnimation(fig, animate_fn(frames, (im1, im2)), init_func=init, interval=20, frames=len(frames))\n",
    "    return anim\n",
    "    \n",
    "anim = show_clip(vid[1000:1200:8])\n",
    "\n",
    "HTML(anim.to_jshtml())"
   ]
  },
  {
   "cell_type": "code",
   "execution_count": null,
   "metadata": {},
   "outputs": [],
   "source": [
    "HTML(anim.to_jshtml())"
   ]
  },
  {
   "cell_type": "code",
   "execution_count": null,
   "metadata": {},
   "outputs": [],
   "source": [
    "frames = vid[12000:12100:2]\n",
    "\n",
    "fig, ax = plt.subplots()\n",
    "im = ax.imshow(np.ones_like(frames[0])*255)\n",
    "\n",
    "def init():\n",
    "    im.set_data(np.ones_like(frames[0])*255)\n",
    "    return (im,)\n",
    "\n",
    "def animate(i):\n",
    "    im.set_data(frames[i])\n",
    "    return (im,)\n",
    "\n",
    "anim = animation.FuncAnimation(fig, animate, init_func=init, interval=20, frames=len(frames))\n",
    "HTML(anim.to_jshtml())"
   ]
  },
  {
   "cell_type": "code",
   "execution_count": null,
   "metadata": {},
   "outputs": [],
   "source": [
    "mu, sig = vid.normalized_landmarks.coords.mean(axis=0) , vid.normalized_landmarks.coords.std(axis=0)\n",
    "normalized_coords = (vid.normalized_landmarks.coords - mu) / (sig + 1e-8)\n",
    "plt.hist(normalized_coords.flatten(), bins=100, log=True)\n",
    "1"
   ]
  },
  {
   "cell_type": "code",
   "execution_count": null,
   "metadata": {},
   "outputs": [],
   "source": [
    "idxs = np.where(outliers[:,3,0])[0]\n",
    "axis = plt.subplot()\n",
    "plot_coords(axis, vid.normalized_landmarks[idxs[1000]])\n",
    "Image.fromarray(vid[idxs[1000]])"
   ]
  },
  {
   "cell_type": "code",
   "execution_count": null,
   "metadata": {},
   "outputs": [],
   "source": [
    "normalized_coords[idxs[500]], vid.video.shape, vid.landmarks.body_parts"
   ]
  },
  {
   "cell_type": "code",
   "execution_count": null,
   "metadata": {},
   "outputs": [],
   "source": [
    "idxs = np.where(outliers.sum(axis=(1, 2)) > 0)[0]\n",
    "Image.fromarray(vid[idxs[500]])"
   ]
  },
  {
   "cell_type": "code",
   "execution_count": null,
   "metadata": {},
   "outputs": [],
   "source": [
    "outliers = np.abs(normalized_coords) > 5\n",
    "plt.hist(normalized_coords[outliers].flatten(), bins=100, log=True)"
   ]
  },
  {
   "cell_type": "code",
   "execution_count": null,
   "metadata": {},
   "outputs": [],
   "source": [
    "X_sample = X_encoded[np.random.choice(X_encoded.shape[0], size=3000)]\n",
    "plt.hist(np.linalg.norm(X_sample[np.newaxis] - X_sample[:,np.newaxis], axis=-1).flatten(), bins=100)\n",
    "0"
   ]
  },
  {
   "cell_type": "code",
   "execution_count": null,
   "metadata": {},
   "outputs": [],
   "source": [
    "X_sample = X_clusters[20]\n",
    "X_sample = X_sample[np.random.choice(X_sample.shape[0], size=300)]\n",
    "plt.hist(np.linalg.norm(X_sample[np.newaxis] - X_sample[:,np.newaxis], axis=-1).flatten(), bins=100)"
   ]
  },
  {
   "cell_type": "code",
   "execution_count": null,
   "metadata": {},
   "outputs": [],
   "source": [
    "[np.linalg.norm(X_clusters[i] - kmeans.cluster_centers_[i], axis=1).mean() for i in range(30)]"
   ]
  },
  {
   "cell_type": "code",
   "execution_count": null,
   "metadata": {},
   "outputs": [],
   "source": [
    "plt.hist(np.linalg.norm(np.diff(X_encoded, axis=0), axis=1), bins=100, log=True, density=True)\n",
    "x_segments1 = X_encoded[np.array([seg[1]//4 for seg in segments])]\n",
    "x_segments2 = X_encoded[np.array([seg[1]//4 + 1 for seg in segments])]\n",
    "plt.hist(np.linalg.noclusterrm(x_segments2 - x_segments1, axis=1), bins=100, log=True, alpha=0.5, density=True)\n"
   ]
  },
  {
   "cell_type": "code",
   "execution_count": null,
   "metadata": {},
   "outputs": [],
   "source": [
    "def plot_coords(ax, coords):\n",
    "#     ax.scatter(coords[:,1], coords[:,0], c=[np.array(c)/255 for in color_pallete[:-1]])\n",
    "    for i, bp in enumerate(vid.landmarks.body_parts):\n",
    "        ax.scatter(coords[i,1], coords[i,0], color=np.array(color_pallete[i])/255, label=bp)\n",
    "    ax.axis('scaled')\n",
    "    ax.set_xlim((-100, 100))\n",
    "    ax.legend(bbox_to_anchor=(1., 1.))\n",
    "    \n",
    "    \n",
    "axis = plt.subplot()\n",
    "plot_coords(axis, vid.normalized_landmarks[idxs[10]])"
   ]
  },
  {
   "cell_type": "code",
   "execution_count": null,
   "metadata": {},
   "outputs": [],
   "source": [
    "Image.fromarray(frames[3])"
   ]
  },
  {
   "cell_type": "code",
   "execution_count": null,
   "metadata": {},
   "outputs": [],
   "source": [
    "s = slice(100)\n",
    "s.start is None"
   ]
  }
 ],
 "metadata": {
  "kernelspec": {
   "display_name": "Python 3",
   "language": "python",
   "name": "python3"
  },
  "language_info": {
   "codemirror_mode": {
    "name": "ipython",
    "version": 3
   },
   "file_extension": ".py",
   "mimetype": "text/x-python",
   "name": "python",
   "nbconvert_exporter": "python",
   "pygments_lexer": "ipython3",
   "version": "3.8.5"
  }
 },
 "nbformat": 4,
 "nbformat_minor": 4
}