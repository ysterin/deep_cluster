{
 "cells": [
  {
   "cell_type": "code",
   "execution_count": 1,
   "metadata": {},
   "outputs": [],
   "source": [
    "import torch\n",
    "import sklearn\n",
    "import numpy as np\n",
    "import deep_cluster.dataloader\n",
    "from deep_cluster.dataloader import smooth\n",
    "from pathlib import Path\n",
    "import deep_cluster\n",
    "import pandas as pd\n",
    "from matplotlib import pyplot as plt\n",
    "from landmarks_video import LandmarksVideo\n",
    "from gui import Animation\n",
    "import cv2 as cv\n",
    "from PIL import Image\n",
    "from scipy import signal as sig\n",
    "import tkinter as tk\n",
    "from PIL import ImageTk, Image"
   ]
  },
  {
   "cell_type": "code",
   "execution_count": 2,
   "metadata": {},
   "outputs": [],
   "source": [
    "# video_file = Path('/home/orel/Storage/Data/K7/2020-08-05/Down/0037.MP4')\n",
    "video_dir = Path('/home/orel/Storage/Data/K7/2020-08-05/Down')\n",
    "video = LandmarksVideo(video_dir, smooth=True)\n",
    "df = video.landmarks.df\n",
    "body_parts = video.landmarks.body_parts\n",
    "body_parts = body_parts[~(body_parts == 'tail2')]"
   ]
  },
  {
   "cell_type": "code",
   "execution_count": 3,
   "metadata": {},
   "outputs": [],
   "source": [
    "df['confidence'] = np.prod(np.stack([df[bp].likelihood.values for bp in body_parts]), axis=0)\n",
    "# high_confidence_bool = np.logical_and(df.confidence > 0.99, smooth(df.confidence, lpf_freq=1.0, fs=video.fps) > 0.99)\n",
    "idxs = np.where(df.confidence > 0.95)[0]\n",
    "segments = np.split(idxs, np.where(np.diff(idxs) > 1)[0] + 1)\n",
    "segments = [seg for seg in segments if len(seg) > 120 * 1]"
   ]
  },
  {
   "cell_type": "code",
   "execution_count": 4,
   "metadata": {},
   "outputs": [
    {
     "data": {
      "text/plain": [
       "150480"
      ]
     },
     "execution_count": 4,
     "metadata": {},
     "output_type": "execute_result"
    }
   ],
   "source": [
    "sum([len(seg) for seg in segments])"
   ]
  },
  {
   "cell_type": "code",
   "execution_count": 30,
   "metadata": {},
   "outputs": [
    {
     "name": "stderr",
     "output_type": "stream",
     "text": [
      "<ipython-input-30-4ab99ddf284c>:15: UserWarning: FixedFormatter should only be used together with FixedLocator\n",
      "  axis.set_yticklabels(body_parts)\n"
     ]
    },
    {
     "data": {
      "text/plain": [
       "<matplotlib.colorbar.Colorbar at 0x7f91c6cb1160>"
      ]
     },
     "execution_count": 30,
     "metadata": {},
     "output_type": "execute_result"
    },
    {
     "data": {
      "image/png": "[encoded data removed]",
      "text/plain": [
       "<Figure size 1296x432 with 2 Axes>"
      ]
     },
     "metadata": {
      "needs_background": "light"
     },
     "output_type": "display_data"
    }
   ],
   "source": [
    "def find_outliers(data, hpf_freq=30, fs=240):\n",
    "    cutoff = fs / hpf_freq\n",
    "    filt = sig.butter(4, hpf_freq, btype='high', output='ba', fs=fs)\n",
    "    filtered = sig.filtfilt(*filt, data)\n",
    "    return np.abs(filtered) > cutoff\n",
    "to_slice = lambda seg: slice(seg[0], seg[-1])\n",
    "outliers = [{bp: np.mean(find_outliers(df[bp].x.iloc[to_slice(seg)], fs=120)) for bp in body_parts} for seg in segments]\n",
    "# outliers = [{k: v for k, v in outlier.items() if v > 0} for outlier in outliers]\n",
    "outliers_mat = np.zeros((len(body_parts), len(segments)))\n",
    "for i, bp in enumerate(body_parts):\n",
    "    for j, seg in enumerate(segments):\n",
    "        outliers_mat[i, j] = outliers[j][bp]\n",
    "fig, axis = plt.subplots(figsize=(18, 6))\n",
    "axis.imshow(outliers_mat)\n",
    "axis.set_yticklabels(body_parts)\n",
    "axis.set_yticks(range(len(body_parts)))\n",
    "plt.colorbar(axis.images[0], ax=axis)"
   ]
  },
  {
   "cell_type": "code",
   "execution_count": 5,
   "metadata": {},
   "outputs": [],
   "source": [
    "root = tk.Tk()\n",
    "for i in range(20, 25):\n",
    "    seg_start = segments[i][0]\n",
    "    idx = slice(seg_start, seg_start + 120, 1)\n",
    "    anim = Animation(root, video[idx])\n",
    "    anim.pack(side=tk.LEFT)\n",
    "root.mainloop()"
   ]
  },
  {
   "cell_type": "code",
   "execution_count": 6,
   "metadata": {},
   "outputs": [],
   "source": [
    "def write(vid, file, fps):\n",
    "    n_frames, width, height, _ = vid.shape\n",
    "    fourcc = cv.VideoWriter_fourcc(*'mp4v')\n",
    "    writer = cv.VideoWriter(str(file), fourcc, fps, (height, width), True)\n",
    "    for frame in vid:\n",
    "        writer.write(frame)\n",
    "    writer.release()\n",
    "\n",
    "# write(vid, '/home/orel/Storage/shuki/projects/videos/video.mp4', video.fps // 4)"
   ]
  },
  {
   "cell_type": "code",
   "execution_count": 7,
   "metadata": {},
   "outputs": [
    {
     "name": "stdout",
     "output_type": "stream",
     "text": [
      "0\n",
      "1\n",
      "2\n",
      "3\n",
      "4\n",
      "5\n",
      "6\n",
      "7\n",
      "8\n",
      "9\n",
      "10\n",
      "11\n",
      "12\n",
      "13\n",
      "14\n",
      "15\n",
      "16\n",
      "17\n",
      "18\n",
      "19\n",
      "20\n",
      "21\n",
      "22\n",
      "23\n",
      "24\n",
      "25\n",
      "26\n",
      "27\n",
      "28\n",
      "29\n",
      "30\n",
      "31\n",
      "32\n",
      "33\n",
      "34\n",
      "35\n",
      "36\n",
      "37\n",
      "38\n",
      "39\n",
      "40\n",
      "41\n",
      "42\n",
      "43\n",
      "44\n",
      "45\n",
      "46\n",
      "47\n",
      "48\n",
      "49\n",
      "50\n",
      "51\n",
      "52\n",
      "53\n",
      "54\n",
      "55\n",
      "56\n",
      "57\n",
      "58\n",
      "59\n",
      "60\n",
      "61\n",
      "62\n",
      "63\n",
      "64\n",
      "65\n",
      "66\n",
      "67\n",
      "68\n",
      "69\n",
      "70\n",
      "71\n",
      "72\n",
      "73\n",
      "74\n",
      "75\n",
      "76\n",
      "77\n",
      "78\n",
      "79\n",
      "80\n",
      "81\n",
      "82\n",
      "83\n",
      "84\n",
      "85\n",
      "86\n",
      "87\n",
      "88\n",
      "89\n",
      "90\n",
      "91\n",
      "92\n",
      "93\n",
      "94\n",
      "95\n",
      "96\n",
      "97\n",
      "98\n",
      "99\n",
      "100\n",
      "101\n",
      "102\n",
      "103\n",
      "104\n",
      "105\n",
      "106\n",
      "107\n",
      "108\n",
      "109\n",
      "110\n",
      "111\n",
      "112\n",
      "113\n",
      "114\n",
      "115\n",
      "116\n",
      "117\n",
      "118\n",
      "119\n",
      "120\n",
      "121\n",
      "122\n",
      "123\n",
      "124\n",
      "125\n",
      "126\n",
      "127\n",
      "128\n",
      "129\n",
      "130\n",
      "131\n",
      "132\n",
      "133\n",
      "134\n",
      "135\n",
      "136\n",
      "137\n",
      "138\n",
      "139\n",
      "140\n",
      "141\n",
      "142\n",
      "143\n",
      "144\n",
      "145\n",
      "146\n",
      "147\n",
      "148\n",
      "149\n",
      "150\n",
      "151\n",
      "152\n",
      "153\n",
      "154\n",
      "155\n",
      "156\n",
      "157\n",
      "158\n",
      "159\n",
      "160\n",
      "161\n",
      "162\n",
      "163\n",
      "164\n",
      "165\n",
      "166\n",
      "167\n",
      "168\n",
      "169\n",
      "170\n",
      "171\n",
      "172\n",
      "173\n",
      "174\n",
      "175\n",
      "176\n"
     ]
    }
   ],
   "source": [
    "import os\n",
    "\n",
    "frame_to_time = lambda idx: f'{idx // (video.fps*60)}-{(idx % (video.fps*60)) // video.fps}'\n",
    "save_dir = Path('/home/orel/Storage/shuki/projects/videos/0038_2')\n",
    "os.makedirs(save_dir, exist_ok=True)\n",
    "MAX_LEN = 2000\n",
    "import os\n",
    "idx = 0\n",
    "for i, seg in enumerate(segments):\n",
    "    print(i)\n",
    "    seg = np.array(seg)\n",
    "    for sub_seg in np.array_split(seg, len(seg) // MAX_LEN + 1):\n",
    "        save_file = save_dir / f'time_{frame_to_time(sub_seg[0])}_{frame_to_time(sub_seg[-1])}.mp4'\n",
    "        if os.path.exists(save_file):\n",
    "            idx += 1\n",
    "            continue\n",
    "        vid = video[sub_seg[0]: sub_seg[-1]: 2]\n",
    "        write(vid, save_file, video.fps // 4)\n",
    "        idx += 1"
   ]
  },
  {
   "cell_type": "code",
   "execution_count": 1,
   "metadata": {},
   "outputs": [
    {
     "ename": "NameError",
     "evalue": "name 'segments' is not defined",
     "output_type": "error",
     "traceback": [
      "\u001b[0;31m---------------------------------------------------------------------------\u001b[0m",
      "\u001b[0;31mNameError\u001b[0m                                 Traceback (most recent call last)",
      "\u001b[0;32m<ipython-input-1-b65a5b616b0a>\u001b[0m in \u001b[0;36m<module>\u001b[0;34m\u001b[0m\n\u001b[0;32m----> 1\u001b[0;31m \u001b[0;32mfor\u001b[0m \u001b[0mseg\u001b[0m \u001b[0;32min\u001b[0m \u001b[0msegments\u001b[0m\u001b[0;34m:\u001b[0m\u001b[0;34m\u001b[0m\u001b[0;34m\u001b[0m\u001b[0m\n\u001b[0m\u001b[1;32m      2\u001b[0m     \u001b[0mprint\u001b[0m\u001b[0;34m(\u001b[0m\u001b[0mlen\u001b[0m\u001b[0;34m(\u001b[0m\u001b[0mseg\u001b[0m\u001b[0;34m)\u001b[0m\u001b[0;34m)\u001b[0m\u001b[0;34m\u001b[0m\u001b[0;34m\u001b[0m\u001b[0m\n",
      "\u001b[0;31mNameError\u001b[0m: name 'segments' is not defined"
     ]
    }
   ],
   "source": [
    "for seg in segments:\n",
    "    print(len(seg))"
   ]
  },
  {
   "cell_type": "code",
   "execution_count": 1,
   "metadata": {},
   "outputs": [
    {
     "ename": "NameError",
     "evalue": "name 'Image' is not defined",
     "output_type": "error",
     "traceback": [
      "\u001b[0;31m---------------------------------------------------------------------------\u001b[0m",
      "\u001b[0;31mNameError\u001b[0m                                 Traceback (most recent call last)",
      "\u001b[0;32m<ipython-input-1-0fe515b70ed0>\u001b[0m in \u001b[0;36m<module>\u001b[0;34m\u001b[0m\n\u001b[0;32m----> 1\u001b[0;31m \u001b[0mImage\u001b[0m\u001b[0;34m.\u001b[0m\u001b[0mfromarray\u001b[0m\u001b[0;34m(\u001b[0m\u001b[0mvideo\u001b[0m\u001b[0;34m[\u001b[0m\u001b[0msegments\u001b[0m\u001b[0;34m[\u001b[0m\u001b[0;36m32\u001b[0m\u001b[0;34m]\u001b[0m\u001b[0;34m[\u001b[0m\u001b[0;36m10\u001b[0m\u001b[0;34m]\u001b[0m\u001b[0;34m]\u001b[0m\u001b[0;34m)\u001b[0m\u001b[0;34m\u001b[0m\u001b[0;34m\u001b[0m\u001b[0m\n\u001b[0m",
      "\u001b[0;31mNameError\u001b[0m: name 'Image' is not defined"
     ]
    }
   ],
   "source": [
    "Image.fromarray(video[segments[32][10]])"
   ]
  },
  {
   "cell_type": "code",
   "execution_count": 32,
   "metadata": {},
   "outputs": [
    {
     "data": {
      "text/plain": [
       "<AxesSubplot:xlabel='index'>"
      ]
     },
     "execution_count": 32,
     "metadata": {},
     "output_type": "execute_result"
    },
    {
     "data": {
      "image/png": "[encoded data removed]",
      "text/plain": [
       "<Figure size 432x288 with 1 Axes>"
      ]
     },
     "metadata": {
      "needs_background": "light"
     },
     "output_type": "display_data"
    },
    {
     "data": {
      "image/png": "[encoded data removed]",
      "text/plain": [
       "<Figure size 432x288 with 1 Axes>"
      ]
     },
     "metadata": {
      "needs_background": "light"
     },
     "output_type": "display_data"
    }
   ],
   "source": [
    "from scipy import signal as sig\n",
    "def smooth(data, lpf_freq=1, fs=120):\n",
    "    filt = sig.butter(4, lpf_freq, btype='low', output='ba', fs=fs)\n",
    "    filtered = sig.filtfilt(*filt, data)\n",
    "    return filtered\n",
    "\n",
    "plt.plot(range(2300, 2860), smooth(video.landmarks.df.iloc[slice(2300, 2860)]['tail3']['likelihood'].values))\n",
    "video.landmarks.df.iloc[slice(2300, 2860)]['tail3']['likelihood'].plot()\n",
    "video.landmarks.df.iloc[slice(2300, 2860)]['tail3'][['x', 'y']].plot()"
   ]
  }
 ],
 "metadata": {
  "kernelspec": {
   "display_name": "Python 3",
   "language": "python",
   "name": "python3"
  },
  "language_info": {
   "codemirror_mode": {
    "name": "ipython",
    "version": 3
   },
   "file_extension": ".py",
   "mimetype": "text/x-python",
   "name": "python",
   "nbconvert_exporter": "python",
   "pygments_lexer": "ipython3",
   "version": "3.8.6"
  }
 },
 "nbformat": 4,
 "nbformat_minor": 4
}
