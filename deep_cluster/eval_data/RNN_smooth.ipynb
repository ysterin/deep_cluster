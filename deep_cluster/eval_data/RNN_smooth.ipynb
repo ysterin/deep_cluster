{
 "cells": [
  {
   "cell_type": "code",
   "execution_count": 1,
   "id": "educational-medicare",
   "metadata": {},
   "outputs": [],
   "source": [
    "import torch\n",
    "import sklearn\n",
    "import numpy as np\n",
    "import deep_cluster.dataloader\n",
    "from deep_cluster.dataloader import smooth, extract_coordinates\n",
    "from pathlib import Path\n",
    "import deep_cluster\n",
    "import pandas as pd\n",
    "from matplotlib import pyplot as plt\n",
    "from landmarks_video import LandmarksVideo\n",
    "from gui import Animation\n",
    "import cv2 as cv\n",
    "from PIL import Image\n",
    "from scipy import signal as sig\n",
    "import tkinter as tk\n",
    "from PIL import ImageTk, Image\n",
    "from itertools import product\n",
    "\n",
    "import torch\n",
    "from torch import nn"
   ]
  },
  {
   "cell_type": "code",
   "execution_count": 2,
   "id": "governing-reggae",
   "metadata": {},
   "outputs": [],
   "source": [
    "video_file = Path('/home/orel/Storage/Data/K7/2020-08-04/Down/0037.MP4')\n",
    "video = LandmarksVideo(video_file.parent, smooth=False)\n",
    "df = video.landmarks.df\n",
    "body_parts = video.landmarks.body_parts\n",
    "body_parts = body_parts[~(body_parts == 'tail2')]\n",
    "\n",
    "df['confidence'] = np.prod(np.stack([df[bp].likelihood.values for bp in body_parts]), axis=0)\n",
    "# high_confidence_bool = np.logical_and(df.confidence > 0.99, smooth(df.confidence, lpf_freq=1.0, fs=video.fps) > 0.99)\n",
    "idxs = np.where(df.confidence > 0.99)[0]\n",
    "segments = np.split(idxs, np.where(np.diff(idxs) > 1)[0] + 1)\n",
    "segments = [seg for seg in segments if len(seg) > 120 * 3]"
   ]
  },
  {
   "cell_type": "code",
   "execution_count": 3,
   "id": "convertible-programmer",
   "metadata": {},
   "outputs": [
    {
     "data": {
      "text/plain": [
       "4649"
      ]
     },
     "execution_count": 3,
     "metadata": {},
     "output_type": "execute_result"
    }
   ],
   "source": [
    "class LandmarksData(torch.utils.data.Dataset):\n",
    "    def __init__(self, data, body_parts=None, seqlen=60, step=20):\n",
    "        super(LandmarksData, self).__init__()\n",
    "        self.data = data.astype(np.float32)\n",
    "        if body_parts is None:\n",
    "            body_parts = list(df.columns)\n",
    "        self.body_parts = body_parts\n",
    "        self.seqlen, self.step = seqlen, step\n",
    "        \n",
    "    def __len__(self):\n",
    "        return (len(self.data) - self.seqlen) // self.step\n",
    "    \n",
    "    def __getitem__(self, idx):\n",
    "        return self.data[idx * self.step: idx * self.step + self.seqlen]\n",
    "    \n",
    "def get_data(df, segments, seqlen=60, step=20):\n",
    "    coords = extract_coordinates(df, normalize=True)\n",
    "    N, n_points, dim = coords.shape\n",
    "    coords = coords.reshape((N, n_points*dim))\n",
    "    coords = (coords - coords.mean()) / (coords.std() + 1e-8)\n",
    "    return torch.utils.data.ConcatDataset([LandmarksData(coords[seg], body_parts, seqlen=seqlen, step=step) for seg in segments])\n",
    "    \n",
    "len(get_data(video.normalized_landmarks.df[body_parts], segments))"
   ]
  },
  {
   "cell_type": "code",
   "execution_count": 93,
   "id": "appreciated-layer",
   "metadata": {},
   "outputs": [
    {
     "data": {
      "text/plain": [
       "torch.Size([16, 60, 38])"
      ]
     },
     "execution_count": 93,
     "metadata": {},
     "output_type": "execute_result"
    }
   ],
   "source": [
    "dl = torch.utils.data.DataLoader(get_data(video.normalized_landmarks.df[body_parts], segments[20:]), batch_size=16)\n",
    "next(iter(dl)).shape"
   ]
  },
  {
   "cell_type": "code",
   "execution_count": null,
   "id": "african-wedding",
   "metadata": {},
   "outputs": [],
   "source": [
    "?torch.stac"
   ]
  },
  {
   "cell_type": "code",
   "execution_count": 57,
   "id": "great-internship",
   "metadata": {},
   "outputs": [],
   "source": [
    "class ParralelApply(nn.Module):\n",
    "    def __init__(self, layer, dim=1):\n",
    "        super(ParralelApply, self).__init__()\n",
    "        self.layer = layer\n",
    "        self.dim = dim\n",
    "        \n",
    "    def forward(self, x):\n",
    "        bs, seqlen, dim = x.shape\n",
    "        return self.layer(x.reshape(bs*seqlen, dim)).reshape(bs, seqlen, -1)\n",
    "#         _xs = x.unbind(dim=self.dim)\n",
    "#         _out = [self.layer(_x) for _x in _xs]\n",
    "#         return torch.stack(_out, dim=self.dim)\n",
    "        \n",
    "class SimpleLM(nn.Module):\n",
    "    def __init__(self, input_size=38, hidden_size=256, num_layers=3):\n",
    "        super(SimpleLM, self).__init__()\n",
    "        self.inp = ParralelApply(nn.Sequential(nn.Linear(input_size, hidden_size), nn.ReLU()))\n",
    "        self.rnn = nn.RNN(input_size=hidden_size, hidden_size=hidden_size, num_layers=num_layers, batch_first=True)\n",
    "        self.out = ParralelApply(nn.Linear(hidden_size, input_size))\n",
    "        \n",
    "    def forward(self, x):\n",
    "        bs, seqlen, dim = x.shape\n",
    "        x = self.inp(x)\n",
    "        rnn_out, h_n = self.rnn(x)\n",
    "        return self.out(rnn_out)\n",
    "    \n",
    "    def loss(self, x):\n",
    "        out = self.forward(x[:-1])\n",
    "        return ((out - x[1:]) ** 2).mean()\n",
    "\n",
    "    \n",
    "class SimpleLM1(nn.Module):\n",
    "    def __init__(self, input_size=38, hidden_size=256, num_layers=3):\n",
    "        super(SimpleLM1, self).__init__()\n",
    "        self.rnn = nn.RNN(input_size=input_size, hidden_size=hidden_size, num_layers=num_layers, batch_first=True)\n",
    "        self.out = ParralelApply(nn.Linear(hidden_size, input_size))\n",
    "        self.out.layer.bias.data.zero_()\n",
    "        self.out.layer.weight.data.zero_()\n",
    "        \n",
    "    def forward(self, x):\n",
    "#         x = self.inp(x)\n",
    "        rnn_out, h_n = self.rnn(x)\n",
    "        return x + self.out(rnn_out)\n",
    "    \n",
    "    def loss(self, x):\n",
    "        out = self.forward(x[:-1])\n",
    "        return ((out - x[1:]) ** 2).mean()\n",
    "\n",
    "# class SimpleLM(nn.Module):\n",
    "#     def __init__(self, input_size=38, hidden_size=256, num_layers=3):\n",
    "#         super(SimpleLM, self).__init__()\n",
    "#         self.inp = nn.Sequential(nn.Linear(input_size, hidden_size), nn.ReLU())\n",
    "#         self.rnn = nn.RNN(input_size=hidden_size, hidden_size=hidden_size, num_layers=num_layers, batch_first=True)\n",
    "#         self.out = nn.Linear(hidden_size, input_size)\n",
    "        \n",
    "#     def forward(self, x):\n",
    "#         bs, seqlen, dim = x.shape\n",
    "#         x = self.inp(x.reshape(bs*seqlen, -1)).view(bs, seqlen, -1)\n",
    "#         rnn_out, h_n = self.rnn(x)\n",
    "#         return self.out(rnn_out.reshape(bs*seqlen, -1)).view(bs, seqlen, dim)\n",
    "    \n",
    "#     def loss(self, x):\n",
    "#         out = self.forward(x[:-1])\n",
    "#         return ((out - x[1:]) ** 2).mean()\n",
    "\n",
    "class CopyLM(nn.Module):\n",
    "    def __init__(self):\n",
    "        super(CopyLM, self).__init__()\n",
    "        self.param = nn.Parameter(torch.zeros(1), requires_grad=True)\n",
    "        \n",
    "    def forward(self, x):\n",
    "        return x + self.param - self.param\n",
    "    \n",
    "    \n",
    "lm = SimpleLM()"
   ]
  },
  {
   "cell_type": "code",
   "execution_count": 19,
   "id": "secondary-alexandria",
   "metadata": {},
   "outputs": [
    {
     "name": "stdout",
     "output_type": "stream",
     "text": [
      "0 tensor(6.5297e-06, device='cuda:0')\n",
      "1 tensor(6.5297e-06, device='cuda:0')\n"
     ]
    }
   ],
   "source": [
    "copy_lm = CopyLM().cuda()\n",
    "fit_lm(copy_lm, epochs=2)"
   ]
  },
  {
   "cell_type": "code",
   "execution_count": 65,
   "id": "terminal-dividend",
   "metadata": {},
   "outputs": [
    {
     "name": "stdout",
     "output_type": "stream",
     "text": [
      "0 tensor(6.5454e-06, device='cuda:0')\n",
      "1 tensor(6.5304e-06, device='cuda:0')\n",
      "2 tensor(6.5287e-06, device='cuda:0')\n",
      "3 tensor(6.5246e-06, device='cuda:0')\n",
      "4 tensor(6.5493e-06, device='cuda:0')\n",
      "5 tensor(6.5148e-06, device='cuda:0')\n",
      "6 tensor(6.5166e-06, device='cuda:0')\n",
      "7 tensor(6.5066e-06, device='cuda:0')\n",
      "8 tensor(6.5040e-06, device='cuda:0')\n",
      "9 tensor(6.5322e-06, device='cuda:0')\n",
      "10 tensor(6.5080e-06, device='cuda:0')\n",
      "11 tensor(6.4732e-06, device='cuda:0')\n",
      "12 tensor(6.5247e-06, device='cuda:0')\n",
      "13 tensor(6.4719e-06, device='cuda:0')\n",
      "14 tensor(6.5277e-06, device='cuda:0')\n",
      "15 tensor(6.5096e-06, device='cuda:0')\n",
      "16 tensor(6.4990e-06, device='cuda:0')\n",
      "17 tensor(6.5298e-06, device='cuda:0')\n",
      "18 tensor(6.5477e-06, device='cuda:0')\n",
      "19 tensor(6.4312e-06, device='cuda:0')\n",
      "20 tensor(6.4495e-06, device='cuda:0')\n",
      "21 tensor(6.5057e-06, device='cuda:0')\n",
      "22 tensor(6.5344e-06, device='cuda:0')\n",
      "23 tensor(6.4466e-06, device='cuda:0')\n",
      "24 tensor(6.4588e-06, device='cuda:0')\n",
      "25 tensor(6.5301e-06, device='cuda:0')\n",
      "26 tensor(6.6091e-06, device='cuda:0')\n",
      "27 tensor(6.6535e-06, device='cuda:0')\n",
      "28 tensor(6.4503e-06, device='cuda:0')\n",
      "29 tensor(6.4633e-06, device='cuda:0')\n",
      "30 tensor(6.6117e-06, device='cuda:0')\n",
      "31 tensor(6.5756e-06, device='cuda:0')\n",
      "32 tensor(6.5025e-06, device='cuda:0')\n",
      "33 tensor(6.5026e-06, device='cuda:0')\n",
      "34 tensor(6.6798e-06, device='cuda:0')\n",
      "35 tensor(6.6682e-06, device='cuda:0')\n",
      "36 tensor(6.6632e-06, device='cuda:0')\n",
      "37 tensor(6.7536e-06, device='cuda:0')\n",
      "38 tensor(6.5604e-06, device='cuda:0')\n",
      "39 tensor(6.6017e-06, device='cuda:0')\n",
      "40 tensor(6.7352e-06, device='cuda:0')\n",
      "41 tensor(6.5695e-06, device='cuda:0')\n",
      "42 tensor(6.7717e-06, device='cuda:0')\n",
      "43 tensor(6.7297e-06, device='cuda:0')\n",
      "44 tensor(6.6131e-06, device='cuda:0')\n",
      "45 tensor(6.6820e-06, device='cuda:0')\n",
      "46 tensor(6.6814e-06, device='cuda:0')\n",
      "47 tensor(6.9402e-06, device='cuda:0')\n",
      "48 tensor(6.7682e-06, device='cuda:0')\n",
      "49 tensor(6.7387e-06, device='cuda:0')\n"
     ]
    }
   ],
   "source": [
    "dl = torch.utils.data.DataLoader(get_data(video.normalized_landmarks.df[body_parts], segments[:30]), batch_size=16, shuffle=True)\n",
    "test_dl = torch.utils.data.DataLoader(get_data(video.normalized_landmarks.df[body_parts], segments[-5:]), batch_size=16)\n",
    "\n",
    "def fit_lm(lm, lr=3e-4, epochs=50):\n",
    "    opt = torch.optim.AdamW(lm.parameters(), lr=lr, weight_decay=0.1)\n",
    "    losses = []\n",
    "    test_losses = []\n",
    "    for i_epoch in range(epochs):\n",
    "        for bx in dl:\n",
    "            bx = bx.cuda()\n",
    "            inp = bx[:,:-1]\n",
    "            out = lm(inp)\n",
    "            loss = (out - bx[:,1:]).abs().mean()\n",
    "            losses.append(loss)\n",
    "            opt.zero_grad()\n",
    "            loss.backward()\n",
    "            opt.step()\n",
    "        with torch.no_grad():\n",
    "            test_loss = 0\n",
    "            for bx in test_dl:\n",
    "                bx = bx.cuda()\n",
    "                out = lm(bx[:, :-1])\n",
    "                loss = ((out - bx[:, 1:]) ** 2).mean()\n",
    "                test_loss += loss / len(test_dl)\n",
    "            print(i_epoch, test_loss)\n",
    "            test_losses.append(test_loss)\n",
    "            \n",
    "lm = SimpleLM1(hidden_size=256, num_layers=3).cuda()\n",
    "fit_lm(lm, lr=1e-5)"
   ]
  },
  {
   "cell_type": "code",
   "execution_count": 50,
   "id": "swedish-badge",
   "metadata": {},
   "outputs": [
    {
     "data": {
      "text/plain": [
       "tensor([0.0550, 0.0000, 0.0466, 0.0445, 0.0167, 0.0478, 0.0189, 0.0381, 0.0223,\n",
       "        0.0509, 0.0249, 0.0434, 0.0145, 0.0530, 0.0145, 0.0438, 0.0105, 0.0318,\n",
       "        0.0070, 0.0169, 0.0084, 0.0271, 0.0150, 0.0329, 0.0140, 0.0365, 0.0173,\n",
       "        0.0330, 0.0254, 0.0334, 0.0187, 0.0302, 0.0000, 0.0000, 0.0071, 0.0069,\n",
       "        0.0052, 0.0445])"
      ]
     },
     "execution_count": 50,
     "metadata": {},
     "output_type": "execute_result"
    }
   ],
   "source": [
    "bx[idx].std(dim=0)"
   ]
  },
  {
   "cell_type": "code",
   "execution_count": 53,
   "id": "secret-belgium",
   "metadata": {},
   "outputs": [
    {
     "data": {
      "text/plain": [
       "[<matplotlib.lines.Line2D at 0x7f6050b65850>]"
      ]
     },
     "execution_count": 53,
     "metadata": {},
     "output_type": "execute_result"
    },
    {
     "data": {
      "image/png": "[encoded data removed]",
      "text/plain": [
       "<Figure size 432x288 with 1 Axes>"
      ]
     },
     "metadata": {
      "needs_background": "light"
     },
     "output_type": "display_data"
    }
   ],
   "source": [
    "ds = get_data(video.normalized_landmarks.df[body_parts], segments[30:-5])\n",
    "bx = next(iter(test_dl))\n",
    "lm = lm.cpu()\n",
    "with torch.no_grad():\n",
    "    out = lm(bx[:,:-1])\n",
    "idx = 2\n",
    "plt.plot(bx[idx][1:,12].numpy())\n",
    "plt.plot(out[idx][:,12].numpy())"
   ]
  },
  {
   "cell_type": "code",
   "execution_count": 175,
   "id": "hired-behalf",
   "metadata": {},
   "outputs": [
    {
     "data": {
      "text/plain": [
       "tensor(0.0032)"
      ]
     },
     "execution_count": 175,
     "metadata": {},
     "output_type": "execute_result"
    }
   ],
   "source": [
    "((bx[:,1:] - bx[:,:-1]) ).abs().mean()"
   ]
  },
  {
   "cell_type": "code",
   "execution_count": 216,
   "id": "ancient-roommate",
   "metadata": {},
   "outputs": [
    {
     "data": {
      "text/plain": [
       "tensor([ 0.2375,  0.0111,  0.2520, -0.0084,  0.0265, -0.0605, -0.0961,  0.1062,\n",
       "         0.1050,  0.0543,  0.1277,  0.0089,  0.0903,  0.0019,  0.0645, -0.0168,\n",
       "         0.0389, -0.0211, -0.0148,  0.0483,  0.2887, -0.0848,  0.1630, -0.0345,\n",
       "         0.1060, -0.0849, -0.0136,  0.0781, -0.1768,  0.1019, -0.1774,  0.1674,\n",
       "        -0.0043,  0.0118,  0.0592, -0.0393,  0.1117,  0.2411])"
      ]
     },
     "execution_count": 216,
     "metadata": {},
     "output_type": "execute_result"
    }
   ],
   "source": [
    "((bx[:,1:] - out) ).mean(dim=(0,1))"
   ]
  },
  {
   "cell_type": "code",
   "execution_count": 119,
   "id": "useful-tooth",
   "metadata": {},
   "outputs": [
    {
     "data": {
      "text/plain": [
       "[<matplotlib.lines.Line2D at 0x7f20461e6910>]"
      ]
     },
     "execution_count": 119,
     "metadata": {},
     "output_type": "execute_result"
    },
    {
     "data": {
      "image/png": "[encoded data removed]",
      "text/plain": [
       "<Figure size 432x288 with 1 Axes>"
      ]
     },
     "metadata": {
      "needs_background": "light"
     },
     "output_type": "display_data"
    }
   ],
   "source": [
    "plt.plot(losses)"
   ]
  },
  {
   "cell_type": "code",
   "execution_count": 109,
   "id": "cooked-immune",
   "metadata": {},
   "outputs": [
    {
     "data": {
      "text/plain": [
       "[<matplotlib.lines.Line2D at 0x7f20464e7f70>]"
      ]
     },
     "execution_count": 109,
     "metadata": {},
     "output_type": "execute_result"
    },
    {
     "data": {
      "image/png": "[encoded data removed]",
      "text/plain": [
       "<Figure size 432x288 with 1 Axes>"
      ]
     },
     "metadata": {
      "needs_background": "light"
     },
     "output_type": "display_data"
    }
   ],
   "source": [
    "plt.plot(losses)"
   ]
  }
 ],
 "metadata": {
  "kernelspec": {
   "display_name": "Python 3",
   "language": "python",
   "name": "python3"
  },
  "language_info": {
   "codemirror_mode": {
    "name": "ipython",
    "version": 3
   },
   "file_extension": ".py",
   "mimetype": "text/x-python",
   "name": "python",
   "nbconvert_exporter": "python",
   "pygments_lexer": "ipython3",
   "version": "3.8.6"
  }
 },
 "nbformat": 4,
 "nbformat_minor": 5
}
