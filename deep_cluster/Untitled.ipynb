{
 "cells": [
  {
   "cell_type": "code",
   "execution_count": 1,
   "metadata": {},
   "outputs": [],
   "source": [
    "import pickle\n",
    "import numpy as np\n",
    "from pathlib import Path\n",
    "\n",
    "ae_dir = Path('models/11_03')\n",
    "vade_dir = Path('models/vade_11_24')"
   ]
  },
  {
   "cell_type": "code",
   "execution_count": 5,
   "metadata": {},
   "outputs": [],
   "source": [
    "with open(ae_dir/'labels_dict.pkl', 'rb') as file:\n",
    "    ae_labels = pickle.load(file)\n",
    "\n",
    "with open(vade_dir/'labels_dict.pkl', 'rb') as file:\n",
    "    vade_labels = pickle.load(file)\n",
    "    \n",
    "files = list(ae_labels.keys())\n",
    "ae_labels = np.concatenate([ae_labels[f] for f in files])\n",
    "vade_labels = np.concatenate([vade_labels[f] for f in files])"
   ]
  },
  {
   "cell_type": "code",
   "execution_count": 8,
   "metadata": {},
   "outputs": [
    {
     "name": "stdout",
     "output_type": "stream",
     "text": [
      "0.12853195573331017\n",
      "0.12845293248717832\n",
      "0.023693490449411242\n"
     ]
    }
   ],
   "source": [
    "from sklearn.metrics import normalized_mutual_info_score, adjusted_mutual_info_score, adjusted_rand_score\n",
    "\n",
    "print(normalized_mutual_info_score(ae_labels, vade_labels))\n",
    "print(adjusted_mutual_info_score(ae_labels, vade_labels))\n",
    "print(adjusted_rand_score(ae_labels, vade_labels))"
   ]
  },
  {
   "cell_type": "code",
   "execution_count": 10,
   "metadata": {},
   "outputs": [],
   "source": [
    "from collections import Counter\n",
    "def entropy(labels):\n",
    "    counter = Counter(labels)\n",
    "    value_counts = np.array(list(counter.values()))\n",
    "    probs = value_counts / value_counts.sum()\n",
    "    return - (probs * np.log(probs)).sum()\n"
   ]
  },
  {
   "cell_type": "code",
   "execution_count": 16,
   "metadata": {},
   "outputs": [
    {
     "data": {
      "text/plain": [
       "(2.939960179823589, 2.1652969190866402)"
      ]
     },
     "execution_count": 16,
     "metadata": {},
     "output_type": "execute_result"
    }
   ],
   "source": [
    "entropy(ae_labels), entropy(vade_labels)"
   ]
  },
  {
   "cell_type": "code",
   "execution_count": 9,
   "metadata": {},
   "outputs": [
    {
     "data": {
      "text/plain": [
       "<matplotlib.image.AxesImage at 0x7ffacac1daf0>"
      ]
     },
     "execution_count": 9,
     "metadata": {},
     "output_type": "execute_result"
    },
    {
     "data": {
      "image/png": "[encoded data removed]",
      "text/plain": [
       "<Figure size 432x288 with 1 Axes>"
      ]
     },
     "metadata": {
      "needs_background": "light"
     },
     "output_type": "display_data"
    }
   ],
   "source": [
    "from sklearn.metrics import confusion_matrix\n",
    "from matplotlib import pyplot as plt\n",
    "\n",
    "plt.imshow(confusion_matrix(ae_labels, vade_labels))"
   ]
  }
 ],
 "metadata": {
  "kernelspec": {
   "display_name": "Python 3",
   "language": "python",
   "name": "python3"
  },
  "language_info": {
   "codemirror_mode": {
    "name": "ipython",
    "version": 3
   },
   "file_extension": ".py",
   "mimetype": "text/x-python",
   "name": "python",
   "nbconvert_exporter": "python",
   "pygments_lexer": "ipython3",
   "version": "3.8.6"
  }
 },
 "nbformat": 4,
 "nbformat_minor": 4
}
