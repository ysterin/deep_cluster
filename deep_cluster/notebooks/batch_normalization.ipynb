{
 "cells": [
  {
   "cell_type": "markdown",
   "metadata": {},
   "source": [
    "note: on VADE, when using batch norm, there \"should\" be self.eval() before the clustreing, to change the statistics to validation mode. \n",
    "BUT, when using it the entropy of the label distribution decreases dramatically (to around 1), while when not doing \"self.eval()\" the entropy depends on the batch size - the larger the batch_size, the higher the entropy. \n",
    "but, without batchnorm learning is less stable, and mse_loss on the trainig set is lower at about 0.1, as opposed to ~0.02. \n",
    "    SEE in  weights & biases:\n",
    "        no batchnorm: https://wandb.ai/shukistern/deep_cluster-deep_cluster/runs/1i3ld1lo?workspace=user-shukistern\n",
    "        with batchnorm: https://wandb.ai/shukistern/deep_cluster-deep_cluster/runs/1wr1ksxq?workspace=user-shukistern"
   ]
  }
 ],
 "metadata": {
  "kernelspec": {
   "display_name": "Python 3",
   "language": "python",
   "name": "python3"
  },
  "language_info": {
   "codemirror_mode": {
    "name": "ipython",
    "version": 3
   },
   "file_extension": ".py",
   "mimetype": "text/x-python",
   "name": "python",
   "nbconvert_exporter": "python",
   "pygments_lexer": "ipython3",
   "version": "3.8.6"
  }
 },
 "nbformat": 4,
 "nbformat_minor": 4
}
