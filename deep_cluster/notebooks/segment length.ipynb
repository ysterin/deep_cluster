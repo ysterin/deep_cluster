{
 "cells": [
  {
   "cell_type": "code",
   "execution_count": null,
   "metadata": {},
   "outputs": [],
   "source": [
    "import os\n",
    "import pickle\n",
    "import numpy as np\n",
    "import scipy as sp\n",
    "from scipy import stats\n",
    "from pathlib import Path\n",
    "from itertools import chain\n",
    "from matplotlib import pyplot as plt\n",
    "\n",
    "data_dir = Path('../models/01_13_diff')\n",
    "segments_file = data_dir / 'segments_dict.pkl'\n",
    "\n",
    "with open(segments_file, 'rb') as file:\n",
    "    segments_dict = pickle.load(file)\n",
    "    \n",
    "all_segments = list(chain(*segments_dict.values()))\n",
    "clusters = set([s[0] for s in all_segments])\n",
    "segment_lengths_by_cluster = {c: [seg[2] for seg in all_segments if seg[0] == c] for c in clusters}\n",
    "\n",
    "with open(data_dir / 'data_dict.pkl', 'rb') as file:\n",
    "    data_dict = pickle.load(file)\n"
   ]
  },
  {
   "cell_type": "code",
   "execution_count": null,
   "metadata": {},
   "outputs": [],
   "source": [
    "labels = np.load(data_dir / 'labels.np.npy')\n",
    "\n",
    "with open(data_dir / 'labels_dict.pkl', 'rb') as file:\n",
    "    labels_dict = pickle.load(file)\n",
    "print(list(labels_dict.values())[0].shape)  \n",
    "\n",
    "labels_dict = {k: np.append(np.ones(15)*(-1), v) for k, v in labels_dict.items()}\n",
    "labels_dict = {k: np.append(v, np.ones(15)*(-1)) for k, v in labels_dict.items()}\n",
    "labels_dict = {k: np.repeat(v, 4) for k, v in labels_dict.items()}\n",
    "\n",
    "list(labels_dict.values())[0][:100]"
   ]
  },
  {
   "cell_type": "code",
   "execution_count": null,
   "metadata": {},
   "outputs": [],
   "source": [
    "np.save(data_dir / 'labels_dict.npy', labels_dict, allow_pickle=True)\n",
    "np.save(data_dir / 'segment_dict.npy', segments_dict, allow_pickle=True)"
   ]
  },
  {
   "cell_type": "code",
   "execution_count": null,
   "metadata": {},
   "outputs": [],
   "source": [
    "((ds.data[2222] - ds.data.mean(axis=0))/(ds.data.std(axis=0)+1e-18)).reshape(24, 20)"
   ]
  },
  {
   "cell_type": "code",
   "execution_count": null,
   "metadata": {},
   "outputs": [],
   "source": [
    "list(data_dict.values())[0].shape"
   ]
  },
  {
   "cell_type": "code",
   "execution_count": null,
   "metadata": {},
   "outputs": [],
   "source": [
    "ncols = 5; nrows = 6\n",
    "fig, axes = plt.subplots(ncols=ncols, nrows=nrows, figsize=(24, 24))\n",
    "\n",
    "for i in range(nrows):\n",
    "    for j in range(ncols):\n",
    "        cluster_id = i*ncols + j\n",
    "        axes[i][j].hist(np.log(segment_lengths_by_cluster[cluster_id]), bins=100, log=True, density=True)"
   ]
  },
  {
   "cell_type": "code",
   "execution_count": null,
   "metadata": {},
   "outputs": [],
   "source": [
    "s, loc, scale = stats.lognorm.fit(segment_lengths_by_cluster[0], loc=0)\n",
    "xs = np.exp(np.linspace(0, 3, 1000))\n",
    "plt.plot(xs, stats.lognorm.pdf(xs, s, loc, scale))"
   ]
  },
  {
   "cell_type": "code",
   "execution_count": null,
   "metadata": {},
   "outputs": [],
   "source": [
    "ncols = 5; nrows = 6\n",
    "fig, axes = plt.subplots(ncols=ncols, nrows=nrows, figsize=(24, 24))\n",
    "\n",
    "for i in range(nrows):\n",
    "    for j in range(ncols):\n",
    "        cluster_id = i*ncols + j\n",
    "        axes[i][j].hist(np.log(segment_lengths_by_cluster[cluster_id]), bins=np.log(np.linspace(1, 1000, 100)), log=False, density=True)"
   ]
  },
  {
   "cell_type": "code",
   "execution_count": null,
   "metadata": {},
   "outputs": [],
   "source": [
    "os.listdir(data_dir)"
   ]
  },
  {
   "cell_type": "code",
   "execution_count": null,
   "metadata": {},
   "outputs": [],
   "source": [
    "with open(data_dir / 'x_encoded_dict.pkl', 'rb') as file:\n",
    "    encodings_dict = pickle.load(file)\n",
    "    \n",
    "all_encodings = np.concatenate(list(encodings_dict.values()))\n",
    "\n",
    "all_encodings.shape"
   ]
  },
  {
   "cell_type": "code",
   "execution_count": null,
   "metadata": {},
   "outputs": [],
   "source": [
    "import hmmlearn \n",
    "\n"
   ]
  }
 ],
 "metadata": {
  "kernelspec": {
   "display_name": "Python 3",
   "language": "python",
   "name": "python3"
  },
  "language_info": {
   "codemirror_mode": {
    "name": "ipython",
    "version": 3
   },
   "file_extension": ".py",
   "mimetype": "text/x-python",
   "name": "python",
   "nbconvert_exporter": "python",
   "pygments_lexer": "ipython3",
   "version": "3.8.5"
  }
 },
 "nbformat": 4,
 "nbformat_minor": 4
}
