{
 "cells": [
  {
   "cell_type": "markdown",
   "metadata": {},
   "source": [
    "## Normalization of wavelet transform\n",
    "\n",
    "Using wavelet transform as-is on the landmark coordinates as pre processing before the autoencoder creates some issues, probably \n",
    "because of the highly lopsided and not normal distribution of wavelet powers. \n",
    "one possible way to deal with that is applying logarithm to the \n",
    "transformed data, data = np.log(data + k), where k is a parameter that prevents very small numbers in 'data' from approaching -inf.\n",
    "\n",
    "Another way might be to divide the wavelet-transformed features by the sum for each tiemstep, like in <b><i>\"Mapping the stereotyped behaviour offreely moving fruit flies\"</i></b> Appendix C, and using KL or JS Divergence as a distance metric in the autoencoder itself. it is still not clear it will solve the problem, though maybe combining these way will work better - divide by sum, apply log, and use KL divergence on Softmax of the input and output as distance metric.\n",
    "\n",
    "\n",
    "In addition, we probably should rearrange the classes a bit: a WaveletDataset class that accepts some feature data and performs wavelet transformation on them.\n",
    "It should accept a list of numpy arrays with the feature data, array for each video, and do normalization etc. on all of them, perform wavelet transform, and do some post proccessing such as log and divition by sum to create probability distribution."
   ]
  },
  {
   "cell_type": "code",
   "execution_count": null,
   "metadata": {},
   "outputs": [],
   "source": [
    "import torch\n",
    "from torch import utils\n",
    "import pandas as pd\n",
    "import numpy as np\n",
    "from pathlib import Path \n",
    "from matplotlib import pyplot as plt\n",
    "from deep_cluster.dataloader import *\n",
    "pd.set_option('mode.chained_assignment', None)\n",
    "\n",
    "import os\n",
    "import re\n",
    "import numpy as np\n",
    "import scipy.signal as sig\n",
    "import pandas as pd\n",
    "\n",
    "# root directory of data\n",
    "data_root = Path(\"/home/orel/Storage/Data/K6/\")\n",
    "landmark_files = []\n",
    "for subdir in os.listdir(data_root):\n",
    "    for file in os.listdir(data_root/subdir/'Down'):\n",
    "        if re.match(r\"00\\d*DeepCut_resnet50_Down2May25shuffle1_1030000\\.h5\", file):\n",
    "            lfile = data_root/subdir/'Down'/file\n",
    "            landmark_files.append(lfile)"
   ]
  },
  {
   "cell_type": "markdown",
   "metadata": {},
   "source": [
    "here we check the response of the wavelet transform to pure sine waves, seeing that they should be normalized by the square root of the wavelet widths, in order to have equal responses.\n",
    "see https://royalsocietypublishing.org/doi/pdf/10.1098/rsif.2014.0672 appendix C."
   ]
  },
  {
   "cell_type": "code",
   "execution_count": 73,
   "metadata": {},
   "outputs": [
    {
     "data": {
      "text/plain": [
       "array([0.99757587, 0.99757368, 0.9975707 , 0.99756569, 0.99756039,\n",
       "       0.99755211, 0.99754449, 0.99753642, 0.99752381, 0.99751019,\n",
       "       0.99749227, 0.99747104, 0.99744491, 0.99741315, 0.99737417,\n",
       "       0.99732675, 0.99726884, 0.99719827, 0.99711193, 0.99700652,\n",
       "       0.99687784, 0.99672071, 0.99652894, 0.9962949 , 0.99600911])"
      ]
     },
     "execution_count": 73,
     "metadata": {},
     "output_type": "execute_result"
    }
   ],
   "source": [
    "def calc_wavelet_transform(feature_data, min_width=12, max_width=120, n_waves=25):\n",
    "    wavelet_widths = np.logspace(np.log10(min_width), np.log10(max_width), n_waves)\n",
    "    transformed = sig.cwt(feature_data, sig.morlet2, widths=wavelet_widths)\n",
    "    transformed /= np.sqrt(wavelet_widths[:,np.newaxis])\n",
    "#     import pdb; pdb.set_trace()\n",
    "    return np.abs(transformed)\n",
    "\n",
    "omega0 = 5\n",
    "min_width=1; max_width=120; n_waves=25;\n",
    "wavelet_widths = np.logspace(np.log10(min_width), np.log10(max_width), n_waves)\n",
    "wavelet_timescales = wavelet_widths / 60\n",
    "\n",
    "wavelet_freqs = (omega0 + np.sqrt(2 + omega0**2)) / (4 * np.pi * wavelet_timescales)\n",
    "T = 1000\n",
    "sine_waves = np.exp(np.linspace(np.zeros_like(wavelet_freqs), 2j * T * np.pi * wavelet_freqs, 60*T))\n",
    "\n",
    "transformed = np.stack([sig.cwt(sine_waves[:,i], sig.morlet2, widths=wavelet_widths[i:i+1]) for i in range(n_waves)])\n",
    "c_s = (np.pi**(-1/4) / (np.sqrt(2 * wavelet_widths)) ) * np.exp(0.25 / (omega0 + np.sqrt(2 + omega0**2))**2)\n",
    "np.abs(transformed).mean(axis=(1,2)) * c_s"
   ]
  },
  {
   "cell_type": "markdown",
   "metadata": {},
   "source": [
    "## TODO:  \n",
    "Try using square root to normalize the wavelets, see how it affects  kurtosis and histogram."
   ]
  },
  {
   "cell_type": "code",
   "execution_count": 130,
   "metadata": {},
   "outputs": [],
   "source": [
    "def calc_wavelet_transform(feature_data, min_width=12, max_width=120, n_waves=25):\n",
    "    wavelet_widths = np.logspace(np.log10(min_width), np.log10(max_width), n_waves)\n",
    "    transformed = sig.cwt(feature_data, sig.morlet2, widths=wavelet_widths)\n",
    "    transformed /= np.sqrt(wavelet_widths[:,np.newaxis])\n",
    "#     import pdb; pdb.set_trace()\n",
    "    return np.abs(transformed)\n",
    "\n",
    "# A dataset of landmarks\n",
    "# args: landmarks file: .h5 file of landmarks, from DeepLabCut\n",
    "class LandmarkWaveletDataset(utils.data.Dataset):\n",
    "    def __init__(self, landmarks_file, normalize=True, data=None, eps=3e-2):\n",
    "        super(LandmarkWaveletDataset, self).__init__()\n",
    "        self.file = landmarks_file\n",
    "        self.normalize = normalize\n",
    "        self.landmarks = LandmarkDataset(self.file, normalize)\n",
    "        if data is None:\n",
    "            coords = sig.decimate(self.landmarks.coords, q=4, axis=0)\n",
    "            coords -= coords.mean(axis=0)\n",
    "            coords = coords.reshape((len(coords), -1))\n",
    "            self.data = [calc_wavelet_transform(feat_data, min_width=2, max_width=60, n_waves=20) for feat_data in coords.T]\n",
    "            self.data = np.concatenate(self.data, axis=0).T\n",
    "#             self.data = np.sqrt(self.data)\n",
    "#             self.data = np.log(self.data + eps) + 2\n",
    "        else:\n",
    "            self.data = data\n",
    "        \n",
    "    def __getitem__(self, idx):\n",
    "        if isinstance(idx, slice):\n",
    "            return LandmarkWaveletDataset(self.file, self.normalize, data=self.data[idx])\n",
    "        return self.data[idx]\n",
    "    \n",
    "    def __len__(self):\n",
    "        return self.data.shape[0]\n"
   ]
  },
  {
   "cell_type": "code",
   "execution_count": 131,
   "metadata": {},
   "outputs": [],
   "source": [
    "dsets = [LandmarkWaveletDataset(landmark_files[i]) for i in range(3)]"
   ]
  },
  {
   "cell_type": "code",
   "execution_count": 167,
   "metadata": {},
   "outputs": [
    {
     "data": {
      "text/plain": [
       "<matplotlib.image.AxesImage at 0x7fae0d3c17f0>"
      ]
     },
     "execution_count": 167,
     "metadata": {},
     "output_type": "execute_result"
    },
    {
     "data": {
      "image/png": "[encoded data removed]",
      "text/plain": [
       "<Figure size 432x288 with 1 Axes>"
      ]
     },
     "metadata": {
      "needs_background": "light"
     },
     "output_type": "display_data"
    }
   ],
   "source": [
    "ds = dsets[0]\n",
    "plt.imshow((ds.data / (ds.data.sum(axis=1, keepdims=True))).mean(axis=0).reshape(24, 20))"
   ]
  },
  {
   "cell_type": "code",
   "execution_count": 161,
   "metadata": {},
   "outputs": [
    {
     "data": {
      "text/plain": [
       "[<matplotlib.lines.Line2D at 0x7fae0dd10e80>]"
      ]
     },
     "execution_count": 161,
     "metadata": {},
     "output_type": "execute_result"
    },
    {
     "data": {
      "image/png": "[encoded data removed]",
      "text/plain": [
       "<Figure size 432x288 with 1 Axes>"
      ]
     },
     "metadata": {
      "needs_background": "light"
     },
     "output_type": "display_data"
    }
   ],
   "source": [
    "plt.plot(ds.data.mean(axis=0).reshape(24, 20).mean(axis=0))\n",
    "plt.plot(ds.data.std(axis=0).reshape(24, 20).mean(axis=0))"
   ]
  },
  {
   "cell_type": "code",
   "execution_count": 79,
   "metadata": {},
   "outputs": [
    {
     "data": {
      "text/plain": [
       "[<matplotlib.lines.Line2D at 0x7f04358b9190>]"
      ]
     },
     "execution_count": 79,
     "metadata": {},
     "output_type": "execute_result"
    },
    {
     "data": {
      "image/png": "[encoded data removed]",
      "text/plain": [
       "<Figure size 432x288 with 1 Axes>"
      ]
     },
     "metadata": {
      "needs_background": "light"
     },
     "output_type": "display_data"
    }
   ],
   "source": [
    "# with division by wavelet_width \n",
    "\n",
    "plt.plot(ds.data.mean(axis=0).reshape(24, 20).mean(axis=0))\n",
    "plt.plot(ds.data.std(axis=0).reshape(24, 20).mean(axis=0))"
   ]
  },
  {
   "cell_type": "code",
   "execution_count": 83,
   "metadata": {},
   "outputs": [
    {
     "data": {
      "text/plain": [
       "1"
      ]
     },
     "execution_count": 83,
     "metadata": {},
     "output_type": "execute_result"
    },
    {
     "data": {
      "image/png": "[encoded data removed]",
      "text/plain": [
       "<Figure size 432x288 with 1 Axes>"
      ]
     },
     "metadata": {
      "needs_background": "light"
     },
     "output_type": "display_data"
    }
   ],
   "source": [
    "lg = False\n",
    "plt.hist(ds.data.flatten(), bins=200, log=lg, alpha=0.5)\n",
    "# plt.hist(np.random.laplace(loc=data.mean(), scale=np.abs(data-data.mean()).mean(), size=len(data.flatten())), log=lg, alpha=0.5, bins=200)\n",
    "plt.hist(np.random.normal(loc=ds.data.mean(), scale=ds.data.std(), size=len(ds.data.flatten())), log=lg, alpha=0.5, bins=200)\n",
    "plt.ylim((0, 2e6))\n",
    "1"
   ]
  },
  {
   "cell_type": "code",
   "execution_count": 160,
   "metadata": {},
   "outputs": [
    {
     "data": {
      "text/plain": [
       "1"
      ]
     },
     "execution_count": 160,
     "metadata": {},
     "output_type": "execute_result"
    },
    {
     "data": {
      "image/png": "[encoded data removed]",
      "text/plain": [
       "<Figure size 432x288 with 1 Axes>"
      ]
     },
     "metadata": {
      "needs_background": "light"
     },
     "output_type": "display_data"
    }
   ],
   "source": [
    "lg = False\n",
    "plt.hist(data, bins=200, log=lg, alpha=0.5)\n",
    "# plt.hist(np.random.laplace(loc=data.mean(), scale=np.abs(data-data.mean()).mean(), size=len(data.flatten())), log=lg, alpha=0.5, bins=200)\n",
    "plt.hist(np.random.normal(loc=data.mean(), scale=data.std(), size=len(data.flatten())), log=lg, alpha=0.5, bins=200)\n",
    "plt.ylim((0, 2e6))\n",
    "1"
   ]
  },
  {
   "cell_type": "code",
   "execution_count": 157,
   "metadata": {},
   "outputs": [
    {
     "data": {
      "text/plain": [
       "(0.2546493009972952,\n",
       " 0.40226192731401716,\n",
       " 1.0062622614393086,\n",
       " -12.318450975144236)"
      ]
     },
     "execution_count": 157,
     "metadata": {},
     "output_type": "execute_result"
    },
    {
     "data": {
      "image/png": "[encoded data removed]",
      "text/plain": [
       "<Figure size 432x288 with 1 Axes>"
      ]
     },
     "metadata": {
      "needs_background": "light"
     },
     "output_type": "display_data"
    }
   ],
   "source": [
    "from scipy import stats\n",
    "ds = dsets[-1]\n",
    "data = ds.data / (ds.data.sum(axis=0) + 1e-7)\n",
    "data = np.log(data.flatten()+1e-6)\n",
    "plt.hist(data, bins=1000, log=True)\n",
    "stats.kurtosis(data), stats.skew(data), data.std(), data.mean()"
   ]
  },
  {
   "cell_type": "code",
   "execution_count": 10,
   "metadata": {},
   "outputs": [
    {
     "data": {
      "text/plain": [
       "array(['nose', 'neck', 'forepawR', 'forePawL', 'chest', 'belly',\n",
       "       'hindpawR', 'hindpawL', 'tailbase', 'tail1', 'tail2', 'tail3'],\n",
       "      dtype=object)"
      ]
     },
     "execution_count": 10,
     "metadata": {},
     "output_type": "execute_result"
    }
   ],
   "source": [
    "extract_coords(landmark_files[2])"
   ]
  }
 ],
 "metadata": {
  "kernelspec": {
   "display_name": "Python 3",
   "language": "python",
   "name": "python3"
  },
  "language_info": {
   "codemirror_mode": {
    "name": "ipython",
    "version": 3
   },
   "file_extension": ".py",
   "mimetype": "text/x-python",
   "name": "python",
   "nbconvert_exporter": "python",
   "pygments_lexer": "ipython3",
   "version": "3.8.6"
  }
 },
 "nbformat": 4,
 "nbformat_minor": 4
}
