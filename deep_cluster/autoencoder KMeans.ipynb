{
 "cells": [
  {
   "cell_type": "code",
   "execution_count": 4,
   "metadata": {},
   "outputs": [],
   "source": [
    "import numpy as np\n",
    "import torch\n",
    "from torch import utils\n",
    "import pandas as pd\n",
    "from torch.utils.data import DataLoader, Dataset, ConcatDataset\n",
    "from torch import nn \n",
    "from torch.nn import functional as F\n",
    "import pytorch_lightning as pl\n",
    "from matplotlib import cm\n",
    "from matplotlib import pyplot as plt\n",
    "import matplotlib.patches as mpatches\n",
    "from scipy import signal as sig\n",
    "import os\n",
    "from pathlib import Path\n",
    "import re\n",
    "from torch.utils import data\n",
    "import random\n",
    "import pandas as pd\n",
    "import pickle\n",
    "import numpy as np\n",
    "from pathlib import Path\n",
    "from dataloader import LandmarkDataset, SequenceDataset, LandmarkWaveletDataset\n",
    "from sklearn.cluster import KMeans\n",
    "from sklearn.manifold import TSNE\n",
    "from sklearn.metrics import normalized_mutual_info_score, confusion_matrix, accuracy_score\n",
    "\n",
    "pd.set_option('mode.chained_assignment', None)\n",
    "plt.rcParams['svg.fonttype'] = 'none'"
   ]
  },
  {
   "cell_type": "code",
   "execution_count": 5,
   "metadata": {},
   "outputs": [
    {
     "data": {
      "text/plain": [
       "<torch._C.Generator at 0x7f2f18012670>"
      ]
     },
     "execution_count": 5,
     "metadata": {},
     "output_type": "execute_result"
    }
   ],
   "source": [
    "SEED = 42\n",
    "\n",
    "random.seed(SEED)\n",
    "np.random.seed(SEED)\n",
    "torch.random.manual_seed(SEED)"
   ]
  },
  {
   "cell_type": "markdown",
   "metadata": {},
   "source": [
    "find landmark files"
   ]
  },
  {
   "cell_type": "code",
   "execution_count": 6,
   "metadata": {},
   "outputs": [
    {
     "data": {
      "text/plain": [
       "[PosixPath('/home/orel/Storage/Data/K7/2020-08-10/Down/0041DeepCut_resnet50_allFeb7shuffle1_1030000.h5'),\n",
       " PosixPath('/home/orel/Storage/Data/K7/2020-08-04/Down/0037DeepCut_resnet50_allFeb7shuffle1_1030000.h5'),\n",
       " PosixPath('/home/orel/Storage/Data/K7/2020-08-16/Down/0047DeepCut_resnet50_allFeb7shuffle1_1030000.h5'),\n",
       " PosixPath('/home/orel/Storage/Data/K7/2020-08-12/Down/0044DeepCut_resnet50_allFeb7shuffle1_1030000.h5'),\n",
       " PosixPath('/home/orel/Storage/Data/K7/2020-08-13/Down/0045DeepCut_resnet50_allFeb7shuffle1_1030000.h5'),\n",
       " PosixPath('/home/orel/Storage/Data/K7/2020-08-06/Down/0039DeepCut_resnet50_allFeb7shuffle1_1030000.h5'),\n",
       " PosixPath('/home/orel/Storage/Data/K7/2020-08-05/Down/0038DeepCut_resnet50_allFeb7shuffle1_1030000.h5')]"
      ]
     },
     "execution_count": 6,
     "metadata": {},
     "output_type": "execute_result"
    }
   ],
   "source": [
    "data_root = Path('/home/orel/Storage/Data/K7')\n",
    "\n",
    "landmark_files = list(data_root.glob('2020-*/Down/*DeepCut*.h5'))\n",
    "landmark_files"
   ]
  },
  {
   "cell_type": "markdown",
   "metadata": {},
   "source": [
    "# Training the autoencoder\n",
    "\n",
    "create and train autoencoder model"
   ]
  },
  {
   "cell_type": "code",
   "execution_count": 4,
   "metadata": {},
   "outputs": [
    {
     "name": "stdout",
     "output_type": "stream",
     "text": [
      "Sun Apr 25 16:33:50 2021       \n",
      "+-----------------------------------------------------------------------------+\n",
      "| NVIDIA-SMI 450.66       Driver Version: 450.66       CUDA Version: 11.0     |\n",
      "|-------------------------------+----------------------+----------------------+\n",
      "| GPU  Name        Persistence-M| Bus-Id        Disp.A | Volatile Uncorr. ECC |\n",
      "| Fan  Temp  Perf  Pwr:Usage/Cap|         Memory-Usage | GPU-Util  Compute M. |\n",
      "|                               |                      |               MIG M. |\n",
      "|===============================+======================+======================|\n",
      "|   0  TITAN Xp            Off  | 00000000:01:00.0  On |                  N/A |\n",
      "| 23%   32C    P5    25W / 250W |   1016MiB / 12194MiB |      3%      Default |\n",
      "|                               |                      |                  N/A |\n",
      "+-------------------------------+----------------------+----------------------+\n",
      "                                                                               \n",
      "+-----------------------------------------------------------------------------+\n",
      "| Processes:                                                                  |\n",
      "|  GPU   GI   CI        PID   Type   Process name                  GPU Memory |\n",
      "|        ID   ID                                                   Usage      |\n",
      "|=============================================================================|\n",
      "|    0   N/A  N/A      1401      G   /usr/lib/xorg/Xorg                 18MiB |\n",
      "|    0   N/A  N/A      1442      G   /usr/bin/gnome-shell               14MiB |\n",
      "|    0   N/A  N/A      3247      G   /usr/lib/firefox/firefox            3MiB |\n",
      "|    0   N/A  N/A      7725      C   ...dlc-ubuntu-GPU/bin/python      147MiB |\n",
      "|    0   N/A  N/A      9540      G   /usr/lib/firefox/firefox            3MiB |\n",
      "|    0   N/A  N/A      9815      G   /usr/lib/xorg/Xorg                145MiB |\n",
      "|    0   N/A  N/A      9946      G   /usr/bin/gnome-shell              116MiB |\n",
      "|    0   N/A  N/A     11230      G   /usr/lib/firefox/firefox            3MiB |\n",
      "|    0   N/A  N/A     15857      G   /usr/lib/xorg/Xorg                 42MiB |\n",
      "|    0   N/A  N/A     15943      G   /usr/bin/gnome-shell              215MiB |\n",
      "|    0   N/A  N/A     16525      C   ...dlc-ubuntu-GPU/bin/python      147MiB |\n",
      "|    0   N/A  N/A     19238      C   ...dlc-ubuntu-GPU/bin/python      147MiB |\n",
      "|    0   N/A  N/A     26169      G   /usr/lib/firefox/firefox            3MiB |\n",
      "+-----------------------------------------------------------------------------+\n"
     ]
    }
   ],
   "source": [
    "!nvidia-smi"
   ]
  },
  {
   "cell_type": "code",
   "execution_count": 12,
   "metadata": {},
   "outputs": [
    {
     "data": {
      "text/html": [
       "<div>\n",
       "<style scoped>\n",
       "    .dataframe tbody tr th:only-of-type {\n",
       "        vertical-align: middle;\n",
       "    }\n",
       "\n",
       "    .dataframe tbody tr th {\n",
       "        vertical-align: top;\n",
       "    }\n",
       "\n",
       "    .dataframe thead tr th {\n",
       "        text-align: left;\n",
       "    }\n",
       "\n",
       "    .dataframe thead tr:last-of-type th {\n",
       "        text-align: right;\n",
       "    }\n",
       "</style>\n",
       "<table border=\"1\" class=\"dataframe\">\n",
       "  <thead>\n",
       "    <tr>\n",
       "      <th>bodyparts</th>\n",
       "      <th colspan=\"2\" halign=\"left\">nose</th>\n",
       "      <th colspan=\"2\" halign=\"left\">forepawR1</th>\n",
       "      <th colspan=\"2\" halign=\"left\">forePawL1</th>\n",
       "      <th colspan=\"2\" halign=\"left\">hindpawR1</th>\n",
       "      <th colspan=\"2\" halign=\"left\">hindpawL1</th>\n",
       "      <th colspan=\"2\" halign=\"left\">tailbase</th>\n",
       "    </tr>\n",
       "    <tr>\n",
       "      <th>coords</th>\n",
       "      <th>x</th>\n",
       "      <th>y</th>\n",
       "      <th>x</th>\n",
       "      <th>y</th>\n",
       "      <th>x</th>\n",
       "      <th>y</th>\n",
       "      <th>x</th>\n",
       "      <th>y</th>\n",
       "      <th>x</th>\n",
       "      <th>y</th>\n",
       "      <th>x</th>\n",
       "      <th>y</th>\n",
       "    </tr>\n",
       "    <tr>\n",
       "      <th>index</th>\n",
       "      <th></th>\n",
       "      <th></th>\n",
       "      <th></th>\n",
       "      <th></th>\n",
       "      <th></th>\n",
       "      <th></th>\n",
       "      <th></th>\n",
       "      <th></th>\n",
       "      <th></th>\n",
       "      <th></th>\n",
       "      <th></th>\n",
       "      <th></th>\n",
       "    </tr>\n",
       "  </thead>\n",
       "  <tbody>\n",
       "    <tr>\n",
       "      <th>0</th>\n",
       "      <td>0.823074</td>\n",
       "      <td>-1.894159e-09</td>\n",
       "      <td>0.116061</td>\n",
       "      <td>-0.234357</td>\n",
       "      <td>1.121575</td>\n",
       "      <td>-0.512579</td>\n",
       "      <td>0.268367</td>\n",
       "      <td>-0.705909</td>\n",
       "      <td>-1.073247</td>\n",
       "      <td>-0.741214</td>\n",
       "      <td>0.0</td>\n",
       "      <td>0.0</td>\n",
       "    </tr>\n",
       "    <tr>\n",
       "      <th>1</th>\n",
       "      <td>0.818728</td>\n",
       "      <td>-1.894159e-09</td>\n",
       "      <td>0.043461</td>\n",
       "      <td>-0.189675</td>\n",
       "      <td>1.081856</td>\n",
       "      <td>-0.497569</td>\n",
       "      <td>0.370245</td>\n",
       "      <td>-0.747215</td>\n",
       "      <td>-1.096467</td>\n",
       "      <td>-0.699316</td>\n",
       "      <td>0.0</td>\n",
       "      <td>0.0</td>\n",
       "    </tr>\n",
       "    <tr>\n",
       "      <th>2</th>\n",
       "      <td>0.814586</td>\n",
       "      <td>-1.894159e-09</td>\n",
       "      <td>-0.021271</td>\n",
       "      <td>-0.151640</td>\n",
       "      <td>1.045056</td>\n",
       "      <td>-0.486174</td>\n",
       "      <td>0.461796</td>\n",
       "      <td>-0.782759</td>\n",
       "      <td>-1.119082</td>\n",
       "      <td>-0.661239</td>\n",
       "      <td>0.0</td>\n",
       "      <td>0.0</td>\n",
       "    </tr>\n",
       "    <tr>\n",
       "      <th>3</th>\n",
       "      <td>0.810540</td>\n",
       "      <td>1.757412e-07</td>\n",
       "      <td>-0.071152</td>\n",
       "      <td>-0.123949</td>\n",
       "      <td>1.013729</td>\n",
       "      <td>-0.480955</td>\n",
       "      <td>0.534270</td>\n",
       "      <td>-0.812357</td>\n",
       "      <td>-1.140226</td>\n",
       "      <td>-0.630069</td>\n",
       "      <td>0.0</td>\n",
       "      <td>0.0</td>\n",
       "    </tr>\n",
       "    <tr>\n",
       "      <th>4</th>\n",
       "      <td>0.806681</td>\n",
       "      <td>-1.894159e-09</td>\n",
       "      <td>-0.101240</td>\n",
       "      <td>-0.108957</td>\n",
       "      <td>0.989613</td>\n",
       "      <td>-0.483910</td>\n",
       "      <td>0.582362</td>\n",
       "      <td>-0.837186</td>\n",
       "      <td>-1.159217</td>\n",
       "      <td>-0.608016</td>\n",
       "      <td>0.0</td>\n",
       "      <td>0.0</td>\n",
       "    </tr>\n",
       "    <tr>\n",
       "      <th>...</th>\n",
       "      <td>...</td>\n",
       "      <td>...</td>\n",
       "      <td>...</td>\n",
       "      <td>...</td>\n",
       "      <td>...</td>\n",
       "      <td>...</td>\n",
       "      <td>...</td>\n",
       "      <td>...</td>\n",
       "      <td>...</td>\n",
       "      <td>...</td>\n",
       "      <td>...</td>\n",
       "      <td>...</td>\n",
       "    </tr>\n",
       "    <tr>\n",
       "      <th>224948</th>\n",
       "      <td>-0.772584</td>\n",
       "      <td>1.419189e-06</td>\n",
       "      <td>-0.666268</td>\n",
       "      <td>-1.915560</td>\n",
       "      <td>-0.140949</td>\n",
       "      <td>-1.659792</td>\n",
       "      <td>0.798745</td>\n",
       "      <td>-1.830968</td>\n",
       "      <td>-0.934285</td>\n",
       "      <td>-1.695197</td>\n",
       "      <td>0.0</td>\n",
       "      <td>0.0</td>\n",
       "    </tr>\n",
       "    <tr>\n",
       "      <th>224949</th>\n",
       "      <td>-0.771672</td>\n",
       "      <td>-1.894159e-09</td>\n",
       "      <td>-0.658877</td>\n",
       "      <td>-1.911152</td>\n",
       "      <td>-0.136538</td>\n",
       "      <td>-1.647309</td>\n",
       "      <td>0.814165</td>\n",
       "      <td>-1.811773</td>\n",
       "      <td>-0.921125</td>\n",
       "      <td>-1.698221</td>\n",
       "      <td>0.0</td>\n",
       "      <td>0.0</td>\n",
       "    </tr>\n",
       "    <tr>\n",
       "      <th>224950</th>\n",
       "      <td>-0.774125</td>\n",
       "      <td>2.840272e-06</td>\n",
       "      <td>-0.648013</td>\n",
       "      <td>-1.910781</td>\n",
       "      <td>-0.131188</td>\n",
       "      <td>-1.631256</td>\n",
       "      <td>0.838413</td>\n",
       "      <td>-1.792878</td>\n",
       "      <td>-0.901118</td>\n",
       "      <td>-1.712430</td>\n",
       "      <td>0.0</td>\n",
       "      <td>0.0</td>\n",
       "    </tr>\n",
       "    <tr>\n",
       "      <th>224951</th>\n",
       "      <td>-0.779159</td>\n",
       "      <td>-1.422977e-06</td>\n",
       "      <td>-0.634006</td>\n",
       "      <td>-1.913590</td>\n",
       "      <td>-0.125129</td>\n",
       "      <td>-1.612124</td>\n",
       "      <td>0.870017</td>\n",
       "      <td>-1.775527</td>\n",
       "      <td>-0.875261</td>\n",
       "      <td>-1.735677</td>\n",
       "      <td>0.0</td>\n",
       "      <td>0.0</td>\n",
       "    </tr>\n",
       "    <tr>\n",
       "      <th>224952</th>\n",
       "      <td>-0.785448</td>\n",
       "      <td>-1.422977e-06</td>\n",
       "      <td>-0.617816</td>\n",
       "      <td>-1.917902</td>\n",
       "      <td>-0.118663</td>\n",
       "      <td>-1.590972</td>\n",
       "      <td>0.906112</td>\n",
       "      <td>-1.759149</td>\n",
       "      <td>-0.845710</td>\n",
       "      <td>-1.763671</td>\n",
       "      <td>0.0</td>\n",
       "      <td>0.0</td>\n",
       "    </tr>\n",
       "  </tbody>\n",
       "</table>\n",
       "<p>224953 rows × 12 columns</p>\n",
       "</div>"
      ],
      "text/plain": [
       "bodyparts      nose               forepawR1           forePawL1            \\\n",
       "coords            x             y         x         y         x         y   \n",
       "index                                                                       \n",
       "0          0.823074 -1.894159e-09  0.116061 -0.234357  1.121575 -0.512579   \n",
       "1          0.818728 -1.894159e-09  0.043461 -0.189675  1.081856 -0.497569   \n",
       "2          0.814586 -1.894159e-09 -0.021271 -0.151640  1.045056 -0.486174   \n",
       "3          0.810540  1.757412e-07 -0.071152 -0.123949  1.013729 -0.480955   \n",
       "4          0.806681 -1.894159e-09 -0.101240 -0.108957  0.989613 -0.483910   \n",
       "...             ...           ...       ...       ...       ...       ...   \n",
       "224948    -0.772584  1.419189e-06 -0.666268 -1.915560 -0.140949 -1.659792   \n",
       "224949    -0.771672 -1.894159e-09 -0.658877 -1.911152 -0.136538 -1.647309   \n",
       "224950    -0.774125  2.840272e-06 -0.648013 -1.910781 -0.131188 -1.631256   \n",
       "224951    -0.779159 -1.422977e-06 -0.634006 -1.913590 -0.125129 -1.612124   \n",
       "224952    -0.785448 -1.422977e-06 -0.617816 -1.917902 -0.118663 -1.590972   \n",
       "\n",
       "bodyparts hindpawR1           hindpawL1           tailbase       \n",
       "coords            x         y         x         y        x    y  \n",
       "index                                                            \n",
       "0          0.268367 -0.705909 -1.073247 -0.741214      0.0  0.0  \n",
       "1          0.370245 -0.747215 -1.096467 -0.699316      0.0  0.0  \n",
       "2          0.461796 -0.782759 -1.119082 -0.661239      0.0  0.0  \n",
       "3          0.534270 -0.812357 -1.140226 -0.630069      0.0  0.0  \n",
       "4          0.582362 -0.837186 -1.159217 -0.608016      0.0  0.0  \n",
       "...             ...       ...       ...       ...      ...  ...  \n",
       "224948     0.798745 -1.830968 -0.934285 -1.695197      0.0  0.0  \n",
       "224949     0.814165 -1.811773 -0.921125 -1.698221      0.0  0.0  \n",
       "224950     0.838413 -1.792878 -0.901118 -1.712430      0.0  0.0  \n",
       "224951     0.870017 -1.775527 -0.875261 -1.735677      0.0  0.0  \n",
       "224952     0.906112 -1.759149 -0.845710 -1.763671      0.0  0.0  \n",
       "\n",
       "[224953 rows x 12 columns]"
      ]
     },
     "execution_count": 12,
     "metadata": {},
     "output_type": "execute_result"
    }
   ],
   "source": [
    "dm.data_frames[0]"
   ]
  },
  {
   "cell_type": "code",
   "execution_count": 10,
   "metadata": {},
   "outputs": [
    {
     "name": "stderr",
     "output_type": "stream",
     "text": [
      "GPU available: True, used: True\n",
      "TPU available: None, using: 0 TPU cores\n",
      "LOCAL_RANK: 0 - CUDA_VISIBLE_DEVICES: [0]\n"
     ]
    }
   ],
   "source": [
    "from simple_autoencoder import Autoencoder, PLAutoencoder\n",
    "from dataloader import LandmarksDataModule\n",
    "seqlen = 60\n",
    "to_drop = ['head', 'forepawR2', 'forePawL2', 'chest1', 'chest2', 'belly1', 'belly2', 'hindpawR2', \n",
    "           'hindpawR3', 'hindpawL2', 'hindpawL3', 'tail1', 'tail2','tail3']\n",
    "dm = LandmarksDataModule(landmark_files, seqlen=seqlen, step=3, to_drop=to_drop)\n",
    "dm.prepare_data()\n",
    "n_parts = len(dm.data_frames[0].columns.levels[0])\n",
    "model = PLAutoencoder(landmark_files, n_neurons=[2*n_parts*seqlen, 1024, 512, 30], lr=3e-4, patience=20, dropout=0.0)\n",
    "trainer = pl.Trainer(gpus=1, progress_bar_refresh_rate=10, max_epochs=20, logger=pl.loggers.WandbLogger(\"landmarks autoencoder\"), log_every_n_steps=1)\n",
    "# trainer.fit(model)"
   ]
  },
  {
   "cell_type": "code",
   "execution_count": 13,
   "metadata": {},
   "outputs": [
    {
     "name": "stderr",
     "output_type": "stream",
     "text": [
      "\u001b[34m\u001b[1mwandb\u001b[0m: Currently logged in as: \u001b[33mshukistern\u001b[0m (use `wandb login --relogin` to force relogin)\n",
      "\u001b[34m\u001b[1mwandb\u001b[0m: wandb version 0.10.27 is available!  To upgrade, please run:\n",
      "\u001b[34m\u001b[1mwandb\u001b[0m:  $ pip install wandb --upgrade\n"
     ]
    },
    {
     "data": {
      "text/html": [
       "\n",
       "                Tracking run with wandb version 0.10.8<br/>\n",
       "                Syncing run <strong style=\"color:#cdcd00\">landmarks autoencoder</strong> to <a href=\"https://wandb.ai\" target=\"_blank\">Weights & Biases</a> <a href=\"https://docs.wandb.com/integrations/jupyter.html\" target=\"_blank\">(Documentation)</a>.<br/>\n",
       "                Project page: <a href=\"https://wandb.ai/shukistern/deep_cluster-deep_cluster\" target=\"_blank\">https://wandb.ai/shukistern/deep_cluster-deep_cluster</a><br/>\n",
       "                Run page: <a href=\"https://wandb.ai/shukistern/deep_cluster-deep_cluster/runs/14y6k4be\" target=\"_blank\">https://wandb.ai/shukistern/deep_cluster-deep_cluster/runs/14y6k4be</a><br/>\n",
       "                Run data is saved locally in <code>wandb/run-20210427_161255-14y6k4be</code><br/><br/>\n",
       "            "
      ],
      "text/plain": [
       "<IPython.core.display.HTML object>"
      ]
     },
     "metadata": {},
     "output_type": "display_data"
    },
    {
     "name": "stderr",
     "output_type": "stream",
     "text": [
      "\n",
      "  | Name  | Type        | Params\n",
      "--------------------------------------\n",
      "0 | model | Autoencoder | 2.6 M \n",
      "--------------------------------------\n",
      "2.6 M     Trainable params\n",
      "0         Non-trainable params\n",
      "2.6 M     Total params\n",
      "/home/shuki/anaconda3/envs/torch/lib/python3.8/site-packages/pytorch_lightning/utilities/distributed.py:50: UserWarning: The dataloader, val dataloader 0, does not have many workers which may be a bottleneck. Consider increasing the value of the `num_workers` argument` (try 8 which is the number of cpus on this machine) in the `DataLoader` init to improve performance.\n",
      "  warnings.warn(*args, **kwargs)\n"
     ]
    },
    {
     "data": {
      "application/vnd.jupyter.widget-view+json": {
       "model_id": "f23fb44b87d4428fb8b8a835175687d7",
       "version_major": 2,
       "version_minor": 0
      },
      "text/plain": [
       "Validation sanity check: 0it [00:00, ?it/s]"
      ]
     },
     "metadata": {},
     "output_type": "display_data"
    },
    {
     "name": "stderr",
     "output_type": "stream",
     "text": [
      "/home/shuki/anaconda3/envs/torch/lib/python3.8/site-packages/pytorch_lightning/utilities/distributed.py:50: UserWarning: The dataloader, train dataloader, does not have many workers which may be a bottleneck. Consider increasing the value of the `num_workers` argument` (try 8 which is the number of cpus on this machine) in the `DataLoader` init to improve performance.\n",
      "  warnings.warn(*args, **kwargs)\n"
     ]
    },
    {
     "data": {
      "application/vnd.jupyter.widget-view+json": {
       "model_id": "7bc17f4347ce424bbc9aa96e955b017f",
       "version_major": 2,
       "version_minor": 0
      },
      "text/plain": [
       "Training: 0it [00:00, ?it/s]"
      ]
     },
     "metadata": {},
     "output_type": "display_data"
    },
    {
     "data": {
      "application/vnd.jupyter.widget-view+json": {
       "model_id": "",
       "version_major": 2,
       "version_minor": 0
      },
      "text/plain": [
       "Validating: 0it [00:00, ?it/s]"
      ]
     },
     "metadata": {},
     "output_type": "display_data"
    },
    {
     "name": "stderr",
     "output_type": "stream",
     "text": [
      "/home/shuki/anaconda3/envs/torch/lib/python3.8/site-packages/torch/optim/lr_scheduler.py:216: UserWarning: Please also save or load the state of the optimizer when saving or loading the scheduler.\n",
      "  warnings.warn(SAVE_STATE_WARNING, UserWarning)\n"
     ]
    },
    {
     "data": {
      "application/vnd.jupyter.widget-view+json": {
       "model_id": "",
       "version_major": 2,
       "version_minor": 0
      },
      "text/plain": [
       "Validating: 0it [00:00, ?it/s]"
      ]
     },
     "metadata": {},
     "output_type": "display_data"
    },
    {
     "data": {
      "application/vnd.jupyter.widget-view+json": {
       "model_id": "",
       "version_major": 2,
       "version_minor": 0
      },
      "text/plain": [
       "Validating: 0it [00:00, ?it/s]"
      ]
     },
     "metadata": {},
     "output_type": "display_data"
    },
    {
     "data": {
      "application/vnd.jupyter.widget-view+json": {
       "model_id": "",
       "version_major": 2,
       "version_minor": 0
      },
      "text/plain": [
       "Validating: 0it [00:00, ?it/s]"
      ]
     },
     "metadata": {},
     "output_type": "display_data"
    },
    {
     "data": {
      "application/vnd.jupyter.widget-view+json": {
       "model_id": "",
       "version_major": 2,
       "version_minor": 0
      },
      "text/plain": [
       "Validating: 0it [00:00, ?it/s]"
      ]
     },
     "metadata": {},
     "output_type": "display_data"
    },
    {
     "data": {
      "application/vnd.jupyter.widget-view+json": {
       "model_id": "",
       "version_major": 2,
       "version_minor": 0
      },
      "text/plain": [
       "Validating: 0it [00:00, ?it/s]"
      ]
     },
     "metadata": {},
     "output_type": "display_data"
    },
    {
     "data": {
      "application/vnd.jupyter.widget-view+json": {
       "model_id": "",
       "version_major": 2,
       "version_minor": 0
      },
      "text/plain": [
       "Validating: 0it [00:00, ?it/s]"
      ]
     },
     "metadata": {},
     "output_type": "display_data"
    },
    {
     "data": {
      "application/vnd.jupyter.widget-view+json": {
       "model_id": "",
       "version_major": 2,
       "version_minor": 0
      },
      "text/plain": [
       "Validating: 0it [00:00, ?it/s]"
      ]
     },
     "metadata": {},
     "output_type": "display_data"
    },
    {
     "data": {
      "application/vnd.jupyter.widget-view+json": {
       "model_id": "",
       "version_major": 2,
       "version_minor": 0
      },
      "text/plain": [
       "Validating: 0it [00:00, ?it/s]"
      ]
     },
     "metadata": {},
     "output_type": "display_data"
    },
    {
     "data": {
      "application/vnd.jupyter.widget-view+json": {
       "model_id": "",
       "version_major": 2,
       "version_minor": 0
      },
      "text/plain": [
       "Validating: 0it [00:00, ?it/s]"
      ]
     },
     "metadata": {},
     "output_type": "display_data"
    },
    {
     "data": {
      "application/vnd.jupyter.widget-view+json": {
       "model_id": "",
       "version_major": 2,
       "version_minor": 0
      },
      "text/plain": [
       "Validating: 0it [00:00, ?it/s]"
      ]
     },
     "metadata": {},
     "output_type": "display_data"
    },
    {
     "data": {
      "application/vnd.jupyter.widget-view+json": {
       "model_id": "",
       "version_major": 2,
       "version_minor": 0
      },
      "text/plain": [
       "Validating: 0it [00:00, ?it/s]"
      ]
     },
     "metadata": {},
     "output_type": "display_data"
    },
    {
     "data": {
      "application/vnd.jupyter.widget-view+json": {
       "model_id": "",
       "version_major": 2,
       "version_minor": 0
      },
      "text/plain": [
       "Validating: 0it [00:00, ?it/s]"
      ]
     },
     "metadata": {},
     "output_type": "display_data"
    },
    {
     "data": {
      "application/vnd.jupyter.widget-view+json": {
       "model_id": "",
       "version_major": 2,
       "version_minor": 0
      },
      "text/plain": [
       "Validating: 0it [00:00, ?it/s]"
      ]
     },
     "metadata": {},
     "output_type": "display_data"
    },
    {
     "data": {
      "application/vnd.jupyter.widget-view+json": {
       "model_id": "",
       "version_major": 2,
       "version_minor": 0
      },
      "text/plain": [
       "Validating: 0it [00:00, ?it/s]"
      ]
     },
     "metadata": {},
     "output_type": "display_data"
    },
    {
     "data": {
      "application/vnd.jupyter.widget-view+json": {
       "model_id": "",
       "version_major": 2,
       "version_minor": 0
      },
      "text/plain": [
       "Validating: 0it [00:00, ?it/s]"
      ]
     },
     "metadata": {},
     "output_type": "display_data"
    },
    {
     "data": {
      "application/vnd.jupyter.widget-view+json": {
       "model_id": "",
       "version_major": 2,
       "version_minor": 0
      },
      "text/plain": [
       "Validating: 0it [00:00, ?it/s]"
      ]
     },
     "metadata": {},
     "output_type": "display_data"
    },
    {
     "data": {
      "application/vnd.jupyter.widget-view+json": {
       "model_id": "",
       "version_major": 2,
       "version_minor": 0
      },
      "text/plain": [
       "Validating: 0it [00:00, ?it/s]"
      ]
     },
     "metadata": {},
     "output_type": "display_data"
    },
    {
     "data": {
      "application/vnd.jupyter.widget-view+json": {
       "model_id": "",
       "version_major": 2,
       "version_minor": 0
      },
      "text/plain": [
       "Validating: 0it [00:00, ?it/s]"
      ]
     },
     "metadata": {},
     "output_type": "display_data"
    },
    {
     "data": {
      "application/vnd.jupyter.widget-view+json": {
       "model_id": "",
       "version_major": 2,
       "version_minor": 0
      },
      "text/plain": [
       "Validating: 0it [00:00, ?it/s]"
      ]
     },
     "metadata": {},
     "output_type": "display_data"
    },
    {
     "data": {
      "text/plain": [
       "1"
      ]
     },
     "execution_count": 13,
     "metadata": {},
     "output_type": "execute_result"
    }
   ],
   "source": [
    "trainer.fit(model, dm)"
   ]
  },
  {
   "cell_type": "code",
   "execution_count": null,
   "metadata": {},
   "outputs": [],
   "source": [
    "# torch.load(' models/11_03/model.pt')\n",
    "# model.load_state_dict(torch.load('models/11_03/model.pt'))"
   ]
  },
  {
   "cell_type": "code",
   "execution_count": 14,
   "metadata": {},
   "outputs": [],
   "source": [
    "model_dir = Path('models/6_points')\n",
    "os.makedirs(model_dir, exist_ok=True)\n",
    "torch.save(model.state_dict(), model_dir / 'model.pt')"
   ]
  },
  {
   "cell_type": "code",
   "execution_count": 91,
   "metadata": {},
   "outputs": [
    {
     "name": "stderr",
     "output_type": "stream",
     "text": [
      "GPU available: True, used: True\n",
      "TPU available: None, using: 0 TPU cores\n",
      "LOCAL_RANK: 0 - CUDA_VISIBLE_DEVICES: [0]\n",
      "\n",
      "  | Name  | Type        | Params\n",
      "--------------------------------------\n",
      "0 | model | Autoencoder | 5.7 M \n",
      "--------------------------------------\n",
      "5.7 M     Trainable params\n",
      "0         Non-trainable params\n",
      "5.7 M     Total params\n",
      "/home/shuki/anaconda3/envs/torch/lib/python3.8/site-packages/pytorch_lightning/utilities/distributed.py:50: UserWarning: The dataloader, val dataloader 0, does not have many workers which may be a bottleneck. Consider increasing the value of the `num_workers` argument` (try 8 which is the number of cpus on this machine) in the `DataLoader` init to improve performance.\n",
      "  warnings.warn(*args, **kwargs)\n"
     ]
    },
    {
     "data": {
      "application/vnd.jupyter.widget-view+json": {
       "model_id": "2a28e52279c64f68894d4595529207c2",
       "version_major": 2,
       "version_minor": 0
      },
      "text/plain": [
       "Validation sanity check: 0it [00:00, ?it/s]"
      ]
     },
     "metadata": {},
     "output_type": "display_data"
    },
    {
     "name": "stderr",
     "output_type": "stream",
     "text": [
      "/home/shuki/anaconda3/envs/torch/lib/python3.8/site-packages/pytorch_lightning/utilities/distributed.py:50: UserWarning: The dataloader, train dataloader, does not have many workers which may be a bottleneck. Consider increasing the value of the `num_workers` argument` (try 8 which is the number of cpus on this machine) in the `DataLoader` init to improve performance.\n",
      "  warnings.warn(*args, **kwargs)\n"
     ]
    },
    {
     "data": {
      "application/vnd.jupyter.widget-view+json": {
       "model_id": "fd8fb5bc2ca94fc580e6f1bf91e5ca8a",
       "version_major": 2,
       "version_minor": 0
      },
      "text/plain": [
       "Training: 0it [00:00, ?it/s]"
      ]
     },
     "metadata": {},
     "output_type": "display_data"
    },
    {
     "data": {
      "application/vnd.jupyter.widget-view+json": {
       "model_id": "",
       "version_major": 2,
       "version_minor": 0
      },
      "text/plain": [
       "Validating: 0it [00:00, ?it/s]"
      ]
     },
     "metadata": {},
     "output_type": "display_data"
    },
    {
     "name": "stderr",
     "output_type": "stream",
     "text": [
      "/home/shuki/anaconda3/envs/torch/lib/python3.8/site-packages/torch/optim/lr_scheduler.py:216: UserWarning: Please also save or load the state of the optimizer when saving or loading the scheduler.\n",
      "  warnings.warn(SAVE_STATE_WARNING, UserWarning)\n"
     ]
    },
    {
     "data": {
      "application/vnd.jupyter.widget-view+json": {
       "model_id": "",
       "version_major": 2,
       "version_minor": 0
      },
      "text/plain": [
       "Validating: 0it [00:00, ?it/s]"
      ]
     },
     "metadata": {},
     "output_type": "display_data"
    },
    {
     "data": {
      "application/vnd.jupyter.widget-view+json": {
       "model_id": "",
       "version_major": 2,
       "version_minor": 0
      },
      "text/plain": [
       "Validating: 0it [00:00, ?it/s]"
      ]
     },
     "metadata": {},
     "output_type": "display_data"
    },
    {
     "data": {
      "application/vnd.jupyter.widget-view+json": {
       "model_id": "",
       "version_major": 2,
       "version_minor": 0
      },
      "text/plain": [
       "Validating: 0it [00:00, ?it/s]"
      ]
     },
     "metadata": {},
     "output_type": "display_data"
    },
    {
     "data": {
      "application/vnd.jupyter.widget-view+json": {
       "model_id": "",
       "version_major": 2,
       "version_minor": 0
      },
      "text/plain": [
       "Validating: 0it [00:00, ?it/s]"
      ]
     },
     "metadata": {},
     "output_type": "display_data"
    },
    {
     "data": {
      "application/vnd.jupyter.widget-view+json": {
       "model_id": "",
       "version_major": 2,
       "version_minor": 0
      },
      "text/plain": [
       "Validating: 0it [00:00, ?it/s]"
      ]
     },
     "metadata": {},
     "output_type": "display_data"
    },
    {
     "data": {
      "application/vnd.jupyter.widget-view+json": {
       "model_id": "",
       "version_major": 2,
       "version_minor": 0
      },
      "text/plain": [
       "Validating: 0it [00:00, ?it/s]"
      ]
     },
     "metadata": {},
     "output_type": "display_data"
    },
    {
     "data": {
      "application/vnd.jupyter.widget-view+json": {
       "model_id": "",
       "version_major": 2,
       "version_minor": 0
      },
      "text/plain": [
       "Validating: 0it [00:00, ?it/s]"
      ]
     },
     "metadata": {},
     "output_type": "display_data"
    },
    {
     "data": {
      "application/vnd.jupyter.widget-view+json": {
       "model_id": "",
       "version_major": 2,
       "version_minor": 0
      },
      "text/plain": [
       "Validating: 0it [00:00, ?it/s]"
      ]
     },
     "metadata": {},
     "output_type": "display_data"
    },
    {
     "data": {
      "application/vnd.jupyter.widget-view+json": {
       "model_id": "",
       "version_major": 2,
       "version_minor": 0
      },
      "text/plain": [
       "Validating: 0it [00:00, ?it/s]"
      ]
     },
     "metadata": {},
     "output_type": "display_data"
    },
    {
     "data": {
      "application/vnd.jupyter.widget-view+json": {
       "model_id": "",
       "version_major": 2,
       "version_minor": 0
      },
      "text/plain": [
       "Validating: 0it [00:00, ?it/s]"
      ]
     },
     "metadata": {},
     "output_type": "display_data"
    },
    {
     "data": {
      "application/vnd.jupyter.widget-view+json": {
       "model_id": "",
       "version_major": 2,
       "version_minor": 0
      },
      "text/plain": [
       "Validating: 0it [00:00, ?it/s]"
      ]
     },
     "metadata": {},
     "output_type": "display_data"
    },
    {
     "data": {
      "application/vnd.jupyter.widget-view+json": {
       "model_id": "",
       "version_major": 2,
       "version_minor": 0
      },
      "text/plain": [
       "Validating: 0it [00:00, ?it/s]"
      ]
     },
     "metadata": {},
     "output_type": "display_data"
    },
    {
     "data": {
      "application/vnd.jupyter.widget-view+json": {
       "model_id": "",
       "version_major": 2,
       "version_minor": 0
      },
      "text/plain": [
       "Validating: 0it [00:00, ?it/s]"
      ]
     },
     "metadata": {},
     "output_type": "display_data"
    },
    {
     "data": {
      "application/vnd.jupyter.widget-view+json": {
       "model_id": "",
       "version_major": 2,
       "version_minor": 0
      },
      "text/plain": [
       "Validating: 0it [00:00, ?it/s]"
      ]
     },
     "metadata": {},
     "output_type": "display_data"
    },
    {
     "data": {
      "application/vnd.jupyter.widget-view+json": {
       "model_id": "",
       "version_major": 2,
       "version_minor": 0
      },
      "text/plain": [
       "Validating: 0it [00:00, ?it/s]"
      ]
     },
     "metadata": {},
     "output_type": "display_data"
    },
    {
     "data": {
      "application/vnd.jupyter.widget-view+json": {
       "model_id": "",
       "version_major": 2,
       "version_minor": 0
      },
      "text/plain": [
       "Validating: 0it [00:00, ?it/s]"
      ]
     },
     "metadata": {},
     "output_type": "display_data"
    },
    {
     "data": {
      "application/vnd.jupyter.widget-view+json": {
       "model_id": "",
       "version_major": 2,
       "version_minor": 0
      },
      "text/plain": [
       "Validating: 0it [00:00, ?it/s]"
      ]
     },
     "metadata": {},
     "output_type": "display_data"
    },
    {
     "data": {
      "application/vnd.jupyter.widget-view+json": {
       "model_id": "",
       "version_major": 2,
       "version_minor": 0
      },
      "text/plain": [
       "Validating: 0it [00:00, ?it/s]"
      ]
     },
     "metadata": {},
     "output_type": "display_data"
    },
    {
     "data": {
      "application/vnd.jupyter.widget-view+json": {
       "model_id": "",
       "version_major": 2,
       "version_minor": 0
      },
      "text/plain": [
       "Validating: 0it [00:00, ?it/s]"
      ]
     },
     "metadata": {},
     "output_type": "display_data"
    },
    {
     "data": {
      "application/vnd.jupyter.widget-view+json": {
       "model_id": "",
       "version_major": 2,
       "version_minor": 0
      },
      "text/plain": [
       "Validating: 0it [00:00, ?it/s]"
      ]
     },
     "metadata": {},
     "output_type": "display_data"
    },
    {
     "data": {
      "application/vnd.jupyter.widget-view+json": {
       "model_id": "",
       "version_major": 2,
       "version_minor": 0
      },
      "text/plain": [
       "Validating: 0it [00:00, ?it/s]"
      ]
     },
     "metadata": {},
     "output_type": "display_data"
    },
    {
     "data": {
      "application/vnd.jupyter.widget-view+json": {
       "model_id": "",
       "version_major": 2,
       "version_minor": 0
      },
      "text/plain": [
       "Validating: 0it [00:00, ?it/s]"
      ]
     },
     "metadata": {},
     "output_type": "display_data"
    },
    {
     "data": {
      "application/vnd.jupyter.widget-view+json": {
       "model_id": "",
       "version_major": 2,
       "version_minor": 0
      },
      "text/plain": [
       "Validating: 0it [00:00, ?it/s]"
      ]
     },
     "metadata": {},
     "output_type": "display_data"
    },
    {
     "data": {
      "application/vnd.jupyter.widget-view+json": {
       "model_id": "",
       "version_major": 2,
       "version_minor": 0
      },
      "text/plain": [
       "Validating: 0it [00:00, ?it/s]"
      ]
     },
     "metadata": {},
     "output_type": "display_data"
    },
    {
     "data": {
      "application/vnd.jupyter.widget-view+json": {
       "model_id": "",
       "version_major": 2,
       "version_minor": 0
      },
      "text/plain": [
       "Validating: 0it [00:00, ?it/s]"
      ]
     },
     "metadata": {},
     "output_type": "display_data"
    },
    {
     "data": {
      "application/vnd.jupyter.widget-view+json": {
       "model_id": "",
       "version_major": 2,
       "version_minor": 0
      },
      "text/plain": [
       "Validating: 0it [00:00, ?it/s]"
      ]
     },
     "metadata": {},
     "output_type": "display_data"
    },
    {
     "data": {
      "application/vnd.jupyter.widget-view+json": {
       "model_id": "",
       "version_major": 2,
       "version_minor": 0
      },
      "text/plain": [
       "Validating: 0it [00:00, ?it/s]"
      ]
     },
     "metadata": {},
     "output_type": "display_data"
    },
    {
     "data": {
      "application/vnd.jupyter.widget-view+json": {
       "model_id": "",
       "version_major": 2,
       "version_minor": 0
      },
      "text/plain": [
       "Validating: 0it [00:00, ?it/s]"
      ]
     },
     "metadata": {},
     "output_type": "display_data"
    },
    {
     "data": {
      "application/vnd.jupyter.widget-view+json": {
       "model_id": "",
       "version_major": 2,
       "version_minor": 0
      },
      "text/plain": [
       "Validating: 0it [00:00, ?it/s]"
      ]
     },
     "metadata": {},
     "output_type": "display_data"
    }
   ],
   "source": [
    "# from simple_autoencoder import Autoencoder, PLAutoencoder\n",
    "# from dataloader import LandmarksDataModule\n",
    "# seqlen = 60\n",
    "# n_parts = 19\n",
    "# dm = LandmarksDataModule(landmark_files, seqlen=seqlen, step=3)\n",
    "# model = PLAutoencoder(landmark_files, n_neurons=[2*n_parts*seqlen, 1024, 512, 5], lr=3e-4, seqlen=seqlen, patience=20)\n",
    "# trainer = pl.Trainer(gpus=1, progress_bar_refresh_rate=10, max_epochs=30, logger=pl.loggers.WandbLogger(\"landmarks autoencoder\"))\n",
    "# trainer.fit(model, dm)\n",
    "\n",
    "# model_dir = Path('models/04_26_2')\n",
    "# os.makedirs(model_dir, exist_ok=True)\n",
    "# torch.save(model.state_dict(), model_dir / 'model.pt')"
   ]
  },
  {
   "cell_type": "code",
   "execution_count": 9,
   "metadata": {},
   "outputs": [],
   "source": [
    "from torch.utils.data import Dataset, ConcatDataset, Subset\n",
    "import bisect\n",
    "\n",
    "def find_sub_dataset(ds: ConcatDataset, idx):\n",
    "    dataset_idx = bisect.bisect_right(ds.cumulative_sizes, idx)\n",
    "    if dataset_idx == 0:\n",
    "        sample_idx = idx\n",
    "    else:\n",
    "        sample_idx = idx - ds.cumulative_sizes[dataset_idx - 1]\n",
    "    return ds.datasets[dataset_idx], sample_idx\n",
    "\n",
    "def find_frame(ds, idx):\n",
    "    ds, idx = find_sub_dataset(ds, idx)\n",
    "    if isinstance(ds, Subset):\n",
    "        ds, idx = ds.dataset, ds.indices[idx]\n",
    "    ds, idx = find_sub_dataset(ds, idx)\n",
    "    video_file = ds.data_frame.attrs['video_file']\n",
    "    frame_idxs = ds.get_indexes(idx)\n",
    "    return video_file, frame_idxs\n",
    "\n",
    "\n",
    "from scipy import signal as sig\n",
    "energies = np.zeros(len(dm.all_ds))\n",
    "for i, item in enumerate(dm.all_ds):\n",
    "    item = item.reshape((dm.seqlen, -1))\n",
    "    ff, Pxx = sig.periodogram(item.T, fs=dm.fps)\n",
    "    energies[i] = Pxx.T[:10].mean()\n",
    "    \n"
   ]
  },
  {
   "cell_type": "code",
   "execution_count": 10,
   "metadata": {},
   "outputs": [
    {
     "data": {
      "text/plain": [
       "60"
      ]
     },
     "execution_count": 10,
     "metadata": {},
     "output_type": "execute_result"
    },
    {
     "data": {
      "image/png": "[encoded data removed]",
      "text/plain": [
       "<Figure size 432x288 with 1 Axes>"
      ]
     },
     "metadata": {
      "needs_background": "light"
     },
     "output_type": "display_data"
    }
   ],
   "source": [
    "plt.hist(np.log10(energies), bins=100)\n",
    "dm.seqlen"
   ]
  },
  {
   "cell_type": "code",
   "execution_count": 15,
   "metadata": {},
   "outputs": [
    {
     "data": {
      "text/plain": [
       "98481"
      ]
     },
     "execution_count": 15,
     "metadata": {},
     "output_type": "execute_result"
    }
   ],
   "source": [
    "np.where(energies > 5e-3)[0][643]"
   ]
  },
  {
   "cell_type": "code",
   "execution_count": 15,
   "metadata": {},
   "outputs": [
    {
     "data": {
      "text/plain": [
       "Index(['nose', 'forepawR1', 'forePawL1', 'hindpawR1', 'hindpawL1', 'tailbase'], dtype='object', name='bodyparts')"
      ]
     },
     "execution_count": 15,
     "metadata": {},
     "output_type": "execute_result"
    }
   ],
   "source": [
    "dm.data_frames[0].columns.levels[0]"
   ]
  },
  {
   "cell_type": "markdown",
   "metadata": {},
   "source": [
    "compare the original and reconstructed data, each plot for a different feature / coordinate"
   ]
  },
  {
   "cell_type": "code",
   "execution_count": 18,
   "metadata": {},
   "outputs": [
    {
     "name": "stderr",
     "output_type": "stream",
     "text": [
      "No handles with labels found to put in legend.\n"
     ]
    },
    {
     "data": {
      "image/png": "[encoded data removed]",
      "text/plain": [
       "<Figure size 1296x1296 with 16 Axes>"
      ]
     },
     "metadata": {
      "needs_background": "light"
     },
     "output_type": "display_data"
    }
   ],
   "source": [
    "body_parts = dm.data_frames[0].columns.levels[0]\n",
    "def compare_plot(x, y):\n",
    "    x = x.reshape(-1, n_parts*2)\n",
    "    y = y.reshape(-1, n_parts*2)\n",
    "    fig, axes = plt.subplots(ncols=4, nrows=n_parts//2+1, figsize=(18, 18))\n",
    "    for i in range(n_parts//2+1):\n",
    "        for j in range(4):\n",
    "            idx = 4*i + j\n",
    "            if idx >= x.shape[1]: break\n",
    "            axes[i][j].plot(x[:,idx], label='orig')\n",
    "            axes[i][j].plot(y[:,idx], label='recon')\n",
    "            axes[i][j].set_title(f\"{idx}-{body_parts[idx//2]}-{'x' if idx%2 else 'y'}\")\n",
    "            axes[i][j].set_ylim(-3, 3)\n",
    "    plt.legend()\n",
    "\n",
    "idx = 984\n",
    "with torch.no_grad():\n",
    "    bx = torch.Tensor(dm.all_ds[idx])[None]\n",
    "    out = model(bx)\n",
    "compare_plot(bx[0].cpu().numpy(), out[0].cpu().numpy())"
   ]
  },
  {
   "cell_type": "code",
   "execution_count": 54,
   "metadata": {
    "collapsed": true,
    "jupyter": {
     "outputs_hidden": true
    }
   },
   "outputs": [
    {
     "data": {
      "text/html": [
       "<div>\n",
       "<style scoped>\n",
       "    .dataframe tbody tr th:only-of-type {\n",
       "        vertical-align: middle;\n",
       "    }\n",
       "\n",
       "    .dataframe tbody tr th {\n",
       "        vertical-align: top;\n",
       "    }\n",
       "\n",
       "    .dataframe thead th {\n",
       "        text-align: right;\n",
       "    }\n",
       "</style>\n",
       "<table border=\"1\" class=\"dataframe\">\n",
       "  <thead>\n",
       "    <tr style=\"text-align: right;\">\n",
       "      <th></th>\n",
       "      <th>x</th>\n",
       "      <th>y</th>\n",
       "    </tr>\n",
       "    <tr>\n",
       "      <th>index</th>\n",
       "      <th></th>\n",
       "      <th></th>\n",
       "    </tr>\n",
       "  </thead>\n",
       "  <tbody>\n",
       "    <tr>\n",
       "      <th>90230</th>\n",
       "      <td>0.891732</td>\n",
       "      <td>1.991624</td>\n",
       "    </tr>\n",
       "    <tr>\n",
       "      <th>90231</th>\n",
       "      <td>0.892166</td>\n",
       "      <td>1.991499</td>\n",
       "    </tr>\n",
       "    <tr>\n",
       "      <th>90232</th>\n",
       "      <td>0.892643</td>\n",
       "      <td>1.991502</td>\n",
       "    </tr>\n",
       "    <tr>\n",
       "      <th>90233</th>\n",
       "      <td>0.893072</td>\n",
       "      <td>1.991606</td>\n",
       "    </tr>\n",
       "    <tr>\n",
       "      <th>90234</th>\n",
       "      <td>0.893322</td>\n",
       "      <td>1.991777</td>\n",
       "    </tr>\n",
       "    <tr>\n",
       "      <th>90235</th>\n",
       "      <td>0.893246</td>\n",
       "      <td>1.991979</td>\n",
       "    </tr>\n",
       "    <tr>\n",
       "      <th>90236</th>\n",
       "      <td>0.892733</td>\n",
       "      <td>1.992176</td>\n",
       "    </tr>\n",
       "    <tr>\n",
       "      <th>90237</th>\n",
       "      <td>0.891783</td>\n",
       "      <td>1.992341</td>\n",
       "    </tr>\n",
       "    <tr>\n",
       "      <th>90238</th>\n",
       "      <td>0.890578</td>\n",
       "      <td>1.992459</td>\n",
       "    </tr>\n",
       "    <tr>\n",
       "      <th>90239</th>\n",
       "      <td>0.889518</td>\n",
       "      <td>1.992529</td>\n",
       "    </tr>\n",
       "    <tr>\n",
       "      <th>90240</th>\n",
       "      <td>0.889196</td>\n",
       "      <td>1.992568</td>\n",
       "    </tr>\n",
       "    <tr>\n",
       "      <th>90241</th>\n",
       "      <td>0.890283</td>\n",
       "      <td>1.992613</td>\n",
       "    </tr>\n",
       "    <tr>\n",
       "      <th>90242</th>\n",
       "      <td>0.893306</td>\n",
       "      <td>1.992709</td>\n",
       "    </tr>\n",
       "    <tr>\n",
       "      <th>90243</th>\n",
       "      <td>0.898365</td>\n",
       "      <td>1.992904</td>\n",
       "    </tr>\n",
       "    <tr>\n",
       "      <th>90244</th>\n",
       "      <td>0.904840</td>\n",
       "      <td>1.993224</td>\n",
       "    </tr>\n",
       "    <tr>\n",
       "      <th>90245</th>\n",
       "      <td>0.911168</td>\n",
       "      <td>1.993656</td>\n",
       "    </tr>\n",
       "    <tr>\n",
       "      <th>90246</th>\n",
       "      <td>0.914798</td>\n",
       "      <td>1.994118</td>\n",
       "    </tr>\n",
       "    <tr>\n",
       "      <th>90247</th>\n",
       "      <td>0.912386</td>\n",
       "      <td>1.994467</td>\n",
       "    </tr>\n",
       "    <tr>\n",
       "      <th>90248</th>\n",
       "      <td>0.900247</td>\n",
       "      <td>1.994513</td>\n",
       "    </tr>\n",
       "    <tr>\n",
       "      <th>90249</th>\n",
       "      <td>0.875003</td>\n",
       "      <td>1.994078</td>\n",
       "    </tr>\n",
       "    <tr>\n",
       "      <th>90250</th>\n",
       "      <td>0.834279</td>\n",
       "      <td>1.993075</td>\n",
       "    </tr>\n",
       "    <tr>\n",
       "      <th>90251</th>\n",
       "      <td>0.777242</td>\n",
       "      <td>1.991592</td>\n",
       "    </tr>\n",
       "    <tr>\n",
       "      <th>90252</th>\n",
       "      <td>0.704806</td>\n",
       "      <td>1.989963</td>\n",
       "    </tr>\n",
       "    <tr>\n",
       "      <th>90253</th>\n",
       "      <td>0.619419</td>\n",
       "      <td>1.988788</td>\n",
       "    </tr>\n",
       "    <tr>\n",
       "      <th>90254</th>\n",
       "      <td>0.524515</td>\n",
       "      <td>1.988898</td>\n",
       "    </tr>\n",
       "    <tr>\n",
       "      <th>90255</th>\n",
       "      <td>0.423810</td>\n",
       "      <td>1.991240</td>\n",
       "    </tr>\n",
       "    <tr>\n",
       "      <th>90256</th>\n",
       "      <td>0.320643</td>\n",
       "      <td>1.996721</td>\n",
       "    </tr>\n",
       "    <tr>\n",
       "      <th>90257</th>\n",
       "      <td>0.217526</td>\n",
       "      <td>2.006024</td>\n",
       "    </tr>\n",
       "    <tr>\n",
       "      <th>90258</th>\n",
       "      <td>0.115957</td>\n",
       "      <td>2.019466</td>\n",
       "    </tr>\n",
       "    <tr>\n",
       "      <th>90259</th>\n",
       "      <td>0.016482</td>\n",
       "      <td>2.036911</td>\n",
       "    </tr>\n",
       "    <tr>\n",
       "      <th>90260</th>\n",
       "      <td>-0.081070</td>\n",
       "      <td>2.057776</td>\n",
       "    </tr>\n",
       "    <tr>\n",
       "      <th>90261</th>\n",
       "      <td>-0.177263</td>\n",
       "      <td>2.081095</td>\n",
       "    </tr>\n",
       "    <tr>\n",
       "      <th>90262</th>\n",
       "      <td>-0.272755</td>\n",
       "      <td>2.105642</td>\n",
       "    </tr>\n",
       "    <tr>\n",
       "      <th>90263</th>\n",
       "      <td>-0.368067</td>\n",
       "      <td>2.130061</td>\n",
       "    </tr>\n",
       "    <tr>\n",
       "      <th>90264</th>\n",
       "      <td>-0.463472</td>\n",
       "      <td>2.153014</td>\n",
       "    </tr>\n",
       "    <tr>\n",
       "      <th>90265</th>\n",
       "      <td>-0.558995</td>\n",
       "      <td>2.173314</td>\n",
       "    </tr>\n",
       "    <tr>\n",
       "      <th>90266</th>\n",
       "      <td>-0.654515</td>\n",
       "      <td>2.190067</td>\n",
       "    </tr>\n",
       "    <tr>\n",
       "      <th>90267</th>\n",
       "      <td>-0.749910</td>\n",
       "      <td>2.202769</td>\n",
       "    </tr>\n",
       "    <tr>\n",
       "      <th>90268</th>\n",
       "      <td>-0.845205</td>\n",
       "      <td>2.211373</td>\n",
       "    </tr>\n",
       "    <tr>\n",
       "      <th>90269</th>\n",
       "      <td>-0.940673</td>\n",
       "      <td>2.216260</td>\n",
       "    </tr>\n",
       "    <tr>\n",
       "      <th>90270</th>\n",
       "      <td>-1.036835</td>\n",
       "      <td>2.218151</td>\n",
       "    </tr>\n",
       "    <tr>\n",
       "      <th>90271</th>\n",
       "      <td>-1.134356</td>\n",
       "      <td>2.217945</td>\n",
       "    </tr>\n",
       "    <tr>\n",
       "      <th>90272</th>\n",
       "      <td>-1.233807</td>\n",
       "      <td>2.216552</td>\n",
       "    </tr>\n",
       "    <tr>\n",
       "      <th>90273</th>\n",
       "      <td>-1.335370</td>\n",
       "      <td>2.214747</td>\n",
       "    </tr>\n",
       "    <tr>\n",
       "      <th>90274</th>\n",
       "      <td>-1.438509</td>\n",
       "      <td>2.213080</td>\n",
       "    </tr>\n",
       "    <tr>\n",
       "      <th>90275</th>\n",
       "      <td>-1.541735</td>\n",
       "      <td>2.211853</td>\n",
       "    </tr>\n",
       "    <tr>\n",
       "      <th>90276</th>\n",
       "      <td>-1.642532</td>\n",
       "      <td>2.211143</td>\n",
       "    </tr>\n",
       "    <tr>\n",
       "      <th>90277</th>\n",
       "      <td>-1.737547</td>\n",
       "      <td>2.210873</td>\n",
       "    </tr>\n",
       "    <tr>\n",
       "      <th>90278</th>\n",
       "      <td>-1.823034</td>\n",
       "      <td>2.210884</td>\n",
       "    </tr>\n",
       "    <tr>\n",
       "      <th>90279</th>\n",
       "      <td>-1.895519</td>\n",
       "      <td>2.211012</td>\n",
       "    </tr>\n",
       "    <tr>\n",
       "      <th>90280</th>\n",
       "      <td>-1.952503</td>\n",
       "      <td>2.211136</td>\n",
       "    </tr>\n",
       "    <tr>\n",
       "      <th>90281</th>\n",
       "      <td>-1.993029</td>\n",
       "      <td>2.211203</td>\n",
       "    </tr>\n",
       "    <tr>\n",
       "      <th>90282</th>\n",
       "      <td>-2.017899</td>\n",
       "      <td>2.211226</td>\n",
       "    </tr>\n",
       "    <tr>\n",
       "      <th>90283</th>\n",
       "      <td>-2.029490</td>\n",
       "      <td>2.211261</td>\n",
       "    </tr>\n",
       "    <tr>\n",
       "      <th>90284</th>\n",
       "      <td>-2.031213</td>\n",
       "      <td>2.211372</td>\n",
       "    </tr>\n",
       "    <tr>\n",
       "      <th>90285</th>\n",
       "      <td>-2.026825</td>\n",
       "      <td>2.211607</td>\n",
       "    </tr>\n",
       "    <tr>\n",
       "      <th>90286</th>\n",
       "      <td>-2.019770</td>\n",
       "      <td>2.211973</td>\n",
       "    </tr>\n",
       "    <tr>\n",
       "      <th>90287</th>\n",
       "      <td>-2.012712</td>\n",
       "      <td>2.212447</td>\n",
       "    </tr>\n",
       "    <tr>\n",
       "      <th>90288</th>\n",
       "      <td>-2.007324</td>\n",
       "      <td>2.212984</td>\n",
       "    </tr>\n",
       "    <tr>\n",
       "      <th>90289</th>\n",
       "      <td>-2.004314</td>\n",
       "      <td>2.213541</td>\n",
       "    </tr>\n",
       "  </tbody>\n",
       "</table>\n",
       "</div>"
      ],
      "text/plain": [
       "              x         y\n",
       "index                    \n",
       "90230  0.891732  1.991624\n",
       "90231  0.892166  1.991499\n",
       "90232  0.892643  1.991502\n",
       "90233  0.893072  1.991606\n",
       "90234  0.893322  1.991777\n",
       "90235  0.893246  1.991979\n",
       "90236  0.892733  1.992176\n",
       "90237  0.891783  1.992341\n",
       "90238  0.890578  1.992459\n",
       "90239  0.889518  1.992529\n",
       "90240  0.889196  1.992568\n",
       "90241  0.890283  1.992613\n",
       "90242  0.893306  1.992709\n",
       "90243  0.898365  1.992904\n",
       "90244  0.904840  1.993224\n",
       "90245  0.911168  1.993656\n",
       "90246  0.914798  1.994118\n",
       "90247  0.912386  1.994467\n",
       "90248  0.900247  1.994513\n",
       "90249  0.875003  1.994078\n",
       "90250  0.834279  1.993075\n",
       "90251  0.777242  1.991592\n",
       "90252  0.704806  1.989963\n",
       "90253  0.619419  1.988788\n",
       "90254  0.524515  1.988898\n",
       "90255  0.423810  1.991240\n",
       "90256  0.320643  1.996721\n",
       "90257  0.217526  2.006024\n",
       "90258  0.115957  2.019466\n",
       "90259  0.016482  2.036911\n",
       "90260 -0.081070  2.057776\n",
       "90261 -0.177263  2.081095\n",
       "90262 -0.272755  2.105642\n",
       "90263 -0.368067  2.130061\n",
       "90264 -0.463472  2.153014\n",
       "90265 -0.558995  2.173314\n",
       "90266 -0.654515  2.190067\n",
       "90267 -0.749910  2.202769\n",
       "90268 -0.845205  2.211373\n",
       "90269 -0.940673  2.216260\n",
       "90270 -1.036835  2.218151\n",
       "90271 -1.134356  2.217945\n",
       "90272 -1.233807  2.216552\n",
       "90273 -1.335370  2.214747\n",
       "90274 -1.438509  2.213080\n",
       "90275 -1.541735  2.211853\n",
       "90276 -1.642532  2.211143\n",
       "90277 -1.737547  2.210873\n",
       "90278 -1.823034  2.210884\n",
       "90279 -1.895519  2.211012\n",
       "90280 -1.952503  2.211136\n",
       "90281 -1.993029  2.211203\n",
       "90282 -2.017899  2.211226\n",
       "90283 -2.029490  2.211261\n",
       "90284 -2.031213  2.211372\n",
       "90285 -2.026825  2.211607\n",
       "90286 -2.019770  2.211973\n",
       "90287 -2.012712  2.212447\n",
       "90288 -2.007324  2.212984\n",
       "90289 -2.004314  2.213541"
      ]
     },
     "execution_count": 54,
     "metadata": {},
     "output_type": "execute_result"
    }
   ],
   "source": [
    "def find_dataset_idx(ds: ConcatDataset, idx):\n",
    "    dataset_idx = bisect.bisect_right(ds.cumulative_sizes, idx)\n",
    "    if dataset_idx == 0:\n",
    "        sample_idx = idx\n",
    "    else:\n",
    "        sample_idx = idx - ds.cumulative_sizes[dataset_idx - 1]\n",
    "    return dataset_idx, sample_idx\n",
    "\n",
    "\n",
    "ds_id, _id = find_dataset_idx(dm.all_ds, idx)\n",
    "# ds, _id = find_sub_dataset(dm.all_ds.datasets[ds_id], _id)\n",
    "dm.data_frames[ds_id].loc[frames].tail3"
   ]
  },
  {
   "cell_type": "code",
   "execution_count": 51,
   "metadata": {},
   "outputs": [],
   "source": [
    "from torch.utils.data import Dataset, ConcatDataset, Subset\n",
    "dm.all_ds.datasets[0].datasets[0].data_frame.attrs\n",
    "import bisect\n",
    "\n",
    "def find_sub_dataset(ds: ConcatDataset, idx):\n",
    "    dataset_idx = bisect.bisect_right(ds.cumulative_sizes, idx)\n",
    "    if dataset_idx == 0:\n",
    "        sample_idx = idx\n",
    "    else:\n",
    "        sample_idx = idx - ds.cumulative_sizes[dataset_idx - 1]\n",
    "    return ds.datasets[dataset_idx], sample_idx\n",
    "\n",
    "def find_frame(ds, idx):\n",
    "    ds, idx = find_sub_dataset(ds, idx)\n",
    "    if isinstance(ds, Subset):\n",
    "        ds, idx = ds.dataset, ds.indices[idx]\n",
    "    ds, idx = find_sub_dataset(ds, idx)\n",
    "    video_file = ds.data_frame.attrs['video_file']\n",
    "    frame_idxs = ds.get_indexes(idx)\n",
    "    return video_file, frame_idxs\n",
    "\n",
    "video_file, frames = find_frame(dm.all_ds, idx)"
   ]
  },
  {
   "cell_type": "markdown",
   "metadata": {},
   "source": [
    "# Clustering the data"
   ]
  },
  {
   "cell_type": "markdown",
   "metadata": {},
   "source": [
    "loading the landmark coordinates from all videos"
   ]
  },
  {
   "cell_type": "code",
   "execution_count": 13,
   "metadata": {},
   "outputs": [],
   "source": [
    "# all_data = np.stack([dm.all_ds[i] for i in range(len(dm.all_ds))])\n",
    "X_encoded = model.model.encode(dm.all_ds)\n",
    "\n",
    "K = model.model.encoder[-1].out_features\n",
    "kmeans = KMeans(K)\n",
    "labels = kmeans.fit_predict(X_encoded)"
   ]
  },
  {
   "cell_type": "code",
   "execution_count": 18,
   "metadata": {},
   "outputs": [
    {
     "data": {
      "text/plain": [
       "1"
      ]
     },
     "execution_count": 18,
     "metadata": {},
     "output_type": "execute_result"
    },
    {
     "data": {
      "image/png": "[encoded data removed]",
      "text/plain": [
       "<Figure size 432x288 with 1 Axes>"
      ]
     },
     "metadata": {
      "needs_background": "light"
     },
     "output_type": "display_data"
    }
   ],
   "source": [
    "from collections import Counter\n",
    "\n",
    "def split_labels(labels):\n",
    "    split_at = np.where(np.diff(labels) != 0)[0] + 1\n",
    "    sequence = [[seg[0], split_at[i-1] + seqlen//2, len(seg)] \\\n",
    "                for i, seg in enumerate(np.split(labels, indices_or_sections=split_at))]\n",
    "    sequence[0][1] = seqlen//2\n",
    "    return sequence\n",
    "\n",
    "segments = split_labels(labels)\n",
    "plt.hist([np.log10(seg[-1]) for seg in segments], bins=100)\n",
    "1"
   ]
  },
  {
   "cell_type": "markdown",
   "metadata": {},
   "source": [
    "creating the dataset from all the coordinates"
   ]
  },
  {
   "cell_type": "code",
   "execution_count": null,
   "metadata": {},
   "outputs": [],
   "source": [
    "N, n_coords, _ = coords[0].shape\n",
    "all_data = [crds.reshape(-1, n_coords*2) for crds in coords]\n",
    "data_lengths = [d.shape[0] - model.seqlen for d in all_data]\n",
    "video_change_idxs = np.cumsum(data_lengths)[:-1]\n",
    "all_data = [SequenceDataset(d, seqlen=model.seqlen, diff=model.diff, step=1) for d in all_data]\n",
    "all_data = ConcatDataset(all_data)\n",
    "X_encoded = model.model.encode(all_data)"
   ]
  },
  {
   "cell_type": "code",
   "execution_count": null,
   "metadata": {},
   "outputs": [],
   "source": [
    "import pickle\n",
    "with open(model_dir / 'kmeans.pkl', 'rb') as file:\n",
    "#     pickle.dump(kmeans, file)\n",
    "    kmeans = pickle.load(file)\n",
    "    \n",
    "with open(model_dir / 'kmeans.pkl', 'bb') as file:\n",
    "    pickle.dump(kmeans, file)\n",
    "#     kmeans = pickle.load(file)\n",
    "# labels = np.load('models/11_03/labels.np.npy')"
   ]
  },
  {
   "cell_type": "markdown",
   "metadata": {},
   "source": [
    "clustering the data and splitting into segments"
   ]
  },
  {
   "cell_type": "code",
   "execution_count": null,
   "metadata": {},
   "outputs": [],
   "source": [
    "K = 30\n",
    "X_encoded = model.model.encode(all_data)\n",
    "kmeans = KMeans(K)\n",
    "labels = kmeans.fit_predict(X_encoded)\n",
    "'''\n",
    "split the sequence of labels and returns the sequence of segments of the form:\n",
    "      [(label0, segment_start0, segment_length0), ...]\n",
    "for example:\n",
    "44422222227777  ->  [(4, 0, 3), (2, 7), (7, 4)]\n",
    "'''\n",
    "def split_labels(labels):\n",
    "    split_at = np.where(np.diff(labels) != 0)[0] + 1\n",
    "    sequence = [[seg[0], split_at[i-1]*4 + model.seqlen*2, len(seg)*4] \\\n",
    "                for i, seg in enumerate(np.split(labels, indices_or_sections=split_at))]\n",
    "    sequence[0][1] = model.seqlen*2\n",
    "    return sequence\n",
    "\n",
    "labels_dict = dict(zip(landmark_files, \n",
    "                        np.split(labels, indices_or_sections=video_change_idxs)))\n",
    "\n",
    "data_dict = dict(zip(landmark_files,\n",
    "                    np.split(all_data, indices_or_sections=video_change_idxs)))\n",
    "\n",
    "X_encoded_dict = dict(zip(landmark_files,\n",
    "                         np.split(X_encoded, indices_or_sections=video_change_idxs)))\n",
    "\n",
    "segment_dict = dict(zip(landmark_files, \n",
    "                        map(split_labels, np.split(labels, indices_or_sections=video_change_idxs))))\n"
   ]
  },
  {
   "cell_type": "code",
   "execution_count": null,
   "metadata": {},
   "outputs": [],
   "source": [
    "import pickle\n",
    "with open(model_dir / 'kmeans.pkl', 'wb') as file:\n",
    "    pickle.dump(kmeans, file)\n",
    "np.save(model_dir / 'labels.np', labels)\n",
    "\n",
    "with open(model_dir / 'labels_dict.pkl', 'wb') as file:\n",
    "    pickle.dump(labels_dict, file)\n",
    "    \n",
    "with open(model_dir / 'data_dict.pkl', 'wb') as file:\n",
    "    pickle.dump(data_dict, file)\n",
    "    \n",
    "with open(model_dir / 'segments_dict.pkl', 'wb') as file:\n",
    "    pickle.dump(segment_dict, file)\n",
    "    \n",
    "with open(model_dir / 'x_encoded_dict.pkl', 'wb') as file:\n",
    "    pickle.dump(X_encoded_dict, file)"
   ]
  },
  {
   "cell_type": "code",
   "execution_count": null,
   "metadata": {},
   "outputs": [],
   "source": [
    "from collections import Counter\n",
    "count = Counter(labels)\n",
    "ratios = {idx: count[idx] / len(labels) for idx in set(labels)}\n",
    "q = 0.5\n",
    "proportions = {idx: ratios[idx]**q for idx in set(labels)}\n",
    "proportions = {idx: proportions[idx] / sum(p for p in proportions.values()) for idx in set(labels)}\n",
    "def sample_ids(n_samples=10000, proportions=proportions):\n",
    "    ids = []\n",
    "    for idx in set(labels):\n",
    "        cluster_ids = np.where(labels==idx)[0]\n",
    "        n_cluster_samples = int(n_samples * proportions[idx])\n",
    "        ids.append(np.random.choice(cluster_ids, size=n_cluster_samples, replace=False))\n",
    "    ids = np.concatenate(ids)\n",
    "    return ids\n",
    "\n",
    "sample_idxs = sample_ids()\n",
    "X_sample = X_encoded[sample_idxs]\n",
    "sample_labels = labels[sample_idxs]"
   ]
  },
  {
   "cell_type": "markdown",
   "metadata": {},
   "source": [
    "TSNE plot of clusters"
   ]
  },
  {
   "cell_type": "code",
   "execution_count": null,
   "metadata": {},
   "outputs": [],
   "source": [
    "from sklearn.manifold import TSNE\n",
    "tsne = TSNE(n_components=2, perplexity=30)\n",
    "X_2d = tsne.fit_transform(X_sample)"
   ]
  },
  {
   "cell_type": "code",
   "execution_count": null,
   "metadata": {},
   "outputs": [],
   "source": [
    "K = 30\n",
    "sample_labels = labels[sample_idxs]\n",
    "clusters = {int(i): X_2d[np.where(sample_labels==i)[0]] for i in range(30)}\n",
    "plt.figure(figsize=(10, 10))\n",
    "cluster_colors = cm.tab20.colors + cm.tab20b.colors + cm.tab20c.colors\n",
    "for idx, cluster in clusters.items():\n",
    "    # print(cluster)\n",
    "    plt.text(cluster.mean(0)[0], cluster.mean(0)[1], str(idx), fontsize=16)\n",
    "#     plt.annotate(str(idx), xy=cluster.mean(axis=0))\n",
    "    plt.scatter(cluster[:,0], cluster[:,1], label=idx, s=1, color=cluster_colors[idx])\n",
    "    plt.legend(bbox_to_anchor=(1., 1.), prop={'size': 12}, markerscale=8)\n",
    "#     plt.savefig('plots/tsne.svg')"
   ]
  },
  {
   "cell_type": "markdown",
   "metadata": {},
   "source": [
    "some plots to show the cluster at each timestep"
   ]
  },
  {
   "cell_type": "code",
   "execution_count": null,
   "metadata": {},
   "outputs": [],
   "source": [
    "bodyparts_dict = dict(zip(landmark_datasets[0].body_parts, range(len(landmark_datasets[0]))))\n",
    "\n",
    "def plot_segments(axis, vid_file_idx, start_idx, end_idx, bparts):\n",
    "    bparts_idxs = [bodyparts_dict[bp] for bp in bparts]\n",
    "    plot_coords = coords[vid_file_idx][start_idx + model.seqlen//2: end_idx + model.seqlen//2, bparts_idxs]\n",
    "    duration = (end_idx - start_idx) * (1000 / 60)\n",
    "    for i, body_part in enumerate(bparts):\n",
    "        axis.plot(plot_coords[:,i,0], label=f\"{body_part}_x\")\n",
    "        axis.plot(plot_coords[:,i,1], label=f\"{body_part}_y\")\n",
    "    ymin, ymax = axis.get_ybound()\n",
    "    lbls = labels_dict[landmark_files[vid_file_idx]][start_idx: end_idx]\n",
    "#     label_dict = dict(zip(sorted(list(set(lbls))), range(len(set(lbls)))))\n",
    "    segment_edges = np.where(np.diff(lbls) != 0)[0]\n",
    "    segment_edges = np.append(0, segment_edges)\n",
    "    segment_edges = np.append(segment_edges, end_idx - start_idx - 1)\n",
    "    segment_labels = lbls[segment_edges]\n",
    "    axis.margins(0, 0)\n",
    "    axis.vlines(segment_edges, ymin=ymin, ymax=ymax, color='black', linestyle='dashed')\n",
    "    for i in range(1, len(segment_edges)):\n",
    "        cluster_color = cluster_colors[lbls[segment_edges[i]]]\n",
    "        axis.fill_betweenx([ymin, ymax], segment_edges[i-1], segment_edges[i], color=cluster_color, alpha=0.5)\n",
    "    color_patches = [mpatches.Patch(color=cluster_colors[i], label=f'cluster {i}', alpha=0.5) for i in set(lbls)]\n",
    "    cluster_color_legend = axis.legend(handles=color_patches, bbox_to_anchor=(1.0, 0.0), loc='lower left', title='clusters')\n",
    "    ax = plt.gca().add_artist(cluster_color_legend)\n",
    "    handles, labels = axis.get_legend_handles_labels()\n",
    "    axis.legend(handles, labels, bbox_to_anchor=(1.0, 1), title=\"body parts\")\n",
    "    axis.set_title(\"landmark coordinates timeseries\")\n",
    "    axis.set_xticks(np.arange(0, end_idx - start_idx, step=30))\n",
    "    axis.set_xticklabels(np.arange(0, duration/1000, step=0.5))\n",
    "    axis.set_xlabel(\"time [seconds]\")\n",
    "\n",
    "    \n",
    "plt.figure(figsize=(18, 6))\n",
    "ax = plt.subplot().axes\n",
    "%pdb on\n",
    "plot_segments(ax, 6, 91600, 92100, bparts=['forepawR', 'forePawL', 'hindpawR', 'hindpawL'])\n",
    "# plt.savefig(\"plots/coords1.svg\")"
   ]
  },
  {
   "cell_type": "code",
   "execution_count": null,
   "metadata": {},
   "outputs": [],
   "source": [
    "plt.figure(figsize=(18, 6))\n",
    "ax = plt.subplot()\n",
    "plot_segments(ax, 6, 0, 300, bparts=['forepawR', 'forePawL', 'hindpawR', 'hindpawL'])\n",
    "plt.savefig(\"plots/coords2.svg\")"
   ]
  },
  {
   "cell_type": "code",
   "execution_count": null,
   "metadata": {},
   "outputs": [],
   "source": [
    "plt.figure(figsize=(12, 6))\n",
    "ax = plt.subplot()\n",
    "plot_segments(ax, 6, 0, 200, bparts=['forepawR', 'forePawL', 'hindpawR', 'hindpawL'])\n",
    "plt.savefig(\"plots/coords2\")"
   ]
  },
  {
   "cell_type": "code",
   "execution_count": null,
   "metadata": {},
   "outputs": [],
   "source": [
    "lbls = labels_dict[landmark_files[6]]\n",
    "plt.plot(lbls[11800:16000])"
   ]
  },
  {
   "cell_type": "code",
   "execution_count": null,
   "metadata": {},
   "outputs": [],
   "source": [
    "lbls = labels_dict[landmark_files[6]]\n",
    "plt.plot(lbls[800:1000])"
   ]
  },
  {
   "cell_type": "markdown",
   "metadata": {},
   "source": [
    "some histogram plots of lengths of some of the clusters"
   ]
  },
  {
   "cell_type": "code",
   "execution_count": null,
   "metadata": {},
   "outputs": [],
   "source": [
    "from collections import defaultdict\n",
    "segments = split_labels(labels)\n",
    "segment_lengths = defaultdict(list)\n",
    "for seg in segments:\n",
    "    if seg[2] < 200:\n",
    "        segment_lengths[seg[0]].append(seg[2]/(4*60))\n",
    "    \n",
    "clusters_to_plot = [19, 23, 14, 10]\n",
    "fig, axes = plt.subplots(ncols=1, nrows=len(clusters_to_plot), figsize=(8, 12), sharex=True)\n",
    "for i, cl in enumerate(clusters_to_plot):\n",
    "    axes[i].hist(segment_lengths[cl], bins=20, density=True)\n",
    "    axes[i].set_xlim(0, 0.5)"
   ]
  },
  {
   "cell_type": "markdown",
   "metadata": {},
   "source": [
    "Save examples from cluster as frames"
   ]
  },
  {
   "cell_type": "code",
   "execution_count": null,
   "metadata": {},
   "outputs": [],
   "source": [
    "import cv2 as cv\n",
    "from PIL import Image\n",
    "import importlib\n",
    "import clip_videos\n",
    "from collections import defaultdict\n",
    "importlib.reload(clip_videos)\n",
    "\n",
    "def read_clip_as_frames(cap: cv.VideoCapture, start_idx, end_idx, df, fps=10):\n",
    "    frame_gen = clip_videos.extract_labeled_cut_frames(cap, start_idx, end_idx, df)\n",
    "    write_every = int(cap.get(cv.CAP_PROP_FPS) / fps)\n",
    "    frames = []\n",
    "    for i, frame in enumerate(frame_gen):\n",
    "        if i % write_every == 0:\n",
    "            frames.append(frame)\n",
    "    return frames"
   ]
  },
  {
   "cell_type": "code",
   "execution_count": null,
   "metadata": {},
   "outputs": [],
   "source": [
    "def save_clips_as_frames(landmarks_file, cluster_segments, save_dir, min_seg_len=10, fps=20, n_samples=15):\n",
    "    if not os.path.exists(save_dir):\n",
    "        os.makedirs(save_dir, exist_ok=True)\n",
    "    video_file = re.sub(r'DeepCut.*\\.h5', '.MP4', landmarks_file.name)\n",
    "    video_file = str(landmarks_file.parent / video_file)\n",
    "    assert os.path.exists(video_file)\n",
    "    vid_cap = cv.VideoCapture(video_file)\n",
    "    vid_cap.open(video_file)\n",
    "    cluster_frames = defaultdict(list)\n",
    "    for seg in cluster_segments:\n",
    "        if seg[2] >= min_seg_len:\n",
    "            cluster_frames[seg[0]].append((seg[1], seg[2]))\n",
    "    cluster_frames = {k: v for k, v in cluster_frames.items() if len(v) >= 15}\n",
    "    cluster_samples = {c: random.choices(cl, k=n_samples) for c, cl in cluster_frames.items()}\n",
    "    df = LandmarkDataset(landmarks_file).df\n",
    "    for cl_id,  cluster in cluster_samples.items():\n",
    "        print(cl_id)\n",
    "        if not os.path.exists(save_dir / f'{cl_id}'):\n",
    "            os.makedirs(save_dir / f'{cl_id}', exist_ok=True)\n",
    "        mid_frames = [c[0] for c in cluster]\n",
    "        n_frames = [c[1] for c in cluster]\n",
    "        n_frames = int(min(60, np.mean(n_frames) + np.std(n_frames)))\n",
    "        for i, mid_frame in enumerate(mid_frames):\n",
    "            start_idx, end_idx = mid_frame - n_frames//2, mid_frame + n_frames//2\n",
    "            frames = read_clip_as_frames(vid_cap, start_idx, end_idx, df=df, fps=fps)\n",
    "            img = Image.fromarray(np.concatenate(frames, axis=1))\n",
    "            img.save(save_dir / f'{cl_id}' / f\"{i}.jpg\")\n",
    "    vid_cap.release()"
   ]
  },
  {
   "cell_type": "code",
   "execution_count": null,
   "metadata": {},
   "outputs": [],
   "source": [
    "landmarks_file = landmark_files[6]\n",
    "np.array(segment_dict[landmarks_file])[:,2].max()"
   ]
  },
  {
   "cell_type": "code",
   "execution_count": null,
   "metadata": {
    "collapsed": true,
    "jupyter": {
     "outputs_hidden": true
    }
   },
   "outputs": [],
   "source": [
    "landmarks_file = landmark_files[6]\n",
    "df = landmark_datasets[6].df\n",
    "# cluster_subset = [6, 15, 22, 7, 2, 12, 25]\n",
    "# segments = [seg for seg in segment_dict[landmarks_file] if seg[0] in cluster_subset]\n",
    "save_dir = Path(\"clusters/frames/nov_03_1/\")\n",
    "save_clips_as_frames(landmarks_file, segment_dict[landmarks_file], save_dir, n_samples=30)"
   ]
  },
  {
   "cell_type": "code",
   "execution_count": null,
   "metadata": {},
   "outputs": [],
   "source": [
    "import dataloader\n",
    "importlib.reload(dataloader)\n",
    "\n",
    "class VideoCaptureWrapper(object):\n",
    "    def __init__(self, vid_file, *args, **kwargs):\n",
    "        self.vid_file = str(vid_file)\n",
    "        self.vid_stream = cv.VideoCapture(self.vid_file, *args, **kwargs)\n",
    "        \n",
    "    def __enter__(self):\n",
    "        self.vid_stream.open(self.vid_file)\n",
    "        return self\n",
    "    \n",
    "    def __exit__(self, *args):\n",
    "        self.vid_stream.release()\n",
    "        \n",
    "    def __getattr__(self, att):\n",
    "        return self.vid_stream.__getattribute__(att)\n",
    "    \n",
    "    def set(self, *args):\n",
    "        return self.vid_stream.set(*args)\n",
    "    \n",
    "    def get(self, *args):\n",
    "        return self.vid_stream.get(*args)\n",
    "\n",
    "\n",
    "class Video(object):\n",
    "    def __init__(self, video_file):\n",
    "        self.video_file = str(video_file)\n",
    "        self.cap = VideoCaptureWrapper(self.video_file)\n",
    "        self.fps = int(np.round(self.cap.get(cv.CAP_PROP_FPS)))\n",
    "        self.shape = np.array((self.cap.get(cv.CAP_PROP_FRAME_HEIGHT), self.cap.get(cv.CAP_PROP_FRAME_WIDTH)), dtype=np.int)\n",
    "    \n",
    "    def __len__(self):\n",
    "        return self.cap.get(cv.CAP_PROP_FRAME_COUNT)\n",
    "    \n",
    "    @property\n",
    "    def _shape(self):\n",
    "        return np.array((self.cap.get(cv.CAP_PROP_FRAME_HEIGHT), self.cap.get(cv.CAP_PROP_FRAME_WIDTH)), dtype=np.int)\n",
    "    \n",
    "    def __getitem__(self, idx):\n",
    "        if isinstance(idx, slice):\n",
    "            return self.get_slice(idx)\n",
    "        with self.cap:\n",
    "            self.cap.set(cv.CAP_PROP_POS_FRAMES, idx)\n",
    "            ret, frame = self.cap.read()\n",
    "            if ret:\n",
    "                return frame\n",
    "            else:\n",
    "                raise Exception(\"frame not found\")\n",
    "            \n",
    "    def get_slice(self, s):\n",
    "        frames = []\n",
    "        with self.cap as cap:\n",
    "            step = 1 if s.step is None else s.step\n",
    "            start = 0 if s.start is None else s.start\n",
    "            stop = len(self) if s.stop is None else s.stop\n",
    "            cap.set(cv.CAP_PROP_POS_FRAMES, start)\n",
    "            for i in range(stop - start):\n",
    "                ret, frame = cap.read()\n",
    "                if not ret:\n",
    "                    self.cap.release()\n",
    "                    raise Exeption(\"frame not found\")\n",
    "                if i % step == 0:\n",
    "                    frames.append(frame)\n",
    "        return frames\n",
    "    \n",
    "    def __iter__(self):\n",
    "        self.cap.open(self.video_file)\n",
    "        return self\n",
    "    \n",
    "    def __next__(self):\n",
    "        ret, frame = self.cap.read()\n",
    "        if ret:\n",
    "            return frame\n",
    "        else:\n",
    "            self.cap.release()\n",
    "\n",
    "            \n",
    "def get_files(vid_dir):\n",
    "    for file in os.listdir(vid_dir):\n",
    "        if re.match(r'\\d*\\.MP4', file):\n",
    "            vid_file = vid_dir / file\n",
    "            vid_id = file[:4]\n",
    "            landmarks_file = vid_dir / f'{vid_id}DeepCut_resnet50_Down2May25shuffle1_1030000.h5'\n",
    "            return vid_file, landmarks_file\n",
    "        \n",
    "color_pallete = [(0,204,0),(255,255,0),(255,102,102),(255,102,178),(102,0,204),(0,0,204),(0,128,255),(51,255,255),(204,255,204),(153,153,0),(153,0,76),(76,0,153,),(160,160,160)]\n",
    "\n",
    "class LandmarksVideo(object):\n",
    "    color_pallete = [(0,204,0),(255,255,0),(255,102,102),(255,102,178),(102,0,204),(0,0,204),(0,128,255),(51,255,255),(204,255,204),(153,153,0),(153,0,76),(76,0,153,),(160,160,160)]\n",
    "    def __init__(self, vid_dir=data_root/'2020-03-23'/'Down'):\n",
    "        self.vid_dir = vid_dir\n",
    "        vid_file, landmarks_file = get_files(vid_dir)\n",
    "        self.video = Video(vid_file)\n",
    "        self.landmarks = dataloader.LandmarkDataset(landmarks_file, normalize=False)\n",
    "        self.normalized_landmarks = dataloader.LandmarkDataset(landmarks_file, normalize=True)\n",
    "        \n",
    "    def __getitem__(self, idx):\n",
    "        if isinstance(idx, slice):\n",
    "            return self.get_slice(idx)\n",
    "        frame = self.video[idx]\n",
    "        landmarks = self.landmarks[idx]\n",
    "        min_xy, max_xy = landmarks.min(0) - 30, landmarks.max(0) + 30\n",
    "        min_xy, max_xy = np.clip(min_xy, 0, self.video.shape).astype(np.int), np.clip(max_xy, 0, self.video.shape).astype(np.int)\n",
    "        cut_frame = frame[min_xy[1]:max_xy[1], min_xy[0]:max_xy[0]].copy()\n",
    "        for j, part in enumerate(self.landmarks.body_parts):\n",
    "            x, y = landmarks[j].astype(np.int) - min_xy\n",
    "            cv.circle(cut_frame, (x, y), 5, self.color_pallete[j], -1)\n",
    "        return cut_frame\n",
    "    \n",
    "    def get_slice(self, s):\n",
    "        frames = np.stack(self.video[s], axis=0)\n",
    "        landmarks = self.landmarks[s]\n",
    "        min_xy, max_xy = landmarks.min((0, 1)) - 20, landmarks.max((0, 1)) + 20\n",
    "        min_xy, max_xy = np.clip(min_xy, 0, self.video.shape).astype(np.int), np.clip(max_xy, 0, self.video.shape).astype(np.int)\n",
    "        cut_frames = frames[:, min_xy[1]:max_xy[1], min_xy[0]:max_xy[0]].copy()\n",
    "        for i in range(len(landmarks)):\n",
    "            for j, part in enumerate(self.landmarks.body_parts):\n",
    "                x, y = landmarks[i, j].astype(np.int) - min_xy\n",
    "                cv.circle(cut_frames[i], (x, y), 5, self.color_pallete[j], -1)\n",
    "        return cut_frames\n"
   ]
  },
  {
   "cell_type": "code",
   "execution_count": null,
   "metadata": {},
   "outputs": [],
   "source": [
    "landmarks_file = landmark_files[6]\n",
    "video = LandmarksVideo(landmarks_file.parent)\n",
    "cluster_id = 3\n",
    "[seg for seg in segment_dict[landmarks_file] if seg[0]==cluster_id]\n",
    "seg = segment_dict[landmarks_file][304]\n",
    "try:\n",
    "    frames = video[seg[1]:seg[1] + seg[2]:12]\n",
    "except ValueError:\n",
    "    pass"
   ]
  },
  {
   "cell_type": "code",
   "execution_count": null,
   "metadata": {},
   "outputs": [],
   "source": [
    "os.makedirs('clips', exist_ok=True)\n",
    "for cluster_id, start, length in segment_dict[landmarks_file]:\n",
    "    os.makedirs(f'clips/{cluster_id}', exist_ok=True)\n",
    "    if length >= 12 * 3:\n",
    "        *frames, = video[start: start + length: 12]\n",
    "        concat = np.concatenate(frames, axis=1)\n",
    "        Image.fromarray(concat).save(f'clips/{cluster_id}/{start}.png')"
   ]
  },
  {
   "cell_type": "code",
   "execution_count": null,
   "metadata": {},
   "outputs": [],
   "source": [
    "for landmark_file in landmark_files:\n",
    "    video = LandmarksVideo(landmark_file.parent)\n",
    "    os.makedirs('clusters/frames/11_10', exist_ok=True)\n",
    "    for cluster_id, start, length in segment_dict[landmark_file]:\n",
    "        os.makedirs(f'clusters/frames/11_10/{cluster_id}', exist_ok=True)\n",
    "        if length >= 12 * 3:\n",
    "            *frames, = video[start: start + length: 10]\n",
    "            concat = np.concatenate(frames, axis=1)\n",
    "            Image.fromarray(concat).save(f'clusters/frames/11_10/{cluster_id}/{start}.png')\n",
    "            concat = np.concatenate(frames, axis=0)\n",
    "            Image.fromarray(concat).save(f'clusters/frames/11_10/{cluster_id}/{start}_.png')"
   ]
  },
  {
   "cell_type": "code",
   "execution_count": null,
   "metadata": {},
   "outputs": [],
   "source": [
    "1"
   ]
  },
  {
   "cell_type": "code",
   "execution_count": null,
   "metadata": {},
   "outputs": [],
   "source": [
    "seg = segment_dict[landmarks_file][304]\n",
    "try:\n",
    "    *frames, = video[seg[1]:seg[1] + seg[2]:12]\n",
    "except ValueError:\n",
    "    pass"
   ]
  },
  {
   "cell_type": "code",
   "execution_count": null,
   "metadata": {},
   "outputs": [],
   "source": [
    "Image.fromarray(np.concatenate(frames, axis=1))"
   ]
  },
  {
   "cell_type": "markdown",
   "metadata": {},
   "source": [
    "# Saving clips of clusters from the videos"
   ]
  },
  {
   "cell_type": "code",
   "execution_count": null,
   "metadata": {},
   "outputs": [],
   "source": [
    "import cv2 as cv\n",
    "import importlib\n",
    "import random\n",
    "import clip_videos\n",
    "from collections import defaultdict\n",
    "importlib.reload(clip_videos)\n",
    "\n",
    "# save clips for each cluster from a single video\n",
    "def save_clips(landmarks_file, cluster_segments, save_dir, min_seg_len=10):\n",
    "    if not os.path.exists(save_dir):\n",
    "        os.makedirs(save_dir, exist_ok=True)\n",
    "    video_file = re.sub(r'DeepCut.*\\.h5', '.MP4', landmarks_file.name)\n",
    "    video_file = landmarks_file.parent / video_file\n",
    "    assert os.path.exists(video_file)\n",
    "    cluster_frames = defaultdict(list)\n",
    "    for seg in cluster_segments:\n",
    "        if seg[2] >= min_seg_len:\n",
    "            cluster_frames[seg[0]].append((seg[1] + seg[2]//2, seg[2]//2))\n",
    "    cluster_frames = {k: v for k, v in cluster_frames.items() if len(v) >= 15}\n",
    "    cluster_samples = {c: random.choices(cl, k=15) for c, cl in cluster_frames.items()}\n",
    "    df = LandmarkDataset(landmarks_file).df\n",
    "    for cl_id,  cluster in cluster_samples.items():\n",
    "        mid_frames = [c[0] for c in cluster]\n",
    "        n_frames = [c[1] for c in cluster]\n",
    "        n_frames = int(min(60, np.mean(n_frames) + np.std(n_frames)))\n",
    "        clip_videos.save_collage_with_labels_short(str(video_file), df, mid_frames, n_frames_around=n_frames,\n",
    "                                             save_file=f'{save_dir}/cluster_{cl_id}.mp4')"
   ]
  },
  {
   "cell_type": "markdown",
   "metadata": {},
   "source": [
    "save clips from all videos, from each video in a seoperate directory."
   ]
  },
  {
   "cell_type": "code",
   "execution_count": null,
   "metadata": {},
   "outputs": [],
   "source": [
    "for lfile, segments in segment_dict.items():\n",
    "    save_dir = f'clusters/sept15/{lfile.name[:4]}'\n",
    "    if not os.path.exists(save_dir):\n",
    "        save_clips(lfile, segments, save_dir)"
   ]
  },
  {
   "cell_type": "markdown",
   "metadata": {},
   "source": [
    "## Not really important"
   ]
  },
  {
   "cell_type": "code",
   "execution_count": null,
   "metadata": {},
   "outputs": [],
   "source": [
    "from collections import defaultdict\n",
    "import random\n",
    "split_at = np.where(np.diff(labels) != 0)[0] + 1\n",
    "sequence = [[s[0], split_at[i-1], len(s)] for i, s in enumerate(np.split(labels, indices_or_sections=split_at))]\n",
    "sequence[0][1] = 0\n",
    "seg_lengths = defaultdict(list)\n",
    "for seg in sequence:\n",
    "    seg_lengths[seg[0]].append(seg[2])\n",
    "\n",
    "sequence = [seq for seq in sequence if seq[2] > 5]\n",
    "\n",
    "cluster_frames = defaultdict(list)\n",
    "for seq in sequence:\n",
    "    cluster_frames[seq[0]].append((seq[1]*4 + seq[2]*2, seq[2]*2))\n",
    "\n",
    "cluster_frames = {c:cl for c, cl in cluster_frames.items() if len(cl)>25}\n",
    "# len(cluster_frames)\n",
    "cluster_samples = {c: random.choices(cl, k=15) for c, cl in cluster_frames.items()}"
   ]
  },
  {
   "cell_type": "code",
   "execution_count": null,
   "metadata": {},
   "outputs": [],
   "source": [
    "import cv2 as cv\n",
    "import importlib\n",
    "import clip_videos\n",
    "importlib.reload(clip_videos)\n",
    "\n",
    "video_file = data_root/'2020-03-23'/'Down'/'0008DeepCut_resnet50_Down2May25shuffle1_1030000_labeled.mp4'"
   ]
  },
  {
   "cell_type": "code",
   "execution_count": null,
   "metadata": {},
   "outputs": [],
   "source": [
    "for cl_id,  cluster in cluster_samples.items():\n",
    "    n_frames = [c[1] for c in cluster]\n",
    "    print(cl_id, np.mean(n_frames), np.std(n_frames))"
   ]
  },
  {
   "cell_type": "code",
   "execution_count": null,
   "metadata": {},
   "outputs": [],
   "source": [
    "df = LandmarkDataset(landmarks_file).df\n",
    "for cl_id,  cluster in cluster_samples.items():\n",
    "    mid_frames = [c[0] for c in cluster]\n",
    "    n_frames = [c[1] for c in cluster]\n",
    "    n_frames = int(min(60, np.mean(n_frames) + np.std(n_frames)))\n",
    "    print(mid_frames)\n",
    "    clip_videos.save_collage_with_labels_short(str(video_file), df, mid_frames, n_frames_around=n_frames,\n",
    "                                         save_file=f'clusters/example_1/cluster_{cl_id}.mp4')"
   ]
  },
  {
   "cell_type": "code",
   "execution_count": null,
   "metadata": {},
   "outputs": [],
   "source": [
    "!ls clusters/example_1"
   ]
  },
  {
   "cell_type": "code",
   "execution_count": null,
   "metadata": {},
   "outputs": [],
   "source": [
    "# sequence = [seq[0] for seq in sequence]\n",
    "from collections import defaultdict, Counter\n",
    "\n",
    "def count_ngrams(sequence, max_n=10):\n",
    "    N = len(sequence)\n",
    "    counter = defaultdict(int)\n",
    "    for k in range(1, max_n):\n",
    "        for i in range(N-k):\n",
    "            counter[tuple(sequence[i:i+k])] += 1\n",
    "    return counter\n",
    "\n",
    "def segment_sequence(sequence, max_n=5):\n",
    "    N = len(sequence)\n",
    "    sequence = tuple(sequence)\n",
    "    ngram_count = count_ngrams(sequence, max_n=max_n)\n",
    "    u_arr = np.zeros(N - 1)\n",
    "    for k in range(0, N - 1):\n",
    "        u_k = 0\n",
    "        for n in range(2, min(max_n, k, N-k)):\n",
    "            s_1, s_2 = ngram_count[sequence[k-n+1:k+1]], ngram_count[sequence[k+1:k+n+1]]\n",
    "            u_k += np.mean([1 if s_1 >= ngram_count[sequence[k-n+i+1:k+i+1]] else 0 for i in range(1, n)])\n",
    "            u_k += np.mean([1 if s_2 >= ngram_count[sequence[k-n+i+1:k+i+1]] else 0 for i in range(1, n)])\n",
    "        u_arr[k] = u_k / max_n / 2\n",
    "    \n",
    "    sequence = list(sequence)\n",
    "    segments = []\n",
    "    prev_idx = 0\n",
    "    for idx in range(1, N-1):\n",
    "        if u_arr[idx-1] < u_arr[idx] and u_arr[idx+1] < u_arr[idx]:\n",
    "            segments.append(sequence[prev_idx:idx+1])\n",
    "            prev_idx = idx+1\n",
    "\n",
    "    segments.append(sequence[prev_idx:])\n",
    "    return segments\n",
    "\n",
    "segments = segment_sequence(sequence, max_n=10)"
   ]
  },
  {
   "cell_type": "code",
   "execution_count": null,
   "metadata": {},
   "outputs": [],
   "source": [
    "Counter(map(tuple, segments)).most_common(30)"
   ]
  },
  {
   "cell_type": "code",
   "execution_count": null,
   "metadata": {},
   "outputs": [],
   "source": [
    "plt.figure(figsize=(20, 4))\n",
    "plt.plot(labels[:2000])"
   ]
  },
  {
   "cell_type": "code",
   "execution_count": null,
   "metadata": {},
   "outputs": [],
   "source": [
    "labels[:100]\n",
    "27, 8, 26, 4, 10, 27, 8, 26, 4, 10, 27, 8, 26"
   ]
  },
  {
   "cell_type": "code",
   "execution_count": null,
   "metadata": {},
   "outputs": [],
   "source": [
    "plt.figure(figsize=(20, 4))\n",
    "plt.plot(labels[3*10**4+1500:3*10**4+3000])"
   ]
  },
  {
   "cell_type": "code",
   "execution_count": null,
   "metadata": {},
   "outputs": [],
   "source": []
  },
  {
   "cell_type": "code",
   "execution_count": null,
   "metadata": {},
   "outputs": [],
   "source": [
    "plt.figure(figsize=(20, 4))\n",
    "plt.plot(labels[10**5+1500:10**5+3000])\n",
    "# plt.plot(labels[250:400])"
   ]
  },
  {
   "cell_type": "code",
   "execution_count": null,
   "metadata": {},
   "outputs": [],
   "source": [
    "re.search(r\"(a+b+c+)+\", \"daaabbbccabc\")"
   ]
  },
  {
   "cell_type": "code",
   "execution_count": null,
   "metadata": {},
   "outputs": [],
   "source": [
    "chars = [chr(i) for i in range(ord('A'), ord('Z'))] + [chr(i) for i in range(ord('a'), ord('z'))]\n",
    "labels_string = ''.join([chars[l] for l in labels])\n",
    "labels_string[280:400]"
   ]
  },
  {
   "cell_type": "code",
   "execution_count": null,
   "metadata": {},
   "outputs": [],
   "source": [
    "pat = re.compile(r\"(K+Q+M+d+b+)+\")\n",
    "spans = [match.span() for match in re.finditer(pat, labels_string)]\n",
    "span_lengths = [span[1] - span[0] for span in spans]\n",
    "spans[3] "
   ]
  },
  {
   "cell_type": "code",
   "execution_count": null,
   "metadata": {},
   "outputs": [],
   "source": [
    "pat = re.compile(r\"K+(?!Q*K+)\")\n",
    "fspans = [match.span() for match in re.finditer(pat, labels_string)]\n",
    "fspans = [(max(0, s[0]-30), s[1]+30) for s in fspans]\n",
    "fig, axes = plt.subplots(nrows=10, ncols=2, figsize=(18, 20))\n",
    "for i in range(10):    \n",
    "    for ipart, part in enumerate(landmarks_data.body_parts):\n",
    "        if part in ['forepawR', 'forePawL', 'hindpawR', 'hindpawL']:\n",
    "            axes[i][0].plot(coords[fspans[i][0]+15: fspans[i][1]+15,ipart,0], label=f\"{part}_x\")\n",
    "            axes[i][0].plot(coords[fspans[i][0]+15: fspans[i][1]+15,ipart,1], label=f\"{part}_y\")\n",
    "    axes[i][1].plot(labels[slice(*fspans[i])])\n",
    "    axes[i][0].legend(loc='right')"
   ]
  },
  {
   "cell_type": "code",
   "execution_count": null,
   "metadata": {},
   "outputs": [],
   "source": [
    "print(len(re.findall(r\"K+(?!K*Q+)\", labels_string)))\n",
    "print(len(re.findall(r\"K+Q+(?!Q*M+)\", labels_string)))\n",
    "print(len(re.findall(r\"K+Q+M+(?!M*d+)\", labels_string)))\n",
    "print(len(re.findall(r\"K+Q+M+d+(?!d*b+)\", labels_string)))\n"
   ]
  },
  {
   "cell_type": "code",
   "execution_count": null,
   "metadata": {},
   "outputs": [],
   "source": [
    "fig, axes = plt.subplots(nrows=50, ncols=2, figsize=(18, 200))\n",
    "for i in range(50):    \n",
    "    for ipart, part in enumerate(landmarks_data.body_parts):\n",
    "        if part in ['forepawR', 'forePawL', 'hindpawR', 'hindpawL']:\n",
    "            axes[i][0].plot(coords[spans[i][0]+15: spans[i][1]+15,ipart,0], label=f\"{part}_x\")\n",
    "            axes[i][0].plot(coords[spans[i][0]+15: spans[i][1]+15,ipart,1], label=f\"{part}_y\")\n",
    "    axes[i][1].plot(labels[slice(*spans[i])])\n",
    "    axes[i][0].legend(loc='right')"
   ]
  },
  {
   "cell_type": "code",
   "execution_count": null,
   "metadata": {},
   "outputs": [],
   "source": [
    "plt.figure(figsize=(20, 4))\n",
    "plt.plot(labels[:1000])"
   ]
  },
  {
   "cell_type": "code",
   "execution_count": null,
   "metadata": {},
   "outputs": [],
   "source": [
    "n_clusters = len(set(labels))\n",
    "transition_matrix = np.zeros((n_clusters, n_clusters))\n",
    "for i in range(len(labels) - 1):\n",
    "    transition_matrix[labels[i], labels[i+1]] += 1.\n",
    "\n",
    "np.fill_diagonal(transition_matrix, val=0)\n",
    "\n",
    "transition_matrix /= transition_matrix.sum(axis=0, keepdims=True)\n",
    "plt.imshow(transition_matrix)"
   ]
  },
  {
   "cell_type": "code",
   "execution_count": null,
   "metadata": {},
   "outputs": [],
   "source": [
    "def split(idx_arr):\n",
    "    to_split = np.where(np.abs(np.diff(idx_arr)) > 1)[0] + 1\n",
    "    return np.split(idx_arr, indices_or_sections=to_split)\n",
    "behaviors = [split(np.where(y_gold==lbl)[0]) for lbl in set(y_gold)]\n",
    "sections = [np.stack([np.mean(X_encoded[sec], axis=0) for sec in beh]) for beh in behaviors]\n",
    "sections[1].shape"
   ]
  }
 ],
 "metadata": {
  "kernelspec": {
   "display_name": "Python 3",
   "language": "python",
   "name": "python3"
  },
  "language_info": {
   "codemirror_mode": {
    "name": "ipython",
    "version": 3
   },
   "file_extension": ".py",
   "mimetype": "text/x-python",
   "name": "python",
   "nbconvert_exporter": "python",
   "pygments_lexer": "ipython3",
   "version": "3.8.6"
  }
 },
 "nbformat": 4,
 "nbformat_minor": 4
}
