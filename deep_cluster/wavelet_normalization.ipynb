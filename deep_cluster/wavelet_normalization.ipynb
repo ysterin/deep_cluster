{
 "cells": [
  {
   "cell_type": "code",
   "execution_count": 2,
   "metadata": {},
   "outputs": [],
   "source": [
    "import torch\n",
    "from torch import utils\n",
    "import pandas as pd\n",
    "import numpy as np\n",
    "from pathlib import Path \n",
    "from matplotlib import pyplot as plt\n",
    "from deep_cluster.dataloader import *\n",
    "pd.set_option('mode.chained_assignment', None)\n",
    "\n",
    "import os\n",
    "import re\n",
    "import numpy as np\n",
    "import scipy.signal as sig\n",
    "import pandas as pd\n",
    "\n",
    "# root directory of data\n",
    "data_root = Path(\"/home/orel/Storage/Data/K6/\")\n",
    "landmark_files = []\n",
    "for subdir in os.listdir(data_root):\n",
    "    for file in os.listdir(data_root/subdir/'Down'):\n",
    "        if re.match(r\"00\\d*DeepCut_resnet50_Down2May25shuffle1_1030000\\.h5\", file):\n",
    "            lfile = data_root/subdir/'Down'/file\n",
    "            landmark_files.append(lfile)\n"
   ]
  },
  {
   "cell_type": "markdown",
   "metadata": {},
   "source": [
    "## TODO:  \n",
    "Try using square root to normalize the wavelets, see hoe it affects  kurtosis and histogram."
   ]
  },
  {
   "cell_type": "code",
   "execution_count": 3,
   "metadata": {},
   "outputs": [],
   "source": [
    "def calc_wavelet_transform(feature_data, min_width=12, max_width=120, n_waves=25):\n",
    "    wavelet_widths = np.logspace(np.log10(min_width), np.log10(max_width), n_waves)\n",
    "    transformed = sig.cwt(feature_data, sig.morlet2, widths=wavelet_widths)\n",
    "    transformed /= wavelet_widths[:,np.newaxis]\n",
    "    return np.abs(transformed)\n",
    "\n",
    "# A dataset of landmarks\n",
    "# args: landmarks file: .h5 file of landmarks, from DeepLabCut\n",
    "class LandmarkWaveletDataset(utils.data.Dataset):\n",
    "    def __init__(self, landmarks_file, normalize=True, data=None, eps=3e-2):\n",
    "        super(LandmarkWaveletDataset, self).__init__()\n",
    "        self.file = landmarks_file\n",
    "        self.normalize = normalize\n",
    "        self.landmarks = LandmarkDataset(self.file, normalize)\n",
    "        if data is None:\n",
    "            coords = sig.decimate(self.landmarks.coords, q=4, axis=0)\n",
    "            coords = coords.reshape((len(coords), -1))\n",
    "            self.data = [calc_wavelet_transform(feat_data, min_width=2, max_width=30, n_waves=20) for feat_data in coords.T]\n",
    "            self.data = np.concatenate(self.data, axis=0).T\n",
    "            self.data = np.log(self.data + eps) + 2\n",
    "        else:\n",
    "            self.data = data\n",
    "        \n",
    "    def __getitem__(self, idx):\n",
    "        if isinstance(idx, slice):\n",
    "            return LandmarkWaveletDataset(self.file, self.normalize, data=self.data[idx])\n",
    "        return self.data[idx]\n",
    "    \n",
    "    def __len__(self):\n",
    "        return self.data.shape[0]\n"
   ]
  },
  {
   "cell_type": "code",
   "execution_count": 4,
   "metadata": {},
   "outputs": [
    {
     "name": "stdout",
     "output_type": "stream",
     "text": [
      "0 /home/orel/Storage/Data/K6/2020-03-26/Down/0011DeepCut_resnet50_Down2May25shuffle1_1030000.h5\n",
      "1 /home/orel/Storage/Data/K6/2020-03-22/Down/0007DeepCut_resnet50_Down2May25shuffle1_1030000.h5\n",
      "2 /home/orel/Storage/Data/K6/2020-03-18/Down/0003DeepCut_resnet50_Down2May25shuffle1_1030000.h5\n",
      "3 /home/orel/Storage/Data/K6/2020-03-31/Down/0015DeepCut_resnet50_Down2May25shuffle1_1030000.h5\n",
      "4 /home/orel/Storage/Data/K6/2020-03-24/Down/0009DeepCut_resnet50_Down2May25shuffle1_1030000.h5\n",
      "5 /home/orel/Storage/Data/K6/2020-03-25/Down/0010DeepCut_resnet50_Down2May25shuffle1_1030000.h5\n",
      "6 /home/orel/Storage/Data/K6/2020-03-19/Down/0004DeepCut_resnet50_Down2May25shuffle1_1030000.h5\n",
      "8 /home/orel/Storage/Data/K6/2020-03-29/Down/0013DeepCut_resnet50_Down2May25shuffle1_1030000.h5\n",
      "9 /home/orel/Storage/Data/K6/2020-03-30/Down/0014DeepCut_resnet50_Down2May25shuffle1_1030000.h5\n",
      "10 /home/orel/Storage/Data/K6/2020-03-27/Down/0012DeepCut_resnet50_Down2May25shuffle1_1030000.h5\n",
      "11 /home/orel/Storage/Data/K6/2020-04-06/Down/0016DeepCut_resnet50_Down2May25shuffle1_1030000.h5\n"
     ]
    }
   ],
   "source": [
    "for i, f in list(enumerate(landmark_files)):\n",
    "    print(i, f)\n",
    "    ds = LandmarkWaveletDataset(f)"
   ]
  },
  {
   "cell_type": "code",
   "execution_count": null,
   "metadata": {},
   "outputs": [],
   "source": [
    "for i, f in list(enumerate(landmark_files))[::-1]:\n",
    "    print(i, f)\n",
    "    ds = LandmarkWaveletDataset(f)"
   ]
  },
  {
   "cell_type": "code",
   "execution_count": 6,
   "metadata": {},
   "outputs": [],
   "source": [
    "ds = LandmarkWaveletDataset(landmark_files[8])\n",
    "dsets = [LandmarkWaveletDataset(f) for f in landmark_files[:5]]"
   ]
  },
  {
   "cell_type": "code",
   "execution_count": 11,
   "metadata": {},
   "outputs": [
    {
     "data": {
      "text/plain": [
       "2856107520"
      ]
     },
     "execution_count": 11,
     "metadata": {},
     "output_type": "execute_result"
    }
   ],
   "source": [
    "np.prod(dsets[0].data.shape) * 4 * 12"
   ]
  },
  {
   "cell_type": "code",
   "execution_count": 1,
   "metadata": {},
   "outputs": [
    {
     "ename": "NameError",
     "evalue": "name 'utils' is not defined",
     "output_type": "error",
     "traceback": [
      "\u001b[0;31m---------------------------------------------------------------------------\u001b[0m",
      "\u001b[0;31mNameError\u001b[0m                                 Traceback (most recent call last)",
      "\u001b[0;32m<ipython-input-1-0c0b874581a2>\u001b[0m in \u001b[0;36m<module>\u001b[0;34m\u001b[0m\n\u001b[0;32m----> 1\u001b[0;31m \u001b[0mds1\u001b[0m \u001b[0;34m=\u001b[0m \u001b[0mutils\u001b[0m\u001b[0;34m.\u001b[0m\u001b[0mdata\u001b[0m\u001b[0;34m.\u001b[0m\u001b[0mConcatDataset\u001b[0m\u001b[0;34m(\u001b[0m\u001b[0;34m[\u001b[0m\u001b[0mds\u001b[0m\u001b[0;34m[\u001b[0m\u001b[0;34m:\u001b[0m\u001b[0;36m1000\u001b[0m\u001b[0;34m]\u001b[0m\u001b[0;34m,\u001b[0m \u001b[0mds\u001b[0m\u001b[0;34m[\u001b[0m\u001b[0;36m10000\u001b[0m\u001b[0;34m:\u001b[0m\u001b[0;36m11000\u001b[0m\u001b[0;34m]\u001b[0m\u001b[0;34m]\u001b[0m\u001b[0;34m)\u001b[0m\u001b[0;34m\u001b[0m\u001b[0;34m\u001b[0m\u001b[0m\n\u001b[0m",
      "\u001b[0;31mNameError\u001b[0m: name 'utils' is not defined"
     ]
    }
   ],
   "source": [
    "ds1 = utils.data.ConcatDataset([ds[:1000], ds[10000:11000]])"
   ]
  },
  {
   "cell_type": "code",
   "execution_count": 96,
   "metadata": {},
   "outputs": [
    {
     "data": {
      "text/plain": [
       "-1.8518811694883994"
      ]
     },
     "execution_count": 96,
     "metadata": {},
     "output_type": "execute_result"
    }
   ],
   "source": [
    "ds.data[ds.data > ds.data.min() + 1e-3].mean()"
   ]
  },
  {
   "cell_type": "code",
   "execution_count": 95,
   "metadata": {},
   "outputs": [
    {
     "data": {
      "text/plain": [
       "(-3.506557897319982, 1.030454533953517)"
      ]
     },
     "execution_count": 95,
     "metadata": {},
     "output_type": "execute_result"
    }
   ],
   "source": [
    "ds.data.min(), np.exp(3e-2)"
   ]
  },
  {
   "cell_type": "code",
   "execution_count": 89,
   "metadata": {},
   "outputs": [
    {
     "data": {
      "text/plain": [
       "<matplotlib.image.AxesImage at 0x7f043521d880>"
      ]
     },
     "execution_count": 89,
     "metadata": {},
     "output_type": "execute_result"
    },
    {
     "data": {
      "image/png": "[encoded data removed]",
      "text/plain": [
       "<Figure size 432x288 with 1 Axes>"
      ]
     },
     "metadata": {
      "needs_background": "light"
     },
     "output_type": "display_data"
    }
   ],
   "source": [
    "plt.imshow(ds.data.mean(axis=0).reshape(24, 20))"
   ]
  },
  {
   "cell_type": "code",
   "execution_count": 78,
   "metadata": {},
   "outputs": [
    {
     "data": {
      "text/plain": [
       "1.2135759579664385"
      ]
     },
     "execution_count": 78,
     "metadata": {},
     "output_type": "execute_result"
    },
    {
     "data": {
      "image/png": "[encoded data removed]",
      "text/plain": [
       "<Figure size 432x288 with 1 Axes>"
      ]
     },
     "metadata": {
      "needs_background": "light"
     },
     "output_type": "display_data"
    }
   ],
   "source": [
    "plt.imshow(ds.data.mean(axis=0).reshape(24, 20))\n",
    "ds.data.std()"
   ]
  },
  {
   "cell_type": "code",
   "execution_count": 82,
   "metadata": {},
   "outputs": [
    {
     "data": {
      "text/plain": [
       "[<matplotlib.lines.Line2D at 0x7f0434574820>]"
      ]
     },
     "execution_count": 82,
     "metadata": {},
     "output_type": "execute_result"
    },
    {
     "data": {
      "image/png": "[encoded data removed]",
      "text/plain": [
       "<Figure size 432x288 with 1 Axes>"
      ]
     },
     "metadata": {
      "needs_background": "light"
     },
     "output_type": "display_data"
    }
   ],
   "source": [
    "plt.plot(ds.data.mean(axis=0).reshape(24, 20).mean(axis=0))\n",
    "plt.plot(ds.data.std(axis=0).reshape(24, 20).mean(axis=0))"
   ]
  },
  {
   "cell_type": "code",
   "execution_count": 79,
   "metadata": {},
   "outputs": [
    {
     "data": {
      "text/plain": [
       "[<matplotlib.lines.Line2D at 0x7f04358b9190>]"
      ]
     },
     "execution_count": 79,
     "metadata": {},
     "output_type": "execute_result"
    },
    {
     "data": {
      "image/png": "[encoded data removed]",
      "text/plain": [
       "<Figure size 432x288 with 1 Axes>"
      ]
     },
     "metadata": {
      "needs_background": "light"
     },
     "output_type": "display_data"
    }
   ],
   "source": [
    "plt.plot(ds.data.mean(axis=0).reshape(24, 20).mean(axis=0))\n",
    "plt.plot(ds.data.std(axis=0).reshape(24, 20).mean(axis=0))"
   ]
  },
  {
   "cell_type": "code",
   "execution_count": 83,
   "metadata": {},
   "outputs": [
    {
     "data": {
      "text/plain": [
       "1"
      ]
     },
     "execution_count": 83,
     "metadata": {},
     "output_type": "execute_result"
    },
    {
     "data": {
      "image/png": "[encoded data removed]",
      "text/plain": [
       "<Figure size 432x288 with 1 Axes>"
      ]
     },
     "metadata": {
      "needs_background": "light"
     },
     "output_type": "display_data"
    }
   ],
   "source": [
    "lg = False\n",
    "plt.hist(ds.data.flatten(), bins=200, log=lg, alpha=0.5)\n",
    "# plt.hist(np.random.laplace(loc=data.mean(), scale=np.abs(data-data.mean()).mean(), size=len(data.flatten())), log=lg, alpha=0.5, bins=200)\n",
    "plt.hist(np.random.normal(loc=ds.data.mean(), scale=ds.data.std(), size=len(ds.data.flatten())), log=lg, alpha=0.5, bins=200)\n",
    "plt.ylim((0, 2e6))\n",
    "1"
   ]
  },
  {
   "cell_type": "code",
   "execution_count": 69,
   "metadata": {},
   "outputs": [
    {
     "data": {
      "text/plain": [
       "1"
      ]
     },
     "execution_count": 69,
     "metadata": {},
     "output_type": "execute_result"
    },
    {
     "data": {
      "image/png": "[encoded data removed]",
      "text/plain": [
       "<Figure size 432x288 with 1 Axes>"
      ]
     },
     "metadata": {
      "needs_background": "light"
     },
     "output_type": "display_data"
    }
   ],
   "source": [
    "lg = False\n",
    "plt.hist(ds.data.flatten(), bins=200, log=lg, alpha=0.5)\n",
    "# plt.hist(np.random.laplace(loc=data.mean(), scale=np.abs(data-data.mean()).mean(), size=len(data.flatten())), log=lg, alpha=0.5, bins=200)\n",
    "plt.hist(np.random.normal(loc=ds.data.mean(), scale=ds.data.std(), size=len(ds.data.flatten())), log=lg, alpha=0.5, bins=200)\n",
    "plt.ylim((0, 2e6))\n",
    "1"
   ]
  },
  {
   "cell_type": "code",
   "execution_count": 29,
   "metadata": {},
   "outputs": [
    {
     "data": {
      "text/plain": [
       "-1.7774274779722163e-08"
      ]
     },
     "execution_count": 29,
     "metadata": {},
     "output_type": "execute_result"
    }
   ],
   "source": [
    "data.mean()"
   ]
  },
  {
   "cell_type": "code",
   "execution_count": 39,
   "metadata": {},
   "outputs": [
    {
     "data": {
      "text/plain": [
       "1"
      ]
     },
     "execution_count": 39,
     "metadata": {},
     "output_type": "execute_result"
    },
    {
     "data": {
      "image/png": "[encoded data removed]",
      "text/plain": [
       "<Figure size 432x288 with 1 Axes>"
      ]
     },
     "metadata": {
      "needs_background": "light"
     },
     "output_type": "display_data"
    }
   ],
   "source": [
    "plt.hist(ds.data.flatten(), bins=1000, log=True)\n",
    "1"
   ]
  },
  {
   "cell_type": "code",
   "execution_count": 57,
   "metadata": {},
   "outputs": [
    {
     "data": {
      "text/plain": [
       "(-2.364163833753029, 1.211087216369255)"
      ]
     },
     "execution_count": 57,
     "metadata": {},
     "output_type": "execute_result"
    },
    {
     "data": {
      "image/png": "[encoded data removed]",
      "text/plain": [
       "<Figure size 432x288 with 1 Axes>"
      ]
     },
     "metadata": {
      "needs_background": "light"
     },
     "output_type": "display_data"
    }
   ],
   "source": [
    "eps = 1e-2\n",
    "log_data = np.log(ds.data[ds.data>-eps].flatten() + eps)\n",
    "plt.hist(log_data, bins=1000, log=True, alpha=0.5)\n",
    "plt.hist(np.random.normal(loc=log_data.mean(), scale=log_data.std(), size=len(log_data)), bins=1000, log=True, alpha=0.5)\n",
    "log_data.mean(), log_data.std()"
   ]
  },
  {
   "cell_type": "code",
   "execution_count": null,
   "metadata": {},
   "outputs": [],
   "source": [
    "log_data.min()"
   ]
  },
  {
   "cell_type": "code",
   "execution_count": 147,
   "metadata": {},
   "outputs": [
    {
     "data": {
      "text/plain": [
       "(-0.05576794733710523, 1.2547144081463357)"
      ]
     },
     "execution_count": 147,
     "metadata": {},
     "output_type": "execute_result"
    }
   ],
   "source": [
    "np.log(ds.data[ds.data>eps].flatten() + eps).mean(), np.log(ds.data[ds.data>eps].flatten() + eps).std()"
   ]
  },
  {
   "cell_type": "code",
   "execution_count": 134,
   "metadata": {},
   "outputs": [
    {
     "data": {
      "text/plain": [
       "1"
      ]
     },
     "execution_count": 134,
     "metadata": {},
     "output_type": "execute_result"
    },
    {
     "data": {
      "image/png": "[encoded data removed]",
      "text/plain": [
       "<Figure size 432x288 with 1 Axes>"
      ]
     },
     "metadata": {
      "needs_background": "light"
     },
     "output_type": "display_data"
    }
   ],
   "source": [
    "plt.hist(np.random.normal(size=100000), bins=100, log=True)\n",
    "1"
   ]
  },
  {
   "cell_type": "code",
   "execution_count": 2,
   "metadata": {},
   "outputs": [],
   "source": [
    "data_path = Path('/home/orel/Data/K6/2020-03-30/Down/')\n",
    "landmarks_file = data_path / '0014DeepCut_resnet50_DownMay7shuffle1_1030000.h5'"
   ]
  },
  {
   "cell_type": "code",
   "execution_count": 7,
   "metadata": {},
   "outputs": [],
   "source": []
  },
  {
   "cell_type": "code",
   "execution_count": 3,
   "metadata": {},
   "outputs": [
    {
     "data": {
      "text/plain": [
       "array(['nose', 'neck', 'forepawR', 'forePawL', 'chest', 'belly',\n",
       "       'hindpawR', 'hindpawL', 'tailbase', 'tail1', 'tail2', 'tail3'],\n",
       "      dtype=object)"
      ]
     },
     "execution_count": 3,
     "metadata": {},
     "output_type": "execute_result"
    }
   ],
   "source": [
    "def extract_coords(landmarks_file):\n",
    "    df = read_df(landmarks_file)\n",
    "    return pd.unique([col[0] for col in df.columns])\n",
    "\n",
    "\n",
    "extract_coords(landmarks_file)"
   ]
  },
  {
   "cell_type": "code",
   "execution_count": 10,
   "metadata": {},
   "outputs": [
    {
     "data": {
      "text/plain": [
       "array(['nose', 'neck', 'forepawR', 'forePawL', 'chest', 'belly',\n",
       "       'hindpawR', 'hindpawL', 'tailbase', 'tail1', 'tail2', 'tail3'],\n",
       "      dtype=object)"
      ]
     },
     "execution_count": 10,
     "metadata": {},
     "output_type": "execute_result"
    }
   ],
   "source": [
    "extract_coords(landmark_files[2])"
   ]
  }
 ],
 "metadata": {
  "kernelspec": {
   "display_name": "Python 3",
   "language": "python",
   "name": "python3"
  },
  "language_info": {
   "codemirror_mode": {
    "name": "ipython",
    "version": 3
   },
   "file_extension": ".py",
   "mimetype": "text/x-python",
   "name": "python",
   "nbconvert_exporter": "python",
   "pygments_lexer": "ipython3",
   "version": "3.8.6"
  }
 },
 "nbformat": 4,
 "nbformat_minor": 4
}
