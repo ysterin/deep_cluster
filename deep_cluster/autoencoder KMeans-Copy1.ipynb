{
 "cells": [
  {
   "cell_type": "code",
   "execution_count": 1,
   "metadata": {},
   "outputs": [],
   "source": [
    "import numpy as np\n",
    "import torch\n",
    "from torch import utils\n",
    "import pandas as pd\n",
    "from torch.utils.data import DataLoader, Dataset, ConcatDataset\n",
    "from torch import nn \n",
    "from torch.nn import functional as F\n",
    "import pytorch_lightning as pl\n",
    "from matplotlib import cm\n",
    "from matplotlib import pyplot as plt\n",
    "import matplotlib.patches as mpatches\n",
    "from scipy import signal as sig\n",
    "import os\n",
    "from pathlib import Path\n",
    "import re\n",
    "from torch.utils import data\n",
    "import random\n",
    "import pandas as pd\n",
    "import pickle\n",
    "import numpy as np\n",
    "from pathlib import Path\n",
    "from dataloader import LandmarkDataset, SequenceDataset, LandmarkWaveletDataset\n",
    "from sklearn.cluster import KMeans\n",
    "from sklearn.manifold import TSNE\n",
    "from sklearn.metrics import normalized_mutual_info_score, confusion_matrix, accuracy_score\n",
    "\n",
    "pd.set_option('mode.chained_assignment', None)\n",
    "plt.rcParams['svg.fonttype'] = 'none'"
   ]
  },
  {
   "cell_type": "code",
   "execution_count": 2,
   "metadata": {},
   "outputs": [
    {
     "data": {
      "text/plain": [
       "<torch._C.Generator at 0x7f76d800f670>"
      ]
     },
     "execution_count": 2,
     "metadata": {},
     "output_type": "execute_result"
    }
   ],
   "source": [
    "SEED = 42\n",
    "\n",
    "random.seed(SEED)\n",
    "np.random.seed(SEED)\n",
    "torch.random.manual_seed(SEED)"
   ]
  },
  {
   "cell_type": "markdown",
   "metadata": {},
   "source": [
    "find landmark files"
   ]
  },
  {
   "cell_type": "code",
   "execution_count": 3,
   "metadata": {},
   "outputs": [
    {
     "data": {
      "text/plain": [
       "[PosixPath('/home/orel/Storage/Data/K7/2020-08-10/Down/0041DeepCut_resnet50_allFeb7shuffle1_1030000.h5'),\n",
       " PosixPath('/home/orel/Storage/Data/K7/2020-08-04/Down/0037DeepCut_resnet50_allFeb7shuffle1_1030000.h5'),\n",
       " PosixPath('/home/orel/Storage/Data/K7/2020-08-16/Down/0047DeepCut_resnet50_allFeb7shuffle1_1030000.h5'),\n",
       " PosixPath('/home/orel/Storage/Data/K7/2020-08-12/Down/0044DeepCut_resnet50_allFeb7shuffle1_1030000.h5'),\n",
       " PosixPath('/home/orel/Storage/Data/K7/2020-08-13/Down/0045DeepCut_resnet50_allFeb7shuffle1_1030000.h5'),\n",
       " PosixPath('/home/orel/Storage/Data/K7/2020-08-06/Down/0039DeepCut_resnet50_allFeb7shuffle1_1030000.h5'),\n",
       " PosixPath('/home/orel/Storage/Data/K7/2020-08-05/Down/0038DeepCut_resnet50_allFeb7shuffle1_1030000.h5')]"
      ]
     },
     "execution_count": 3,
     "metadata": {},
     "output_type": "execute_result"
    }
   ],
   "source": [
    "data_root = Path('/home/orel/Storage/Data/K7')\n",
    "\n",
    "landmark_files = list(data_root.glob('2020-*/Down/*DeepCut*.h5'))\n",
    "landmark_files"
   ]
  },
  {
   "cell_type": "markdown",
   "metadata": {},
   "source": [
    "# Training the autoencoder\n",
    "\n",
    "create and train autoencoder model"
   ]
  },
  {
   "cell_type": "code",
   "execution_count": 4,
   "metadata": {},
   "outputs": [
    {
     "name": "stdout",
     "output_type": "stream",
     "text": [
      "Sun Apr 25 16:33:50 2021       \n",
      "+-----------------------------------------------------------------------------+\n",
      "| NVIDIA-SMI 450.66       Driver Version: 450.66       CUDA Version: 11.0     |\n",
      "|-------------------------------+----------------------+----------------------+\n",
      "| GPU  Name        Persistence-M| Bus-Id        Disp.A | Volatile Uncorr. ECC |\n",
      "| Fan  Temp  Perf  Pwr:Usage/Cap|         Memory-Usage | GPU-Util  Compute M. |\n",
      "|                               |                      |               MIG M. |\n",
      "|===============================+======================+======================|\n",
      "|   0  TITAN Xp            Off  | 00000000:01:00.0  On |                  N/A |\n",
      "| 23%   32C    P5    25W / 250W |   1016MiB / 12194MiB |      3%      Default |\n",
      "|                               |                      |                  N/A |\n",
      "+-------------------------------+----------------------+----------------------+\n",
      "                                                                               \n",
      "+-----------------------------------------------------------------------------+\n",
      "| Processes:                                                                  |\n",
      "|  GPU   GI   CI        PID   Type   Process name                  GPU Memory |\n",
      "|        ID   ID                                                   Usage      |\n",
      "|=============================================================================|\n",
      "|    0   N/A  N/A      1401      G   /usr/lib/xorg/Xorg                 18MiB |\n",
      "|    0   N/A  N/A      1442      G   /usr/bin/gnome-shell               14MiB |\n",
      "|    0   N/A  N/A      3247      G   /usr/lib/firefox/firefox            3MiB |\n",
      "|    0   N/A  N/A      7725      C   ...dlc-ubuntu-GPU/bin/python      147MiB |\n",
      "|    0   N/A  N/A      9540      G   /usr/lib/firefox/firefox            3MiB |\n",
      "|    0   N/A  N/A      9815      G   /usr/lib/xorg/Xorg                145MiB |\n",
      "|    0   N/A  N/A      9946      G   /usr/bin/gnome-shell              116MiB |\n",
      "|    0   N/A  N/A     11230      G   /usr/lib/firefox/firefox            3MiB |\n",
      "|    0   N/A  N/A     15857      G   /usr/lib/xorg/Xorg                 42MiB |\n",
      "|    0   N/A  N/A     15943      G   /usr/bin/gnome-shell              215MiB |\n",
      "|    0   N/A  N/A     16525      C   ...dlc-ubuntu-GPU/bin/python      147MiB |\n",
      "|    0   N/A  N/A     19238      C   ...dlc-ubuntu-GPU/bin/python      147MiB |\n",
      "|    0   N/A  N/A     26169      G   /usr/lib/firefox/firefox            3MiB |\n",
      "+-----------------------------------------------------------------------------+\n"
     ]
    }
   ],
   "source": [
    "!nvidia-smi"
   ]
  },
  {
   "cell_type": "code",
   "execution_count": null,
   "metadata": {},
   "outputs": [],
   "source": [
    "class RecurrentEncoder(nn.Module):\n",
    "    def __init__(self, input_dim, hid_dim, out_dim, n_layers=3):\n",
    "        super(RecurrentEncoder, self).__init__()\n",
    "        self.input_dim, self.hid_dim, self.out_dim, self.n_layers = input_dim, hid_dim, out_dim, n_layers\n",
    "        self.rnn = nn.RNN(input_size=input_dim, hidden_size=hid_dim, num_layers=n_layers, bidirectional=True, batch_first=True)\n",
    "        self.out_layer = nn.Linear(hid_dim*n_layers*2, out_dim)\n",
    "\n",
    "    def forward(self, x):\n",
    "        bs, *_ = x.shape\n",
    "        outputs, h_n = self.rnn(x)\n",
    "        output = h_n.view(bs, -1)\n",
    "        return self.out_layer(output)\n",
    "        \n",
    "\n",
    "class RecurrentDecoder(nn.Module):\n",
    "    def __init__(self, input_dim, hid_dim, out_dim, n_layers):\n",
    "        super(RecurrentDecoder, self).__init__()\n",
    "        self.input_dim, self.hid_dim, self.out_dim, self.n_layers = input_dim, hid_dim, out_dim, n_layers\n",
    "#         self.input_layer = nn.Linear(out_dim, hid_dim*n_layers*2)\n",
    "        self.rnn = nn.RNN(input_size=input_dim, hidden_size=hid_dim, num_layers=n_layers, bidirectional=True, batch_first=True)\n",
    "        self.out_layer = nn.Linear(hid_dim*n_layers*2, out_dim)\n",
    "        \n",
    "        \n",
    "# A simple autoencoder\n",
    "class RecurrentAutoencoder(nn.Module):\n",
    "    # n_neurons: the sizes of each layer in the encoder - the decoder has the same number of neurons in each layer, in reverse.\n",
    "    def __init__(self, n_neurons, batch_norm=False, loss_func=None, dropout=0.):\n",
    "        super(Autoencoder, self).__init__()\n",
    "        if loss_func:\n",
    "            self.loss_func = loss_func\n",
    "        else:\n",
    "            self.loss_func = F.mse_loss\n",
    "        self.encoder, self.decoder = get_encoder_decoder(n_neurons, nn.ELU(), dropout=dropout)\n",
    "        \n",
    "    def forward(self, x):\n",
    "        return self.decoder(self.encoder(x))\n",
    "    \n",
    "    # computes auto encoding loss for training and evaluation\n",
    "    def shared_step(self, bx):\n",
    "        z = self.encoder(bx)\n",
    "        out = self.decoder(z)\n",
    "        loss = self.loss_func(bx, out)\n",
    "        return loss\n",
    "    \n",
    "    # encode data to the hidden dimension.\n",
    "    def encode(self, data, batch_size=256):\n",
    "        dl = DataLoader(data, batch_size=batch_size, shuffle=False)\n",
    "        X = []\n",
    "        self.cuda()\n",
    "        with torch.no_grad():\n",
    "            for bx in dl:\n",
    "                x_encoded = self.encoder(bx.cuda())\n",
    "                X.append(x_encoded.cpu().numpy())\n",
    "        X_encoded = np.concatenate(X)\n",
    "        return X_encoded\n",
    "        \n",
    "    # cluster the data using K Means on the encoded data. The data is in the form of SequenceDataset.\n",
    "    def cluster(self, data, batch_size=256, n_clusters=30):\n",
    "        X_encoded = self.encode(data, batch_size=batch_size)\n",
    "        kmeans = KMeans(n_clusters=n_clusters)\n",
    "        labels = kmeans.fit_predict(X_encoded)\n",
    "        return labels\n",
    "    \n",
    "    \n",
    "#pytorch-lightning module for training the autoencoder\n",
    "class PLAutoencoder(pl.LightningModule):\n",
    "    def __init__(self, , n_neurons, lr, patience=20, batch_norm=False, wd=0.05, dropout=0.0):\n",
    "        super(PLAutoencoder, self).__init__()\n",
    "        self.hparams = {'lr': lr, 'patience': patience, 'wd': wd}\n",
    "        self.model = RecurrentAutoencoder(n_neurons, dropout=dropout)\n",
    "\n",
    "    def forward(self, x):\n",
    "        return self.model(x)\n",
    "    \n",
    "    def configure_optimizers(self):\n",
    "        opt = torch.optim.AdamW(self.parameters(), self.hparams['lr'], weight_decay=self.hparams['wd'])\n",
    "        sched = torch.optim.lr_scheduler.LambdaLR(opt, lambda epoch: 0.9**(epoch//10))\n",
    "        return [opt], [sched]    \n",
    "    \n",
    "    def training_step(self, batch, batch_idx):\n",
    "        loss = self.model.shared_step(batch)\n",
    "        self.log('train_loss', loss, prog_bar=True)\n",
    "        return loss\n",
    "\n",
    "    def validation_step(self, batch, batch_idx):\n",
    "        loss = self.model.shared_step(batch)\n",
    "        self.log('val_loss', loss, prog_bar=True)\n",
    "        return loss\n",
    "    \n"
   ]
  },
  {
   "cell_type": "code",
   "execution_count": 6,
   "metadata": {},
   "outputs": [
    {
     "name": "stderr",
     "output_type": "stream",
     "text": [
      "GPU available: True, used: True\n",
      "TPU available: None, using: 0 TPU cores\n",
      "LOCAL_RANK: 0 - CUDA_VISIBLE_DEVICES: [0]\n"
     ]
    }
   ],
   "source": [
    "# from simple_autoencoder import Autoencoder, PLAutoencoder\n",
    "from dataloader import LandmarksDataModule\n",
    "seqlen = 60\n",
    "n_parts = 19\n",
    "dm = LandmarksDataModule(landmark_files, seqlen=seqlen, step=3)\n",
    "model = PLAutoencoder(landmark_files, n_neurons=[2*n_parts*seqlen, 1024, 512, 30], lr=3e-4, patience=20, dropout=0.0)\n",
    "trainer = pl.Trainer(gpus=1, progress_bar_refresh_rate=10, max_epochs=20, logger=pl.loggers.WandbLogger(\"landmarks autoencoder\"), log_every_n_steps=1)\n",
    "# trainer.fit(model)"
   ]
  },
  {
   "cell_type": "code",
   "execution_count": 7,
   "metadata": {},
   "outputs": [
    {
     "name": "stderr",
     "output_type": "stream",
     "text": [
      "\u001b[34m\u001b[1mwandb\u001b[0m: Currently logged in as: \u001b[33mshukistern\u001b[0m (use `wandb login --relogin` to force relogin)\n",
      "\u001b[34m\u001b[1mwandb\u001b[0m: wandb version 0.10.27 is available!  To upgrade, please run:\n",
      "\u001b[34m\u001b[1mwandb\u001b[0m:  $ pip install wandb --upgrade\n"
     ]
    },
    {
     "data": {
      "text/html": [
       "\n",
       "                Tracking run with wandb version 0.10.8<br/>\n",
       "                Syncing run <strong style=\"color:#cdcd00\">landmarks autoencoder</strong> to <a href=\"https://wandb.ai\" target=\"_blank\">Weights & Biases</a> <a href=\"https://docs.wandb.com/integrations/jupyter.html\" target=\"_blank\">(Documentation)</a>.<br/>\n",
       "                Project page: <a href=\"https://wandb.ai/shukistern/deep_cluster-deep_cluster\" target=\"_blank\">https://wandb.ai/shukistern/deep_cluster-deep_cluster</a><br/>\n",
       "                Run page: <a href=\"https://wandb.ai/shukistern/deep_cluster-deep_cluster/runs/2hq2c0y2\" target=\"_blank\">https://wandb.ai/shukistern/deep_cluster-deep_cluster/runs/2hq2c0y2</a><br/>\n",
       "                Run data is saved locally in <code>wandb/run-20210427_150947-2hq2c0y2</code><br/><br/>\n",
       "            "
      ],
      "text/plain": [
       "<IPython.core.display.HTML object>"
      ]
     },
     "metadata": {},
     "output_type": "display_data"
    },
    {
     "name": "stderr",
     "output_type": "stream",
     "text": [
      "\n",
      "  | Name  | Type        | Params\n",
      "--------------------------------------\n",
      "0 | model | Autoencoder | 5.8 M \n",
      "--------------------------------------\n",
      "5.8 M     Trainable params\n",
      "0         Non-trainable params\n",
      "5.8 M     Total params\n",
      "/home/shuki/anaconda3/envs/torch/lib/python3.8/site-packages/pytorch_lightning/utilities/distributed.py:50: UserWarning: The dataloader, val dataloader 0, does not have many workers which may be a bottleneck. Consider increasing the value of the `num_workers` argument` (try 8 which is the number of cpus on this machine) in the `DataLoader` init to improve performance.\n",
      "  warnings.warn(*args, **kwargs)\n"
     ]
    },
    {
     "data": {
      "application/vnd.jupyter.widget-view+json": {
       "model_id": "5142d25c597341c994494d2a634be77c",
       "version_major": 2,
       "version_minor": 0
      },
      "text/plain": [
       "Validation sanity check: 0it [00:00, ?it/s]"
      ]
     },
     "metadata": {},
     "output_type": "display_data"
    },
    {
     "name": "stderr",
     "output_type": "stream",
     "text": [
      "/home/shuki/anaconda3/envs/torch/lib/python3.8/site-packages/pytorch_lightning/utilities/distributed.py:50: UserWarning: The dataloader, train dataloader, does not have many workers which may be a bottleneck. Consider increasing the value of the `num_workers` argument` (try 8 which is the number of cpus on this machine) in the `DataLoader` init to improve performance.\n",
      "  warnings.warn(*args, **kwargs)\n"
     ]
    },
    {
     "data": {
      "application/vnd.jupyter.widget-view+json": {
       "model_id": "636be26171e04b98abaf2f57d2a8e21d",
       "version_major": 2,
       "version_minor": 0
      },
      "text/plain": [
       "Training: 0it [00:00, ?it/s]"
      ]
     },
     "metadata": {},
     "output_type": "display_data"
    },
    {
     "data": {
      "application/vnd.jupyter.widget-view+json": {
       "model_id": "",
       "version_major": 2,
       "version_minor": 0
      },
      "text/plain": [
       "Validating: 0it [00:00, ?it/s]"
      ]
     },
     "metadata": {},
     "output_type": "display_data"
    },
    {
     "name": "stderr",
     "output_type": "stream",
     "text": [
      "/home/shuki/anaconda3/envs/torch/lib/python3.8/site-packages/torch/optim/lr_scheduler.py:216: UserWarning: Please also save or load the state of the optimizer when saving or loading the scheduler.\n",
      "  warnings.warn(SAVE_STATE_WARNING, UserWarning)\n"
     ]
    },
    {
     "data": {
      "application/vnd.jupyter.widget-view+json": {
       "model_id": "",
       "version_major": 2,
       "version_minor": 0
      },
      "text/plain": [
       "Validating: 0it [00:00, ?it/s]"
      ]
     },
     "metadata": {},
     "output_type": "display_data"
    },
    {
     "data": {
      "application/vnd.jupyter.widget-view+json": {
       "model_id": "",
       "version_major": 2,
       "version_minor": 0
      },
      "text/plain": [
       "Validating: 0it [00:00, ?it/s]"
      ]
     },
     "metadata": {},
     "output_type": "display_data"
    },
    {
     "data": {
      "application/vnd.jupyter.widget-view+json": {
       "model_id": "",
       "version_major": 2,
       "version_minor": 0
      },
      "text/plain": [
       "Validating: 0it [00:00, ?it/s]"
      ]
     },
     "metadata": {},
     "output_type": "display_data"
    },
    {
     "data": {
      "application/vnd.jupyter.widget-view+json": {
       "model_id": "",
       "version_major": 2,
       "version_minor": 0
      },
      "text/plain": [
       "Validating: 0it [00:00, ?it/s]"
      ]
     },
     "metadata": {},
     "output_type": "display_data"
    },
    {
     "data": {
      "application/vnd.jupyter.widget-view+json": {
       "model_id": "",
       "version_major": 2,
       "version_minor": 0
      },
      "text/plain": [
       "Validating: 0it [00:00, ?it/s]"
      ]
     },
     "metadata": {},
     "output_type": "display_data"
    },
    {
     "data": {
      "application/vnd.jupyter.widget-view+json": {
       "model_id": "",
       "version_major": 2,
       "version_minor": 0
      },
      "text/plain": [
       "Validating: 0it [00:00, ?it/s]"
      ]
     },
     "metadata": {},
     "output_type": "display_data"
    },
    {
     "data": {
      "application/vnd.jupyter.widget-view+json": {
       "model_id": "",
       "version_major": 2,
       "version_minor": 0
      },
      "text/plain": [
       "Validating: 0it [00:00, ?it/s]"
      ]
     },
     "metadata": {},
     "output_type": "display_data"
    },
    {
     "data": {
      "application/vnd.jupyter.widget-view+json": {
       "model_id": "",
       "version_major": 2,
       "version_minor": 0
      },
      "text/plain": [
       "Validating: 0it [00:00, ?it/s]"
      ]
     },
     "metadata": {},
     "output_type": "display_data"
    },
    {
     "data": {
      "application/vnd.jupyter.widget-view+json": {
       "model_id": "",
       "version_major": 2,
       "version_minor": 0
      },
      "text/plain": [
       "Validating: 0it [00:00, ?it/s]"
      ]
     },
     "metadata": {},
     "output_type": "display_data"
    },
    {
     "data": {
      "application/vnd.jupyter.widget-view+json": {
       "model_id": "",
       "version_major": 2,
       "version_minor": 0
      },
      "text/plain": [
       "Validating: 0it [00:00, ?it/s]"
      ]
     },
     "metadata": {},
     "output_type": "display_data"
    },
    {
     "data": {
      "application/vnd.jupyter.widget-view+json": {
       "model_id": "",
       "version_major": 2,
       "version_minor": 0
      },
      "text/plain": [
       "Validating: 0it [00:00, ?it/s]"
      ]
     },
     "metadata": {},
     "output_type": "display_data"
    },
    {
     "data": {
      "application/vnd.jupyter.widget-view+json": {
       "model_id": "",
       "version_major": 2,
       "version_minor": 0
      },
      "text/plain": [
       "Validating: 0it [00:00, ?it/s]"
      ]
     },
     "metadata": {},
     "output_type": "display_data"
    },
    {
     "data": {
      "application/vnd.jupyter.widget-view+json": {
       "model_id": "",
       "version_major": 2,
       "version_minor": 0
      },
      "text/plain": [
       "Validating: 0it [00:00, ?it/s]"
      ]
     },
     "metadata": {},
     "output_type": "display_data"
    },
    {
     "data": {
      "application/vnd.jupyter.widget-view+json": {
       "model_id": "",
       "version_major": 2,
       "version_minor": 0
      },
      "text/plain": [
       "Validating: 0it [00:00, ?it/s]"
      ]
     },
     "metadata": {},
     "output_type": "display_data"
    },
    {
     "data": {
      "application/vnd.jupyter.widget-view+json": {
       "model_id": "",
       "version_major": 2,
       "version_minor": 0
      },
      "text/plain": [
       "Validating: 0it [00:00, ?it/s]"
      ]
     },
     "metadata": {},
     "output_type": "display_data"
    },
    {
     "data": {
      "application/vnd.jupyter.widget-view+json": {
       "model_id": "",
       "version_major": 2,
       "version_minor": 0
      },
      "text/plain": [
       "Validating: 0it [00:00, ?it/s]"
      ]
     },
     "metadata": {},
     "output_type": "display_data"
    },
    {
     "data": {
      "application/vnd.jupyter.widget-view+json": {
       "model_id": "",
       "version_major": 2,
       "version_minor": 0
      },
      "text/plain": [
       "Validating: 0it [00:00, ?it/s]"
      ]
     },
     "metadata": {},
     "output_type": "display_data"
    },
    {
     "data": {
      "application/vnd.jupyter.widget-view+json": {
       "model_id": "",
       "version_major": 2,
       "version_minor": 0
      },
      "text/plain": [
       "Validating: 0it [00:00, ?it/s]"
      ]
     },
     "metadata": {},
     "output_type": "display_data"
    },
    {
     "data": {
      "application/vnd.jupyter.widget-view+json": {
       "model_id": "",
       "version_major": 2,
       "version_minor": 0
      },
      "text/plain": [
       "Validating: 0it [00:00, ?it/s]"
      ]
     },
     "metadata": {},
     "output_type": "display_data"
    },
    {
     "data": {
      "text/plain": [
       "1"
      ]
     },
     "execution_count": 7,
     "metadata": {},
     "output_type": "execute_result"
    }
   ],
   "source": [
    "trainer.fit(model, dm)"
   ]
  },
  {
   "cell_type": "code",
   "execution_count": null,
   "metadata": {},
   "outputs": [],
   "source": [
    "# torch.load(' models/11_03/model.pt')\n",
    "# model.load_state_dict(torch.load('models/11_03/model.pt'))"
   ]
  },
  {
   "cell_type": "code",
   "execution_count": 8,
   "metadata": {},
   "outputs": [],
   "source": [
    "model_dir = Path('models/04_27_1')\n",
    "os.makedirs(model_dir, exist_ok=True)\n",
    "torch.save(model.state_dict(), model_dir / 'model.pt')"
   ]
  },
  {
   "cell_type": "code",
   "execution_count": 91,
   "metadata": {},
   "outputs": [
    {
     "name": "stderr",
     "output_type": "stream",
     "text": [
      "GPU available: True, used: True\n",
      "TPU available: None, using: 0 TPU cores\n",
      "LOCAL_RANK: 0 - CUDA_VISIBLE_DEVICES: [0]\n",
      "\n",
      "  | Name  | Type        | Params\n",
      "--------------------------------------\n",
      "0 | model | Autoencoder | 5.7 M \n",
      "--------------------------------------\n",
      "5.7 M     Trainable params\n",
      "0         Non-trainable params\n",
      "5.7 M     Total params\n",
      "/home/shuki/anaconda3/envs/torch/lib/python3.8/site-packages/pytorch_lightning/utilities/distributed.py:50: UserWarning: The dataloader, val dataloader 0, does not have many workers which may be a bottleneck. Consider increasing the value of the `num_workers` argument` (try 8 which is the number of cpus on this machine) in the `DataLoader` init to improve performance.\n",
      "  warnings.warn(*args, **kwargs)\n"
     ]
    },
    {
     "data": {
      "application/vnd.jupyter.widget-view+json": {
       "model_id": "2a28e52279c64f68894d4595529207c2",
       "version_major": 2,
       "version_minor": 0
      },
      "text/plain": [
       "Validation sanity check: 0it [00:00, ?it/s]"
      ]
     },
     "metadata": {},
     "output_type": "display_data"
    },
    {
     "name": "stderr",
     "output_type": "stream",
     "text": [
      "/home/shuki/anaconda3/envs/torch/lib/python3.8/site-packages/pytorch_lightning/utilities/distributed.py:50: UserWarning: The dataloader, train dataloader, does not have many workers which may be a bottleneck. Consider increasing the value of the `num_workers` argument` (try 8 which is the number of cpus on this machine) in the `DataLoader` init to improve performance.\n",
      "  warnings.warn(*args, **kwargs)\n"
     ]
    },
    {
     "data": {
      "application/vnd.jupyter.widget-view+json": {
       "model_id": "fd8fb5bc2ca94fc580e6f1bf91e5ca8a",
       "version_major": 2,
       "version_minor": 0
      },
      "text/plain": [
       "Training: 0it [00:00, ?it/s]"
      ]
     },
     "metadata": {},
     "output_type": "display_data"
    },
    {
     "data": {
      "application/vnd.jupyter.widget-view+json": {
       "model_id": "",
       "version_major": 2,
       "version_minor": 0
      },
      "text/plain": [
       "Validating: 0it [00:00, ?it/s]"
      ]
     },
     "metadata": {},
     "output_type": "display_data"
    },
    {
     "name": "stderr",
     "output_type": "stream",
     "text": [
      "/home/shuki/anaconda3/envs/torch/lib/python3.8/site-packages/torch/optim/lr_scheduler.py:216: UserWarning: Please also save or load the state of the optimizer when saving or loading the scheduler.\n",
      "  warnings.warn(SAVE_STATE_WARNING, UserWarning)\n"
     ]
    },
    {
     "data": {
      "application/vnd.jupyter.widget-view+json": {
       "model_id": "",
       "version_major": 2,
       "version_minor": 0
      },
      "text/plain": [
       "Validating: 0it [00:00, ?it/s]"
      ]
     },
     "metadata": {},
     "output_type": "display_data"
    },
    {
     "data": {
      "application/vnd.jupyter.widget-view+json": {
       "model_id": "",
       "version_major": 2,
       "version_minor": 0
      },
      "text/plain": [
       "Validating: 0it [00:00, ?it/s]"
      ]
     },
     "metadata": {},
     "output_type": "display_data"
    },
    {
     "data": {
      "application/vnd.jupyter.widget-view+json": {
       "model_id": "",
       "version_major": 2,
       "version_minor": 0
      },
      "text/plain": [
       "Validating: 0it [00:00, ?it/s]"
      ]
     },
     "metadata": {},
     "output_type": "display_data"
    },
    {
     "data": {
      "application/vnd.jupyter.widget-view+json": {
       "model_id": "",
       "version_major": 2,
       "version_minor": 0
      },
      "text/plain": [
       "Validating: 0it [00:00, ?it/s]"
      ]
     },
     "metadata": {},
     "output_type": "display_data"
    },
    {
     "data": {
      "application/vnd.jupyter.widget-view+json": {
       "model_id": "",
       "version_major": 2,
       "version_minor": 0
      },
      "text/plain": [
       "Validating: 0it [00:00, ?it/s]"
      ]
     },
     "metadata": {},
     "output_type": "display_data"
    },
    {
     "data": {
      "application/vnd.jupyter.widget-view+json": {
       "model_id": "",
       "version_major": 2,
       "version_minor": 0
      },
      "text/plain": [
       "Validating: 0it [00:00, ?it/s]"
      ]
     },
     "metadata": {},
     "output_type": "display_data"
    },
    {
     "data": {
      "application/vnd.jupyter.widget-view+json": {
       "model_id": "",
       "version_major": 2,
       "version_minor": 0
      },
      "text/plain": [
       "Validating: 0it [00:00, ?it/s]"
      ]
     },
     "metadata": {},
     "output_type": "display_data"
    },
    {
     "data": {
      "application/vnd.jupyter.widget-view+json": {
       "model_id": "",
       "version_major": 2,
       "version_minor": 0
      },
      "text/plain": [
       "Validating: 0it [00:00, ?it/s]"
      ]
     },
     "metadata": {},
     "output_type": "display_data"
    },
    {
     "data": {
      "application/vnd.jupyter.widget-view+json": {
       "model_id": "",
       "version_major": 2,
       "version_minor": 0
      },
      "text/plain": [
       "Validating: 0it [00:00, ?it/s]"
      ]
     },
     "metadata": {},
     "output_type": "display_data"
    },
    {
     "data": {
      "application/vnd.jupyter.widget-view+json": {
       "model_id": "",
       "version_major": 2,
       "version_minor": 0
      },
      "text/plain": [
       "Validating: 0it [00:00, ?it/s]"
      ]
     },
     "metadata": {},
     "output_type": "display_data"
    },
    {
     "data": {
      "application/vnd.jupyter.widget-view+json": {
       "model_id": "",
       "version_major": 2,
       "version_minor": 0
      },
      "text/plain": [
       "Validating: 0it [00:00, ?it/s]"
      ]
     },
     "metadata": {},
     "output_type": "display_data"
    },
    {
     "data": {
      "application/vnd.jupyter.widget-view+json": {
       "model_id": "",
       "version_major": 2,
       "version_minor": 0
      },
      "text/plain": [
       "Validating: 0it [00:00, ?it/s]"
      ]
     },
     "metadata": {},
     "output_type": "display_data"
    },
    {
     "data": {
      "application/vnd.jupyter.widget-view+json": {
       "model_id": "",
       "version_major": 2,
       "version_minor": 0
      },
      "text/plain": [
       "Validating: 0it [00:00, ?it/s]"
      ]
     },
     "metadata": {},
     "output_type": "display_data"
    },
    {
     "data": {
      "application/vnd.jupyter.widget-view+json": {
       "model_id": "",
       "version_major": 2,
       "version_minor": 0
      },
      "text/plain": [
       "Validating: 0it [00:00, ?it/s]"
      ]
     },
     "metadata": {},
     "output_type": "display_data"
    },
    {
     "data": {
      "application/vnd.jupyter.widget-view+json": {
       "model_id": "",
       "version_major": 2,
       "version_minor": 0
      },
      "text/plain": [
       "Validating: 0it [00:00, ?it/s]"
      ]
     },
     "metadata": {},
     "output_type": "display_data"
    },
    {
     "data": {
      "application/vnd.jupyter.widget-view+json": {
       "model_id": "",
       "version_major": 2,
       "version_minor": 0
      },
      "text/plain": [
       "Validating: 0it [00:00, ?it/s]"
      ]
     },
     "metadata": {},
     "output_type": "display_data"
    },
    {
     "data": {
      "application/vnd.jupyter.widget-view+json": {
       "model_id": "",
       "version_major": 2,
       "version_minor": 0
      },
      "text/plain": [
       "Validating: 0it [00:00, ?it/s]"
      ]
     },
     "metadata": {},
     "output_type": "display_data"
    },
    {
     "data": {
      "application/vnd.jupyter.widget-view+json": {
       "model_id": "",
       "version_major": 2,
       "version_minor": 0
      },
      "text/plain": [
       "Validating: 0it [00:00, ?it/s]"
      ]
     },
     "metadata": {},
     "output_type": "display_data"
    },
    {
     "data": {
      "application/vnd.jupyter.widget-view+json": {
       "model_id": "",
       "version_major": 2,
       "version_minor": 0
      },
      "text/plain": [
       "Validating: 0it [00:00, ?it/s]"
      ]
     },
     "metadata": {},
     "output_type": "display_data"
    },
    {
     "data": {
      "application/vnd.jupyter.widget-view+json": {
       "model_id": "",
       "version_major": 2,
       "version_minor": 0
      },
      "text/plain": [
       "Validating: 0it [00:00, ?it/s]"
      ]
     },
     "metadata": {},
     "output_type": "display_data"
    },
    {
     "data": {
      "application/vnd.jupyter.widget-view+json": {
       "model_id": "",
       "version_major": 2,
       "version_minor": 0
      },
      "text/plain": [
       "Validating: 0it [00:00, ?it/s]"
      ]
     },
     "metadata": {},
     "output_type": "display_data"
    },
    {
     "data": {
      "application/vnd.jupyter.widget-view+json": {
       "model_id": "",
       "version_major": 2,
       "version_minor": 0
      },
      "text/plain": [
       "Validating: 0it [00:00, ?it/s]"
      ]
     },
     "metadata": {},
     "output_type": "display_data"
    },
    {
     "data": {
      "application/vnd.jupyter.widget-view+json": {
       "model_id": "",
       "version_major": 2,
       "version_minor": 0
      },
      "text/plain": [
       "Validating: 0it [00:00, ?it/s]"
      ]
     },
     "metadata": {},
     "output_type": "display_data"
    },
    {
     "data": {
      "application/vnd.jupyter.widget-view+json": {
       "model_id": "",
       "version_major": 2,
       "version_minor": 0
      },
      "text/plain": [
       "Validating: 0it [00:00, ?it/s]"
      ]
     },
     "metadata": {},
     "output_type": "display_data"
    },
    {
     "data": {
      "application/vnd.jupyter.widget-view+json": {
       "model_id": "",
       "version_major": 2,
       "version_minor": 0
      },
      "text/plain": [
       "Validating: 0it [00:00, ?it/s]"
      ]
     },
     "metadata": {},
     "output_type": "display_data"
    },
    {
     "data": {
      "application/vnd.jupyter.widget-view+json": {
       "model_id": "",
       "version_major": 2,
       "version_minor": 0
      },
      "text/plain": [
       "Validating: 0it [00:00, ?it/s]"
      ]
     },
     "metadata": {},
     "output_type": "display_data"
    },
    {
     "data": {
      "application/vnd.jupyter.widget-view+json": {
       "model_id": "",
       "version_major": 2,
       "version_minor": 0
      },
      "text/plain": [
       "Validating: 0it [00:00, ?it/s]"
      ]
     },
     "metadata": {},
     "output_type": "display_data"
    },
    {
     "data": {
      "application/vnd.jupyter.widget-view+json": {
       "model_id": "",
       "version_major": 2,
       "version_minor": 0
      },
      "text/plain": [
       "Validating: 0it [00:00, ?it/s]"
      ]
     },
     "metadata": {},
     "output_type": "display_data"
    },
    {
     "data": {
      "application/vnd.jupyter.widget-view+json": {
       "model_id": "",
       "version_major": 2,
       "version_minor": 0
      },
      "text/plain": [
       "Validating: 0it [00:00, ?it/s]"
      ]
     },
     "metadata": {},
     "output_type": "display_data"
    }
   ],
   "source": [
    "# from simple_autoencoder import Autoencoder, PLAutoencoder\n",
    "# from dataloader import LandmarksDataModule\n",
    "# seqlen = 60\n",
    "# n_parts = 19\n",
    "# dm = LandmarksDataModule(landmark_files, seqlen=seqlen, step=3)\n",
    "# model = PLAutoencoder(landmark_files, n_neurons=[2*n_parts*seqlen, 1024, 512, 5], lr=3e-4, seqlen=seqlen, patience=20)\n",
    "# trainer = pl.Trainer(gpus=1, progress_bar_refresh_rate=10, max_epochs=30, logger=pl.loggers.WandbLogger(\"landmarks autoencoder\"))\n",
    "# trainer.fit(model, dm)\n",
    "\n",
    "# model_dir = Path('models/04_26_2')\n",
    "# os.makedirs(model_dir, exist_ok=True)\n",
    "# torch.save(model.state_dict(), model_dir / 'model.pt')"
   ]
  },
  {
   "cell_type": "code",
   "execution_count": 8,
   "metadata": {},
   "outputs": [],
   "source": [
    "from torch.utils.data import Dataset, ConcatDataset, Subset\n",
    "import bisect\n",
    "\n",
    "def find_sub_dataset(ds: ConcatDataset, idx):\n",
    "    dataset_idx = bisect.bisect_right(ds.cumulative_sizes, idx)\n",
    "    if dataset_idx == 0:\n",
    "        sample_idx = idx\n",
    "    else:\n",
    "        sample_idx = idx - ds.cumulative_sizes[dataset_idx - 1]\n",
    "    return ds.datasets[dataset_idx], sample_idx\n",
    "\n",
    "def find_frame(ds, idx):\n",
    "    ds, idx = find_sub_dataset(ds, idx)\n",
    "    if isinstance(ds, Subset):\n",
    "        ds, idx = ds.dataset, ds.indices[idx]\n",
    "    ds, idx = find_sub_dataset(ds, idx)\n",
    "    video_file = ds.data_frame.attrs['video_file']\n",
    "    frame_idxs = ds.get_indexes(idx)\n",
    "    return video_file, frame_idxs\n",
    "\n",
    "\n",
    "from scipy import signal as sig\n",
    "energies = np.zeros(len(dm.all_ds))\n",
    "for i, item in enumerate(dm.all_ds):\n",
    "    item = item.reshape((dm.seqlen, -1))\n",
    "    ff, Pxx = sig.periodogram(item.T, fs=dm.fps)\n",
    "    energies[i] = Pxx.T[:10].mean()\n",
    "    \n"
   ]
  },
  {
   "cell_type": "code",
   "execution_count": 9,
   "metadata": {},
   "outputs": [
    {
     "data": {
      "text/plain": [
       "60"
      ]
     },
     "execution_count": 9,
     "metadata": {},
     "output_type": "execute_result"
    },
    {
     "data": {
      "image/png": "[encoded data removed]",
      "text/plain": [
       "<Figure size 432x288 with 1 Axes>"
      ]
     },
     "metadata": {
      "needs_background": "light"
     },
     "output_type": "display_data"
    }
   ],
   "source": [
    "plt.hist(np.log10(energies), bins=100)\n",
    "dm.seqlen"
   ]
  },
  {
   "cell_type": "code",
   "execution_count": 15,
   "metadata": {},
   "outputs": [
    {
     "data": {
      "text/plain": [
       "98481"
      ]
     },
     "execution_count": 15,
     "metadata": {},
     "output_type": "execute_result"
    }
   ],
   "source": [
    "np.where(energies > 5e-3)[0][643]"
   ]
  },
  {
   "cell_type": "code",
   "execution_count": 31,
   "metadata": {},
   "outputs": [
    {
     "data": {
      "text/plain": [
       "Index(['belly1', 'belly2', 'chest1', 'chest2', 'forePawL1', 'forePawL2',\n",
       "       'forepawR1', 'forepawR2', 'head', 'hindpawL1', 'hindpawL2', 'hindpawL3',\n",
       "       'hindpawR1', 'hindpawR2', 'hindpawR3', 'nose', 'tail1', 'tail3',\n",
       "       'tailbase'],\n",
       "      dtype='object')"
      ]
     },
     "execution_count": 31,
     "metadata": {},
     "output_type": "execute_result"
    }
   ],
   "source": [
    "dm.data_frames[0].columns.levels[0]"
   ]
  },
  {
   "cell_type": "markdown",
   "metadata": {},
   "source": [
    "compare the original and reconstructed data, each plot for a different feature / coordinate"
   ]
  },
  {
   "cell_type": "code",
   "execution_count": 16,
   "metadata": {},
   "outputs": [
    {
     "name": "stderr",
     "output_type": "stream",
     "text": [
      "No handles with labels found to put in legend.\n"
     ]
    },
    {
     "data": {
      "image/png": "[encoded data removed]",
      "text/plain": [
       "<Figure size 1296x1296 with 40 Axes>"
      ]
     },
     "metadata": {
      "needs_background": "light"
     },
     "output_type": "display_data"
    }
   ],
   "source": [
    "body_parts = dm.data_frames[0].columns.levels[0]\n",
    "def compare_plot(x, y):\n",
    "    x = x.reshape(-1, n_parts*2)\n",
    "    y = y.reshape(-1, n_parts*2)\n",
    "    fig, axes = plt.subplots(ncols=4, nrows=n_parts//2+1, figsize=(18, 18))\n",
    "    for i in range(n_parts//2+1):\n",
    "        for j in range(4):\n",
    "            idx = 4*i + j\n",
    "            if idx >= x.shape[1]: break\n",
    "            axes[i][j].plot(x[:,idx], label='orig')\n",
    "            axes[i][j].plot(y[:,idx], label='recon')\n",
    "            axes[i][j].set_title(f\"{idx}-{body_parts[idx//2]}-{'x' if idx%2 else 'y'}\")\n",
    "            axes[i][j].set_ylim(-3, 3)\n",
    "    plt.legend()\n",
    "\n",
    "idx = 98481\n",
    "with torch.no_grad():\n",
    "#     bx = next(iter(model.train_dataloader()))\n",
    "    bx = torch.Tensor(dm.all_ds[idx])[None]\n",
    "    out = model(bx)\n",
    "compare_plot(bx[0].cpu().numpy(), out[0].cpu().numpy())"
   ]
  },
  {
   "cell_type": "code",
   "execution_count": 54,
   "metadata": {
    "collapsed": true,
    "jupyter": {
     "outputs_hidden": true
    }
   },
   "outputs": [
    {
     "data": {
      "text/html": [
       "<div>\n",
       "<style scoped>\n",
       "    .dataframe tbody tr th:only-of-type {\n",
       "        vertical-align: middle;\n",
       "    }\n",
       "\n",
       "    .dataframe tbody tr th {\n",
       "        vertical-align: top;\n",
       "    }\n",
       "\n",
       "    .dataframe thead th {\n",
       "        text-align: right;\n",
       "    }\n",
       "</style>\n",
       "<table border=\"1\" class=\"dataframe\">\n",
       "  <thead>\n",
       "    <tr style=\"text-align: right;\">\n",
       "      <th></th>\n",
       "      <th>x</th>\n",
       "      <th>y</th>\n",
       "    </tr>\n",
       "    <tr>\n",
       "      <th>index</th>\n",
       "      <th></th>\n",
       "      <th></th>\n",
       "    </tr>\n",
       "  </thead>\n",
       "  <tbody>\n",
       "    <tr>\n",
       "      <th>90230</th>\n",
       "      <td>0.891732</td>\n",
       "      <td>1.991624</td>\n",
       "    </tr>\n",
       "    <tr>\n",
       "      <th>90231</th>\n",
       "      <td>0.892166</td>\n",
       "      <td>1.991499</td>\n",
       "    </tr>\n",
       "    <tr>\n",
       "      <th>90232</th>\n",
       "      <td>0.892643</td>\n",
       "      <td>1.991502</td>\n",
       "    </tr>\n",
       "    <tr>\n",
       "      <th>90233</th>\n",
       "      <td>0.893072</td>\n",
       "      <td>1.991606</td>\n",
       "    </tr>\n",
       "    <tr>\n",
       "      <th>90234</th>\n",
       "      <td>0.893322</td>\n",
       "      <td>1.991777</td>\n",
       "    </tr>\n",
       "    <tr>\n",
       "      <th>90235</th>\n",
       "      <td>0.893246</td>\n",
       "      <td>1.991979</td>\n",
       "    </tr>\n",
       "    <tr>\n",
       "      <th>90236</th>\n",
       "      <td>0.892733</td>\n",
       "      <td>1.992176</td>\n",
       "    </tr>\n",
       "    <tr>\n",
       "      <th>90237</th>\n",
       "      <td>0.891783</td>\n",
       "      <td>1.992341</td>\n",
       "    </tr>\n",
       "    <tr>\n",
       "      <th>90238</th>\n",
       "      <td>0.890578</td>\n",
       "      <td>1.992459</td>\n",
       "    </tr>\n",
       "    <tr>\n",
       "      <th>90239</th>\n",
       "      <td>0.889518</td>\n",
       "      <td>1.992529</td>\n",
       "    </tr>\n",
       "    <tr>\n",
       "      <th>90240</th>\n",
       "      <td>0.889196</td>\n",
       "      <td>1.992568</td>\n",
       "    </tr>\n",
       "    <tr>\n",
       "      <th>90241</th>\n",
       "      <td>0.890283</td>\n",
       "      <td>1.992613</td>\n",
       "    </tr>\n",
       "    <tr>\n",
       "      <th>90242</th>\n",
       "      <td>0.893306</td>\n",
       "      <td>1.992709</td>\n",
       "    </tr>\n",
       "    <tr>\n",
       "      <th>90243</th>\n",
       "      <td>0.898365</td>\n",
       "      <td>1.992904</td>\n",
       "    </tr>\n",
       "    <tr>\n",
       "      <th>90244</th>\n",
       "      <td>0.904840</td>\n",
       "      <td>1.993224</td>\n",
       "    </tr>\n",
       "    <tr>\n",
       "      <th>90245</th>\n",
       "      <td>0.911168</td>\n",
       "      <td>1.993656</td>\n",
       "    </tr>\n",
       "    <tr>\n",
       "      <th>90246</th>\n",
       "      <td>0.914798</td>\n",
       "      <td>1.994118</td>\n",
       "    </tr>\n",
       "    <tr>\n",
       "      <th>90247</th>\n",
       "      <td>0.912386</td>\n",
       "      <td>1.994467</td>\n",
       "    </tr>\n",
       "    <tr>\n",
       "      <th>90248</th>\n",
       "      <td>0.900247</td>\n",
       "      <td>1.994513</td>\n",
       "    </tr>\n",
       "    <tr>\n",
       "      <th>90249</th>\n",
       "      <td>0.875003</td>\n",
       "      <td>1.994078</td>\n",
       "    </tr>\n",
       "    <tr>\n",
       "      <th>90250</th>\n",
       "      <td>0.834279</td>\n",
       "      <td>1.993075</td>\n",
       "    </tr>\n",
       "    <tr>\n",
       "      <th>90251</th>\n",
       "      <td>0.777242</td>\n",
       "      <td>1.991592</td>\n",
       "    </tr>\n",
       "    <tr>\n",
       "      <th>90252</th>\n",
       "      <td>0.704806</td>\n",
       "      <td>1.989963</td>\n",
       "    </tr>\n",
       "    <tr>\n",
       "      <th>90253</th>\n",
       "      <td>0.619419</td>\n",
       "      <td>1.988788</td>\n",
       "    </tr>\n",
       "    <tr>\n",
       "      <th>90254</th>\n",
       "      <td>0.524515</td>\n",
       "      <td>1.988898</td>\n",
       "    </tr>\n",
       "    <tr>\n",
       "      <th>90255</th>\n",
       "      <td>0.423810</td>\n",
       "      <td>1.991240</td>\n",
       "    </tr>\n",
       "    <tr>\n",
       "      <th>90256</th>\n",
       "      <td>0.320643</td>\n",
       "      <td>1.996721</td>\n",
       "    </tr>\n",
       "    <tr>\n",
       "      <th>90257</th>\n",
       "      <td>0.217526</td>\n",
       "      <td>2.006024</td>\n",
       "    </tr>\n",
       "    <tr>\n",
       "      <th>90258</th>\n",
       "      <td>0.115957</td>\n",
       "      <td>2.019466</td>\n",
       "    </tr>\n",
       "    <tr>\n",
       "      <th>90259</th>\n",
       "      <td>0.016482</td>\n",
       "      <td>2.036911</td>\n",
       "    </tr>\n",
       "    <tr>\n",
       "      <th>90260</th>\n",
       "      <td>-0.081070</td>\n",
       "      <td>2.057776</td>\n",
       "    </tr>\n",
       "    <tr>\n",
       "      <th>90261</th>\n",
       "      <td>-0.177263</td>\n",
       "      <td>2.081095</td>\n",
       "    </tr>\n",
       "    <tr>\n",
       "      <th>90262</th>\n",
       "      <td>-0.272755</td>\n",
       "      <td>2.105642</td>\n",
       "    </tr>\n",
       "    <tr>\n",
       "      <th>90263</th>\n",
       "      <td>-0.368067</td>\n",
       "      <td>2.130061</td>\n",
       "    </tr>\n",
       "    <tr>\n",
       "      <th>90264</th>\n",
       "      <td>-0.463472</td>\n",
       "      <td>2.153014</td>\n",
       "    </tr>\n",
       "    <tr>\n",
       "      <th>90265</th>\n",
       "      <td>-0.558995</td>\n",
       "      <td>2.173314</td>\n",
       "    </tr>\n",
       "    <tr>\n",
       "      <th>90266</th>\n",
       "      <td>-0.654515</td>\n",
       "      <td>2.190067</td>\n",
       "    </tr>\n",
       "    <tr>\n",
       "      <th>90267</th>\n",
       "      <td>-0.749910</td>\n",
       "      <td>2.202769</td>\n",
       "    </tr>\n",
       "    <tr>\n",
       "      <th>90268</th>\n",
       "      <td>-0.845205</td>\n",
       "      <td>2.211373</td>\n",
       "    </tr>\n",
       "    <tr>\n",
       "      <th>90269</th>\n",
       "      <td>-0.940673</td>\n",
       "      <td>2.216260</td>\n",
       "    </tr>\n",
       "    <tr>\n",
       "      <th>90270</th>\n",
       "      <td>-1.036835</td>\n",
       "      <td>2.218151</td>\n",
       "    </tr>\n",
       "    <tr>\n",
       "      <th>90271</th>\n",
       "      <td>-1.134356</td>\n",
       "      <td>2.217945</td>\n",
       "    </tr>\n",
       "    <tr>\n",
       "      <th>90272</th>\n",
       "      <td>-1.233807</td>\n",
       "      <td>2.216552</td>\n",
       "    </tr>\n",
       "    <tr>\n",
       "      <th>90273</th>\n",
       "      <td>-1.335370</td>\n",
       "      <td>2.214747</td>\n",
       "    </tr>\n",
       "    <tr>\n",
       "      <th>90274</th>\n",
       "      <td>-1.438509</td>\n",
       "      <td>2.213080</td>\n",
       "    </tr>\n",
       "    <tr>\n",
       "      <th>90275</th>\n",
       "      <td>-1.541735</td>\n",
       "      <td>2.211853</td>\n",
       "    </tr>\n",
       "    <tr>\n",
       "      <th>90276</th>\n",
       "      <td>-1.642532</td>\n",
       "      <td>2.211143</td>\n",
       "    </tr>\n",
       "    <tr>\n",
       "      <th>90277</th>\n",
       "      <td>-1.737547</td>\n",
       "      <td>2.210873</td>\n",
       "    </tr>\n",
       "    <tr>\n",
       "      <th>90278</th>\n",
       "      <td>-1.823034</td>\n",
       "      <td>2.210884</td>\n",
       "    </tr>\n",
       "    <tr>\n",
       "      <th>90279</th>\n",
       "      <td>-1.895519</td>\n",
       "      <td>2.211012</td>\n",
       "    </tr>\n",
       "    <tr>\n",
       "      <th>90280</th>\n",
       "      <td>-1.952503</td>\n",
       "      <td>2.211136</td>\n",
       "    </tr>\n",
       "    <tr>\n",
       "      <th>90281</th>\n",
       "      <td>-1.993029</td>\n",
       "      <td>2.211203</td>\n",
       "    </tr>\n",
       "    <tr>\n",
       "      <th>90282</th>\n",
       "      <td>-2.017899</td>\n",
       "      <td>2.211226</td>\n",
       "    </tr>\n",
       "    <tr>\n",
       "      <th>90283</th>\n",
       "      <td>-2.029490</td>\n",
       "      <td>2.211261</td>\n",
       "    </tr>\n",
       "    <tr>\n",
       "      <th>90284</th>\n",
       "      <td>-2.031213</td>\n",
       "      <td>2.211372</td>\n",
       "    </tr>\n",
       "    <tr>\n",
       "      <th>90285</th>\n",
       "      <td>-2.026825</td>\n",
       "      <td>2.211607</td>\n",
       "    </tr>\n",
       "    <tr>\n",
       "      <th>90286</th>\n",
       "      <td>-2.019770</td>\n",
       "      <td>2.211973</td>\n",
       "    </tr>\n",
       "    <tr>\n",
       "      <th>90287</th>\n",
       "      <td>-2.012712</td>\n",
       "      <td>2.212447</td>\n",
       "    </tr>\n",
       "    <tr>\n",
       "      <th>90288</th>\n",
       "      <td>-2.007324</td>\n",
       "      <td>2.212984</td>\n",
       "    </tr>\n",
       "    <tr>\n",
       "      <th>90289</th>\n",
       "      <td>-2.004314</td>\n",
       "      <td>2.213541</td>\n",
       "    </tr>\n",
       "  </tbody>\n",
       "</table>\n",
       "</div>"
      ],
      "text/plain": [
       "              x         y\n",
       "index                    \n",
       "90230  0.891732  1.991624\n",
       "90231  0.892166  1.991499\n",
       "90232  0.892643  1.991502\n",
       "90233  0.893072  1.991606\n",
       "90234  0.893322  1.991777\n",
       "90235  0.893246  1.991979\n",
       "90236  0.892733  1.992176\n",
       "90237  0.891783  1.992341\n",
       "90238  0.890578  1.992459\n",
       "90239  0.889518  1.992529\n",
       "90240  0.889196  1.992568\n",
       "90241  0.890283  1.992613\n",
       "90242  0.893306  1.992709\n",
       "90243  0.898365  1.992904\n",
       "90244  0.904840  1.993224\n",
       "90245  0.911168  1.993656\n",
       "90246  0.914798  1.994118\n",
       "90247  0.912386  1.994467\n",
       "90248  0.900247  1.994513\n",
       "90249  0.875003  1.994078\n",
       "90250  0.834279  1.993075\n",
       "90251  0.777242  1.991592\n",
       "90252  0.704806  1.989963\n",
       "90253  0.619419  1.988788\n",
       "90254  0.524515  1.988898\n",
       "90255  0.423810  1.991240\n",
       "90256  0.320643  1.996721\n",
       "90257  0.217526  2.006024\n",
       "90258  0.115957  2.019466\n",
       "90259  0.016482  2.036911\n",
       "90260 -0.081070  2.057776\n",
       "90261 -0.177263  2.081095\n",
       "90262 -0.272755  2.105642\n",
       "90263 -0.368067  2.130061\n",
       "90264 -0.463472  2.153014\n",
       "90265 -0.558995  2.173314\n",
       "90266 -0.654515  2.190067\n",
       "90267 -0.749910  2.202769\n",
       "90268 -0.845205  2.211373\n",
       "90269 -0.940673  2.216260\n",
       "90270 -1.036835  2.218151\n",
       "90271 -1.134356  2.217945\n",
       "90272 -1.233807  2.216552\n",
       "90273 -1.335370  2.214747\n",
       "90274 -1.438509  2.213080\n",
       "90275 -1.541735  2.211853\n",
       "90276 -1.642532  2.211143\n",
       "90277 -1.737547  2.210873\n",
       "90278 -1.823034  2.210884\n",
       "90279 -1.895519  2.211012\n",
       "90280 -1.952503  2.211136\n",
       "90281 -1.993029  2.211203\n",
       "90282 -2.017899  2.211226\n",
       "90283 -2.029490  2.211261\n",
       "90284 -2.031213  2.211372\n",
       "90285 -2.026825  2.211607\n",
       "90286 -2.019770  2.211973\n",
       "90287 -2.012712  2.212447\n",
       "90288 -2.007324  2.212984\n",
       "90289 -2.004314  2.213541"
      ]
     },
     "execution_count": 54,
     "metadata": {},
     "output_type": "execute_result"
    }
   ],
   "source": [
    "def find_dataset_idx(ds: ConcatDataset, idx):\n",
    "    dataset_idx = bisect.bisect_right(ds.cumulative_sizes, idx)\n",
    "    if dataset_idx == 0:\n",
    "        sample_idx = idx\n",
    "    else:\n",
    "        sample_idx = idx - ds.cumulative_sizes[dataset_idx - 1]\n",
    "    return dataset_idx, sample_idx\n",
    "\n",
    "\n",
    "ds_id, _id = find_dataset_idx(dm.all_ds, idx)\n",
    "# ds, _id = find_sub_dataset(dm.all_ds.datasets[ds_id], _id)\n",
    "dm.data_frames[ds_id].loc[frames].tail3"
   ]
  },
  {
   "cell_type": "code",
   "execution_count": 51,
   "metadata": {},
   "outputs": [],
   "source": [
    "from torch.utils.data import Dataset, ConcatDataset, Subset\n",
    "dm.all_ds.datasets[0].datasets[0].data_frame.attrs\n",
    "import bisect\n",
    "\n",
    "def find_sub_dataset(ds: ConcatDataset, idx):\n",
    "    dataset_idx = bisect.bisect_right(ds.cumulative_sizes, idx)\n",
    "    if dataset_idx == 0:\n",
    "        sample_idx = idx\n",
    "    else:\n",
    "        sample_idx = idx - ds.cumulative_sizes[dataset_idx - 1]\n",
    "    return ds.datasets[dataset_idx], sample_idx\n",
    "\n",
    "def find_frame(ds, idx):\n",
    "    ds, idx = find_sub_dataset(ds, idx)\n",
    "    if isinstance(ds, Subset):\n",
    "        ds, idx = ds.dataset, ds.indices[idx]\n",
    "    ds, idx = find_sub_dataset(ds, idx)\n",
    "    video_file = ds.data_frame.attrs['video_file']\n",
    "    frame_idxs = ds.get_indexes(idx)\n",
    "    return video_file, frame_idxs\n",
    "\n",
    "video_file, frames = find_frame(dm.all_ds, idx)"
   ]
  },
  {
   "cell_type": "markdown",
   "metadata": {},
   "source": [
    "# Clustering the data"
   ]
  },
  {
   "cell_type": "markdown",
   "metadata": {},
   "source": [
    "loading the landmark coordinates from all videos"
   ]
  },
  {
   "cell_type": "code",
   "execution_count": null,
   "metadata": {},
   "outputs": [],
   "source": [
    "landmark_datasets = []\n",
    "for file in landmark_files:\n",
    "    try:\n",
    "        ds = LandmarkDataset(file)\n",
    "        landmark_datasets.append(ds)\n",
    "        break\n",
    "    except OSError:\n",
    "        pass\n",
    "# coords = [sig.decimate(ds.coords, q=4, axis=0).astype(np.float32) for ds in landmark_datasets]\n",
    "coords = model.coords"
   ]
  },
  {
   "cell_type": "code",
   "execution_count": 66,
   "metadata": {},
   "outputs": [
    {
     "data": {
      "text/plain": [
       "10"
      ]
     },
     "execution_count": 66,
     "metadata": {},
     "output_type": "execute_result"
    }
   ],
   "source": [
    "model.model.encoder[-1].out_features"
   ]
  },
  {
   "cell_type": "code",
   "execution_count": 67,
   "metadata": {},
   "outputs": [],
   "source": [
    "# all_data = np.stack([dm.all_ds[i] for i in range(len(dm.all_ds))])\n",
    "X_encoded = model.model.encode(dm.all_ds)\n",
    "\n",
    "K = model.model.encoder[-1].out_features\n",
    "kmeans = KMeans(K)\n",
    "labels = kmeans.fit_predict(X_encoded)\n"
   ]
  },
  {
   "cell_type": "code",
   "execution_count": 76,
   "metadata": {},
   "outputs": [
    {
     "data": {
      "text/plain": [
       "1"
      ]
     },
     "execution_count": 76,
     "metadata": {},
     "output_type": "execute_result"
    },
    {
     "data": {
      "image/png": "[encoded data removed]",
      "text/plain": [
       "<Figure size 432x288 with 1 Axes>"
      ]
     },
     "metadata": {
      "needs_background": "light"
     },
     "output_type": "display_data"
    }
   ],
   "source": [
    "from collections import Counter\n",
    "\n",
    "def split_labels(labels):\n",
    "    split_at = np.where(np.diff(labels) != 0)[0] + 1\n",
    "    sequence = [[seg[0], split_at[i-1] + model.seqlen//2, len(seg)] \\\n",
    "                for i, seg in enumerate(np.split(labels, indices_or_sections=split_at))]\n",
    "    sequence[0][1] = model.seqlen//2\n",
    "    return sequence\n",
    "\n",
    "segments = split_labels(labels)\n",
    "plt.hist([np.log10(seg[-1]) for seg in segments], bins=100)\n",
    "1"
   ]
  },
  {
   "cell_type": "markdown",
   "metadata": {},
   "source": [
    "creating the dataset from all the coordinates"
   ]
  }
 ],
 "metadata": {
  "kernelspec": {
   "display_name": "Python 3",
   "language": "python",
   "name": "python3"
  },
  "language_info": {
   "codemirror_mode": {
    "name": "ipython",
    "version": 3
   },
   "file_extension": ".py",
   "mimetype": "text/x-python",
   "name": "python",
   "nbconvert_exporter": "python",
   "pygments_lexer": "ipython3",
   "version": "3.8.6"
  }
 },
 "nbformat": 4,
 "nbformat_minor": 4
}
