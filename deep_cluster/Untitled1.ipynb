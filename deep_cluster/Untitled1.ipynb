{
 "cells": [
  {
   "cell_type": "code",
   "execution_count": 1,
   "metadata": {},
   "outputs": [],
   "source": [
    "import torch\n",
    "from torch.utils import data\n",
    "import pandas as pd\n",
    "import numpy as np\n",
    "from pathlib import Path \n",
    "\n",
    "pd.set_option('mode.chained_assignment', None)\n",
    "\n",
    "import numpy as np\n",
    "import scipy.signal as sig\n",
    "import pandas as pd\n",
    "\n",
    "\n",
    "def interpolate_indexes(data, idxs):\n",
    "    segments = np.split(idxs, np.where(np.diff(idxs) > 1)[0] + 1)\n",
    "    for seg in segments:\n",
    "        if seg[0] == 0:\n",
    "            data[seg[0]:seg[-1]+1] = data[seg[-1] + 1]\n",
    "        elif seg[-1] == len(data) - 1:\n",
    "            data[seg[0]:seg[-1]+1] = data[seg[0] - 1]\n",
    "        else:\n",
    "            data[seg[0]:seg[-1]+1] = np.linspace(data[seg[0] - 1], data[seg[-1] + 1], num=len(seg) + 1, endpoint=False)[1:]\n",
    "    return data\n",
    "\n",
    "\n",
    "def interpolate_mask(data, mask):\n",
    "    idxs = np.where(mask)[0]\n",
    "    return interpolate_indexes(data, idxs)\n",
    "\n",
    "\n",
    "def clear_low_likelihood(data, likelihood, thresh=0.5):\n",
    "    return interpolate_mask(data, likelihood < thresh)\n",
    "\n",
    "\n",
    "def clear_outliers(data, hpf_freq=60, cutoff=4, fs=240):\n",
    "    cutoff = fs / hpf_freq\n",
    "    filt = sig.butter(4, hpf_freq, btype='high', output='ba', fs=fs)\n",
    "    filtered = sig.filtfilt(*filt, data)\n",
    "    return interpolate_mask(data, np.abs(filtered) > cutoff)\n",
    "\n",
    "\n",
    "def smooth(data, lpf_freq=20, fs=240):\n",
    "    filt = sig.butter(4, lpf_freq, btype='low', output='ba', fs=fs)\n",
    "    filtered = sig.filtfilt(*filt, data)\n",
    "    return filtered\n",
    "\n",
    "\n",
    "def preproc(data, likelihood):\n",
    "    data = clear_low_likelihood(data, likelihood)\n",
    "    return smooth(clear_outliers(data))\n",
    "\n",
    "def read_df(df_file):\n",
    "    df = pd.read_hdf(df_file)\n",
    "    df.columns = df.columns.droplevel(0)\n",
    "    df.index.name = 'index'\n",
    "    df.index = df.index.map(int)\n",
    "    df = df.applymap(float)\n",
    "    return df\n",
    "\n",
    "\n",
    "'''\n",
    "process dataframe by smoothing the x and y coordinates\n",
    "'''\n",
    "def process_df(df):\n",
    "    body_parts = pd.unique([col[0] for col in df.columns])\n",
    "    smoothed_data = {}\n",
    "    for part in body_parts:\n",
    "        smoothed_data[(part, 'x')] = preproc(df[part].x, df[part].likelihood)\n",
    "        smoothed_data[(part, 'y')] = preproc(df[part].y, df[part].likelihood)\n",
    "        smoothed_data[(part, 'likelihood')] = df[part].likelihood.copy()\n",
    "\n",
    "    smooth_df = pd.DataFrame.from_dict(smoothed_data)\n",
    "    return smooth_df\n",
    "\n",
    "\n",
    "# extract and possibly normalize the coordinates to shared coordinate base - the tail-base at (0, 0), and nose on the Y axis. \n",
    "def extract_coordinates(df: pd.DataFrame, normalize: bool = True):\n",
    "    N = len(df)\n",
    "    xy_df = df.drop(axis=1, columns='likelihood', level=1)\n",
    "    coords = xy_df.values.reshape(N, -1, 2)\n",
    "    if not normalize:\n",
    "        return coords\n",
    "    base_tail_coords = xy_df.tailbase.values[:, np.newaxis, :]\n",
    "    centered_coords = coords - base_tail_coords\n",
    "    centered_nose_coords = xy_df.nose.values - xy_df.tailbase.values\n",
    "    thetas = np.arctan2(centered_nose_coords[:, 1], centered_nose_coords[:, 0])\n",
    "    rotation_matrices = np.stack([np.stack([np.cos(thetas), np.sin(thetas)], axis=-1),\n",
    "                                  np.stack([np.sin(thetas), -np.cos(thetas)], axis=-1)], axis=-1)\n",
    "    normalized_coords = np.einsum(\"nij,nkj->nki\", rotation_matrices, centered_coords)\n",
    "    return normalized_coords\n",
    "\n",
    "def extract_coords(landmarks_file):\n",
    "    df = read_df(landmarks_file)\n",
    "    return pd.unique([col[0] for col in df.columns])\n",
    "    \n",
    "    \n",
    "def process_landmarks(landmarks_file, normalize=True):\n",
    "    df = read_df(landmarks_file)\n",
    "    df = process_df(df)\n",
    "    coords = extract_coordinates(df, normlize)\n",
    "    \n",
    "\n",
    "# A dataset of landmarks\n",
    "# args: landmarks file: .h5 file of landmarks, from DeepLabCut\n",
    "class LandmarkDataset(data.Dataset):\n",
    "    def __init__(self, landmarks_file, normalize=True):\n",
    "        super(LandmarkDataset, self).__init__()\n",
    "        self.file = landmarks_file\n",
    "        self.df = read_df(landmarks_file)\n",
    "        self.df = process_df(self.df)\n",
    "        self.coords = extract_coordinates(self.df, normalize)\n",
    "        self.body_parts = pd.unique([col[0] for col in self.df.columns])\n",
    "        \n",
    "    def __getitem__(self, idx):\n",
    "        return self.coords[idx]\n",
    "    \n",
    "    def __len__(self):\n",
    "        return self.coords.shape[0]\n"
   ]
  },
  {
   "cell_type": "code",
   "execution_count": 76,
   "metadata": {},
   "outputs": [],
   "source": [
    "def calc_wavelet_transform(feature_data, min_width=12, max_width=120, n_waves=25):\n",
    "    wavelet_widths = np.logspace(np.log10(min_width), np.log10(max_width), n_waves)\n",
    "    transformed = sig.cwt(feature_data, sig.morlet2, widths=wavelet_widths)\n",
    "    return np.abs(transformed)\n",
    "\n",
    "\n",
    "# wavelet_data = np.concatenate([calc_wavelet_transform(feat_data, min_width=2, max_width=30, n_waves=20) for feat_data in data], axis=0)\n",
    "# print(wavelet_data.shape, wavelet_data.min())\n",
    "\n",
    "\n",
    "# A dataset of landmarks\n",
    "# args: landmarks file: .h5 file of landmarks, from DeepLabCut\n",
    "class LandmarkWaveletDataset(data.Dataset):\n",
    "    def __init__(self, landmarks_file, normalize=True, data=None):\n",
    "        super(LandmarkWaveletDataset, self).__init__()\n",
    "        self.file = landmarks_file\n",
    "        self.normalize = normalize\n",
    "        self.landmarks = LandmarkDataset(self.file, normalize)\n",
    "        if data is None:\n",
    "            coords = sig.decimate(self.landmarks.coords, q=4, axis=0)\n",
    "            coords = coords.reshape((len(coords), -1))\n",
    "            self.data = [calc_wavelet_transform(feat_data, min_width=2, max_width=30, n_waves=20) for feat_data in coords.T]\n",
    "            self.data = np.concatenate(self.data, axis=0).T\n",
    "        else:\n",
    "            self.data = data\n",
    "        self.mean, self.std = self.data.mean(axis=0), self.data.std(axis=0) + 1e-8\n",
    "        \n",
    "        \n",
    "    def __getitem__(self, idx):\n",
    "        if isinstance(idx, slice):\n",
    "            return LandmarkWaveletDataset(self.file, self.normalize, data=self.data[idx])\n",
    "        return (self.data[idx] - self.mean) / self.std\n",
    "    \n",
    "    def __len__(self):\n",
    "        return self.data.shape[0]\n"
   ]
  },
  {
   "cell_type": "code",
   "execution_count": 74,
   "metadata": {},
   "outputs": [
    {
     "data": {
      "text/plain": [
       "array([[-0.05835485, -0.1733523 , -0.28114052, -0.27372059, -0.17100965,\n",
       "        -0.13525567, -0.02254499,  0.2218688 ,  0.60403058,  0.80705083,\n",
       "         0.71762629,  0.44980282,  0.40389918,  0.44526767,  0.37427071,\n",
       "         0.35095864,  0.32370973,  0.23901652,  0.45128637,  0.96139552],\n",
       "       [-0.35647723, -0.42144114, -0.49603886, -0.5402917 , -0.60956601,\n",
       "        -0.45999823, -0.27529439, -0.23016555, -0.23019906, -0.13570733,\n",
       "        -0.16810088, -0.23977094, -0.24912212, -0.34343895, -0.47495192,\n",
       "        -0.52180704, -0.55666488, -0.69471662, -0.78488495, -0.70670513],\n",
       "       [ 0.46936924,  0.69111436,  0.40094698,  0.33779374,  0.36135675,\n",
       "         0.20292031,  0.0445982 , -0.06199695,  0.01468654,  0.21153096,\n",
       "         0.30173191,  0.20509378,  0.0672108 ,  0.16054504,  0.20543351,\n",
       "         0.1680775 ,  0.10171131,  0.08917483,  0.24709959,  0.4895891 ],\n",
       "       [ 0.01276004,  0.06738295,  0.1545899 ,  0.31427691,  0.44488151,\n",
       "         0.3381419 ,  0.03376341, -0.19718262, -0.14590224, -0.10060573,\n",
       "        -0.07964197, -0.03823237,  0.08055082,  0.0173966 , -0.24616199,\n",
       "        -0.05748533,  0.09336434, -0.00578227, -0.38415066,  0.01416609],\n",
       "       [ 0.02676003, -0.00893716, -0.18914296, -0.22377331, -0.17754523,\n",
       "        -0.1976421 , -0.06135001, -0.08274904, -0.1098191 , -0.14776539,\n",
       "        -0.19150135, -0.08194378, -0.08057344, -0.14299543, -0.21142345,\n",
       "        -0.05478769,  0.0729636 ,  0.04246744, -0.1871749 , -0.15321055],\n",
       "       [-0.20127491, -0.18541359, -0.17613758, -0.35729301, -0.32779214,\n",
       "         0.03037849,  0.17611051,  0.24237932,  0.1967341 ,  0.13760706,\n",
       "         0.08928574,  0.00567338,  0.06632998,  0.14338116, -0.03123427,\n",
       "        -0.27837014, -0.16846619, -0.21323502, -0.09477727,  0.40293322],\n",
       "       [ 0.30523024,  0.33787661,  0.56052189,  0.65645619,  0.74585492,\n",
       "         0.63213718,  0.4907978 ,  0.1665334 , -0.01497115,  0.09553761,\n",
       "         0.11980321,  0.00341041, -0.02185   , -0.07227859, -0.07419494,\n",
       "         0.07635909,  0.26808409,  0.44693215,  0.48591104,  0.31603567],\n",
       "       [ 0.03666798,  0.03177449, -0.28874333,  0.30785834,  1.20092674,\n",
       "         1.52448395,  1.45398205,  0.85404767,  0.53683459,  0.32488197,\n",
       "         0.16428144,  0.05542061, -0.02671036, -0.02597505,  0.03439055,\n",
       "        -0.09045246, -0.46116513, -0.31828695,  0.19501566,  0.68348571],\n",
       "       [ 0.540055  ,  0.49795854, -0.0068075 , -0.0035056 ,  0.09602434,\n",
       "        -0.03066115, -0.27469648, -0.40654527, -0.06832724, -0.04488689,\n",
       "        -0.11282837, -0.09194788, -0.11309712,  0.08621595,  0.17234258,\n",
       "         0.12001081,  0.09477935,  0.2393644 ,  0.46344729,  0.52034436],\n",
       "       [ 0.32199929,  0.39321425,  0.22617051,  0.40603063,  0.44543129,\n",
       "         0.19830307, -0.19010658, -0.32134712, -0.19604235,  0.09548863,\n",
       "         0.28814534,  0.32393029,  0.35995321,  0.1347869 , -0.34041867,\n",
       "        -0.38328601, -0.25127402, -0.2597643 ,  0.04125774,  0.3284062 ],\n",
       "       [ 0.13084749, -0.0188945 , -0.4046035 , -0.54666644, -0.21557378,\n",
       "        -0.1694428 , -0.07010416,  0.00284196,  0.02373226, -0.06183896,\n",
       "        -0.14075712, -0.19057521, -0.21963717, -0.09686348, -0.02265554,\n",
       "        -0.00666959,  0.03367055,  0.14833799,  0.21731518, -0.03409612],\n",
       "       [-0.48693371, -0.39882716, -0.22899485, -0.19710366, -0.38358004,\n",
       "        -0.45658018, -0.56170179, -0.46683699, -0.30942889, -0.28548077,\n",
       "        -0.28082381, -0.18527683, -0.10771453, -0.11289447, -0.16848046,\n",
       "        -0.21809573, -0.31782682, -0.23463444,  0.07930005,  0.30105996],\n",
       "       [-0.47056677, -0.32909904, -0.33789228, -0.27701171, -0.31932504,\n",
       "        -0.47088041, -0.28488313, -0.34369306, -0.24447683, -0.01931164,\n",
       "        -0.00461764,  0.002117  , -0.09908392, -0.21393002, -0.17275442,\n",
       "        -0.19630856, -0.22178485, -0.15735512, -0.16015495, -0.09519101],\n",
       "       [-0.27423417, -0.24364508, -0.16748943, -0.10345706, -0.01508633,\n",
       "        -0.11527983, -0.1334734 , -0.14176614, -0.17636462, -0.29769896,\n",
       "        -0.13676847,  0.01368657,  0.07230163,  0.08110368, -0.05568014,\n",
       "        -0.26886732, -0.20399628, -0.28931462, -0.29399721, -0.18723187],\n",
       "       [-0.00424241, -0.00649834, -0.20200416, -0.31931067, -0.26831012,\n",
       "        -0.2657661 , -0.2746164 , -0.36328895, -0.2712362 , -0.19420576,\n",
       "        -0.14912773, -0.11059925, -0.10452764, -0.07061093, -0.07796604,\n",
       "        -0.14602868, -0.22633606, -0.22470898, -0.07186348,  0.13938108],\n",
       "       [-0.38378645, -0.45263217, -0.45289166, -0.45926176, -0.35721538,\n",
       "        -0.36550959, -0.33317078, -0.1891604 , -0.11215303, -0.14296563,\n",
       "        -0.24858274, -0.15287073, -0.11307413, -0.31375888, -0.22508651,\n",
       "        -0.17648515, -0.29195088, -0.402788  , -0.04128127,  0.2238813 ],\n",
       "       [ 0.        ,  0.        ,  0.        ,  0.        ,  0.        ,\n",
       "         0.        ,  0.        ,  0.        ,  0.        ,  0.        ,\n",
       "         0.        ,  0.        ,  0.        ,  0.        ,  0.        ,\n",
       "         0.        ,  0.        ,  0.        ,  0.        ,  0.        ],\n",
       "       [ 0.        ,  0.        ,  0.        ,  0.        ,  0.        ,\n",
       "         0.        ,  0.        ,  0.        ,  0.        ,  0.        ,\n",
       "         0.        ,  0.        ,  0.        ,  0.        ,  0.        ,\n",
       "         0.        ,  0.        ,  0.        ,  0.        ,  0.        ],\n",
       "       [-0.12997427, -0.10875969, -0.04768537,  0.00289578, -0.0475178 ,\n",
       "        -0.05653066, -0.11701074,  0.02569087,  0.08226711,  0.00275612,\n",
       "        -0.08140484, -0.11483861, -0.08723883, -0.06901813, -0.06051524,\n",
       "        -0.04894763, -0.04025217, -0.03816474, -0.01336168, -0.0047194 ],\n",
       "       [-0.13970969, -0.07630965, -0.12463298, -0.11384239, -0.09319515,\n",
       "        -0.15970419, -0.04189025,  0.01350066, -0.03561391, -0.38097346,\n",
       "        -0.0974768 ,  0.0316124 , -0.11477202, -0.21193826, -0.06286925,\n",
       "        -0.05235106,  0.02733653,  0.12936272,  0.29686309,  0.55599035],\n",
       "       [-0.01946816, -0.05515101, -0.24804383, -0.13231293,  0.09456591,\n",
       "         0.22857806,  0.20177956, -0.01112796, -0.13304804, -0.00264557,\n",
       "         0.09354762,  0.072899  , -0.05849067, -0.14036265, -0.0976795 ,\n",
       "        -0.03785606,  0.00481377,  0.05869776,  0.0438896 , -0.1023711 ],\n",
       "       [-0.1710686 , -0.2773593 , -0.25206429, -0.27783965, -0.33619125,\n",
       "        -0.3181966 , -0.22872562, -0.23884874, -0.2160587 , -0.11253526,\n",
       "         0.0278545 ,  0.0667295 ,  0.01228485, -0.09885292, -0.14623604,\n",
       "        -0.10792383, -0.08520852, -0.07608273, -0.09227784, -0.1173402 ],\n",
       "       [-0.13163264, -0.17171351, -0.22682322, -0.11242127, -0.02149115,\n",
       "        -0.04071772,  0.01021308,  0.02782966,  0.02570515, -0.03735943,\n",
       "        -0.11313824, -0.11534365, -0.0842205 , -0.05110819, -0.04195345,\n",
       "        -0.07499641, -0.1105762 , -0.07900583, -0.08294689, -0.14519342],\n",
       "       [-0.12489047, -0.06540528, -0.0552113 ,  0.0099182 , -0.02561052,\n",
       "        -0.05232431, -0.09607814, -0.06703163, -0.06159212,  0.01369098,\n",
       "         0.05924423,  0.02426994, -0.02281393, -0.06055647, -0.10146913,\n",
       "        -0.13209339, -0.14609178, -0.19233889, -0.16953916, -0.16457851]])"
      ]
     },
     "execution_count": 74,
     "metadata": {},
     "output_type": "execute_result"
    }
   ],
   "source": [
    "((ds.data[2222] - ds.data.mean(axis=0))/(ds.data.std(axis=0)+1e-18)).reshape(24, 20)"
   ]
  },
  {
   "cell_type": "code",
   "execution_count": 80,
   "metadata": {},
   "outputs": [
    {
     "data": {
      "text/plain": [
       "<matplotlib.image.AxesImage at 0x7f4389959b20>"
      ]
     },
     "execution_count": 80,
     "metadata": {},
     "output_type": "execute_result"
    },
    {
     "data": {
      "image/png": "[encoded data removed]",
      "text/plain": [
       "<Figure size 432x288 with 1 Axes>"
      ]
     },
     "metadata": {
      "needs_background": "light"
     },
     "output_type": "display_data"
    }
   ],
   "source": [
    "from matplotlib import pyplot as plt\n",
    "plt.imshow(ds[233].reshape(24, 20))"
   ]
  },
  {
   "cell_type": "code",
   "execution_count": 77,
   "metadata": {},
   "outputs": [
    {
     "name": "stdout",
     "output_type": "stream",
     "text": [
      "Automatic pdb calling has been turned ON\n"
     ]
    }
   ],
   "source": [
    "%pdb on\n",
    "ds = LandmarkWaveletDataset(landmark_files[2])"
   ]
  },
  {
   "cell_type": "code",
   "execution_count": 83,
   "metadata": {},
   "outputs": [
    {
     "data": {
      "text/plain": [
       "array([[ 56.73283  ,  55.33235  ,  57.212032 , ...,  14.019725 ,\n",
       "          6.2734756,   8.784088 ],\n",
       "       [ 49.570385 ,  54.952763 ,  50.57351  , ...,  13.934323 ,\n",
       "          5.9965734,   8.918822 ],\n",
       "       [ 33.072838 ,  44.528946 ,  38.30802  , ...,  13.859846 ,\n",
       "          5.81308  ,   9.138367 ],\n",
       "       ...,\n",
       "       [ 46.726273 ,  46.911415 ,  92.50466  , ..., 202.38249  ,\n",
       "        218.0907   , 234.4417   ],\n",
       "       [ 91.68607  ,  85.13719  , 128.91125  , ..., 203.52051  ,\n",
       "        218.91685  , 235.12961  ],\n",
       "       [137.63997  , 126.59838  , 154.57462  , ..., 204.24069  ,\n",
       "        219.40353  , 235.54301  ]], dtype=float32)"
      ]
     },
     "execution_count": 83,
     "metadata": {},
     "output_type": "execute_result"
    }
   ],
   "source": [
    "ds.data.astype(np.float32)"
   ]
  },
  {
   "cell_type": "code",
   "execution_count": 2,
   "metadata": {},
   "outputs": [],
   "source": [
    "data_path = Path('/home/orel/Data/K6/2020-03-30/Down/')\n",
    "landmarks_file = data_path / '0014DeepCut_resnet50_DownMay7shuffle1_1030000.h5'"
   ]
  },
  {
   "cell_type": "code",
   "execution_count": 7,
   "metadata": {},
   "outputs": [],
   "source": [
    "import os\n",
    "import re\n",
    "\n",
    "# root directory of data\n",
    "data_root = Path(\"/home/orel/Storage/Data/K6/\")\n",
    "landmark_files = []\n",
    "for subdir in os.listdir(data_root):\n",
    "    for file in os.listdir(data_root/subdir/'Down'):\n",
    "        if re.match(r\"00\\d*DeepCut_resnet50_Down2May25shuffle1_1030000\\.h5\", file):\n",
    "            lfile = data_root/subdir/'Down'/file\n",
    "            landmark_files.append(lfile)"
   ]
  },
  {
   "cell_type": "code",
   "execution_count": 3,
   "metadata": {},
   "outputs": [
    {
     "data": {
      "text/plain": [
       "array(['nose', 'neck', 'forepawR', 'forePawL', 'chest', 'belly',\n",
       "       'hindpawR', 'hindpawL', 'tailbase', 'tail1', 'tail2', 'tail3'],\n",
       "      dtype=object)"
      ]
     },
     "execution_count": 3,
     "metadata": {},
     "output_type": "execute_result"
    }
   ],
   "source": [
    "def extract_coords(landmarks_file):\n",
    "    df = read_df(landmarks_file)\n",
    "    return pd.unique([col[0] for col in df.columns])\n",
    "\n",
    "\n",
    "extract_coords(landmarks_file)"
   ]
  },
  {
   "cell_type": "code",
   "execution_count": 10,
   "metadata": {},
   "outputs": [
    {
     "data": {
      "text/plain": [
       "array(['nose', 'neck', 'forepawR', 'forePawL', 'chest', 'belly',\n",
       "       'hindpawR', 'hindpawL', 'tailbase', 'tail1', 'tail2', 'tail3'],\n",
       "      dtype=object)"
      ]
     },
     "execution_count": 10,
     "metadata": {},
     "output_type": "execute_result"
    }
   ],
   "source": [
    "extract_coords(landmark_files[2])"
   ]
  }
 ],
 "metadata": {
  "kernelspec": {
   "display_name": "Python 3",
   "language": "python",
   "name": "python3"
  },
  "language_info": {
   "codemirror_mode": {
    "name": "ipython",
    "version": 3
   },
   "file_extension": ".py",
   "mimetype": "text/x-python",
   "name": "python",
   "nbconvert_exporter": "python",
   "pygments_lexer": "ipython3",
   "version": "3.8.6"
  }
 },
 "nbformat": 4,
 "nbformat_minor": 4
}
