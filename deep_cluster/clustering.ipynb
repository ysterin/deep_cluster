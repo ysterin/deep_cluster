{
 "cells": [
  {
   "cell_type": "code",
   "execution_count": 1,
   "id": "orange-karma",
   "metadata": {},
   "outputs": [],
   "source": [
    "import numpy as np\n",
    "import torch\n",
    "from torch import utils\n",
    "import pandas as pd\n",
    "from torch.utils.data import DataLoader, Dataset, ConcatDataset\n",
    "from torch import nn \n",
    "from torch.nn import functional as F\n",
    "import pytorch_lightning as pl\n",
    "from matplotlib import cm\n",
    "from matplotlib import pyplot as plt\n",
    "import matplotlib.patches as mpatches\n",
    "from scipy import signal as sig\n",
    "import os\n",
    "from pathlib import Path\n",
    "import re\n",
    "from torch.utils import data\n",
    "import random\n",
    "import pandas as pd\n",
    "import pickle\n",
    "import numpy as np\n",
    "from pathlib import Path\n",
    "from dataloader import LandmarkDataset, SequenceDataset, LandmarkWaveletDataset\n",
    "from sklearn.cluster import KMeans\n",
    "from sklearn.manifold import TSNE\n",
    "from sklearn.metrics import normalized_mutual_info_score, confusion_matrix, accuracy_score\n",
    "\n",
    "pd.set_option('mode.chained_assignment', None)\n",
    "plt.rcParams['svg.fonttype'] = 'none'"
   ]
  },
  {
   "cell_type": "code",
   "execution_count": 2,
   "id": "boring-keeping",
   "metadata": {},
   "outputs": [
    {
     "data": {
      "text/plain": [
       "<torch._C.Generator at 0x7f8e1401a670>"
      ]
     },
     "execution_count": 2,
     "metadata": {},
     "output_type": "execute_result"
    }
   ],
   "source": [
    "SEED = 42\n",
    "\n",
    "random.seed(SEED)\n",
    "np.random.seed(SEED)\n",
    "torch.random.manual_seed(SEED)"
   ]
  },
  {
   "cell_type": "code",
   "execution_count": 3,
   "id": "alive-helmet",
   "metadata": {},
   "outputs": [
    {
     "data": {
      "text/plain": [
       "[PosixPath('/home/orel/Storage/Data/K7/2020-08-10/Down/0041DeepCut_resnet50_allFeb7shuffle1_1030000.h5'),\n",
       " PosixPath('/home/orel/Storage/Data/K7/2020-08-04/Down/0037DeepCut_resnet50_allFeb7shuffle1_1030000.h5'),\n",
       " PosixPath('/home/orel/Storage/Data/K7/2020-08-16/Down/0047DeepCut_resnet50_allFeb7shuffle1_1030000.h5'),\n",
       " PosixPath('/home/orel/Storage/Data/K7/2020-08-12/Down/0044DeepCut_resnet50_allFeb7shuffle1_1030000.h5'),\n",
       " PosixPath('/home/orel/Storage/Data/K7/2020-08-13/Down/0045DeepCut_resnet50_allFeb7shuffle1_1030000.h5'),\n",
       " PosixPath('/home/orel/Storage/Data/K7/2020-08-06/Down/0039DeepCut_resnet50_allFeb7shuffle1_1030000.h5'),\n",
       " PosixPath('/home/orel/Storage/Data/K7/2020-08-05/Down/0038DeepCut_resnet50_allFeb7shuffle1_1030000.h5')]"
      ]
     },
     "execution_count": 3,
     "metadata": {},
     "output_type": "execute_result"
    }
   ],
   "source": [
    "data_root = Path('/home/orel/Storage/Data/K7')\n",
    "\n",
    "landmark_files = list(data_root.glob('2020-*/Down/*DeepCut*.h5'))\n",
    "landmark_files"
   ]
  },
  {
   "cell_type": "code",
   "execution_count": 5,
   "id": "legislative-smith",
   "metadata": {},
   "outputs": [
    {
     "data": {
      "text/plain": [
       "<All keys matched successfully>"
      ]
     },
     "execution_count": 5,
     "metadata": {},
     "output_type": "execute_result"
    }
   ],
   "source": [
    "from simple_autoencoder import Autoencoder, PLAutoencoder\n",
    "from dataloader import LandmarksDataModule\n",
    "seqlen = 60\n",
    "to_drop = ['head', 'forepawR2', 'forePawL2', 'chest1', 'chest2', 'belly1', 'belly2', 'hindpawR2', \n",
    "           'hindpawR3', 'hindpawL2', 'hindpawL3', 'tail1', 'tail2','tail3']\n",
    "dm = LandmarksDataModule(landmark_files, seqlen=seqlen, step=1, to_drop=to_drop)\n",
    "dm.prepare_data()\n",
    "model = PLAutoencoder(landmark_files, n_neurons=[2*n_parts*seqlen, 1024, 512, 10], lr=5e-4, patience=20)\n",
    "model.load_state_dict(torch.load('models/04_27_0/model.pt'))"
   ]
  },
  {
   "cell_type": "code",
   "execution_count": 19,
   "id": "gentle-bronze",
   "metadata": {},
   "outputs": [
    {
     "data": {
      "text/plain": [
       "['nose',\n",
       " 'head',\n",
       " 'forepawR1',\n",
       " 'forepawR2',\n",
       " 'forePawL1',\n",
       " 'forePawL2',\n",
       " 'chest1',\n",
       " 'chest2',\n",
       " 'belly1',\n",
       " 'belly2',\n",
       " 'hindpawR1',\n",
       " 'hindpawR2',\n",
       " 'hindpawR3',\n",
       " 'hindpawL1',\n",
       " 'hindpawL2',\n",
       " 'hindpawL3',\n",
       " 'tailbase',\n",
       " 'tail1',\n",
       " 'tail3']"
      ]
     },
     "execution_count": 19,
     "metadata": {},
     "output_type": "execute_result"
    }
   ],
   "source": [
    "['head', 'forepawR2', 'forePawL2', 'chest1', 'chest2', 'belly1', 'belly2', 'hindpawR2', \n",
    " 'hindpawR3', 'hindpawL2', 'hindpawL3', 'tail1', 'tail2','tail3']"
   ]
  },
  {
   "cell_type": "code",
   "execution_count": 6,
   "id": "pleased-interpretation",
   "metadata": {},
   "outputs": [],
   "source": [
    "from scipy import signal as sig\n",
    "energies = np.zeros(len(dm.all_ds))\n",
    "for i, item in enumerate(dm.all_ds):\n",
    "    item = item.reshape((dm.seqlen, -1))\n",
    "    ff, Pxx = sig.periodogram(item.T, fs=dm.fps)\n",
    "    energies[i] = Pxx.T[:10].mean()"
   ]
  },
  {
   "cell_type": "code",
   "execution_count": 7,
   "id": "english-final",
   "metadata": {},
   "outputs": [
    {
     "data": {
      "text/plain": [
       "1"
      ]
     },
     "execution_count": 7,
     "metadata": {},
     "output_type": "execute_result"
    },
    {
     "data": {
      "image/png": "[encoded data removed]",
      "text/plain": [
       "<Figure size 432x288 with 1 Axes>"
      ]
     },
     "metadata": {
      "needs_background": "light"
     },
     "output_type": "display_data"
    }
   ],
   "source": [
    "plt.hist(np.log10(energies), bins=100)\n",
    "1\n",
    "# selected_idxs = np.where(energies > 1e-7)[0]\n",
    "# idx2orig = {idx : i for i, idx in enumerate(selected_idxs)}"
   ]
  },
  {
   "cell_type": "code",
   "execution_count": 10,
   "id": "proper-huntington",
   "metadata": {},
   "outputs": [
    {
     "data": {
      "text/plain": [
       "array([     0,      1,      2, ..., 961664, 961665, 961666])"
      ]
     },
     "execution_count": 10,
     "metadata": {},
     "output_type": "execute_result"
    }
   ],
   "source": [
    "selected_idxs"
   ]
  },
  {
   "cell_type": "code",
   "execution_count": 11,
   "id": "parental-syntax",
   "metadata": {},
   "outputs": [],
   "source": [
    "X_encoded = model.model.encode(dm.all_ds)\n",
    "selected_idxs = np.where(energies > 5e-5)[0]\n",
    "# idx2orig = {idx : i for i, idx in enumerate(selected_idxs)}\n",
    "K = model.model.encoder[-1].out_features\n",
    "kmeans = KMeans(K)\n",
    "labels = kmeans.fit_predict(X_encoded[selected_idxs])\n",
    "_labels = np.zeros(len(X_encoded), dtype=np.int32) - 2\n",
    "for i, lbl in enumerate(labels):\n",
    "    _labels[selected_idxs[i]] = lbl\n",
    "labels = _labels"
   ]
  },
  {
   "cell_type": "code",
   "execution_count": 12,
   "id": "disabled-brisbane",
   "metadata": {},
   "outputs": [],
   "source": [
    "import dataloader\n",
    "\n",
    "labels_dict = {}\n",
    "for df in dm.raw_data:\n",
    "    labels_dict[df.attrs['file']] = np.zeros(len(df), dtype=np.int32) - 1\n",
    "\n",
    "for idx, lbl in enumerate(labels):\n",
    "    ds_id, _ = dataloader.find_sub_dataset_idx(dm.all_ds, idx)\n",
    "    _, frame_idxs = dataloader.find_frame(dm.all_ds, idx)\n",
    "    labels_dict[dm.raw_data[ds_id].attrs['file']][frame_idxs] = lbl\n",
    "\n",
    "for df in dm.raw_data:\n",
    "    df['label'] = labels_dict[df.attrs['file']]\n",
    "    \n",
    "segments_dict = {}\n",
    "for file, labels in labels_dict.items():\n",
    "    split_at = np.where(np.diff(labels) != 0)[0] + 1\n",
    "    split_at = np.append(np.zeros(1, dtype=np.int), np.where(np.diff(labels) != 0)[0] + 1)\n",
    "    segments = [(split_at[i-1], split_at[i] - split_at[i-1],labels[split_at[i-1]]) for i in range(1, len(split_at))]\n",
    "    segments = [seg for seg in segments if seg[-1] >= 0]\n",
    "    segments = [seg for seg in segments if seg[1] >= 30]\n",
    "    segments_dict[file] = segments"
   ]
  },
  {
   "cell_type": "code",
   "execution_count": 13,
   "id": "administrative-yesterday",
   "metadata": {},
   "outputs": [],
   "source": [
    "import cv2 as cv\n",
    "import tkinter as tk\n",
    "from triplets import landmarks_video, triplets_gui\n",
    "\n",
    "\n",
    "def write_video(vid, file, fps):\n",
    "    n_frames, width, height, _ = vid.shape\n",
    "    fourcc = cv.VideoWriter_fourcc(*'mp4v')\n",
    "    writer = cv.VideoWriter(str(file), fourcc, fps, (height, width), True)\n",
    "    for frame in vid:\n",
    "        writer.write(frame)\n",
    "    writer.release()\n"
   ]
  },
  {
   "cell_type": "code",
   "execution_count": 14,
   "id": "ongoing-piano",
   "metadata": {},
   "outputs": [],
   "source": [
    "frame_to_time = lambda idx: f'{idx // (video.fps*60)}_{(idx % (video.fps*60)) // video.fps}'\n",
    "\n",
    "cluster_dir = Path(\"/home/orel/Storage/shuki/projects/clusters/27_04_6\")\n",
    "os.makedirs(cluster_dir, exist_ok=True)\n",
    "for file in dm.landmark_files:\n",
    "    video = landmarks_video.LandmarksVideo(file.parent)\n",
    "    file_id = file.name[:4]\n",
    "    segments = segments_dict[file]\n",
    "    for start_frame, n_frames, lbl in segments:\n",
    "        mid_frame = start_frame + n_frames // 2\n",
    "        n_frames = min(120 * 2, n_frames)\n",
    "        start, end = mid_frame - n_frames // 2 , mid_frame + n_frames // 2\n",
    "        save_dir = cluster_dir / f'{lbl}'\n",
    "        os.makedirs(save_dir, exist_ok=True)\n",
    "        clip = video[start: end: 2]\n",
    "        video_file_name = f'{file_id}_{frame_to_time(mid_frame)}.avi'\n",
    "        write_video(clip, save_dir / video_file_name, fps=24)"
   ]
  },
  {
   "cell_type": "code",
   "execution_count": 1,
   "id": "physical-investigator",
   "metadata": {},
   "outputs": [
    {
     "ename": "NameError",
     "evalue": "name 'segments_dict' is not defined",
     "output_type": "error",
     "traceback": [
      "\u001b[0;31m---------------------------------------------------------------------------\u001b[0m",
      "\u001b[0;31mNameError\u001b[0m                                 Traceback (most recent call last)",
      "\u001b[0;32m<ipython-input-1-41c968f1dcdc>\u001b[0m in \u001b[0;36m<module>\u001b[0;34m\u001b[0m\n\u001b[1;32m      1\u001b[0m \u001b[0mcluster_label\u001b[0m \u001b[0;34m=\u001b[0m \u001b[0;36m3\u001b[0m\u001b[0;34m\u001b[0m\u001b[0;34m\u001b[0m\u001b[0m\n\u001b[0;32m----> 2\u001b[0;31m \u001b[0mcluster_segments\u001b[0m \u001b[0;34m=\u001b[0m \u001b[0;34m[\u001b[0m\u001b[0mseg\u001b[0m \u001b[0;32mfor\u001b[0m \u001b[0mseg\u001b[0m \u001b[0;32min\u001b[0m \u001b[0msegments_dict\u001b[0m\u001b[0;34m[\u001b[0m\u001b[0mfile\u001b[0m\u001b[0;34m]\u001b[0m \u001b[0;32mif\u001b[0m \u001b[0mseg\u001b[0m\u001b[0;34m[\u001b[0m\u001b[0;36m2\u001b[0m\u001b[0;34m]\u001b[0m \u001b[0;34m==\u001b[0m \u001b[0mcluster_label\u001b[0m\u001b[0;34m]\u001b[0m\u001b[0;34m\u001b[0m\u001b[0;34m\u001b[0m\u001b[0m\n\u001b[0m\u001b[1;32m      3\u001b[0m \u001b[0;34m\u001b[0m\u001b[0m\n\u001b[1;32m      4\u001b[0m \u001b[0mroot\u001b[0m \u001b[0;34m=\u001b[0m \u001b[0mtk\u001b[0m\u001b[0;34m.\u001b[0m\u001b[0mTk\u001b[0m\u001b[0;34m(\u001b[0m\u001b[0;34m)\u001b[0m\u001b[0;34m\u001b[0m\u001b[0;34m\u001b[0m\u001b[0m\n\u001b[1;32m      5\u001b[0m \u001b[0;32mfor\u001b[0m \u001b[0mi\u001b[0m \u001b[0;32min\u001b[0m \u001b[0mrange\u001b[0m\u001b[0;34m(\u001b[0m\u001b[0;36m3\u001b[0m\u001b[0;34m)\u001b[0m\u001b[0;34m:\u001b[0m\u001b[0;34m\u001b[0m\u001b[0;34m\u001b[0m\u001b[0m\n",
      "\u001b[0;31mNameError\u001b[0m: name 'segments_dict' is not defined"
     ]
    }
   ],
   "source": [
    "cluster_label = 3\n",
    "cluster_segments = [seg for seg in segments_dict[file] if seg[2] == cluster_label]\n",
    "\n",
    "root = tk.Tk()\n",
    "for i in range(3):\n",
    "    segment = cluster_segments[i]\n",
    "    segment_clip = video[segment[0]: segment[0] + segment[1]:2]\n",
    "    triplets_gui.Animation(root, frames=segment_clip, fps=60)\n",
    "root.mainloop()"
   ]
  }
 ],
 "metadata": {
  "kernelspec": {
   "display_name": "Python 3",
   "language": "python",
   "name": "python3"
  },
  "language_info": {
   "codemirror_mode": {
    "name": "ipython",
    "version": 3
   },
   "file_extension": ".py",
   "mimetype": "text/x-python",
   "name": "python",
   "nbconvert_exporter": "python",
   "pygments_lexer": "ipython3",
   "version": "3.8.6"
  }
 },
 "nbformat": 4,
 "nbformat_minor": 5
}
